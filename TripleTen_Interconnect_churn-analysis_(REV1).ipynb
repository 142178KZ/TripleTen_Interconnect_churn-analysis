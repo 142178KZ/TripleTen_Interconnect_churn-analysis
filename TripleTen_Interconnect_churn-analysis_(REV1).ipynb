{
 "cells": [
  {
   "cell_type": "markdown",
   "id": "f2461428",
   "metadata": {},
   "source": [
    "## Descripción del proyecto\n",
    "Al operador de telecomunicaciones Interconnect le gustaría poder pronosticar su tasa de cancelación de clientes. Si se descubre que un usuario o usuaria planea irse, se le ofrecerán códigos promocionales y opciones de planes especiales. El equipo de marketing de Interconnect ha recopilado algunos de los datos personales de sus clientes, incluyendo información sobre sus planes y contratos.\n",
    "\n",
    "Servicios de Interconnect\n",
    "\n",
    "Interconnect proporciona principalmente dos tipos de servicios:\n",
    "\n",
    "1. Comunicación por teléfono fijo. El teléfono se puede conectar a varias líneas de manera simultánea.\n",
    "2. Internet. La red se puede configurar a través de una línea telefónica (DSL, *línea de abonado digital*) o a través de un cable de fibra óptica.\n",
    "\n",
    "Algunos otros servicios que ofrece la empresa incluyen:\n",
    "\n",
    "- Seguridad en Internet: software antivirus (*ProtecciónDeDispositivo*) y un bloqueador de sitios web maliciosos (*SeguridadEnLínea*).\n",
    "- Una línea de soporte técnico (*SoporteTécnico*).\n",
    "- Almacenamiento de archivos en la nube y backup de datos (*BackupOnline*).\n",
    "- Streaming de TV (*StreamingTV*) y directorio de películas (*StreamingPelículas*)\n",
    "\n",
    "La clientela puede elegir entre un pago mensual o firmar un contrato de 1 o 2 años. Puede utilizar varios métodos de pago y recibir una factura electrónica después de una transacción."
   ]
  },
  {
   "cell_type": "markdown",
   "id": "d848ef6d",
   "metadata": {},
   "source": [
    "### Condiciones:\n",
    "\n",
    "Característica objetivo: la columna `'EndDate'` es igual a `'No'`.\n",
    "\n",
    "Métrica principal: AUC-ROC.\n",
    "\n",
    "Métrica adicional: exactitud.\n",
    "\n",
    "Criterios de evaluación:\n",
    "\n",
    "- AUC-ROC < 0.75 — 0 SP\n",
    "- 0.75 ≤ AUC-ROC < 0.81 — 4 SP\n",
    "- 0.81 ≤ AUC-ROC < 0.85 — 4.5 SP\n",
    "- 0.85 ≤ AUC-ROC < 0.87 — 5 SP\n",
    "- 0.87 ≤ AUC-ROC < 0.88 — 5.5 SP\n",
    "- AUC-ROC ≥ 0.88 — 6 SP"
   ]
  },
  {
   "cell_type": "markdown",
   "id": "8251f51f",
   "metadata": {},
   "source": [
    "### Descripción de los datos \n",
    "\n",
    "Los datos consisten en archivos obtenidos de diferentes fuentes:\n",
    "\n",
    "- `contract.csv` — información del contrato;\n",
    "- `personal.csv` — datos personales del cliente;\n",
    "- `internet.csv` — información sobre los servicios de Internet;\n",
    "- `phone.csv` — información sobre los servicios telefónicos.\n",
    "\n",
    "En cada archivo, la columna `customerID` (ID de cliente) contiene un código único asignado a cada cliente. La información del contrato es válida a partir del 1 de febrero de 2020."
   ]
  },
  {
   "cell_type": "markdown",
   "id": "9285add8",
   "metadata": {},
   "source": [
    "## Análisis exploratorio de datos (Python)\n",
    "### Etapas\n",
    "Como analista de datos, el trabajo consiste en analizar conjuntos de datos para extraer información valiosa que permita tomar decisiones informadas. Este proceso implica varias etapas cruciales, entre ellas:\n",
    "\n",
    "Una descripción general de los datos\n",
    "\n",
    "El preprocesamiento de los datos\n",
    "\n",
    "La prueba de hipótesis"
   ]
  },
  {
   "cell_type": "markdown",
   "id": "a06782c4",
   "metadata": {},
   "source": [
    "### Inicialización e importación de librerias \n",
    "    - Importar librerías de pandas para crear graficas\n",
    "    - Leer el conjunto de datos utilizamos pd.read_csv\n",
    "      \n",
    "### Cargar datasets\n",
    "    - Identificamos el delimitador sep=\";\" para leer adecuadamente las tablas\n",
    "\n",
    "### Exploración inicial de datos\n",
    "    - Verificar info() para ver información de cada DataFrame \n",
    "    - Utlizamos head() para mostrar información del DataFrame\n",
    "    - Utlizamos describe() para ver la descripción del DataFrame \n",
    "    \n",
    "###  Preprocesamiento de los datos\n",
    "    - Verifica y corrige los tipos de datos (por ejemplo, asegúrate de que las columnas de ID sean números enteros).\n",
    "    - Verifica y corrige los tipos de datos con dtype() \n",
    "    - Identifica y completa valores ausentes con isna() sum()\n",
    "    - Identifica y elimina los valores duplicados duplicated()  \n",
    "    - Verificamos que los nombres esten bien escritos"
   ]
  },
  {
   "cell_type": "markdown",
   "id": "a6130ea1",
   "metadata": {},
   "source": [
    "### Prueba de hipotesis\n",
    "- Hipótesis: Los clientes que utilizan servicios adicionales como ProtecciónDeDispositivo y StreamingTV tienen una tasa de cancelación menor en comparación con aquellos que no utilizan estos servicios.\n",
    "\n",
    "Procedimiento:\n",
    "\n",
    "Formulación de hipótesis:\n",
    "\n",
    "Hipótesis nula ( H0): No hay diferencia en la tasa de cancelación entre los clientes que utilizan servicios adicionales y los que no.\n",
    "\n",
    "Hipótesis alternativa ( HA): Los clientes que utilizan servicios adicionales tienen una tasa de cancelación menor.\n",
    "\n",
    "Recolección de datos: Obtén los datos de cancelación de clientes y el uso de servicios adicionales.\n",
    "\n",
    "Análisis estadístico: Realiza un análisis de proporciones para comparar las tasas de cancelación entre los dos grupos (usuarios de servicios adicionales y no usuarios).\n",
    "\n",
    "Prueba de hipótesis: Utiliza una prueba de chi-cuadrado para evaluar si la diferencia en las tasas de cancelación es significativa.\n",
    "\n",
    "- Interpretación de resultados:\n",
    "\n",
    "Si el valor p es menor que el nivel de significancia (por ejemplo, 0.05), rechaza la hipótesis nula y acepta la hipótesis alternativa.\n",
    "\n",
    "De esta manera, podrás determinar si los servicios adicionales influyen en la retención de clientes."
   ]
  },
  {
   "cell_type": "markdown",
   "id": "54346f0c",
   "metadata": {},
   "source": [
    "### Analisis de distribución "
   ]
  },
  {
   "cell_type": "markdown",
   "id": "c841a772",
   "metadata": {},
   "source": [
    "- Identificación de los 10 principales servicios adicionales más contratados por los usuarios de Interconnect.\n",
    "- Gráficos que muestren la distribución de métodos de pago utilizados por los clientes de Interconnect"
   ]
  },
  {
   "cell_type": "markdown",
   "id": "a995a829",
   "metadata": {},
   "source": [
    "## Instrucciones del proyecto \n",
    "### Plan de trabajo\n",
    "1. Examina el equilibrio de clases. Entrena el modelo sin tener en cuenta el desequilibrio. Describe brevemente tus hallazgos.\n",
    "\n",
    "2. Mejora la calidad del modelo. Asegúrate de utilizar al menos dos enfoques para corregir el desequilibrio de clases. Utiliza conjuntos de entrenamiento y validación para encontrar el mejor modelo y el mejor conjunto de parámetros. Entrena diferentes modelos en los conjuntos de entrenamiento y validación. Encuentra el mejor. Describe brevemente tus hallazgos.\n",
    "\n",
    "3. Realiza la prueba final."
   ]
  },
  {
   "cell_type": "markdown",
   "id": "79269888",
   "metadata": {},
   "source": [
    "### Los objetivos \n",
    "\n",
    "Necesitamos predecir si un cliente planea irse, pronto. Debemos analizar el comportamiento de los clientes y determinar qué tarifa de prepago genera más ingresos.\n",
    "\n",
    "Entrenar un modelo con el máximo valor F1 posible. Verifica F1 para el conjunto de prueba. \n",
    "Además, debes medir la métrica AUC-ROC y compararla con el valor F1.\n"
   ]
  },
  {
   "cell_type": "markdown",
   "id": "d4d1b3b9",
   "metadata": {},
   "source": [
    "## Estudia el comportamiento de usuario"
   ]
  },
  {
   "cell_type": "markdown",
   "id": "e118084a",
   "metadata": {},
   "source": [
    "### Porcentaje (proporción) de usuarios que no han cancelado la suscripción\n",
    "### Muestra cuantos clientes se estan registrando por mes\n",
    "### Muestra la distribución de usuarios cada mes"
   ]
  },
  {
   "cell_type": "code",
   "execution_count": null,
   "id": "575fa1d9",
   "metadata": {},
   "outputs": [],
   "source": []
  },
  {
   "cell_type": "markdown",
   "id": "1d905870",
   "metadata": {},
   "source": [
    "## Desarrolla un modelo con la mayor exactitud posible. \n",
    "En este proyecto, el umbral de exactitud es 0.75. Usa el dataset para comprobar la exactitud.\n",
    "\n",
    "Instrucciones del proyecto.\n",
    "\n",
    "Segmenta los datos fuente en un conjunto de entrenamiento, uno de validación y uno de prueba.\n",
    "Investiga la calidad de diferentes modelos cambiando los hiperparámetros. Describe brevemente los hallazgos del estudio.\n",
    "Comprueba la calidad del modelo usando el conjunto de prueba.\n"
   ]
  },
  {
   "cell_type": "markdown",
   "id": "63c3d140",
   "metadata": {},
   "source": [
    "### Entrenamiento del modelo \n",
    " Dividir los datos en conjuntos de entrenamiento y prueba (80% entrenamiento, 20% prueba)\n",
    " Separa utilizando train_test_split."
   ]
  },
  {
   "cell_type": "markdown",
   "id": "3dc1a324",
   "metadata": {},
   "source": [
    "##  Conclusiones \n",
    "### El mejor modelo de entrenamiento es Catboost performance para el analisis en tiempo, velocidad y exactitud.\n",
    "\n",
    "Evaluación de los modelos:\n",
    "- RMSE_LinearRegression: \n",
    "- RMSE_Catboost performance: \n",
    "- RMSE_RandomForestRegressor: \n",
    "\n",
    "\n"
   ]
  },
  {
   "cell_type": "code",
   "execution_count": null,
   "id": "1e4aa317",
   "metadata": {},
   "outputs": [],
   "source": []
  },
  {
   "cell_type": "code",
   "execution_count": null,
   "id": "8a60bfa3",
   "metadata": {},
   "outputs": [],
   "source": []
  }
 ],
 "metadata": {
  "ExecuteTimeLog": [
   {
    "duration": 3,
    "start_time": "2024-10-20T10:27:09.177Z"
   },
   {
    "duration": 2,
    "start_time": "2024-10-20T10:42:31.379Z"
   },
   {
    "duration": 3,
    "start_time": "2024-10-20T14:26:58.422Z"
   },
   {
    "duration": 2,
    "start_time": "2024-10-20T14:30:44.648Z"
   },
   {
    "duration": 10,
    "start_time": "2024-10-20T14:34:34.782Z"
   },
   {
    "duration": 10,
    "start_time": "2024-10-21T09:36:33.660Z"
   },
   {
    "duration": 3,
    "start_time": "2024-10-21T09:38:09.626Z"
   },
   {
    "duration": 2,
    "start_time": "2024-10-21T09:41:20.851Z"
   },
   {
    "duration": 4,
    "start_time": "2024-10-21T09:46:19.786Z"
   },
   {
    "duration": 2625,
    "start_time": "2024-10-21T16:51:35.008Z"
   },
   {
    "duration": 597,
    "start_time": "2024-10-21T16:51:37.635Z"
   },
   {
    "duration": 192,
    "start_time": "2024-10-21T16:52:10.973Z"
   },
   {
    "duration": 32,
    "start_time": "2024-10-21T16:53:30.200Z"
   },
   {
    "duration": 4,
    "start_time": "2024-10-21T16:54:08.186Z"
   },
   {
    "duration": 8,
    "start_time": "2024-10-21T19:37:43.133Z"
   },
   {
    "duration": 156,
    "start_time": "2024-10-21T19:44:39.396Z"
   },
   {
    "duration": 3,
    "start_time": "2024-10-21T19:44:52.796Z"
   },
   {
    "duration": 2,
    "start_time": "2024-10-21T19:44:52.801Z"
   },
   {
    "duration": 3,
    "start_time": "2024-10-21T19:44:52.884Z"
   },
   {
    "duration": 2533,
    "start_time": "2024-10-21T19:44:52.889Z"
   },
   {
    "duration": 148,
    "start_time": "2024-10-21T19:44:55.424Z"
   },
   {
    "duration": 36,
    "start_time": "2024-10-21T19:44:55.573Z"
   },
   {
    "duration": 3,
    "start_time": "2024-10-21T19:44:55.612Z"
   },
   {
    "duration": 5,
    "start_time": "2024-10-21T19:45:50.165Z"
   },
   {
    "duration": 103,
    "start_time": "2024-10-21T19:45:52.973Z"
   },
   {
    "duration": 3,
    "start_time": "2024-10-21T19:45:57.414Z"
   },
   {
    "duration": 3,
    "start_time": "2024-10-21T19:46:15.609Z"
   },
   {
    "duration": 2,
    "start_time": "2024-10-21T19:46:15.615Z"
   },
   {
    "duration": 2,
    "start_time": "2024-10-21T19:46:15.619Z"
   },
   {
    "duration": 917,
    "start_time": "2024-10-21T19:46:15.624Z"
   },
   {
    "duration": 96,
    "start_time": "2024-10-21T19:46:16.543Z"
   },
   {
    "duration": 32,
    "start_time": "2024-10-21T19:46:16.640Z"
   },
   {
    "duration": 3,
    "start_time": "2024-10-21T19:46:16.675Z"
   },
   {
    "duration": 3,
    "start_time": "2024-10-21T19:46:16.680Z"
   },
   {
    "duration": 4,
    "start_time": "2024-10-21T20:05:09.955Z"
   },
   {
    "duration": 3,
    "start_time": "2024-10-21T20:05:29.441Z"
   },
   {
    "duration": 4,
    "start_time": "2024-10-21T20:36:40.063Z"
   }
  ],
  "kernelspec": {
   "display_name": "Python 3 (ipykernel)",
   "language": "python",
   "name": "python3"
  },
  "language_info": {
   "codemirror_mode": {
    "name": "ipython",
    "version": 3
   },
   "file_extension": ".py",
   "mimetype": "text/x-python",
   "name": "python",
   "nbconvert_exporter": "python",
   "pygments_lexer": "ipython3",
   "version": "3.9.19"
  },
  "toc": {
   "base_numbering": 1,
   "nav_menu": {},
   "number_sections": true,
   "sideBar": true,
   "skip_h1_title": true,
   "title_cell": "Table of Contents",
   "title_sidebar": "Contents",
   "toc_cell": false,
   "toc_position": {},
   "toc_section_display": true,
   "toc_window_display": true
  }
 },
 "nbformat": 4,
 "nbformat_minor": 5
}
