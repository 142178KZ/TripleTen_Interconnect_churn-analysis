{
 "cells": [
  {
   "cell_type": "markdown",
   "id": "f2461428",
   "metadata": {},
   "source": [
    "## Descripción del proyecto\n",
    "Al operador de telecomunicaciones Interconnect le gustaría poder pronosticar su tasa de cancelación de clientes. Si se descubre que un usuario o usuaria planea irse, se le ofrecerán códigos promocionales y opciones de planes especiales. El equipo de marketing de Interconnect ha recopilado algunos de los datos personales de sus clientes, incluyendo información sobre sus planes y contratos.\n",
    "\n",
    "Servicios de Interconnect\n",
    "\n",
    "Interconnect proporciona principalmente dos tipos de servicios:\n",
    "\n",
    "1. Comunicación por teléfono fijo. El teléfono se puede conectar a varias líneas de manera simultánea.\n",
    "2. Internet. La red se puede configurar a través de una línea telefónica (DSL, *línea de abonado digital*) o a través de un cable de fibra óptica.\n",
    "\n",
    "Algunos otros servicios que ofrece la empresa incluyen:\n",
    "\n",
    "- Seguridad en Internet: software antivirus (*ProtecciónDeDispositivo*) y un bloqueador de sitios web maliciosos (*SeguridadEnLínea*).\n",
    "- Una línea de soporte técnico (*SoporteTécnico*).\n",
    "- Almacenamiento de archivos en la nube y backup de datos (*BackupOnline*).\n",
    "- Streaming de TV (*StreamingTV*) y directorio de películas (*StreamingPelículas*)\n",
    "\n",
    "La clientela puede elegir entre un pago mensual o firmar un contrato de 1 o 2 años. Puede utilizar varios métodos de pago y recibir una factura electrónica después de una transacción."
   ]
  },
  {
   "cell_type": "markdown",
   "id": "d848ef6d",
   "metadata": {},
   "source": [
    "### Condiciones:\n",
    "\n",
    "Característica objetivo: la columna `'EndDate'` es igual a `'No'`.\n",
    "\n",
    "Métrica principal: AUC-ROC.\n",
    "\n",
    "Métrica adicional: exactitud.\n",
    "\n",
    "Criterios de evaluación:\n",
    "\n",
    "- AUC-ROC < 0.75 — 0 SP\n",
    "- 0.75 ≤ AUC-ROC < 0.81 — 4 SP\n",
    "- 0.81 ≤ AUC-ROC < 0.85 — 4.5 SP\n",
    "- 0.85 ≤ AUC-ROC < 0.87 — 5 SP\n",
    "- 0.87 ≤ AUC-ROC < 0.88 — 5.5 SP\n",
    "- AUC-ROC ≥ 0.88 — 6 SP"
   ]
  },
  {
   "cell_type": "markdown",
   "id": "8251f51f",
   "metadata": {},
   "source": [
    "### Descripción de los datos \n",
    "\n",
    "Los datos consisten en archivos obtenidos de diferentes fuentes:\n",
    "\n",
    "- `contract.csv` — información del contrato;\n",
    "- `personal.csv` — datos personales del cliente;\n",
    "- `internet.csv` — información sobre los servicios de Internet;\n",
    "- `phone.csv` — información sobre los servicios telefónicos.\n",
    "\n",
    "En cada archivo, la columna `customerID` (ID de cliente) contiene un código único asignado a cada cliente. \n",
    "- La información del contrato es válida a partir del 1 de febrero de 2020."
   ]
  },
  {
   "cell_type": "markdown",
   "id": "9285add8",
   "metadata": {},
   "source": [
    "## Análisis exploratorio de datos (Python)\n",
    "### Etapas\n",
    "Como analista de datos, el trabajo consiste en analizar conjuntos de datos para extraer información valiosa que permita tomar decisiones informadas. Este proceso implica varias etapas cruciales, entre ellas:\n",
    "\n",
    "Una descripción general de los datos\n",
    "\n",
    "El preprocesamiento de los datos\n",
    "\n",
    "La prueba de hipótesis"
   ]
  },
  {
   "cell_type": "markdown",
   "id": "ed06a494",
   "metadata": {},
   "source": [
    "### Inicialización e importación de librerias \n",
    "    - Importar librerías de pandas para crear graficas\n",
    "    - Leer el conjunto de datos utilizamos pd.read_csv"
   ]
  },
  {
   "cell_type": "code",
   "execution_count": null,
   "id": "01aea58d",
   "metadata": {},
   "outputs": [],
   "source": [
    "import pandas as pd\n",
    "import matplotlib.pyplot as plt # Graficos\n",
    "import numpy as np # Prueba de Hipotesis\n",
    "from scipy.stats import chi2_contingency\n",
    "import seaborn as sns # Grafico Barras\n",
    "\n",
    "from sklearn.model_selection import train_test_split, cross_val_score # datos en entrenamiento, validación y uno de prueba\n",
    "from sklearn.preprocessing import StandardScaler, LabelEncoder # estandarización de datos \n",
    "\n",
    "from sklearn.metrics import f1_score, roc_auc_score, classification_report, confusion_matrix\n",
    "from sklearn.model_selection import GridSearchCV\n",
    "\n",
    "from scipy.stats import pearsonr, spearmanr # Correlación por Raking\n",
    "# from sklearn.tree import DecisionTreeClassifier # Arbol de desiciones\n",
    "from sklearn.metrics import roc_auc_score # Calcular el AUC-ROC\n",
    "from sklearn.metrics import roc_curve # Calcular la curva ROC\n",
    "from sklearn.metrics import recall_score # Calcular Recall\n",
    "from sklearn.metrics import precision_score # precision_score\n",
    "from sklearn.metrics import accuracy_score \n",
    "from sklearn.utils import shuffle # Submuestreo\n",
    "from sklearn.preprocessing import StandardScaler, MinMaxScaler # estandarizar los datos \n",
    "\n",
    "from sklearn.metrics import mean_squared_error\n",
    "from sklearn.model_selection import train_test_split\n",
    "from sklearn.impute import SimpleImputer\n",
    "from sklearn.preprocessing import OneHotEncoder\n",
    "from sklearn.preprocessing import OrdinalEncoder\n",
    "\n",
    "import catboost as cb\n",
    "from sklearn.linear_model import LinearRegression\n",
    "from sklearn.ensemble import RandomForestRegressor\n",
    "from sklearn.ensemble import RandomForestClassifier\n",
    "\n",
    "from sklearn.metrics import f1_score\n",
    "from sklearn.metrics import mean_squared_error, r2_score # Calcular RMSE\n",
    "from sklearn.metrics import accuracy_score, roc_auc_score, roc_curve, auc"
   ]
  },
  {
   "cell_type": "markdown",
   "id": "ce4851f0",
   "metadata": {},
   "source": [
    "### Cargar datasets\n",
    "    - Identificamos el delimitador sep=\";\" para leer adecuadamente las tablas"
   ]
  },
  {
   "cell_type": "code",
   "execution_count": null,
   "id": "bf157a99",
   "metadata": {},
   "outputs": [],
   "source": [
    "contract = pd.read_csv('/datasets/contract.csv') \n",
    "personal = pd.read_csv('/datasets/personal.csv') \n",
    "internet = pd.read_csv('/datasets/internet.csv') \n",
    "phone = pd.read_csv('/datasets/phone.csv') "
   ]
  },
  {
   "cell_type": "markdown",
   "id": "ba0b80d2",
   "metadata": {},
   "source": [
    "### Exploración inicial de datos\n",
    "    - Verificar info() para ver información de cada DataFrame \n",
    "    - Utlizamos head() para mostrar información del DataFrame\n",
    "    - Utlizamos describe() para ver la descripción del DataFrame "
   ]
  },
  {
   "cell_type": "code",
   "execution_count": null,
   "id": "2ef0e07f",
   "metadata": {},
   "outputs": [],
   "source": [
    "# Imprime la información general/resumida sobre el DataFrame de contract\n",
    "contract.head()"
   ]
  },
  {
   "cell_type": "code",
   "execution_count": null,
   "id": "f37ead1f",
   "metadata": {},
   "outputs": [],
   "source": [
    "# Imprime la información general/resumida sobre el DataFrame de personal\n",
    "personal.head()"
   ]
  },
  {
   "cell_type": "code",
   "execution_count": null,
   "id": "84e667e7",
   "metadata": {},
   "outputs": [],
   "source": [
    "# Imprime la información general/resumida sobre el DataFrame de internet\n",
    "internet.head()"
   ]
  },
  {
   "cell_type": "code",
   "execution_count": null,
   "id": "7fac569a",
   "metadata": {},
   "outputs": [],
   "source": [
    "# Imprime la información general/resumida sobre el DataFrame de phone\n",
    "phone.head()"
   ]
  },
  {
   "cell_type": "code",
   "execution_count": null,
   "id": "dc8d5c0f",
   "metadata": {},
   "outputs": [],
   "source": [
    "# Imprime la información general/resumida sobre el DataFrame de contract\n",
    "contract.info()"
   ]
  },
  {
   "cell_type": "code",
   "execution_count": null,
   "id": "500d1aed",
   "metadata": {},
   "outputs": [],
   "source": [
    "# Imprime la información general/resumida sobre el DataFrame de personal\n",
    "personal.info()"
   ]
  },
  {
   "cell_type": "code",
   "execution_count": null,
   "id": "5e1955a9",
   "metadata": {},
   "outputs": [],
   "source": [
    "# Imprime la información general/resumida sobre el DataFrame de internet\n",
    "internet.info() "
   ]
  },
  {
   "cell_type": "code",
   "execution_count": null,
   "id": "8e624e3a",
   "metadata": {},
   "outputs": [],
   "source": [
    "# Imprime la información general/resumida sobre el DataFrame de phone\n",
    "phone.info()"
   ]
  },
  {
   "cell_type": "markdown",
   "id": "5675b1ee",
   "metadata": {},
   "source": [
    "#### Corregir los datos"
   ]
  },
  {
   "cell_type": "code",
   "execution_count": null,
   "id": "be62bf72",
   "metadata": {},
   "outputs": [],
   "source": [
    "### Renombramos las columnas para que el código se vea más coherente con su estilo.\n",
    "contract = contract.rename(columns={\n",
    "    'customerID': 'customer_id', \n",
    "    'BeginDate': 'begin_date', \n",
    "    'EndDate':'end_date', \n",
    "    'Type': 'type', \n",
    "    'PaperlessBilling':'paperless_billing',\n",
    "    'PaymentMethod':'payment_method',\n",
    "    'MonthlyCharges': 'monthly_charges', \n",
    "    'TotalCharges': 'total_charges',   \n",
    "})\n",
    "\n",
    "### actualizar indice\n",
    "contract.reset_index(drop=True, inplace=True)"
   ]
  },
  {
   "cell_type": "code",
   "execution_count": null,
   "id": "faa110fd",
   "metadata": {},
   "outputs": [],
   "source": [
    "contract.columns"
   ]
  },
  {
   "cell_type": "code",
   "execution_count": null,
   "id": "4fb0e7e5",
   "metadata": {},
   "outputs": [],
   "source": [
    "# información del contrato;\n",
    "contract.head()"
   ]
  },
  {
   "cell_type": "code",
   "execution_count": null,
   "id": "e2ac273b",
   "metadata": {},
   "outputs": [],
   "source": [
    "# Renombramos las columnas para que el código se vea más coherente con su estilo.\n",
    "personal = personal.rename(columns={\n",
    "    'customerID': 'customer_id', \n",
    "    'SeniorCitizen': 'senior_citizen', \n",
    "    'Partner': 'partner', 'Dependents': 'dependents'\n",
    "})\n",
    "# actualizar indice\n",
    "personal.reset_index(drop=True, inplace=True)"
   ]
  },
  {
   "cell_type": "code",
   "execution_count": null,
   "id": "509296ee",
   "metadata": {},
   "outputs": [],
   "source": [
    "# datos personales del cliente;\n",
    "personal.head()"
   ]
  },
  {
   "cell_type": "code",
   "execution_count": null,
   "id": "bd3035e6",
   "metadata": {},
   "outputs": [],
   "source": [
    "# Renombramos las columnas para que el código se vea más coherente con su estilo.\n",
    "internet = internet.rename(columns={'Unnamed: 0': 'un_named'})\n",
    "internet = internet.rename(columns={'id': 'customer_id'})\n",
    "\n",
    "# actualizar indice\n",
    "internet.reset_index(drop=True, inplace=True)"
   ]
  },
  {
   "cell_type": "code",
   "execution_count": null,
   "id": "a590053e",
   "metadata": {},
   "outputs": [],
   "source": [
    "# información sobre los servicios de Internet;\n",
    "internet.head() "
   ]
  },
  {
   "cell_type": "code",
   "execution_count": null,
   "id": "34c9e056",
   "metadata": {},
   "outputs": [],
   "source": [
    "# Renombramos las columnas para que el código se vea más coherente con su estilo.\n",
    "phone = phone.rename(columns={'customerID': 'customer_id', 'MultipleLines': 'multiple_lines'})\n",
    "\n",
    "# actualizar indice\n",
    "phone.reset_index(drop=True, inplace=True)"
   ]
  },
  {
   "cell_type": "code",
   "execution_count": null,
   "id": "1455781c",
   "metadata": {},
   "outputs": [],
   "source": [
    "# información sobre los servicios telefónicos.\n",
    "phone.head()"
   ]
  },
  {
   "cell_type": "code",
   "execution_count": null,
   "id": "291f2254",
   "metadata": {},
   "outputs": [],
   "source": [
    "contract.describe()"
   ]
  },
  {
   "cell_type": "code",
   "execution_count": null,
   "id": "380d17bb",
   "metadata": {},
   "outputs": [],
   "source": [
    "contract.describe()"
   ]
  },
  {
   "cell_type": "code",
   "execution_count": null,
   "id": "42d8cd71",
   "metadata": {},
   "outputs": [],
   "source": [
    "personal.describe()"
   ]
  },
  {
   "cell_type": "code",
   "execution_count": null,
   "id": "7bc5a51a",
   "metadata": {},
   "outputs": [],
   "source": [
    "internet.describe()"
   ]
  },
  {
   "cell_type": "code",
   "execution_count": null,
   "id": "98ee6d4f",
   "metadata": {},
   "outputs": [],
   "source": [
    "phone.describe()"
   ]
  },
  {
   "cell_type": "markdown",
   "id": "a06782c4",
   "metadata": {},
   "source": [
    "###  Preprocesamiento de los datos\n",
    "    - Reemplaza los nombres de las columnas (ponlos en minúsculas).\n",
    "    - Sin espacios los nombres de las columnas\n",
    "    - Se utilizan snake_case para el uso de varias palabras. \n",
    "    - Verifica y corrige los tipos de datos (por ejemplo, asegúrate de que las columnas de ID sean números enteros).\n",
    "    - Identifica y completa valores ausentes con isna() sum()\n",
    "    - Identifica y elimina los valores duplicados duplicated()  \n",
    "    - Verifica y corrige los tipos de datos con dtype() \n",
    "    - Verificamos que los nombres esten bien escritos"
   ]
  },
  {
   "cell_type": "markdown",
   "id": "743df8dc",
   "metadata": {},
   "source": [
    "#### Contract"
   ]
  },
  {
   "cell_type": "code",
   "execution_count": null,
   "id": "800d3cac",
   "metadata": {},
   "outputs": [],
   "source": [
    "type(contract)"
   ]
  },
  {
   "cell_type": "code",
   "execution_count": null,
   "id": "3a800a15",
   "metadata": {},
   "outputs": [],
   "source": [
    "# Verifica si hay valores nulos\n",
    "contract.isnull().sum()"
   ]
  },
  {
   "cell_type": "code",
   "execution_count": null,
   "id": "1a55e1cf",
   "metadata": {},
   "outputs": [],
   "source": [
    "# Verifica valores duplicados explicitos\n",
    "contract.duplicated().sum()"
   ]
  },
  {
   "cell_type": "code",
   "execution_count": null,
   "id": "afb50fff",
   "metadata": {},
   "outputs": [],
   "source": [
    "# Verificamos duplicados implicitos en la columna 'end_date' y utilizamos sorted para organizar alfabeticamente\n",
    "sorted(contract['end_date'].unique()) "
   ]
  },
  {
   "cell_type": "code",
   "execution_count": null,
   "id": "5ef59bdc",
   "metadata": {},
   "outputs": [],
   "source": [
    "# Filtrar las filas donde 'EndDate' es igual a 'Yes'\n",
    "contract_filtered_yes = contract[contract['end_date'] == 'Yes'].count()\n",
    "\n",
    "# Mostrar los resultados\n",
    "contract_filtered_yes"
   ]
  },
  {
   "cell_type": "code",
   "execution_count": null,
   "id": "c9504de7",
   "metadata": {},
   "outputs": [],
   "source": [
    "# Filtrar las filas donde 'EndDate' es igual a 'No'\n",
    "contract_filtered_no = contract[contract['end_date'] == 'No'].mean()\n",
    "\n",
    "# Mostrar los resultados\n",
    "contract_filtered_no"
   ]
  },
  {
   "cell_type": "code",
   "execution_count": null,
   "id": "57791b08",
   "metadata": {},
   "outputs": [],
   "source": [
    "# Contar valores de fecha válidos\n",
    "valid_dates = pd.to_datetime(contract['end_date'], errors='coerce').notna().mean()\n",
    "\n",
    "# Mostrar los resultados\n",
    "valid_dates"
   ]
  },
  {
   "cell_type": "markdown",
   "id": "0875b123",
   "metadata": {},
   "source": [
    "Proporción de usuarios que no han cancelado la suscripción\n",
    "- 61,26% que NO a  cancelado la suscripción\n",
    "- 26,53% corresponden a un tipo de dato fecha cualquiera"
   ]
  },
  {
   "cell_type": "code",
   "execution_count": null,
   "id": "4f60c60f",
   "metadata": {},
   "outputs": [],
   "source": [
    "contract.dtypes"
   ]
  },
  {
   "cell_type": "code",
   "execution_count": null,
   "id": "70349336",
   "metadata": {},
   "outputs": [],
   "source": [
    "# Verificamos que la columna de tiempo sea de tipo fecha\n",
    "contract['begin_date'] = pd.to_datetime(contract['begin_date'])"
   ]
  },
  {
   "cell_type": "markdown",
   "id": "2e09a541",
   "metadata": {},
   "source": [
    "- Analisis columna \"end_date\"\n",
    "\n",
    "1. Para convertir la columna 'end_date' a valores enteros en tu DataFrame de pandas, necesitas determinar cómo deseas que los valores se interpreten como enteros:\n",
    "\n",
    "         A) Si, por ejemplo, EndDate contiene fechas en formato string, podrías convertirlas al número de días desde una \n",
    "         fecha específica. \n",
    "         B) Sin embargo, si EndDate contiene etiquetas como \"Yes\" o \"No\", debes convertirlas a 1 y 0 respectivamente.\n",
    "         \n",
    "2. Como la columba 'end_date' contiene ambos valores, para convertir una columna con datos de tipo objeto en datos binarios enteros. La función lambda convierte los valores \"NO\" en 0 y los valores de fecha en 1.\n"
   ]
  },
  {
   "cell_type": "code",
   "execution_count": null,
   "id": "4de2227b",
   "metadata": {},
   "outputs": [],
   "source": [
    "contract['end_date'] = contract['end_date'].map(lambda x: 0 if x == 'NO' else 1).astype(int)\n",
    "contract.dtypes"
   ]
  },
  {
   "cell_type": "markdown",
   "id": "60b66324",
   "metadata": {},
   "source": [
    "#### Personal"
   ]
  },
  {
   "cell_type": "code",
   "execution_count": null,
   "id": "3511537c",
   "metadata": {},
   "outputs": [],
   "source": [
    "# Verifica si hay valores nulos\n",
    "personal.isnull().sum()"
   ]
  },
  {
   "cell_type": "code",
   "execution_count": null,
   "id": "b813447b",
   "metadata": {},
   "outputs": [],
   "source": [
    "# Contar duplicados explícitos\n",
    "personal.duplicated().sum()"
   ]
  },
  {
   "cell_type": "code",
   "execution_count": null,
   "id": "1f510de2",
   "metadata": {},
   "outputs": [],
   "source": [
    "# Verificamos el tipo de dato \n",
    "personal.dtypes"
   ]
  },
  {
   "cell_type": "markdown",
   "id": "cbc98178",
   "metadata": {},
   "source": [
    "#### Internet"
   ]
  },
  {
   "cell_type": "code",
   "execution_count": null,
   "id": "db88b937",
   "metadata": {
    "scrolled": true
   },
   "outputs": [],
   "source": [
    "# Verifica si hay valores nulos\n",
    "internet.isnull().sum()"
   ]
  },
  {
   "cell_type": "code",
   "execution_count": null,
   "id": "84b87eaa",
   "metadata": {},
   "outputs": [],
   "source": [
    "# Verifica si hay NO valores nulos\n",
    "internet.notna().sum()"
   ]
  },
  {
   "cell_type": "code",
   "execution_count": null,
   "id": "c719f01f",
   "metadata": {},
   "outputs": [],
   "source": [
    "# Contar duplicados explícitos\n",
    "internet.duplicated().sum()"
   ]
  },
  {
   "cell_type": "code",
   "execution_count": null,
   "id": "fc469364",
   "metadata": {},
   "outputs": [],
   "source": [
    "# Verificamos el tipo de dato \n",
    "internet.dtypes"
   ]
  },
  {
   "cell_type": "code",
   "execution_count": null,
   "id": "f25b01fc",
   "metadata": {},
   "outputs": [],
   "source": [
    "# Metodo to_datetime para que la columna 'sesion_date' se conviertan a un valor datetime\n",
    "internet['session_date'] = pd.to_datetime(internet['session_date'], format='%Y-%m-%dT')"
   ]
  },
  {
   "cell_type": "code",
   "execution_count": null,
   "id": "d11a9dce",
   "metadata": {},
   "outputs": [],
   "source": [
    "# la columna 'id' se conviertan a un valor entero\n",
    "#internet['customer_id'] = internet['customer_id'].astype('int')"
   ]
  },
  {
   "cell_type": "code",
   "execution_count": null,
   "id": "045180a4",
   "metadata": {},
   "outputs": [],
   "source": [
    "# Verificamos el tipo de dato \n",
    "internet.dtypes"
   ]
  },
  {
   "cell_type": "markdown",
   "id": "3fe734f7",
   "metadata": {},
   "source": [
    "#### Phone"
   ]
  },
  {
   "cell_type": "code",
   "execution_count": null,
   "id": "b07e3bda",
   "metadata": {},
   "outputs": [],
   "source": [
    "# Verifica si hay valores nulos\n",
    "phone.isnull().sum()"
   ]
  },
  {
   "cell_type": "code",
   "execution_count": null,
   "id": "a393d14d",
   "metadata": {},
   "outputs": [],
   "source": [
    "# Contar duplicados explícitos\n",
    "phone.duplicated().sum()"
   ]
  },
  {
   "cell_type": "code",
   "execution_count": null,
   "id": "1f4ebf64",
   "metadata": {},
   "outputs": [],
   "source": [
    "# Verificamos el tipo de dato \n",
    "phone.dtypes"
   ]
  },
  {
   "cell_type": "markdown",
   "id": "4b6aafbf",
   "metadata": {},
   "source": [
    "'Conclusión,\n",
    " importamos librerias de pandas para crear graficas. Leer el conjunto de datos utilizadno pd.read_csv()\n",
    " Verificamos la información para cada DataFrame utilizando head()\n",
    " \n",
    " Los encabezados de las tablas estan de acuerdo al buen estilo \n",
    " - Todos los caracteres en minúsculas\n",
    " - Sin espacios los nombres de las columnas\n",
    " - Se utilizan snake_case para el uso de varias palabras. "
   ]
  },
  {
   "cell_type": "markdown",
   "id": "617433ef",
   "metadata": {},
   "source": [
    "## Estudia el comportamiento de usuario"
   ]
  },
  {
   "cell_type": "markdown",
   "id": "546422dd",
   "metadata": {},
   "source": [
    "### Porcentaje (proporción) de usuarios que no han cancelado la suscripción"
   ]
  },
  {
   "cell_type": "code",
   "execution_count": null,
   "id": "b096ce7e",
   "metadata": {},
   "outputs": [],
   "source": []
  },
  {
   "cell_type": "markdown",
   "id": "73d9801a",
   "metadata": {},
   "source": [
    "### Muestra la distribución de usuarios cada mes"
   ]
  },
  {
   "cell_type": "code",
   "execution_count": null,
   "id": "096347e5",
   "metadata": {},
   "outputs": [],
   "source": [
    "# Creamos una nueva columna 'month'\n",
    "contract[\"month\"] = contract[\"begin_date\"].dt.to_period(\"M\").dt.start_time\n",
    "contract.head()"
   ]
  },
  {
   "cell_type": "code",
   "execution_count": null,
   "id": "a498bcb6",
   "metadata": {},
   "outputs": [],
   "source": [
    "# Muestra cuantos clientes se estan registrando por mes en promedio\n",
    "contract.groupby(\"month\")[\"customer_id\"].count().mean()"
   ]
  },
  {
   "cell_type": "code",
   "execution_count": null,
   "id": "d5a8a465",
   "metadata": {},
   "outputs": [],
   "source": [
    "# Muestra la distribución de contract cada mes\n",
    "# Define la paleta de colores\n",
    "colors = ['#4c72b0', '#55a868', '#c44e52', '#8172b2', '#ccb974']\n",
    "\n",
    "# Agrupa y cuenta los datos\n",
    "data = contract.groupby('month')['customer_id'].count()\n",
    "\n",
    "# Crea la figura y los ejes\n",
    "fig, ax = plt.subplots(figsize=(12,4))\n",
    "\n",
    "# Traza la línea\n",
    "data.plot(kind='line', color=colors[0], ax=ax)\n",
    "\n",
    "# Personaliza la trama\n",
    "plt.title('Distribución de usuarios cada mes', fontsize=14)\n",
    "plt.xlabel('Mes', fontsize=12)\n",
    "plt.ylabel('Número de usuarios', fontsize=12)\n",
    "plt.xticks(fontsize=10)\n",
    "plt.yticks(fontsize=10)\n",
    "ax.yaxis.grid(True)\n",
    "ax.legend(fontsize=12, loc='upper left')\n",
    "\n",
    "# Mostra la figura\n",
    "plt.show()"
   ]
  },
  {
   "cell_type": "code",
   "execution_count": null,
   "id": "c6369f56",
   "metadata": {},
   "outputs": [],
   "source": [
    "# Seleccionar solo los datos para la fecha 01-02-2020\n",
    "contract_feb = contract[contract['begin_date'] == '2020-02-01']\n",
    "\n",
    "# Agrupar por mes y sumar los IDs de cliente\n",
    "contract_feb.groupby('month')['customer_id'].count()"
   ]
  },
  {
   "cell_type": "markdown",
   "id": "de682590",
   "metadata": {},
   "source": [
    "Conclusión, con un promedio de 91,46% usuarios registrandose por mes.\n",
    "* El año que registra el mayor nuemero de usuarios es febrero 2014 con 366 usuarios\n",
    "* Comparamos que la cantidad de clientes ah disminuido en febrero 2020 con solo 11 usuarios registrados"
   ]
  },
  {
   "cell_type": "markdown",
   "id": "53de7323",
   "metadata": {},
   "source": [
    "### Muestra cuantos clientes se estan registrando por mes"
   ]
  },
  {
   "cell_type": "code",
   "execution_count": null,
   "id": "16ddca0b",
   "metadata": {},
   "outputs": [],
   "source": [
    "# Creamos una nueva columna 'month'\n",
    "internet[\"month\"] = internet[\"session_date\"].dt.to_period(\"M\").dt.start_time\n",
    "\n",
    "# Verificamos la nueva columna 'month'\n",
    "internet.head()"
   ]
  },
  {
   "cell_type": "code",
   "execution_count": null,
   "id": "5a1c85e7",
   "metadata": {},
   "outputs": [],
   "source": [
    "# Calcula el volumen del tráfico de Internet usado por cada usuario al mes. Guarda el resultado.\n",
    "monthly_mb_per_user = (\n",
    "    internet\n",
    "    .groupby([\"user_id\", \"month\"])[\"customer_id\"]\n",
    "    .sum()\n",
    "    .reset_index()\n",
    ")\n",
    "\n",
    "# Muestra la distribución de internet cada mes\n",
    "internet.groupby(\"month\")[\"user_id\"].count().plot(kind=\"line\", figsize=(12,4))"
   ]
  },
  {
   "cell_type": "markdown",
   "id": "cc097048",
   "metadata": {},
   "source": [
    "Conclusión, con un promedio de 91,46% usuarios registrandose por mes.\n",
    "* Diciembre es el mes que mas datos de internet consumen los usuarios. \n"
   ]
  },
  {
   "cell_type": "markdown",
   "id": "a6130ea1",
   "metadata": {},
   "source": [
    "### Prueba de hipotesis\n",
    "- Hipótesis: Los clientes que utilizan servicios adicionales como ProtecciónDeDispositivo y StreamingTV tienen una tasa de cancelación menor en comparación con aquellos que no utilizan estos servicios.\n",
    "\n",
    "Procedimiento:\n",
    "\n",
    "Formulación de hipótesis:\n",
    "\n",
    "Hipótesis nula ( H0): No hay diferencia en la tasa de cancelación entre los clientes que utilizan servicios adicionales y los que no.\n",
    "\n",
    "Hipótesis alternativa ( HA): Los clientes que utilizan servicios adicionales tienen una tasa de cancelación menor.\n",
    "\n",
    "Recolección de datos: Obtén los datos de cancelación de clientes y el uso de servicios adicionales.\n",
    "\n",
    "Análisis estadístico: Realiza un análisis de proporciones para comparar las tasas de cancelación entre los dos grupos (usuarios de servicios adicionales y no usuarios).\n",
    "\n",
    "Prueba de hipótesis: Utiliza una prueba de chi-cuadrado para evaluar si la diferencia en las tasas de cancelación es significativa.\n",
    "\n",
    "- Interpretación de resultados:\n",
    "\n",
    "Si el valor p es menor que el nivel de significancia (por ejemplo, 0.05), rechaza la hipótesis nula y acepta la hipótesis alternativa.\n",
    "\n",
    "De esta manera, podrás determinar si los servicios adicionales influyen en la retención de clientes."
   ]
  },
  {
   "cell_type": "code",
   "execution_count": null,
   "id": "6478cfd6",
   "metadata": {},
   "outputs": [],
   "source": [
    "# Para realizar este analisis debemos combinar los 4 dataframes existentes con una columna en comun \n",
    "# 1. contract, personal y phone tiene en comun la columna ID\n",
    "# 2. Internet columna \"mont\" y \"session_date\"\n",
    "# 3. La combinación de la tabla 1 con la 2 por la columna \"month\""
   ]
  },
  {
   "cell_type": "code",
   "execution_count": null,
   "id": "ebaade74",
   "metadata": {},
   "outputs": [],
   "source": [
    "# Unimos contract y personal con un 'inner' join en la columna 'customer_id' # 6361 datos non-null quedando 632 valores fuera\n",
    "\n",
    "# Unimos contract y personal con un 'left' join en la columna 'customer_id'\n",
    "merged_df = pd.merge(contract, personal, on='customer_id', how='left')\n",
    "\n",
    "# Unimos el resultado con phone también en la columna 'customer_id'\n",
    "merged_id = pd.merge(merged_df, phone, on='customer_id', how='left')\n",
    "\n",
    "# Rellenamos los valores nulos con 0\n",
    "merged_id = merged_id.fillna(0)\n",
    "\n",
    "# Imprimimos el resumen de información del DataFrame final\n",
    "merged_id.info()"
   ]
  },
  {
   "cell_type": "code",
   "execution_count": null,
   "id": "dcbdcd8a",
   "metadata": {},
   "outputs": [],
   "source": [
    "# Verificamos que el dataframe merged_id contiene una columna \"month\" con la cual lo uniremos al dataframe internet\n",
    "internet.info()"
   ]
  },
  {
   "cell_type": "code",
   "execution_count": null,
   "id": "52f3ba3a",
   "metadata": {},
   "outputs": [],
   "source": [
    "# Asegúrate de que ambas columnas 'month' estén en el mismo formato (por ejemplo, tipo 'object' o 'datetime')\n",
    "# merged_id['month'] = pd.to_datetime(merged_id['month'], errors='coerce')\n",
    "# internet['month'] = pd.to_datetime(internet['month'], errors='coerce')\n",
    "\n",
    "# Unimos los DataFrames por la columna 'month'\n",
    "merged_df = pd.merge(merged_id, internet, on='month', how='left')\n",
    "\n",
    "# Imprimimos el resumen de información del DataFrame final\n",
    "merged_df.info()\n"
   ]
  },
  {
   "cell_type": "code",
   "execution_count": null,
   "id": "33e13356",
   "metadata": {},
   "outputs": [],
   "source": [
    "merged_df.head()"
   ]
  },
  {
   "cell_type": "code",
   "execution_count": null,
   "id": "5d7a55c7",
   "metadata": {},
   "outputs": [],
   "source": [
    "# Crear una columna binaria para indicar cancelación (1 si canceló, 0 si no)\n",
    "merged_df['canceled'] = np.where(merged_df['end_date'] == 'canceled', 1, 0)\n",
    "\n",
    "# Crear una columna binaria para indicar si el cliente usa servicios adicionales (1 si usa, 0 si no)\n",
    "# Supongamos que 'multiple_lines' representa el uso de servicios adicionales\n",
    "merged_df['uses_additional_services'] = np.where(merged_df['multiple_lines'] == 'Yes', 1, 0)\n",
    "\n",
    "# Calcular las tasas de cancelación para ambos grupos\n",
    "group_counts = pd.crosstab(merged_df['uses_additional_services'], merged_df['canceled'])\n",
    "\n",
    "# Realizar la prueba de chi-cuadrado\n",
    "chi2, p, dof, expected = chi2_contingency(group_counts)\n",
    "\n",
    "# Imprimir resultados\n",
    "print(\"Tabla de contingencia:\")\n",
    "print(group_counts)\n",
    "print(\"\\nResultado de la prueba de chi-cuadrado:\")\n",
    "print(f\"Chi-cuadrado: {chi2:.4f}\")\n",
    "print(f\"Valor p: {p:.4f}\")\n",
    "\n",
    "# Interpretación\n",
    "alpha = 0.05\n",
    "if p < alpha:\n",
    "    print(\"\\nSe rechaza la hipótesis nula. Hay evidencia de que los clientes que usan servicios adicionales tienen una tasa de cancelación diferente.\")\n",
    "else:\n",
    "    print(\"\\nNo se puede rechazar la hipótesis nula. No hay suficiente evidencia para afirmar que los servicios adicionales influyen en la tasa de cancelación.\")\n"
   ]
  },
  {
   "cell_type": "markdown",
   "id": "aee56f56",
   "metadata": {},
   "source": [
    "- Conlclusión:\n",
    "1. En este código, combinamos los datos necesarios de los cuatro DataFrames en uno solo mediante el uso de la función  de pandas. \n",
    "2. Luego, creamos una columna en el nuevo DataFrame que nos indica si un cliente utiliza servicios adicionales.\n",
    "3. A continuación, creamos una tabla de contingencia que muestra la cantidad de clientes que cancelan y la cantidad de clientes que no cancelan, desglosados por su uso de servicios adicionales.\n",
    "4. Finalmente, utilizamos la función  de scipy para realizar la prueba de chi-cuadrado, que compara las tasas de cancelación entre los clientes que utilizan servicios adicionales y los que no. La función devuelve el valor chi-cuadrado, el valor p y otros datos estadísticos relevantes. Si el valor p es menor que el nivel de significancia (0.05 en este caso), rechazamos la hipótesis nula y aceptamos la hipótesis alternativa, lo que nos indica que los clientes que utilizan servicios adicionales tienen una tasa de cancelación menor."
   ]
  },
  {
   "cell_type": "markdown",
   "id": "f7cfa551",
   "metadata": {},
   "source": [
    "### Analisis de distribuición de datos"
   ]
  },
  {
   "cell_type": "markdown",
   "id": "9411a05d",
   "metadata": {},
   "source": [
    "#### Identificación de los 10 principales servicios adicionales más contratados por los usuarios de Interconnect."
   ]
  },
  {
   "cell_type": "code",
   "execution_count": null,
   "id": "4a4c2bd5",
   "metadata": {},
   "outputs": [],
   "source": [
    "# 1. Contamos la cantidad de veces que aparece cada tipo de servicio\n",
    "top_services = merged_df['type'].value_counts().head(10)\n",
    "\n",
    "# Mostramos los 10 servicios más contratados\n",
    "print(top_services)\n",
    "\n",
    "# Graficamos la distribución de los 10 principales servicios\n",
    "plt.figure(figsize=(6, 4))\n",
    "sns.barplot(x=top_services.index, y=top_services.values, palette='viridis')\n",
    "plt.title('Top 10 Servicios Adicionales Más Contratados', fontsize=12)\n",
    "plt.xlabel('Servicio', fontsize=12)\n",
    "plt.ylabel('Cantidad de Contrataciones', fontsize=12)\n",
    "plt.xticks(rotation=0, ha='center')\n",
    "plt.show()"
   ]
  },
  {
   "cell_type": "markdown",
   "id": "745548ab",
   "metadata": {},
   "source": [
    "#### Conclusión del análisis de los 10 principales servicios adicionales más contratados:\n",
    "\n",
    "- El análisis de la columna type, que representa la duración de los contratos (o los servicios adicionales ofrecidos por Interconnect), revela que la mayoría de los clientes optan por el servicio \"Month-to-month\", con un total de 9,991,307 contrataciones. Esto indica que un gran porcentaje de clientes prefiere contratos a corto plazo, probablemente debido a la flexibilidad que ofrecen, sin compromiso a largo plazo.\n",
    "\n",
    "- Por otro lado, las opciones de contratos a largo plazo (como \"One year\" con 2,299,912 contrataciones y \"Two year\" con 935,865 contrataciones) tienen una menor participación en comparación con los contratos mes a mes. Esto podría sugerir que una parte importante de la base de clientes es más conservadora o tiene incertidumbre en cuanto a compromisos a largo plazo, lo cual es común en servicios que ofrecen alternativas flexibles y en constante evolución como los servicios de telecomunicaciones.\n",
    "\n",
    "- En resumen, los clientes de Interconnect parecen optar mayoritariamente por servicios flexibles y sin compromisos a largo plazo, lo que podría ser un factor clave para la estrategia de marketing y retención de la empresa, ya que refleja una preferencia por la agilidad y la capacidad de cambiar de plan o servicio de manera más fácil."
   ]
  },
  {
   "cell_type": "code",
   "execution_count": null,
   "id": "bd099a27",
   "metadata": {},
   "outputs": [],
   "source": [
    "# 1. Análisis del tipo de contrato por género\n",
    "# Contamos la cantidad de cada tipo de contrato por género\n",
    "gender_contract_dist = merged_df.groupby(['gender', 'type']).size().unstack().fillna(0)\n",
    "\n",
    "# Visualizamos los resultados en un gráfico de barras\n",
    "gender_contract_dist.plot(kind='bar', stacked=True, figsize=(6, 4), colormap='Set2')\n",
    "plt.title('Distribución de Tipo de Contrato por Género', fontsize=12)\n",
    "plt.xlabel('Género', fontsize=12)\n",
    "plt.ylabel('Número de Contratos', fontsize=12)\n",
    "plt.xticks(rotation=0)\n",
    "plt.legend(title=\"Tipo de Contrato\", bbox_to_anchor=(1.05, 1), loc='upper left')\n",
    "plt.show()\n",
    "\n",
    "# 2. Análisis del tipo de contrato por edad (en base a 'senior_citizen')\n",
    "# Contamos la cantidad de cada tipo de contrato por si es \"Senior Citizen\" o no\n",
    "senior_contract_dist = merged_df.groupby(['senior_citizen', 'type']).size().unstack().fillna(0)\n",
    "\n",
    "# Visualizamos los resultados en un gráfico de barras\n",
    "senior_contract_dist.plot(kind='bar', stacked=True, figsize=(6, 4), colormap='Set3')\n",
    "plt.title('Distribución de Tipo de Contrato por Senior Citizen', fontsize=12)\n",
    "plt.xlabel('Senior Citizen (0: No, 1: Sí)', fontsize=12)\n",
    "plt.ylabel('Número de Contratos', fontsize=12)\n",
    "plt.xticks(rotation=0)\n",
    "plt.legend(title=\"Tipo de Contrato\", bbox_to_anchor=(1.05, 1), loc='upper left')\n",
    "plt.show()\n",
    "\n",
    "# 3. Análisis conjunto del tipo de contrato por género y edad (senior_citizen)\n",
    "# Realizamos un análisis cruzado entre género y senior_citizen para ver la interacción con el tipo de contrato\n",
    "combined_contract_dist = merged_df.groupby(['gender', 'senior_citizen', 'type']).size().unstack().fillna(0)\n",
    "\n",
    "# Visualizamos en un gráfico de barras apiladas\n",
    "combined_contract_dist.plot(kind='bar', stacked=True, figsize=(6, 4), colormap='Set1')\n",
    "plt.title('Distribución de Tipo de Contrato por Género y Senior Citizen', fontsize=10)\n",
    "plt.xlabel('Género y Senior Citizen', fontsize=10)\n",
    "plt.ylabel('Número de Contratos', fontsize=10)\n",
    "plt.xticks(rotation=0, ha='right')\n",
    "plt.legend(title=\"Tipo de Contrato\", bbox_to_anchor=(1.05, 1), loc='upper left')\n",
    "plt.show()\n"
   ]
  },
  {
   "cell_type": "markdown",
   "id": "868f031f",
   "metadata": {},
   "source": [
    "#### Conclusiones: \n",
    "\n",
    "    1. Por género:\n",
    "    \n",
    "   La mayoría de las personas de un género específico prefieren un tipo de contrato (por ejemplo, \"Month-to-month\"), podrías sugerir que ese género valora la flexibilidad más que la estabilidad de un contrato a largo plazo.\n",
    "   \n",
    "    2. Por edad (senior_citizen):\n",
    "    \n",
    "   Los adultos mayores (representados por senior_citizen = 1) tienden a preferir contratos más largos (como \"One year\" o \"Two year\"), podría indicar que este grupo prefiere una mayor estabilidad y menos cambios en su servicio.\n",
    "      - Los clientes más jóvenes o no adultos mayores pueden preferir la flexibilidad de contratos \"Month-to-month\", lo que refleja su tendencia a cambiar de proveedor o servicio con mayor frecuencia.\n",
    "\n",
    "    3. Análisis combinado (género + edad):\n",
    "    \n",
    "   Este análisis puede revelar interacciones más complejas. Por ejemplo, puede ser que los hombres jóvenes prefieran contratos \"Month-to-month\" más que las mujeres, o que las mujeres mayores prefieran contratos a largo plazo, lo que puede reflejar diferentes patrones de comportamiento en cuanto a la estabilidad y la flexibilidad."
   ]
  },
  {
   "cell_type": "markdown",
   "id": "ac175ec2",
   "metadata": {},
   "source": [
    "#### Recomendaciones basadas en los resultados:\n",
    "- Estrategias de marketing personalizadas: Si se observa que ciertos grupos demográficos (por ejemplo, mujeres mayores) prefieren contratos a largo plazo, podríamos diseñar campañas dirigidas a ofrecerles planes que destaquen la estabilidad y los beneficios a largo plazo.\n",
    "- Mejora de la flexibilidad: Si los contratos \"Month-to-month\" son más populares entre los jóvenes, podrías explorar opciones que mejoren la flexibilidad del servicio para este segmento (por ejemplo, planes con beneficios adicionales sin compromiso a largo plazo).\n",
    "- Optimización de la retención: Si observas que algunos segmentos de clientes prefieren contratos más largos, podrías implementar estrategias de retención específicas, como descuentos por compromiso, para incentivar la permanencia a largo plazo."
   ]
  },
  {
   "cell_type": "markdown",
   "id": "56e42fde",
   "metadata": {},
   "source": [
    "#### Gráficos que muestren la distribución de métodos de pago utilizados por los clientes de Interconnect"
   ]
  },
  {
   "cell_type": "code",
   "execution_count": null,
   "id": "362c2610",
   "metadata": {},
   "outputs": [],
   "source": [
    "# Contamos la cantidad de veces que aparece cada método de pago\n",
    "payment_method_distribution = merged_df['payment_method'].value_counts()\n",
    "\n",
    "# Mostramos la distribución de los métodos de pago\n",
    "print(payment_method_distribution)\n",
    "\n",
    "# Graficamos la distribución de métodos de pago\n",
    "plt.figure(figsize=(10, 4))\n",
    "sns.barplot(x=payment_method_distribution.index, y=payment_method_distribution.values, palette='Set2')\n",
    "plt.title('Distribución de Métodos de Pago', fontsize=12)\n",
    "plt.xlabel('Método de Pago', fontsize=12)\n",
    "plt.ylabel('Cantidad de Clientes', fontsize=12)\n",
    "plt.xticks(rotation=0, ha='center')\n",
    "plt.show()\n"
   ]
  },
  {
   "cell_type": "markdown",
   "id": "4801336c",
   "metadata": {},
   "source": [
    "#### Conclusión sobre la distribución de métodos de pago utilizados por los clientes de Interconnect:\n",
    "La distribución de los métodos de pago utilizados por los clientes de Interconnect muestra una clara preferencia por métodos electrónicos y automáticos.\n",
    "\n",
    "Método de pago más popular: El \"Electronic check\" es el método más utilizado, con 5,126,793 pagos registrados, lo que sugiere que una gran parte de los clientes prefieren esta opción, probablemente por su comodidad y la capacidad de hacer pagos rápidos y fácilmente desde sus cuentas bancarias.\n",
    "\n",
    "Métodos tradicionales: En segundo lugar, se encuentra el \"Mailed check\", con 3,672,069 pagos, lo que indica que un número considerable de clientes aún opta por métodos de pago más tradicionales, aunque su popularidad es menor en comparación con los métodos electrónicos. Esto podría reflejar a un segmento de clientes menos familiarizado o cómodo con la tecnología digital.\n",
    "\n",
    "Pagos automáticos: Los métodos de pago automáticos, como \"Bank transfer (automatic)\" y \"Credit card (automatic)\", son también utilizados, con 2,233,745 y 2,194,477 pagos respectivamente. Estos métodos indican que algunos clientes prefieren establecer pagos recurrentes automáticos, lo que podría ayudar a evitar retrasos en los pagos y facilitar la gestión de sus suscripciones."
   ]
  },
  {
   "cell_type": "markdown",
   "id": "ece4bef2",
   "metadata": {},
   "source": [
    "#### Implicaciones para la empresa:\n",
    "Preferencia por la comodidad: Los clientes que usan Electronic check y métodos automáticos parecen buscar comodidad y eficiencia en el proceso de pago. Interconnect podría considerar promover aún más estos métodos en sus campañas de comunicación, destacando los beneficios de pagar de manera automática.\n",
    "\n",
    "Segmento de clientes tradicionales: Aunque la tendencia es hacia los métodos electrónicos, un segmento significativo sigue utilizando Mailed check. Esto sugiere que Interconnect debe continuar ofreciendo métodos tradicionales de pago para estos clientes, pero podría explorar incentivos para fomentar la transición hacia métodos más modernos, lo que ayudaría a reducir costos operativos asociados con el manejo de pagos físicos.\n",
    "\n",
    "Optimización de pagos automáticos: Dado el uso relativamente alto de pagos automáticos, podría ser beneficioso para Interconnect promover el uso de la autorización bancaria automática y tarjetas de crédito automáticas a través de descuentos o beneficios exclusivos, alentando a los clientes a adoptar métodos de pago que aseguren ingresos recurrentes de manera más estable.\n",
    "\n",
    "En resumen, los datos indican una clara inclinación hacia la digitalización y la automatización de los pagos, lo que podría facilitar una mejor experiencia para el cliente y mayor eficiencia operativa para la empresa. Sin embargo, es importante no descuidar a los clientes que aún prefieren los métodos tradicionales y encontrar formas de guiarles hacia opciones más modernas de pago."
   ]
  },
  {
   "cell_type": "markdown",
   "id": "79269888",
   "metadata": {},
   "source": [
    "### Los objetivos \n",
    "\n",
    "Necesitamos predecir si un cliente planea irse, pronto. Debemos analizar el comportamiento de los clientes y determinar qué tarifa de prepago genera más ingresos.\n",
    "\n",
    "Entrenar un modelo con el máximo valor F1 posible. Verifica F1 para el conjunto de prueba. \n",
    "Además, debes medir la métrica AUC-ROC y compararla con el valor F1.\n",
    "\n",
    "Característica objetivo: la columna `'end_date'` es igual a `'No'`.\n",
    "Esta se encuentra en DF llamado merged_df            "
   ]
  },
  {
   "cell_type": "markdown",
   "id": "079ba583",
   "metadata": {},
   "source": [
    "#### Preparar el modelo de predicción.\n",
    "\n",
    "   1. Preparación de los Datos:\n",
    "\n",
    "Filtramos los datos para la característica objetivo (end_date).\n",
    "\n",
    "Convertimos los datos categóricos a numéricos utilizando One-Hot Encoding.\n",
    "\n",
    "Dividimos los datos en conjuntos de entrenamiento y prueba.\n",
    "\n",
    "   2. Entrenamiento del Modelo:\n",
    "\n",
    "Usaremos un clasificador, como Random Forest, para entrenar el modelo.\n",
    "\n",
    "Ajustamos el modelo para maximizar el valor F1.\n",
    "\n",
    "   3. Evaluación del Modelo:\n",
    "\n",
    "Calculamos la métrica F1 en el conjunto de prueba.\n",
    "Medimos la AUC-ROC y comparamos ambos valores."
   ]
  },
  {
   "cell_type": "code",
   "execution_count": null,
   "id": "172bef9c",
   "metadata": {},
   "outputs": [],
   "source": [
    "# Continuamos vemos el DF que tenemos hasta ahora "
   ]
  },
  {
   "cell_type": "code",
   "execution_count": null,
   "id": "f67325ba",
   "metadata": {},
   "outputs": [],
   "source": [
    "### Codificación y escalamiento de los datos."
   ]
  },
  {
   "cell_type": "code",
   "execution_count": null,
   "id": "cda03f2e",
   "metadata": {},
   "outputs": [],
   "source": [
    "merged_df.head()"
   ]
  },
  {
   "cell_type": "code",
   "execution_count": null,
   "id": "3e3db07e",
   "metadata": {},
   "outputs": [],
   "source": [
    "df_final = merged_df[['end_date', 'type', 'paperless_billing',\n",
    "       'payment_method', 'monthly_charges', 'total_charges', 'month',\n",
    "       'gender', 'partner', 'dependents', 'multiple_lines',\n",
    "       'mb_used', 'session_date', 'canceled', 'uses_additional_services']].copy()"
   ]
  },
  {
   "cell_type": "code",
   "execution_count": null,
   "id": "c3752573",
   "metadata": {},
   "outputs": [],
   "source": []
  },
  {
   "cell_type": "code",
   "execution_count": null,
   "id": "86358608",
   "metadata": {},
   "outputs": [],
   "source": []
  },
  {
   "cell_type": "code",
   "execution_count": null,
   "id": "3f3ab60f",
   "metadata": {},
   "outputs": [],
   "source": []
  },
  {
   "cell_type": "code",
   "execution_count": 1,
   "id": "61d2e6e6",
   "metadata": {},
   "outputs": [],
   "source": [
    "# Valor F1\n",
    "# Crea un modelo con el máximo valor F1 posible. Para aprobar la revisión, necesitas un valor F1 de al menos 0.59. Verifica F1 para el conjunto de prueba. "
   ]
  },
  {
   "cell_type": "code",
   "execution_count": null,
   "id": "c581b70d",
   "metadata": {},
   "outputs": [],
   "source": []
  },
  {
   "cell_type": "code",
   "execution_count": null,
   "id": "150c1f3d",
   "metadata": {},
   "outputs": [],
   "source": []
  },
  {
   "cell_type": "markdown",
   "id": "4ba2a44e",
   "metadata": {},
   "source": [
    "## Desarrolla un modelo con la mayor exactitud posible. \n",
    "En este proyecto, el umbral de exactitud es 0.75. Usa el dataset para comprobar la exactitud.\n",
    "\n",
    "Instrucciones del proyecto.\n",
    "\n",
    "Segmenta los datos fuente en un conjunto de entrenamiento, uno de validación y uno de prueba.\n",
    "Investiga la calidad de diferentes modelos cambiando los hiperparámetros. Describe brevemente los hallazgos del estudio.\n",
    "Comprueba la calidad del modelo usando el conjunto de prueba.\n"
   ]
  },
  {
   "cell_type": "markdown",
   "id": "5b030a2c",
   "metadata": {},
   "source": [
    "### Entrenamiento del modelo \n",
    " Dividir los datos en conjuntos de entrenamiento y prueba (80% entrenamiento, 20% prueba)\n",
    " Separa utilizando train_test_split."
   ]
  },
  {
   "cell_type": "markdown",
   "id": "892ada3a",
   "metadata": {},
   "source": [
    "##  Conclusiones \n",
    "### El mejor modelo de entrenamiento es Catboost performance para el analisis en tiempo, velocidad y exactitud.\n",
    "\n",
    "Evaluación de los modelos:\n",
    "- RMSE_LinearRegression: \n",
    "- RMSE_Catboost performance: \n",
    "- RMSE_RandomForestRegressor: \n",
    "\n",
    "\n"
   ]
  },
  {
   "cell_type": "markdown",
   "id": "dece2f16",
   "metadata": {},
   "source": [
    "### Modelo CatBoostRegressor"
   ]
  },
  {
   "cell_type": "code",
   "execution_count": null,
   "id": "76c63e74",
   "metadata": {},
   "outputs": [],
   "source": [
    "# Verificamos la versión y la documentación \n",
    "# cb.__version__"
   ]
  },
  {
   "cell_type": "code",
   "execution_count": null,
   "id": "85633fbf",
   "metadata": {},
   "outputs": [],
   "source": []
  },
  {
   "cell_type": "markdown",
   "id": "6fe9ba62",
   "metadata": {},
   "source": [
    "### Modelo LinearRegression"
   ]
  },
  {
   "cell_type": "code",
   "execution_count": null,
   "id": "fa98179c",
   "metadata": {},
   "outputs": [],
   "source": []
  },
  {
   "cell_type": "markdown",
   "id": "6cd2794f",
   "metadata": {},
   "source": [
    "### Modelo RandomForestRegressor\n"
   ]
  },
  {
   "cell_type": "code",
   "execution_count": null,
   "id": "b1fbdd68",
   "metadata": {},
   "outputs": [],
   "source": []
  },
  {
   "cell_type": "code",
   "execution_count": null,
   "id": "2be051d2",
   "metadata": {},
   "outputs": [],
   "source": []
  }
 ],
 "metadata": {
  "ExecuteTimeLog": [
   {
    "duration": 3,
    "start_time": "2024-10-20T10:27:09.177Z"
   },
   {
    "duration": 2,
    "start_time": "2024-10-20T10:42:31.379Z"
   },
   {
    "duration": 3,
    "start_time": "2024-10-20T14:26:58.422Z"
   },
   {
    "duration": 2,
    "start_time": "2024-10-20T14:30:44.648Z"
   },
   {
    "duration": 10,
    "start_time": "2024-10-20T14:34:34.782Z"
   },
   {
    "duration": 10,
    "start_time": "2024-10-21T09:36:33.660Z"
   },
   {
    "duration": 3,
    "start_time": "2024-10-21T09:38:09.626Z"
   },
   {
    "duration": 2,
    "start_time": "2024-10-21T09:41:20.851Z"
   },
   {
    "duration": 4,
    "start_time": "2024-10-21T09:46:19.786Z"
   },
   {
    "duration": 2625,
    "start_time": "2024-10-21T16:51:35.008Z"
   },
   {
    "duration": 597,
    "start_time": "2024-10-21T16:51:37.635Z"
   },
   {
    "duration": 192,
    "start_time": "2024-10-21T16:52:10.973Z"
   },
   {
    "duration": 32,
    "start_time": "2024-10-21T16:53:30.200Z"
   },
   {
    "duration": 4,
    "start_time": "2024-10-21T16:54:08.186Z"
   },
   {
    "duration": 8,
    "start_time": "2024-10-21T19:37:43.133Z"
   },
   {
    "duration": 156,
    "start_time": "2024-10-21T19:44:39.396Z"
   },
   {
    "duration": 3,
    "start_time": "2024-10-21T19:44:52.796Z"
   },
   {
    "duration": 2,
    "start_time": "2024-10-21T19:44:52.801Z"
   },
   {
    "duration": 3,
    "start_time": "2024-10-21T19:44:52.884Z"
   },
   {
    "duration": 2533,
    "start_time": "2024-10-21T19:44:52.889Z"
   },
   {
    "duration": 148,
    "start_time": "2024-10-21T19:44:55.424Z"
   },
   {
    "duration": 36,
    "start_time": "2024-10-21T19:44:55.573Z"
   },
   {
    "duration": 3,
    "start_time": "2024-10-21T19:44:55.612Z"
   },
   {
    "duration": 5,
    "start_time": "2024-10-21T19:45:50.165Z"
   },
   {
    "duration": 103,
    "start_time": "2024-10-21T19:45:52.973Z"
   },
   {
    "duration": 3,
    "start_time": "2024-10-21T19:45:57.414Z"
   },
   {
    "duration": 3,
    "start_time": "2024-10-21T19:46:15.609Z"
   },
   {
    "duration": 2,
    "start_time": "2024-10-21T19:46:15.615Z"
   },
   {
    "duration": 2,
    "start_time": "2024-10-21T19:46:15.619Z"
   },
   {
    "duration": 917,
    "start_time": "2024-10-21T19:46:15.624Z"
   },
   {
    "duration": 96,
    "start_time": "2024-10-21T19:46:16.543Z"
   },
   {
    "duration": 32,
    "start_time": "2024-10-21T19:46:16.640Z"
   },
   {
    "duration": 3,
    "start_time": "2024-10-21T19:46:16.675Z"
   },
   {
    "duration": 3,
    "start_time": "2024-10-21T19:46:16.680Z"
   },
   {
    "duration": 4,
    "start_time": "2024-10-21T20:05:09.955Z"
   },
   {
    "duration": 3,
    "start_time": "2024-10-21T20:05:29.441Z"
   },
   {
    "duration": 4,
    "start_time": "2024-10-21T20:36:40.063Z"
   },
   {
    "duration": 7,
    "start_time": "2024-10-27T18:20:41.641Z"
   },
   {
    "duration": 151,
    "start_time": "2024-10-27T18:24:29.775Z"
   },
   {
    "duration": 2557,
    "start_time": "2024-10-27T18:25:02.327Z"
   },
   {
    "duration": 5,
    "start_time": "2024-10-27T18:25:17.006Z"
   },
   {
    "duration": 419,
    "start_time": "2024-10-27T18:25:20.608Z"
   },
   {
    "duration": 86,
    "start_time": "2024-10-27T18:25:37.671Z"
   },
   {
    "duration": 103,
    "start_time": "2024-10-27T18:25:53.242Z"
   },
   {
    "duration": 75,
    "start_time": "2024-10-27T18:26:24.565Z"
   },
   {
    "duration": 75,
    "start_time": "2024-10-27T18:26:47.096Z"
   },
   {
    "duration": 76,
    "start_time": "2024-10-27T18:28:24.572Z"
   },
   {
    "duration": 142,
    "start_time": "2024-10-27T18:29:05.090Z"
   },
   {
    "duration": 103,
    "start_time": "2024-10-27T18:29:15.423Z"
   },
   {
    "duration": 4,
    "start_time": "2024-10-27T18:30:07.102Z"
   },
   {
    "duration": 100,
    "start_time": "2024-10-27T18:30:15.151Z"
   },
   {
    "duration": 32,
    "start_time": "2024-10-27T18:32:44.245Z"
   },
   {
    "duration": 4,
    "start_time": "2024-10-27T18:34:57.198Z"
   },
   {
    "duration": 3,
    "start_time": "2024-10-27T18:35:24.344Z"
   },
   {
    "duration": 161,
    "start_time": "2024-10-28T08:21:52.701Z"
   },
   {
    "duration": 2673,
    "start_time": "2024-10-28T08:22:13.614Z"
   },
   {
    "duration": 146,
    "start_time": "2024-10-28T08:22:17.086Z"
   },
   {
    "duration": 4,
    "start_time": "2024-10-28T08:22:24.918Z"
   },
   {
    "duration": 889,
    "start_time": "2024-10-28T08:23:07.527Z"
   },
   {
    "duration": 103,
    "start_time": "2024-10-28T08:23:08.418Z"
   },
   {
    "duration": 36,
    "start_time": "2024-10-28T08:23:08.522Z"
   },
   {
    "duration": 4,
    "start_time": "2024-10-28T08:23:08.560Z"
   },
   {
    "duration": 3,
    "start_time": "2024-10-28T08:23:26.039Z"
   },
   {
    "duration": 33,
    "start_time": "2024-10-28T08:25:22.674Z"
   },
   {
    "duration": 9,
    "start_time": "2024-10-28T08:25:39.316Z"
   },
   {
    "duration": 7,
    "start_time": "2024-10-28T08:26:13.366Z"
   },
   {
    "duration": 7,
    "start_time": "2024-10-28T08:26:33.238Z"
   },
   {
    "duration": 5,
    "start_time": "2024-10-28T08:26:33.720Z"
   },
   {
    "duration": 5,
    "start_time": "2024-10-28T08:39:20.393Z"
   },
   {
    "duration": 30,
    "start_time": "2024-10-28T08:46:29.304Z"
   },
   {
    "duration": 9,
    "start_time": "2024-10-28T08:46:41.692Z"
   },
   {
    "duration": 10,
    "start_time": "2024-10-28T08:47:29.363Z"
   },
   {
    "duration": 10,
    "start_time": "2024-10-28T08:47:29.947Z"
   },
   {
    "duration": 21,
    "start_time": "2024-10-28T08:47:30.572Z"
   },
   {
    "duration": 18,
    "start_time": "2024-10-28T08:47:30.978Z"
   },
   {
    "duration": 3,
    "start_time": "2024-10-28T08:53:27.926Z"
   },
   {
    "duration": 4,
    "start_time": "2024-10-28T08:53:50.426Z"
   },
   {
    "duration": 3,
    "start_time": "2024-10-28T08:53:54.420Z"
   },
   {
    "duration": 10,
    "start_time": "2024-10-28T08:54:23.744Z"
   },
   {
    "duration": 9,
    "start_time": "2024-10-28T08:54:27.636Z"
   },
   {
    "duration": 10,
    "start_time": "2024-10-28T08:54:28.638Z"
   },
   {
    "duration": 19,
    "start_time": "2024-10-28T08:54:29.541Z"
   },
   {
    "duration": 31,
    "start_time": "2024-10-28T08:55:32.059Z"
   },
   {
    "duration": 9,
    "start_time": "2024-10-28T08:55:44.982Z"
   },
   {
    "duration": 3,
    "start_time": "2024-10-28T08:59:10.135Z"
   },
   {
    "duration": 9,
    "start_time": "2024-10-28T08:59:11.427Z"
   },
   {
    "duration": 3,
    "start_time": "2024-10-28T08:59:52.500Z"
   },
   {
    "duration": 8,
    "start_time": "2024-10-28T08:59:53.298Z"
   },
   {
    "duration": 5,
    "start_time": "2024-10-28T09:00:15.057Z"
   },
   {
    "duration": 3,
    "start_time": "2024-10-28T09:00:22.441Z"
   },
   {
    "duration": 8,
    "start_time": "2024-10-28T09:00:25.719Z"
   },
   {
    "duration": 4,
    "start_time": "2024-10-28T09:00:41.264Z"
   },
   {
    "duration": 10,
    "start_time": "2024-10-28T09:00:41.957Z"
   },
   {
    "duration": 3,
    "start_time": "2024-10-28T09:00:58.743Z"
   },
   {
    "duration": 9,
    "start_time": "2024-10-28T09:00:59.500Z"
   },
   {
    "duration": 3,
    "start_time": "2024-10-28T09:05:32.807Z"
   },
   {
    "duration": 7,
    "start_time": "2024-10-28T09:05:33.427Z"
   },
   {
    "duration": 6,
    "start_time": "2024-10-28T09:07:02.547Z"
   },
   {
    "duration": 10,
    "start_time": "2024-10-28T09:07:03.568Z"
   },
   {
    "duration": 7,
    "start_time": "2024-10-28T09:07:07.497Z"
   },
   {
    "duration": 8,
    "start_time": "2024-10-28T09:07:14.703Z"
   },
   {
    "duration": 10,
    "start_time": "2024-10-28T09:07:15.328Z"
   },
   {
    "duration": 7,
    "start_time": "2024-10-28T09:07:20.731Z"
   },
   {
    "duration": 11,
    "start_time": "2024-10-28T09:07:21.541Z"
   },
   {
    "duration": 280,
    "start_time": "2024-10-28T09:07:51.607Z"
   },
   {
    "duration": 13,
    "start_time": "2024-10-28T09:07:59.322Z"
   },
   {
    "duration": 7,
    "start_time": "2024-10-28T09:08:06.419Z"
   },
   {
    "duration": 6,
    "start_time": "2024-10-28T09:08:24.022Z"
   },
   {
    "duration": 7,
    "start_time": "2024-10-28T09:08:24.875Z"
   },
   {
    "duration": 3,
    "start_time": "2024-10-28T09:10:09.828Z"
   },
   {
    "duration": 6,
    "start_time": "2024-10-28T09:10:10.526Z"
   },
   {
    "duration": 10,
    "start_time": "2024-10-28T09:10:18.824Z"
   },
   {
    "duration": 9,
    "start_time": "2024-10-28T09:10:20.438Z"
   },
   {
    "duration": 9,
    "start_time": "2024-10-28T09:10:21.163Z"
   },
   {
    "duration": 24,
    "start_time": "2024-10-28T09:10:21.943Z"
   },
   {
    "duration": 13,
    "start_time": "2024-10-28T09:10:22.910Z"
   },
   {
    "duration": 4,
    "start_time": "2024-10-28T09:10:49.036Z"
   },
   {
    "duration": 9,
    "start_time": "2024-10-28T09:10:49.920Z"
   },
   {
    "duration": 4,
    "start_time": "2024-10-28T09:10:50.583Z"
   },
   {
    "duration": 5,
    "start_time": "2024-10-28T10:12:17.670Z"
   },
   {
    "duration": 12,
    "start_time": "2024-10-28T10:12:18.374Z"
   },
   {
    "duration": 3,
    "start_time": "2024-10-28T10:12:52.807Z"
   },
   {
    "duration": 7,
    "start_time": "2024-10-28T10:13:06.681Z"
   },
   {
    "duration": 6,
    "start_time": "2024-10-28T10:13:20.091Z"
   },
   {
    "duration": 7,
    "start_time": "2024-10-28T10:13:20.820Z"
   },
   {
    "duration": 3,
    "start_time": "2024-10-28T10:13:39.660Z"
   },
   {
    "duration": 5,
    "start_time": "2024-10-28T10:13:40.122Z"
   },
   {
    "duration": 8,
    "start_time": "2024-10-28T10:18:38.838Z"
   },
   {
    "duration": 16,
    "start_time": "2024-10-28T10:44:07.174Z"
   },
   {
    "duration": 5,
    "start_time": "2024-10-28T10:44:19.057Z"
   },
   {
    "duration": 456,
    "start_time": "2024-10-28T10:45:06.313Z"
   },
   {
    "duration": 5,
    "start_time": "2024-10-28T10:45:40.270Z"
   },
   {
    "duration": 5,
    "start_time": "2024-10-28T10:45:46.683Z"
   },
   {
    "duration": 4,
    "start_time": "2024-10-28T10:46:31.836Z"
   },
   {
    "duration": 251,
    "start_time": "2024-10-28T10:46:35.153Z"
   },
   {
    "duration": 4,
    "start_time": "2024-10-28T10:46:35.581Z"
   },
   {
    "duration": 9,
    "start_time": "2024-10-28T10:46:50.751Z"
   },
   {
    "duration": 10,
    "start_time": "2024-10-28T10:47:13.286Z"
   },
   {
    "duration": 6,
    "start_time": "2024-10-28T10:47:59.989Z"
   },
   {
    "duration": 4,
    "start_time": "2024-10-28T10:48:18.999Z"
   },
   {
    "duration": 8,
    "start_time": "2024-10-28T10:48:46.289Z"
   },
   {
    "duration": 14,
    "start_time": "2024-10-28T10:52:17.545Z"
   },
   {
    "duration": 5,
    "start_time": "2024-10-28T10:52:28.537Z"
   },
   {
    "duration": 4,
    "start_time": "2024-10-28T10:53:17.675Z"
   },
   {
    "duration": 3,
    "start_time": "2024-10-28T10:53:30.905Z"
   },
   {
    "duration": 2,
    "start_time": "2024-10-28T10:53:33.184Z"
   },
   {
    "duration": 15,
    "start_time": "2024-10-28T10:54:31.389Z"
   },
   {
    "duration": 15,
    "start_time": "2024-10-28T12:54:30.354Z"
   },
   {
    "duration": 12,
    "start_time": "2024-10-28T12:54:37.187Z"
   },
   {
    "duration": 14,
    "start_time": "2024-10-28T12:54:52.669Z"
   },
   {
    "duration": 12,
    "start_time": "2024-10-28T12:55:28.824Z"
   },
   {
    "duration": 32,
    "start_time": "2024-10-28T12:58:48.774Z"
   },
   {
    "duration": 6,
    "start_time": "2024-10-28T12:59:30.682Z"
   },
   {
    "duration": 7,
    "start_time": "2024-10-28T12:59:57.771Z"
   },
   {
    "duration": 6,
    "start_time": "2024-10-28T13:00:01.841Z"
   },
   {
    "duration": 14,
    "start_time": "2024-10-28T13:00:02.319Z"
   },
   {
    "duration": 5,
    "start_time": "2024-10-28T13:00:02.917Z"
   },
   {
    "duration": 6,
    "start_time": "2024-10-28T13:00:08.154Z"
   },
   {
    "duration": 6,
    "start_time": "2024-10-28T13:03:24.341Z"
   },
   {
    "duration": 15,
    "start_time": "2024-10-28T13:04:26.256Z"
   },
   {
    "duration": 2,
    "start_time": "2024-10-28T13:04:28.466Z"
   },
   {
    "duration": 14,
    "start_time": "2024-10-28T13:04:50.452Z"
   },
   {
    "duration": 46,
    "start_time": "2024-10-28T13:04:51.193Z"
   },
   {
    "duration": 6,
    "start_time": "2024-10-28T13:04:53.002Z"
   },
   {
    "duration": 6,
    "start_time": "2024-10-28T13:04:53.803Z"
   },
   {
    "duration": 6,
    "start_time": "2024-10-28T13:05:42.439Z"
   },
   {
    "duration": 6,
    "start_time": "2024-10-28T13:05:42.724Z"
   },
   {
    "duration": 14,
    "start_time": "2024-10-28T13:05:43.735Z"
   },
   {
    "duration": 45,
    "start_time": "2024-10-28T13:05:44.039Z"
   },
   {
    "duration": 6,
    "start_time": "2024-10-28T13:05:45.217Z"
   },
   {
    "duration": 8,
    "start_time": "2024-10-28T13:05:46.311Z"
   },
   {
    "duration": 81,
    "start_time": "2024-10-28T13:08:09.495Z"
   },
   {
    "duration": 2,
    "start_time": "2024-10-28T13:09:19.287Z"
   },
   {
    "duration": 7,
    "start_time": "2024-10-28T13:09:34.527Z"
   },
   {
    "duration": 4,
    "start_time": "2024-10-28T13:09:53.966Z"
   },
   {
    "duration": 26,
    "start_time": "2024-10-28T13:12:10.913Z"
   },
   {
    "duration": 18,
    "start_time": "2024-10-28T13:12:51.160Z"
   },
   {
    "duration": 12,
    "start_time": "2024-10-28T13:12:54.191Z"
   },
   {
    "duration": 4,
    "start_time": "2024-10-28T13:12:59.261Z"
   },
   {
    "duration": 12,
    "start_time": "2024-10-28T13:13:29.496Z"
   },
   {
    "duration": 3,
    "start_time": "2024-10-28T13:13:39.150Z"
   },
   {
    "duration": 4,
    "start_time": "2024-10-28T13:13:39.712Z"
   },
   {
    "duration": 4,
    "start_time": "2024-10-28T13:15:38.477Z"
   },
   {
    "duration": 5,
    "start_time": "2024-10-28T13:16:28.923Z"
   },
   {
    "duration": 10,
    "start_time": "2024-10-28T13:18:37.219Z"
   },
   {
    "duration": 892,
    "start_time": "2024-10-28T14:55:09.417Z"
   },
   {
    "duration": 110,
    "start_time": "2024-10-28T14:55:10.311Z"
   },
   {
    "duration": 33,
    "start_time": "2024-10-28T14:55:10.423Z"
   },
   {
    "duration": 4,
    "start_time": "2024-10-28T14:55:10.460Z"
   },
   {
    "duration": 12,
    "start_time": "2024-10-28T14:55:10.465Z"
   },
   {
    "duration": 4,
    "start_time": "2024-10-28T14:55:10.478Z"
   },
   {
    "duration": 7,
    "start_time": "2024-10-28T14:55:10.484Z"
   },
   {
    "duration": 8,
    "start_time": "2024-10-28T14:55:10.493Z"
   },
   {
    "duration": 8,
    "start_time": "2024-10-28T14:55:10.531Z"
   },
   {
    "duration": 4,
    "start_time": "2024-10-28T14:55:10.543Z"
   },
   {
    "duration": 6,
    "start_time": "2024-10-28T14:55:10.548Z"
   },
   {
    "duration": 12,
    "start_time": "2024-10-28T14:55:10.556Z"
   },
   {
    "duration": 10,
    "start_time": "2024-10-28T14:55:10.569Z"
   },
   {
    "duration": 9,
    "start_time": "2024-10-28T14:55:10.581Z"
   },
   {
    "duration": 58,
    "start_time": "2024-10-28T14:55:10.591Z"
   },
   {
    "duration": 13,
    "start_time": "2024-10-28T14:55:10.652Z"
   },
   {
    "duration": 6,
    "start_time": "2024-10-28T14:55:10.667Z"
   },
   {
    "duration": 9,
    "start_time": "2024-10-28T14:55:10.675Z"
   },
   {
    "duration": 7,
    "start_time": "2024-10-28T14:55:10.686Z"
   },
   {
    "duration": 37,
    "start_time": "2024-10-28T14:55:10.695Z"
   },
   {
    "duration": 7,
    "start_time": "2024-10-28T14:55:10.734Z"
   },
   {
    "duration": 4,
    "start_time": "2024-10-28T14:55:10.743Z"
   },
   {
    "duration": 8,
    "start_time": "2024-10-28T14:55:10.748Z"
   },
   {
    "duration": 13,
    "start_time": "2024-10-28T14:55:10.757Z"
   },
   {
    "duration": 74,
    "start_time": "2024-10-28T14:55:10.772Z"
   },
   {
    "duration": 5,
    "start_time": "2024-10-28T14:55:10.848Z"
   },
   {
    "duration": 17,
    "start_time": "2024-10-28T14:55:10.854Z"
   },
   {
    "duration": 11,
    "start_time": "2024-10-28T14:55:10.876Z"
   },
   {
    "duration": 6,
    "start_time": "2024-10-28T14:55:10.889Z"
   },
   {
    "duration": 6,
    "start_time": "2024-10-28T14:55:10.896Z"
   },
   {
    "duration": 6,
    "start_time": "2024-10-28T14:55:10.931Z"
   },
   {
    "duration": 5,
    "start_time": "2024-10-28T14:56:50.512Z"
   },
   {
    "duration": 6,
    "start_time": "2024-10-28T14:56:51.510Z"
   },
   {
    "duration": 5,
    "start_time": "2024-10-28T14:56:52.545Z"
   },
   {
    "duration": 10,
    "start_time": "2024-10-28T15:01:42.889Z"
   },
   {
    "duration": 9,
    "start_time": "2024-10-28T15:03:02.790Z"
   },
   {
    "duration": 10,
    "start_time": "2024-10-28T15:03:04.057Z"
   },
   {
    "duration": 8,
    "start_time": "2024-10-28T15:03:05.091Z"
   },
   {
    "duration": 11,
    "start_time": "2024-10-28T15:24:49.795Z"
   },
   {
    "duration": 78,
    "start_time": "2024-10-28T15:25:14.155Z"
   },
   {
    "duration": 4,
    "start_time": "2024-10-28T15:26:00.617Z"
   },
   {
    "duration": 4,
    "start_time": "2024-10-28T15:28:27.278Z"
   },
   {
    "duration": 4,
    "start_time": "2024-10-28T15:28:32.700Z"
   },
   {
    "duration": 3,
    "start_time": "2024-10-28T15:28:58.202Z"
   },
   {
    "duration": 4,
    "start_time": "2024-10-28T15:29:05.678Z"
   },
   {
    "duration": 9,
    "start_time": "2024-10-28T15:34:13.844Z"
   },
   {
    "duration": 5,
    "start_time": "2024-10-28T15:34:36.737Z"
   },
   {
    "duration": 3,
    "start_time": "2024-10-28T15:35:26.679Z"
   },
   {
    "duration": 6,
    "start_time": "2024-10-28T15:35:27.530Z"
   },
   {
    "duration": 4,
    "start_time": "2024-10-28T15:35:28.833Z"
   },
   {
    "duration": 3,
    "start_time": "2024-10-28T15:35:35.117Z"
   },
   {
    "duration": 5,
    "start_time": "2024-10-28T15:35:35.932Z"
   },
   {
    "duration": 5,
    "start_time": "2024-10-28T15:35:37.670Z"
   },
   {
    "duration": 4,
    "start_time": "2024-10-28T15:36:56.006Z"
   },
   {
    "duration": 4,
    "start_time": "2024-10-28T15:37:53.251Z"
   },
   {
    "duration": 4,
    "start_time": "2024-10-28T15:37:55.673Z"
   },
   {
    "duration": 9,
    "start_time": "2024-10-28T15:39:00.446Z"
   },
   {
    "duration": 12,
    "start_time": "2024-10-28T15:39:08.822Z"
   },
   {
    "duration": 3,
    "start_time": "2024-10-28T15:39:31.147Z"
   },
   {
    "duration": 18,
    "start_time": "2024-10-28T15:39:59.408Z"
   },
   {
    "duration": 5,
    "start_time": "2024-10-28T15:40:43.894Z"
   },
   {
    "duration": 14,
    "start_time": "2024-10-28T15:41:58.094Z"
   },
   {
    "duration": 9,
    "start_time": "2024-10-28T15:42:22.646Z"
   },
   {
    "duration": 972,
    "start_time": "2024-10-28T15:42:33.348Z"
   },
   {
    "duration": 104,
    "start_time": "2024-10-28T15:42:34.323Z"
   },
   {
    "duration": 10,
    "start_time": "2024-10-28T15:42:34.429Z"
   },
   {
    "duration": 9,
    "start_time": "2024-10-28T15:42:34.442Z"
   },
   {
    "duration": 16,
    "start_time": "2024-10-28T15:42:34.453Z"
   },
   {
    "duration": 8,
    "start_time": "2024-10-28T15:42:34.471Z"
   },
   {
    "duration": 5,
    "start_time": "2024-10-28T15:42:34.480Z"
   },
   {
    "duration": 11,
    "start_time": "2024-10-28T15:42:34.486Z"
   },
   {
    "duration": 4,
    "start_time": "2024-10-28T15:42:34.531Z"
   },
   {
    "duration": 7,
    "start_time": "2024-10-28T15:42:34.538Z"
   },
   {
    "duration": 8,
    "start_time": "2024-10-28T15:42:34.547Z"
   },
   {
    "duration": 7,
    "start_time": "2024-10-28T15:42:34.557Z"
   },
   {
    "duration": 4,
    "start_time": "2024-10-28T15:42:34.566Z"
   },
   {
    "duration": 6,
    "start_time": "2024-10-28T15:42:34.571Z"
   },
   {
    "duration": 11,
    "start_time": "2024-10-28T15:42:34.579Z"
   },
   {
    "duration": 48,
    "start_time": "2024-10-28T15:42:34.592Z"
   },
   {
    "duration": 9,
    "start_time": "2024-10-28T15:42:34.642Z"
   },
   {
    "duration": 20,
    "start_time": "2024-10-28T15:42:34.653Z"
   },
   {
    "duration": 12,
    "start_time": "2024-10-28T15:42:34.676Z"
   },
   {
    "duration": 6,
    "start_time": "2024-10-28T15:42:34.690Z"
   },
   {
    "duration": 9,
    "start_time": "2024-10-28T15:42:34.732Z"
   },
   {
    "duration": 7,
    "start_time": "2024-10-28T15:42:34.742Z"
   },
   {
    "duration": 6,
    "start_time": "2024-10-28T15:42:34.751Z"
   },
   {
    "duration": 6,
    "start_time": "2024-10-28T15:42:34.759Z"
   },
   {
    "duration": 5,
    "start_time": "2024-10-28T15:42:34.767Z"
   },
   {
    "duration": 15,
    "start_time": "2024-10-28T15:42:34.773Z"
   },
   {
    "duration": 82,
    "start_time": "2024-10-28T15:42:34.790Z"
   },
   {
    "duration": 4,
    "start_time": "2024-10-28T15:42:34.876Z"
   },
   {
    "duration": 19,
    "start_time": "2024-10-28T15:42:34.881Z"
   },
   {
    "duration": 29,
    "start_time": "2024-10-28T15:42:34.902Z"
   },
   {
    "duration": 4,
    "start_time": "2024-10-28T15:42:34.933Z"
   },
   {
    "duration": 5,
    "start_time": "2024-10-28T15:42:34.939Z"
   },
   {
    "duration": 5,
    "start_time": "2024-10-28T15:42:34.946Z"
   },
   {
    "duration": 4,
    "start_time": "2024-10-28T15:42:34.953Z"
   },
   {
    "duration": 2,
    "start_time": "2024-10-28T15:42:34.959Z"
   },
   {
    "duration": 9,
    "start_time": "2024-10-28T15:42:34.963Z"
   },
   {
    "duration": 4,
    "start_time": "2024-10-28T15:42:34.973Z"
   },
   {
    "duration": 2,
    "start_time": "2024-10-28T15:42:34.979Z"
   },
   {
    "duration": 4,
    "start_time": "2024-10-28T15:42:35.030Z"
   },
   {
    "duration": 4,
    "start_time": "2024-10-28T15:42:35.037Z"
   },
   {
    "duration": 4,
    "start_time": "2024-10-28T15:42:35.043Z"
   },
   {
    "duration": 5,
    "start_time": "2024-10-28T15:42:35.049Z"
   },
   {
    "duration": 12,
    "start_time": "2024-10-28T16:27:22.889Z"
   },
   {
    "duration": 288,
    "start_time": "2024-10-28T16:30:44.474Z"
   },
   {
    "duration": 15,
    "start_time": "2024-10-28T16:30:57.893Z"
   },
   {
    "duration": 8,
    "start_time": "2024-10-28T16:32:05.537Z"
   },
   {
    "duration": 4,
    "start_time": "2024-10-28T16:34:58.900Z"
   },
   {
    "duration": 5,
    "start_time": "2024-10-28T16:35:15.370Z"
   },
   {
    "duration": 9,
    "start_time": "2024-10-28T16:35:26.734Z"
   },
   {
    "duration": 3,
    "start_time": "2024-10-28T16:35:27.605Z"
   },
   {
    "duration": 6,
    "start_time": "2024-10-28T16:35:28.924Z"
   },
   {
    "duration": 6,
    "start_time": "2024-10-28T16:36:02.812Z"
   },
   {
    "duration": 9,
    "start_time": "2024-10-28T16:36:37.199Z"
   },
   {
    "duration": 6,
    "start_time": "2024-10-28T16:38:17.971Z"
   },
   {
    "duration": 5,
    "start_time": "2024-10-28T16:38:36.099Z"
   },
   {
    "duration": 6,
    "start_time": "2024-10-28T16:40:00.626Z"
   },
   {
    "duration": 5,
    "start_time": "2024-10-28T16:40:09.370Z"
   },
   {
    "duration": 481,
    "start_time": "2024-10-28T16:43:33.658Z"
   },
   {
    "duration": 3,
    "start_time": "2024-10-28T16:44:02.661Z"
   },
   {
    "duration": 6,
    "start_time": "2024-10-28T16:44:05.898Z"
   },
   {
    "duration": 4,
    "start_time": "2024-10-28T16:44:06.409Z"
   },
   {
    "duration": 14,
    "start_time": "2024-10-28T16:44:07.061Z"
   },
   {
    "duration": 55,
    "start_time": "2024-10-28T16:44:08.448Z"
   },
   {
    "duration": 5,
    "start_time": "2024-10-28T16:45:27.609Z"
   },
   {
    "duration": 4,
    "start_time": "2024-10-28T16:45:47.704Z"
   },
   {
    "duration": 8,
    "start_time": "2024-10-28T16:45:49.152Z"
   },
   {
    "duration": 4,
    "start_time": "2024-10-28T16:45:50.199Z"
   },
   {
    "duration": 7,
    "start_time": "2024-10-28T16:45:50.682Z"
   },
   {
    "duration": 6,
    "start_time": "2024-10-28T16:45:51.236Z"
   },
   {
    "duration": 7,
    "start_time": "2024-10-28T16:45:51.631Z"
   },
   {
    "duration": 4,
    "start_time": "2024-10-28T16:45:51.916Z"
   },
   {
    "duration": 6,
    "start_time": "2024-10-28T16:45:52.396Z"
   },
   {
    "duration": 9,
    "start_time": "2024-10-28T16:45:52.892Z"
   },
   {
    "duration": 67,
    "start_time": "2024-10-28T16:46:01.030Z"
   },
   {
    "duration": 3,
    "start_time": "2024-10-28T16:46:09.943Z"
   },
   {
    "duration": 182,
    "start_time": "2024-10-28T16:46:39.645Z"
   },
   {
    "duration": 6,
    "start_time": "2024-10-28T16:48:33.312Z"
   },
   {
    "duration": 958,
    "start_time": "2024-10-28T16:48:44.847Z"
   },
   {
    "duration": 107,
    "start_time": "2024-10-28T16:48:45.808Z"
   },
   {
    "duration": 16,
    "start_time": "2024-10-28T16:48:45.917Z"
   },
   {
    "duration": 10,
    "start_time": "2024-10-28T16:48:45.934Z"
   },
   {
    "duration": 21,
    "start_time": "2024-10-28T16:48:45.947Z"
   },
   {
    "duration": 8,
    "start_time": "2024-10-28T16:48:45.970Z"
   },
   {
    "duration": 4,
    "start_time": "2024-10-28T16:48:45.980Z"
   },
   {
    "duration": 12,
    "start_time": "2024-10-28T16:48:45.986Z"
   },
   {
    "duration": 33,
    "start_time": "2024-10-28T16:48:46.000Z"
   },
   {
    "duration": 7,
    "start_time": "2024-10-28T16:48:46.036Z"
   },
   {
    "duration": 7,
    "start_time": "2024-10-28T16:48:46.045Z"
   },
   {
    "duration": 7,
    "start_time": "2024-10-28T16:48:46.054Z"
   },
   {
    "duration": 3,
    "start_time": "2024-10-28T16:48:46.065Z"
   },
   {
    "duration": 5,
    "start_time": "2024-10-28T16:48:46.073Z"
   },
   {
    "duration": 11,
    "start_time": "2024-10-28T16:48:46.080Z"
   },
   {
    "duration": 12,
    "start_time": "2024-10-28T16:48:46.131Z"
   },
   {
    "duration": 11,
    "start_time": "2024-10-28T16:48:46.144Z"
   },
   {
    "duration": 21,
    "start_time": "2024-10-28T16:48:46.159Z"
   },
   {
    "duration": 13,
    "start_time": "2024-10-28T16:48:46.182Z"
   },
   {
    "duration": 36,
    "start_time": "2024-10-28T16:48:46.196Z"
   },
   {
    "duration": 11,
    "start_time": "2024-10-28T16:48:46.234Z"
   },
   {
    "duration": 5,
    "start_time": "2024-10-28T16:48:46.247Z"
   },
   {
    "duration": 6,
    "start_time": "2024-10-28T16:48:46.254Z"
   },
   {
    "duration": 5,
    "start_time": "2024-10-28T16:48:46.263Z"
   },
   {
    "duration": 6,
    "start_time": "2024-10-28T16:48:46.270Z"
   },
   {
    "duration": 8,
    "start_time": "2024-10-28T16:48:46.278Z"
   },
   {
    "duration": 44,
    "start_time": "2024-10-28T16:48:46.288Z"
   },
   {
    "duration": 13,
    "start_time": "2024-10-28T16:48:46.334Z"
   },
   {
    "duration": 44,
    "start_time": "2024-10-28T16:48:46.349Z"
   },
   {
    "duration": 4,
    "start_time": "2024-10-28T16:48:46.395Z"
   },
   {
    "duration": 40,
    "start_time": "2024-10-28T16:48:46.401Z"
   },
   {
    "duration": 13,
    "start_time": "2024-10-28T16:48:46.443Z"
   },
   {
    "duration": 5,
    "start_time": "2024-10-28T16:48:46.457Z"
   },
   {
    "duration": 5,
    "start_time": "2024-10-28T16:48:46.464Z"
   },
   {
    "duration": 5,
    "start_time": "2024-10-28T16:48:46.470Z"
   },
   {
    "duration": 4,
    "start_time": "2024-10-28T16:48:46.477Z"
   },
   {
    "duration": 2,
    "start_time": "2024-10-28T16:48:46.483Z"
   },
   {
    "duration": 51,
    "start_time": "2024-10-28T16:48:46.487Z"
   },
   {
    "duration": 6,
    "start_time": "2024-10-28T16:48:46.540Z"
   },
   {
    "duration": 777,
    "start_time": "2024-10-28T16:48:46.548Z"
   },
   {
    "duration": 0,
    "start_time": "2024-10-28T16:48:47.333Z"
   },
   {
    "duration": 0,
    "start_time": "2024-10-28T16:48:47.334Z"
   },
   {
    "duration": 5,
    "start_time": "2024-10-28T16:49:00.588Z"
   },
   {
    "duration": 4,
    "start_time": "2024-10-28T16:49:58.757Z"
   },
   {
    "duration": 5,
    "start_time": "2024-10-28T16:50:18.162Z"
   },
   {
    "duration": 4,
    "start_time": "2024-10-28T16:50:19.210Z"
   },
   {
    "duration": 4,
    "start_time": "2024-10-28T16:50:32.017Z"
   },
   {
    "duration": 3,
    "start_time": "2024-10-28T16:50:38.486Z"
   },
   {
    "duration": 15,
    "start_time": "2024-10-28T16:50:40.001Z"
   },
   {
    "duration": 7,
    "start_time": "2024-10-28T16:50:40.536Z"
   },
   {
    "duration": 60,
    "start_time": "2024-10-28T16:50:41.614Z"
   },
   {
    "duration": 4,
    "start_time": "2024-10-28T16:51:18.882Z"
   },
   {
    "duration": 9,
    "start_time": "2024-10-28T16:51:22.372Z"
   },
   {
    "duration": 3,
    "start_time": "2024-10-28T16:51:23.839Z"
   },
   {
    "duration": 7,
    "start_time": "2024-10-28T16:51:24.378Z"
   },
   {
    "duration": 6,
    "start_time": "2024-10-28T16:51:24.922Z"
   },
   {
    "duration": 8,
    "start_time": "2024-10-28T16:51:25.344Z"
   },
   {
    "duration": 3,
    "start_time": "2024-10-28T16:51:25.901Z"
   },
   {
    "duration": 6,
    "start_time": "2024-10-28T16:51:27.075Z"
   },
   {
    "duration": 9,
    "start_time": "2024-10-28T16:51:28.779Z"
   },
   {
    "duration": 9,
    "start_time": "2024-10-28T16:51:28.790Z"
   },
   {
    "duration": 9,
    "start_time": "2024-10-28T16:51:28.800Z"
   },
   {
    "duration": 26,
    "start_time": "2024-10-28T16:51:28.811Z"
   },
   {
    "duration": 12,
    "start_time": "2024-10-28T16:51:28.840Z"
   },
   {
    "duration": 7,
    "start_time": "2024-10-28T16:51:29.838Z"
   },
   {
    "duration": 9,
    "start_time": "2024-10-28T16:51:30.037Z"
   },
   {
    "duration": 48,
    "start_time": "2024-10-28T16:51:30.402Z"
   },
   {
    "duration": 42,
    "start_time": "2024-10-28T16:51:30.739Z"
   },
   {
    "duration": 5,
    "start_time": "2024-10-28T16:51:31.256Z"
   },
   {
    "duration": 8,
    "start_time": "2024-10-28T16:51:32.586Z"
   },
   {
    "duration": 7,
    "start_time": "2024-10-28T16:51:33.066Z"
   },
   {
    "duration": 4,
    "start_time": "2024-10-28T16:51:34.462Z"
   },
   {
    "duration": 6,
    "start_time": "2024-10-28T16:51:34.982Z"
   },
   {
    "duration": 29,
    "start_time": "2024-10-28T16:51:35.592Z"
   },
   {
    "duration": 5,
    "start_time": "2024-10-28T16:51:36.399Z"
   },
   {
    "duration": 3,
    "start_time": "2024-10-28T16:51:58.654Z"
   },
   {
    "duration": 6,
    "start_time": "2024-10-28T16:52:24.544Z"
   },
   {
    "duration": 971,
    "start_time": "2024-10-28T16:52:37.556Z"
   },
   {
    "duration": 102,
    "start_time": "2024-10-28T16:52:38.529Z"
   },
   {
    "duration": 11,
    "start_time": "2024-10-28T16:52:38.633Z"
   },
   {
    "duration": 8,
    "start_time": "2024-10-28T16:52:38.646Z"
   },
   {
    "duration": 15,
    "start_time": "2024-10-28T16:52:38.658Z"
   },
   {
    "duration": 8,
    "start_time": "2024-10-28T16:52:38.674Z"
   },
   {
    "duration": 4,
    "start_time": "2024-10-28T16:52:38.684Z"
   },
   {
    "duration": 4,
    "start_time": "2024-10-28T16:52:38.689Z"
   },
   {
    "duration": 12,
    "start_time": "2024-10-28T16:52:38.731Z"
   },
   {
    "duration": 4,
    "start_time": "2024-10-28T16:52:38.744Z"
   },
   {
    "duration": 8,
    "start_time": "2024-10-28T16:52:38.750Z"
   },
   {
    "duration": 7,
    "start_time": "2024-10-28T16:52:38.759Z"
   },
   {
    "duration": 7,
    "start_time": "2024-10-28T16:52:38.767Z"
   },
   {
    "duration": 3,
    "start_time": "2024-10-28T16:52:38.779Z"
   },
   {
    "duration": 8,
    "start_time": "2024-10-28T16:52:38.784Z"
   },
   {
    "duration": 46,
    "start_time": "2024-10-28T16:52:38.793Z"
   },
   {
    "duration": 9,
    "start_time": "2024-10-28T16:52:38.841Z"
   },
   {
    "duration": 8,
    "start_time": "2024-10-28T16:52:38.852Z"
   },
   {
    "duration": 21,
    "start_time": "2024-10-28T16:52:38.862Z"
   },
   {
    "duration": 12,
    "start_time": "2024-10-28T16:52:38.885Z"
   },
   {
    "duration": 7,
    "start_time": "2024-10-28T16:52:38.931Z"
   },
   {
    "duration": 9,
    "start_time": "2024-10-28T16:52:38.940Z"
   },
   {
    "duration": 5,
    "start_time": "2024-10-28T16:52:38.950Z"
   },
   {
    "duration": 9,
    "start_time": "2024-10-28T16:52:38.956Z"
   },
   {
    "duration": 5,
    "start_time": "2024-10-28T16:52:38.967Z"
   },
   {
    "duration": 7,
    "start_time": "2024-10-28T16:52:38.973Z"
   },
   {
    "duration": 8,
    "start_time": "2024-10-28T16:52:38.981Z"
   },
   {
    "duration": 42,
    "start_time": "2024-10-28T16:52:38.991Z"
   },
   {
    "duration": 18,
    "start_time": "2024-10-28T16:52:39.035Z"
   },
   {
    "duration": 50,
    "start_time": "2024-10-28T16:52:39.055Z"
   },
   {
    "duration": 25,
    "start_time": "2024-10-28T16:52:39.107Z"
   },
   {
    "duration": 17,
    "start_time": "2024-10-28T16:52:39.134Z"
   },
   {
    "duration": 11,
    "start_time": "2024-10-28T16:52:39.153Z"
   },
   {
    "duration": 4,
    "start_time": "2024-10-28T16:52:39.166Z"
   },
   {
    "duration": 5,
    "start_time": "2024-10-28T16:52:39.172Z"
   },
   {
    "duration": 6,
    "start_time": "2024-10-28T16:52:39.179Z"
   },
   {
    "duration": 4,
    "start_time": "2024-10-28T16:52:39.187Z"
   },
   {
    "duration": 3,
    "start_time": "2024-10-28T16:52:39.232Z"
   },
   {
    "duration": 14,
    "start_time": "2024-10-28T16:52:39.238Z"
   },
   {
    "duration": 5,
    "start_time": "2024-10-28T16:52:39.254Z"
   },
   {
    "duration": 761,
    "start_time": "2024-10-28T16:52:39.263Z"
   },
   {
    "duration": 0,
    "start_time": "2024-10-28T16:52:40.031Z"
   },
   {
    "duration": 0,
    "start_time": "2024-10-28T16:52:40.032Z"
   },
   {
    "duration": 57,
    "start_time": "2024-10-28T16:52:48.951Z"
   },
   {
    "duration": 3,
    "start_time": "2024-10-28T16:54:18.334Z"
   },
   {
    "duration": 47,
    "start_time": "2024-10-28T16:54:18.880Z"
   },
   {
    "duration": 3,
    "start_time": "2024-10-28T16:54:41.920Z"
   },
   {
    "duration": 44,
    "start_time": "2024-10-28T16:56:23.934Z"
   },
   {
    "duration": 45,
    "start_time": "2024-10-28T16:56:28.300Z"
   },
   {
    "duration": 161,
    "start_time": "2024-10-28T16:56:49.219Z"
   },
   {
    "duration": 12,
    "start_time": "2024-10-28T16:56:50.880Z"
   },
   {
    "duration": 978,
    "start_time": "2024-10-28T16:56:59.533Z"
   },
   {
    "duration": 101,
    "start_time": "2024-10-28T16:57:00.718Z"
   },
   {
    "duration": 12,
    "start_time": "2024-10-28T16:57:03.369Z"
   },
   {
    "duration": 9,
    "start_time": "2024-10-28T16:57:04.273Z"
   },
   {
    "duration": 16,
    "start_time": "2024-10-28T16:57:05.526Z"
   },
   {
    "duration": 10,
    "start_time": "2024-10-28T16:57:06.311Z"
   },
   {
    "duration": 4,
    "start_time": "2024-10-28T16:57:07.891Z"
   },
   {
    "duration": 4,
    "start_time": "2024-10-28T16:57:09.415Z"
   },
   {
    "duration": 12,
    "start_time": "2024-10-28T16:57:12.583Z"
   },
   {
    "duration": 5,
    "start_time": "2024-10-28T16:57:13.554Z"
   },
   {
    "duration": 7,
    "start_time": "2024-10-28T16:57:14.458Z"
   },
   {
    "duration": 6,
    "start_time": "2024-10-28T16:57:15.342Z"
   },
   {
    "duration": 7,
    "start_time": "2024-10-28T16:57:15.476Z"
   },
   {
    "duration": 4,
    "start_time": "2024-10-28T16:57:16.353Z"
   },
   {
    "duration": 6,
    "start_time": "2024-10-28T16:57:17.190Z"
   },
   {
    "duration": 12,
    "start_time": "2024-10-28T16:57:18.140Z"
   },
   {
    "duration": 10,
    "start_time": "2024-10-28T16:57:19.027Z"
   },
   {
    "duration": 12,
    "start_time": "2024-10-28T16:57:19.764Z"
   },
   {
    "duration": 21,
    "start_time": "2024-10-28T16:57:20.792Z"
   },
   {
    "duration": 12,
    "start_time": "2024-10-28T16:57:21.444Z"
   },
   {
    "duration": 7,
    "start_time": "2024-10-28T16:57:24.230Z"
   },
   {
    "duration": 9,
    "start_time": "2024-10-28T16:57:25.301Z"
   },
   {
    "duration": 5,
    "start_time": "2024-10-28T16:57:25.885Z"
   },
   {
    "duration": 642,
    "start_time": "2024-10-28T16:57:26.648Z"
   },
   {
    "duration": 0,
    "start_time": "2024-10-28T16:57:27.292Z"
   },
   {
    "duration": 9,
    "start_time": "2024-10-28T16:57:45.255Z"
   },
   {
    "duration": 4,
    "start_time": "2024-10-28T16:58:08.586Z"
   },
   {
    "duration": 54,
    "start_time": "2024-10-28T16:58:12.110Z"
   },
   {
    "duration": 57,
    "start_time": "2024-10-28T16:58:34.381Z"
   },
   {
    "duration": 4,
    "start_time": "2024-10-28T16:59:14.858Z"
   },
   {
    "duration": 2,
    "start_time": "2024-10-28T16:59:35.078Z"
   },
   {
    "duration": 5,
    "start_time": "2024-10-28T16:59:35.992Z"
   },
   {
    "duration": 7,
    "start_time": "2024-10-28T16:59:37.541Z"
   },
   {
    "duration": 7,
    "start_time": "2024-10-28T16:59:38.363Z"
   },
   {
    "duration": 4,
    "start_time": "2024-10-28T16:59:39.027Z"
   },
   {
    "duration": 14,
    "start_time": "2024-10-28T16:59:40.434Z"
   },
   {
    "duration": 49,
    "start_time": "2024-10-28T16:59:41.260Z"
   },
   {
    "duration": 4,
    "start_time": "2024-10-28T16:59:41.889Z"
   },
   {
    "duration": 19,
    "start_time": "2024-10-28T16:59:42.922Z"
   },
   {
    "duration": 13,
    "start_time": "2024-10-28T16:59:43.759Z"
   },
   {
    "duration": 11,
    "start_time": "2024-10-28T16:59:52.473Z"
   },
   {
    "duration": 4,
    "start_time": "2024-10-28T16:59:53.457Z"
   },
   {
    "duration": 5,
    "start_time": "2024-10-28T16:59:54.069Z"
   },
   {
    "duration": 6,
    "start_time": "2024-10-28T16:59:56.597Z"
   },
   {
    "duration": 7,
    "start_time": "2024-10-28T16:59:57.528Z"
   },
   {
    "duration": 4,
    "start_time": "2024-10-28T16:59:58.314Z"
   },
   {
    "duration": 2,
    "start_time": "2024-10-28T17:00:04.442Z"
   },
   {
    "duration": 15,
    "start_time": "2024-10-28T17:00:06.228Z"
   },
   {
    "duration": 2,
    "start_time": "2024-10-28T17:00:18.118Z"
   },
   {
    "duration": 7,
    "start_time": "2024-10-28T17:00:18.710Z"
   },
   {
    "duration": 5,
    "start_time": "2024-10-28T17:00:38.933Z"
   },
   {
    "duration": 4,
    "start_time": "2024-10-28T17:00:48.944Z"
   },
   {
    "duration": 4,
    "start_time": "2024-10-28T17:01:13.552Z"
   },
   {
    "duration": 4,
    "start_time": "2024-10-28T17:01:14.811Z"
   },
   {
    "duration": 5,
    "start_time": "2024-10-28T17:01:17.820Z"
   },
   {
    "duration": 4,
    "start_time": "2024-10-28T17:01:18.703Z"
   },
   {
    "duration": 8,
    "start_time": "2024-10-28T17:01:19.676Z"
   },
   {
    "duration": 27,
    "start_time": "2024-10-28T17:01:29.312Z"
   },
   {
    "duration": 20,
    "start_time": "2024-10-28T17:01:34.393Z"
   },
   {
    "duration": 4,
    "start_time": "2024-10-28T17:01:37.689Z"
   },
   {
    "duration": 5,
    "start_time": "2024-10-28T17:01:40.411Z"
   },
   {
    "duration": 412,
    "start_time": "2024-10-28T17:01:40.992Z"
   },
   {
    "duration": 4,
    "start_time": "2024-10-28T17:01:48.554Z"
   },
   {
    "duration": 4,
    "start_time": "2024-10-28T17:01:56.842Z"
   },
   {
    "duration": 44,
    "start_time": "2024-10-28T17:01:58.705Z"
   },
   {
    "duration": 10,
    "start_time": "2024-10-28T17:02:23.857Z"
   },
   {
    "duration": 5,
    "start_time": "2024-10-28T17:03:25.315Z"
   },
   {
    "duration": 10,
    "start_time": "2024-10-28T17:03:51.490Z"
   },
   {
    "duration": 10,
    "start_time": "2024-10-28T17:03:57.931Z"
   },
   {
    "duration": 10,
    "start_time": "2024-10-28T17:04:18.960Z"
   },
   {
    "duration": 9,
    "start_time": "2024-10-28T17:04:27.786Z"
   },
   {
    "duration": 9,
    "start_time": "2024-10-28T17:04:36.951Z"
   },
   {
    "duration": 9,
    "start_time": "2024-10-28T17:04:38.407Z"
   },
   {
    "duration": 8,
    "start_time": "2024-10-28T17:04:39.457Z"
   },
   {
    "duration": 4,
    "start_time": "2024-10-28T17:04:41.858Z"
   },
   {
    "duration": 5,
    "start_time": "2024-10-28T17:04:42.928Z"
   },
   {
    "duration": 9,
    "start_time": "2024-10-28T17:04:46.377Z"
   },
   {
    "duration": 8,
    "start_time": "2024-10-28T17:05:04.514Z"
   },
   {
    "duration": 10,
    "start_time": "2024-10-28T17:05:07.274Z"
   },
   {
    "duration": 10,
    "start_time": "2024-10-28T17:10:04.735Z"
   },
   {
    "duration": 10,
    "start_time": "2024-10-28T17:10:11.787Z"
   },
   {
    "duration": 9,
    "start_time": "2024-10-28T17:10:12.365Z"
   },
   {
    "duration": 8,
    "start_time": "2024-10-28T17:10:12.842Z"
   },
   {
    "duration": 4,
    "start_time": "2024-10-28T17:10:13.777Z"
   },
   {
    "duration": 11,
    "start_time": "2024-10-28T17:10:14.830Z"
   },
   {
    "duration": 9,
    "start_time": "2024-10-28T17:10:19.317Z"
   },
   {
    "duration": 13,
    "start_time": "2024-10-28T17:10:29.064Z"
   },
   {
    "duration": 3,
    "start_time": "2024-10-28T17:10:32.474Z"
   },
   {
    "duration": 4,
    "start_time": "2024-10-28T17:10:45.405Z"
   },
   {
    "duration": 4,
    "start_time": "2024-10-28T17:10:46.626Z"
   },
   {
    "duration": 10,
    "start_time": "2024-10-28T17:10:56.348Z"
   },
   {
    "duration": 4,
    "start_time": "2024-10-28T17:11:04.430Z"
   },
   {
    "duration": 4,
    "start_time": "2024-10-28T17:11:09.336Z"
   },
   {
    "duration": 10,
    "start_time": "2024-10-28T17:12:43.907Z"
   },
   {
    "duration": 12,
    "start_time": "2024-10-28T17:13:13.197Z"
   },
   {
    "duration": 11,
    "start_time": "2024-10-28T17:13:14.857Z"
   },
   {
    "duration": 8,
    "start_time": "2024-10-28T17:13:32.860Z"
   },
   {
    "duration": 14,
    "start_time": "2024-10-28T17:13:37.377Z"
   },
   {
    "duration": 4,
    "start_time": "2024-10-28T17:13:39.871Z"
   },
   {
    "duration": 3,
    "start_time": "2024-10-28T17:13:40.916Z"
   },
   {
    "duration": 10,
    "start_time": "2024-10-28T17:13:41.629Z"
   },
   {
    "duration": 4,
    "start_time": "2024-10-28T17:13:43.473Z"
   },
   {
    "duration": 8,
    "start_time": "2024-10-28T17:13:44.742Z"
   },
   {
    "duration": 6,
    "start_time": "2024-10-28T17:13:46.946Z"
   },
   {
    "duration": 7,
    "start_time": "2024-10-28T17:13:48.298Z"
   },
   {
    "duration": 3,
    "start_time": "2024-10-28T17:13:49.474Z"
   },
   {
    "duration": 6,
    "start_time": "2024-10-28T17:13:51.907Z"
   },
   {
    "duration": 26,
    "start_time": "2024-10-28T17:13:52.980Z"
   },
   {
    "duration": 27,
    "start_time": "2024-10-28T17:13:55.769Z"
   },
   {
    "duration": 12,
    "start_time": "2024-10-28T17:13:57.726Z"
   },
   {
    "duration": 27,
    "start_time": "2024-10-28T17:13:59.730Z"
   },
   {
    "duration": 12,
    "start_time": "2024-10-28T17:14:01.789Z"
   },
   {
    "duration": 7,
    "start_time": "2024-10-28T17:14:12.007Z"
   },
   {
    "duration": 4,
    "start_time": "2024-10-28T17:14:35.126Z"
   },
   {
    "duration": 4,
    "start_time": "2024-10-28T17:14:36.068Z"
   },
   {
    "duration": 9,
    "start_time": "2024-10-28T17:14:37.909Z"
   },
   {
    "duration": 6,
    "start_time": "2024-10-28T17:14:46.545Z"
   },
   {
    "duration": 6,
    "start_time": "2024-10-28T17:14:53.557Z"
   },
   {
    "duration": 44,
    "start_time": "2024-10-28T17:23:38.795Z"
   },
   {
    "duration": 4,
    "start_time": "2024-10-28T17:24:06.958Z"
   },
   {
    "duration": 6,
    "start_time": "2024-10-28T17:24:45.132Z"
   },
   {
    "duration": 10,
    "start_time": "2024-10-28T17:25:29.482Z"
   },
   {
    "duration": 4,
    "start_time": "2024-10-28T17:26:30.506Z"
   },
   {
    "duration": 10,
    "start_time": "2024-10-28T17:26:31.254Z"
   },
   {
    "duration": 4,
    "start_time": "2024-10-28T17:26:44.041Z"
   },
   {
    "duration": 2697,
    "start_time": "2024-10-29T08:49:05.658Z"
   },
   {
    "duration": 150,
    "start_time": "2024-10-29T08:49:08.358Z"
   },
   {
    "duration": 10,
    "start_time": "2024-10-29T08:49:08.510Z"
   },
   {
    "duration": 8,
    "start_time": "2024-10-29T08:49:08.522Z"
   },
   {
    "duration": 24,
    "start_time": "2024-10-29T08:49:08.533Z"
   },
   {
    "duration": 8,
    "start_time": "2024-10-29T08:49:08.558Z"
   },
   {
    "duration": 6,
    "start_time": "2024-10-29T08:49:08.567Z"
   },
   {
    "duration": 4,
    "start_time": "2024-10-29T08:49:08.575Z"
   },
   {
    "duration": 11,
    "start_time": "2024-10-29T08:49:08.581Z"
   },
   {
    "duration": 4,
    "start_time": "2024-10-29T08:49:08.593Z"
   },
   {
    "duration": 44,
    "start_time": "2024-10-29T08:49:08.598Z"
   },
   {
    "duration": 7,
    "start_time": "2024-10-29T08:49:08.644Z"
   },
   {
    "duration": 7,
    "start_time": "2024-10-29T08:49:08.653Z"
   },
   {
    "duration": 3,
    "start_time": "2024-10-29T08:49:08.664Z"
   },
   {
    "duration": 9,
    "start_time": "2024-10-29T08:49:08.669Z"
   },
   {
    "duration": 11,
    "start_time": "2024-10-29T08:49:08.679Z"
   },
   {
    "duration": 9,
    "start_time": "2024-10-29T08:49:08.692Z"
   },
   {
    "duration": 40,
    "start_time": "2024-10-29T08:49:08.704Z"
   },
   {
    "duration": 21,
    "start_time": "2024-10-29T08:49:08.746Z"
   },
   {
    "duration": 13,
    "start_time": "2024-10-29T08:49:08.769Z"
   },
   {
    "duration": 6,
    "start_time": "2024-10-29T08:49:08.783Z"
   },
   {
    "duration": 8,
    "start_time": "2024-10-29T08:49:08.791Z"
   },
   {
    "duration": 4,
    "start_time": "2024-10-29T08:49:08.801Z"
   },
   {
    "duration": 40,
    "start_time": "2024-10-29T08:49:08.807Z"
   },
   {
    "duration": 2,
    "start_time": "2024-10-29T08:49:08.848Z"
   },
   {
    "duration": 5,
    "start_time": "2024-10-29T08:49:08.852Z"
   },
   {
    "duration": 6,
    "start_time": "2024-10-29T08:49:08.858Z"
   },
   {
    "duration": 6,
    "start_time": "2024-10-29T08:49:08.866Z"
   },
   {
    "duration": 4,
    "start_time": "2024-10-29T08:49:08.874Z"
   },
   {
    "duration": 13,
    "start_time": "2024-10-29T08:49:08.880Z"
   },
   {
    "duration": 83,
    "start_time": "2024-10-29T08:49:08.896Z"
   },
   {
    "duration": 4,
    "start_time": "2024-10-29T08:49:08.981Z"
   },
   {
    "duration": 17,
    "start_time": "2024-10-29T08:49:08.987Z"
   },
   {
    "duration": 12,
    "start_time": "2024-10-29T08:49:09.006Z"
   },
   {
    "duration": 5,
    "start_time": "2024-10-29T08:49:09.043Z"
   },
   {
    "duration": 6,
    "start_time": "2024-10-29T08:49:09.050Z"
   },
   {
    "duration": 5,
    "start_time": "2024-10-29T08:49:09.058Z"
   },
   {
    "duration": 5,
    "start_time": "2024-10-29T08:49:09.065Z"
   },
   {
    "duration": 2,
    "start_time": "2024-10-29T08:49:09.072Z"
   },
   {
    "duration": 3,
    "start_time": "2024-10-29T08:49:09.075Z"
   },
   {
    "duration": 4,
    "start_time": "2024-10-29T08:49:09.083Z"
   },
   {
    "duration": 66,
    "start_time": "2024-10-29T08:49:09.088Z"
   },
   {
    "duration": 591,
    "start_time": "2024-10-29T08:49:09.156Z"
   },
   {
    "duration": 0,
    "start_time": "2024-10-29T08:49:09.749Z"
   },
   {
    "duration": 0,
    "start_time": "2024-10-29T08:49:09.750Z"
   },
   {
    "duration": 11,
    "start_time": "2024-10-29T08:51:58.967Z"
   },
   {
    "duration": 10,
    "start_time": "2024-10-29T08:52:04.227Z"
   },
   {
    "duration": 10,
    "start_time": "2024-10-29T08:52:06.308Z"
   },
   {
    "duration": 9,
    "start_time": "2024-10-29T08:52:07.346Z"
   },
   {
    "duration": 8,
    "start_time": "2024-10-29T08:52:08.306Z"
   },
   {
    "duration": 4,
    "start_time": "2024-10-29T08:52:11.023Z"
   },
   {
    "duration": 4,
    "start_time": "2024-10-29T08:52:13.772Z"
   },
   {
    "duration": 9,
    "start_time": "2024-10-29T08:52:16.276Z"
   },
   {
    "duration": 10,
    "start_time": "2024-10-29T08:53:15.892Z"
   },
   {
    "duration": 4,
    "start_time": "2024-10-29T08:54:44.782Z"
   },
   {
    "duration": 4,
    "start_time": "2024-10-29T08:54:45.888Z"
   },
   {
    "duration": 10,
    "start_time": "2024-10-29T08:54:48.209Z"
   },
   {
    "duration": 8,
    "start_time": "2024-10-29T08:54:54.937Z"
   },
   {
    "duration": 4,
    "start_time": "2024-10-29T08:57:29.095Z"
   },
   {
    "duration": 2,
    "start_time": "2024-10-29T08:57:30.893Z"
   },
   {
    "duration": 44,
    "start_time": "2024-10-29T08:57:31.908Z"
   },
   {
    "duration": 9,
    "start_time": "2024-10-29T08:58:02.272Z"
   },
   {
    "duration": 4,
    "start_time": "2024-10-29T08:58:43.772Z"
   },
   {
    "duration": 4,
    "start_time": "2024-10-29T08:58:44.784Z"
   },
   {
    "duration": 9,
    "start_time": "2024-10-29T08:58:45.448Z"
   },
   {
    "duration": 4,
    "start_time": "2024-10-29T08:58:55.067Z"
   },
   {
    "duration": 9,
    "start_time": "2024-10-29T08:58:56.877Z"
   },
   {
    "duration": 3,
    "start_time": "2024-10-29T08:58:59.480Z"
   },
   {
    "duration": 4,
    "start_time": "2024-10-29T09:00:14.508Z"
   },
   {
    "duration": 4,
    "start_time": "2024-10-29T09:00:16.036Z"
   },
   {
    "duration": 4,
    "start_time": "2024-10-29T09:01:43.687Z"
   },
   {
    "duration": 4,
    "start_time": "2024-10-29T09:01:44.621Z"
   },
   {
    "duration": 5,
    "start_time": "2024-10-29T09:02:02.969Z"
   },
   {
    "duration": 4,
    "start_time": "2024-10-29T09:02:04.057Z"
   },
   {
    "duration": 8,
    "start_time": "2024-10-29T09:02:07.636Z"
   },
   {
    "duration": 10,
    "start_time": "2024-10-29T09:02:20.723Z"
   },
   {
    "duration": 115,
    "start_time": "2024-10-29T09:02:29.139Z"
   },
   {
    "duration": 10,
    "start_time": "2024-10-29T09:02:30.786Z"
   },
   {
    "duration": 3,
    "start_time": "2024-10-29T09:02:37.515Z"
   },
   {
    "duration": 4,
    "start_time": "2024-10-29T09:02:38.620Z"
   },
   {
    "duration": 9,
    "start_time": "2024-10-29T09:02:41.694Z"
   },
   {
    "duration": 3,
    "start_time": "2024-10-29T09:03:19.003Z"
   },
   {
    "duration": 8,
    "start_time": "2024-10-29T09:03:20.392Z"
   },
   {
    "duration": 3,
    "start_time": "2024-10-29T09:03:35.270Z"
   },
   {
    "duration": 43,
    "start_time": "2024-10-29T09:03:35.973Z"
   },
   {
    "duration": 44,
    "start_time": "2024-10-29T09:03:49.989Z"
   },
   {
    "duration": 3,
    "start_time": "2024-10-29T09:03:54.255Z"
   },
   {
    "duration": 46,
    "start_time": "2024-10-29T09:03:54.885Z"
   },
   {
    "duration": 87,
    "start_time": "2024-10-29T09:05:25.577Z"
   },
   {
    "duration": 3,
    "start_time": "2024-10-29T09:05:40.451Z"
   },
   {
    "duration": 3,
    "start_time": "2024-10-29T09:05:45.647Z"
   },
   {
    "duration": 44,
    "start_time": "2024-10-29T09:05:47.713Z"
   },
   {
    "duration": 3,
    "start_time": "2024-10-29T09:05:57.364Z"
   },
   {
    "duration": 46,
    "start_time": "2024-10-29T09:05:58.234Z"
   },
   {
    "duration": 3,
    "start_time": "2024-10-29T09:06:42.271Z"
   },
   {
    "duration": 2,
    "start_time": "2024-10-29T09:06:42.934Z"
   },
   {
    "duration": 46,
    "start_time": "2024-10-29T09:06:43.641Z"
   },
   {
    "duration": 33,
    "start_time": "2024-10-29T09:06:54.321Z"
   },
   {
    "duration": 46,
    "start_time": "2024-10-29T09:11:35.040Z"
   },
   {
    "duration": 6,
    "start_time": "2024-10-29T09:12:52.338Z"
   },
   {
    "duration": 11,
    "start_time": "2024-10-29T09:13:27.788Z"
   },
   {
    "duration": 12,
    "start_time": "2024-10-29T09:14:14.779Z"
   },
   {
    "duration": 16,
    "start_time": "2024-10-29T09:14:20.178Z"
   },
   {
    "duration": 13,
    "start_time": "2024-10-29T09:14:29.130Z"
   },
   {
    "duration": 3,
    "start_time": "2024-10-29T09:14:47.857Z"
   },
   {
    "duration": 42,
    "start_time": "2024-10-29T09:14:48.516Z"
   },
   {
    "duration": 3,
    "start_time": "2024-10-29T09:19:07.885Z"
   },
   {
    "duration": 41,
    "start_time": "2024-10-29T09:19:08.674Z"
   },
   {
    "duration": 42,
    "start_time": "2024-10-29T09:21:08.399Z"
   },
   {
    "duration": 20,
    "start_time": "2024-10-29T09:22:37.644Z"
   },
   {
    "duration": 12,
    "start_time": "2024-10-29T09:23:01.131Z"
   },
   {
    "duration": 13,
    "start_time": "2024-10-29T09:23:05.455Z"
   },
   {
    "duration": 10,
    "start_time": "2024-10-29T09:23:21.951Z"
   },
   {
    "duration": 10,
    "start_time": "2024-10-29T09:23:24.064Z"
   },
   {
    "duration": 17,
    "start_time": "2024-10-29T09:23:27.892Z"
   },
   {
    "duration": 890,
    "start_time": "2024-10-29T09:24:52.222Z"
   },
   {
    "duration": 105,
    "start_time": "2024-10-29T09:24:53.114Z"
   },
   {
    "duration": 11,
    "start_time": "2024-10-29T09:24:53.220Z"
   },
   {
    "duration": 14,
    "start_time": "2024-10-29T09:24:53.233Z"
   },
   {
    "duration": 16,
    "start_time": "2024-10-29T09:24:53.249Z"
   },
   {
    "duration": 7,
    "start_time": "2024-10-29T09:24:53.267Z"
   },
   {
    "duration": 4,
    "start_time": "2024-10-29T09:24:53.276Z"
   },
   {
    "duration": 5,
    "start_time": "2024-10-29T09:24:53.281Z"
   },
   {
    "duration": 10,
    "start_time": "2024-10-29T09:24:53.287Z"
   },
   {
    "duration": 10,
    "start_time": "2024-10-29T09:24:53.300Z"
   },
   {
    "duration": 36,
    "start_time": "2024-10-29T09:24:53.311Z"
   },
   {
    "duration": 7,
    "start_time": "2024-10-29T09:24:53.350Z"
   },
   {
    "duration": 7,
    "start_time": "2024-10-29T09:24:53.358Z"
   },
   {
    "duration": 3,
    "start_time": "2024-10-29T09:24:53.367Z"
   },
   {
    "duration": 7,
    "start_time": "2024-10-29T09:24:53.371Z"
   },
   {
    "duration": 11,
    "start_time": "2024-10-29T09:24:53.379Z"
   },
   {
    "duration": 8,
    "start_time": "2024-10-29T09:24:53.392Z"
   },
   {
    "duration": 49,
    "start_time": "2024-10-29T09:24:53.401Z"
   },
   {
    "duration": 20,
    "start_time": "2024-10-29T09:24:53.451Z"
   },
   {
    "duration": 11,
    "start_time": "2024-10-29T09:24:53.473Z"
   },
   {
    "duration": 6,
    "start_time": "2024-10-29T09:24:53.486Z"
   },
   {
    "duration": 8,
    "start_time": "2024-10-29T09:24:53.493Z"
   },
   {
    "duration": 5,
    "start_time": "2024-10-29T09:24:53.503Z"
   },
   {
    "duration": 35,
    "start_time": "2024-10-29T09:24:53.509Z"
   },
   {
    "duration": 6,
    "start_time": "2024-10-29T09:24:53.546Z"
   },
   {
    "duration": 7,
    "start_time": "2024-10-29T09:24:53.554Z"
   },
   {
    "duration": 6,
    "start_time": "2024-10-29T09:24:53.563Z"
   },
   {
    "duration": 4,
    "start_time": "2024-10-29T09:24:53.573Z"
   },
   {
    "duration": 13,
    "start_time": "2024-10-29T09:24:53.579Z"
   },
   {
    "duration": 86,
    "start_time": "2024-10-29T09:24:53.593Z"
   },
   {
    "duration": 4,
    "start_time": "2024-10-29T09:24:53.681Z"
   },
   {
    "duration": 17,
    "start_time": "2024-10-29T09:24:53.686Z"
   },
   {
    "duration": 11,
    "start_time": "2024-10-29T09:24:53.705Z"
   },
   {
    "duration": 26,
    "start_time": "2024-10-29T09:24:53.718Z"
   },
   {
    "duration": 6,
    "start_time": "2024-10-29T09:24:53.746Z"
   },
   {
    "duration": 5,
    "start_time": "2024-10-29T09:24:53.754Z"
   },
   {
    "duration": 4,
    "start_time": "2024-10-29T09:24:53.761Z"
   },
   {
    "duration": 2,
    "start_time": "2024-10-29T09:24:53.767Z"
   },
   {
    "duration": 4,
    "start_time": "2024-10-29T09:24:53.771Z"
   },
   {
    "duration": 9,
    "start_time": "2024-10-29T09:24:53.776Z"
   },
   {
    "duration": 56,
    "start_time": "2024-10-29T09:24:53.787Z"
   },
   {
    "duration": 838,
    "start_time": "2024-10-29T09:24:53.845Z"
   },
   {
    "duration": 0,
    "start_time": "2024-10-29T09:24:54.684Z"
   },
   {
    "duration": 0,
    "start_time": "2024-10-29T09:24:54.685Z"
   },
   {
    "duration": 0,
    "start_time": "2024-10-29T09:24:54.687Z"
   },
   {
    "duration": 0,
    "start_time": "2024-10-29T09:24:54.688Z"
   },
   {
    "duration": 10,
    "start_time": "2024-10-29T09:25:06.597Z"
   },
   {
    "duration": 4,
    "start_time": "2024-10-29T09:25:14.672Z"
   },
   {
    "duration": 10,
    "start_time": "2024-10-29T09:25:16.181Z"
   },
   {
    "duration": 2,
    "start_time": "2024-10-29T09:25:17.159Z"
   },
   {
    "duration": 50,
    "start_time": "2024-10-29T09:25:17.784Z"
   },
   {
    "duration": 13,
    "start_time": "2024-10-29T09:25:20.940Z"
   },
   {
    "duration": 11,
    "start_time": "2024-10-29T09:25:31.336Z"
   },
   {
    "duration": 13,
    "start_time": "2024-10-29T09:25:47.057Z"
   },
   {
    "duration": 3,
    "start_time": "2024-10-29T09:25:48.260Z"
   },
   {
    "duration": 3,
    "start_time": "2024-10-29T09:25:49.134Z"
   },
   {
    "duration": 3,
    "start_time": "2024-10-29T09:26:09.124Z"
   },
   {
    "duration": 56,
    "start_time": "2024-10-29T09:26:09.867Z"
   },
   {
    "duration": 3,
    "start_time": "2024-10-29T09:26:25.610Z"
   },
   {
    "duration": 21,
    "start_time": "2024-10-29T09:26:26.158Z"
   },
   {
    "duration": 12,
    "start_time": "2024-10-29T09:26:35.254Z"
   },
   {
    "duration": 10,
    "start_time": "2024-10-29T09:26:37.948Z"
   },
   {
    "duration": 10,
    "start_time": "2024-10-29T09:26:47.760Z"
   },
   {
    "duration": 9,
    "start_time": "2024-10-29T09:26:49.730Z"
   },
   {
    "duration": 10,
    "start_time": "2024-10-29T09:26:50.810Z"
   },
   {
    "duration": 9,
    "start_time": "2024-10-29T09:26:51.503Z"
   },
   {
    "duration": 3,
    "start_time": "2024-10-29T09:26:52.840Z"
   },
   {
    "duration": 4,
    "start_time": "2024-10-29T09:26:53.616Z"
   },
   {
    "duration": 10,
    "start_time": "2024-10-29T09:26:54.163Z"
   },
   {
    "duration": 4,
    "start_time": "2024-10-29T09:26:54.676Z"
   },
   {
    "duration": 7,
    "start_time": "2024-10-29T09:26:55.772Z"
   },
   {
    "duration": 10,
    "start_time": "2024-10-29T09:27:42.831Z"
   },
   {
    "duration": 880,
    "start_time": "2024-10-29T09:29:06.613Z"
   },
   {
    "duration": 97,
    "start_time": "2024-10-29T09:29:07.495Z"
   },
   {
    "duration": 10,
    "start_time": "2024-10-29T09:29:07.594Z"
   },
   {
    "duration": 9,
    "start_time": "2024-10-29T09:29:07.605Z"
   },
   {
    "duration": 33,
    "start_time": "2024-10-29T09:29:07.616Z"
   },
   {
    "duration": 8,
    "start_time": "2024-10-29T09:29:07.651Z"
   },
   {
    "duration": 4,
    "start_time": "2024-10-29T09:29:07.662Z"
   },
   {
    "duration": 4,
    "start_time": "2024-10-29T09:29:07.668Z"
   },
   {
    "duration": 10,
    "start_time": "2024-10-29T09:29:07.673Z"
   },
   {
    "duration": 3,
    "start_time": "2024-10-29T09:29:07.684Z"
   },
   {
    "duration": 7,
    "start_time": "2024-10-29T09:29:07.689Z"
   },
   {
    "duration": 7,
    "start_time": "2024-10-29T09:29:07.698Z"
   },
   {
    "duration": 43,
    "start_time": "2024-10-29T09:29:07.706Z"
   },
   {
    "duration": 6,
    "start_time": "2024-10-29T09:29:07.753Z"
   },
   {
    "duration": 5,
    "start_time": "2024-10-29T09:29:07.760Z"
   },
   {
    "duration": 10,
    "start_time": "2024-10-29T09:29:07.767Z"
   },
   {
    "duration": 10,
    "start_time": "2024-10-29T09:29:07.778Z"
   },
   {
    "duration": 9,
    "start_time": "2024-10-29T09:29:07.789Z"
   },
   {
    "duration": 60,
    "start_time": "2024-10-29T09:29:07.800Z"
   },
   {
    "duration": 13,
    "start_time": "2024-10-29T09:29:07.862Z"
   },
   {
    "duration": 6,
    "start_time": "2024-10-29T09:29:07.877Z"
   },
   {
    "duration": 7,
    "start_time": "2024-10-29T09:29:07.885Z"
   },
   {
    "duration": 4,
    "start_time": "2024-10-29T09:29:07.894Z"
   },
   {
    "duration": 3,
    "start_time": "2024-10-29T09:29:07.899Z"
   },
   {
    "duration": 41,
    "start_time": "2024-10-29T09:29:07.903Z"
   },
   {
    "duration": 6,
    "start_time": "2024-10-29T09:29:07.946Z"
   },
   {
    "duration": 7,
    "start_time": "2024-10-29T09:29:07.954Z"
   },
   {
    "duration": 4,
    "start_time": "2024-10-29T09:29:07.962Z"
   },
   {
    "duration": 13,
    "start_time": "2024-10-29T09:29:07.968Z"
   },
   {
    "duration": 74,
    "start_time": "2024-10-29T09:29:07.983Z"
   },
   {
    "duration": 4,
    "start_time": "2024-10-29T09:29:08.059Z"
   },
   {
    "duration": 17,
    "start_time": "2024-10-29T09:29:08.065Z"
   },
   {
    "duration": 11,
    "start_time": "2024-10-29T09:29:08.084Z"
   },
   {
    "duration": 5,
    "start_time": "2024-10-29T09:29:08.097Z"
   },
   {
    "duration": 5,
    "start_time": "2024-10-29T09:29:08.104Z"
   },
   {
    "duration": 34,
    "start_time": "2024-10-29T09:29:08.110Z"
   },
   {
    "duration": 5,
    "start_time": "2024-10-29T09:29:08.145Z"
   },
   {
    "duration": 2,
    "start_time": "2024-10-29T09:29:08.151Z"
   },
   {
    "duration": 4,
    "start_time": "2024-10-29T09:29:08.155Z"
   },
   {
    "duration": 9,
    "start_time": "2024-10-29T09:29:08.161Z"
   },
   {
    "duration": 11,
    "start_time": "2024-10-29T09:29:08.174Z"
   },
   {
    "duration": 3,
    "start_time": "2024-10-29T09:29:08.187Z"
   },
   {
    "duration": 3,
    "start_time": "2024-10-29T09:29:08.191Z"
   },
   {
    "duration": 284,
    "start_time": "2024-10-29T09:29:08.196Z"
   },
   {
    "duration": 0,
    "start_time": "2024-10-29T09:29:08.482Z"
   },
   {
    "duration": 9,
    "start_time": "2024-10-29T09:29:28.471Z"
   },
   {
    "duration": 9,
    "start_time": "2024-10-29T09:29:29.673Z"
   },
   {
    "duration": 9,
    "start_time": "2024-10-29T09:29:46.340Z"
   },
   {
    "duration": 9,
    "start_time": "2024-10-29T09:29:47.447Z"
   },
   {
    "duration": 3,
    "start_time": "2024-10-29T09:30:18.048Z"
   },
   {
    "duration": 101,
    "start_time": "2024-10-29T09:30:19.625Z"
   },
   {
    "duration": 12,
    "start_time": "2024-10-29T09:30:21.043Z"
   },
   {
    "duration": 9,
    "start_time": "2024-10-29T09:30:32.171Z"
   },
   {
    "duration": 11,
    "start_time": "2024-10-29T09:30:33.068Z"
   },
   {
    "duration": 504,
    "start_time": "2024-10-29T09:30:46.688Z"
   },
   {
    "duration": 4,
    "start_time": "2024-10-29T09:30:53.414Z"
   },
   {
    "duration": 9,
    "start_time": "2024-10-29T09:30:55.435Z"
   },
   {
    "duration": 42,
    "start_time": "2024-10-29T09:30:56.456Z"
   },
   {
    "duration": 41,
    "start_time": "2024-10-29T09:30:57.431Z"
   },
   {
    "duration": 11,
    "start_time": "2024-10-29T09:31:01.653Z"
   },
   {
    "duration": 11,
    "start_time": "2024-10-29T09:31:02.548Z"
   },
   {
    "duration": 16,
    "start_time": "2024-10-29T09:31:03.018Z"
   },
   {
    "duration": 8,
    "start_time": "2024-10-29T09:31:03.433Z"
   },
   {
    "duration": 3,
    "start_time": "2024-10-29T09:31:04.304Z"
   },
   {
    "duration": 4,
    "start_time": "2024-10-29T09:31:04.725Z"
   },
   {
    "duration": 9,
    "start_time": "2024-10-29T09:31:05.241Z"
   },
   {
    "duration": 3,
    "start_time": "2024-10-29T09:31:05.624Z"
   },
   {
    "duration": 8,
    "start_time": "2024-10-29T09:31:06.092Z"
   },
   {
    "duration": 8,
    "start_time": "2024-10-29T09:31:06.515Z"
   },
   {
    "duration": 7,
    "start_time": "2024-10-29T09:31:07.037Z"
   },
   {
    "duration": 3,
    "start_time": "2024-10-29T09:31:07.603Z"
   },
   {
    "duration": 6,
    "start_time": "2024-10-29T09:31:07.958Z"
   },
   {
    "duration": 11,
    "start_time": "2024-10-29T09:31:08.248Z"
   },
   {
    "duration": 9,
    "start_time": "2024-10-29T09:31:08.601Z"
   },
   {
    "duration": 10,
    "start_time": "2024-10-29T09:31:09.035Z"
   },
   {
    "duration": 19,
    "start_time": "2024-10-29T09:31:09.484Z"
   },
   {
    "duration": 13,
    "start_time": "2024-10-29T09:31:09.857Z"
   },
   {
    "duration": 6,
    "start_time": "2024-10-29T09:31:10.835Z"
   },
   {
    "duration": 8,
    "start_time": "2024-10-29T09:31:11.080Z"
   },
   {
    "duration": 5,
    "start_time": "2024-10-29T09:31:11.383Z"
   },
   {
    "duration": 2,
    "start_time": "2024-10-29T09:31:11.690Z"
   },
   {
    "duration": 4,
    "start_time": "2024-10-29T09:31:12.201Z"
   },
   {
    "duration": 7,
    "start_time": "2024-10-29T09:31:12.926Z"
   },
   {
    "duration": 7,
    "start_time": "2024-10-29T09:31:13.206Z"
   },
   {
    "duration": 5,
    "start_time": "2024-10-29T09:31:13.502Z"
   },
   {
    "duration": 14,
    "start_time": "2024-10-29T09:31:13.997Z"
   },
   {
    "duration": 41,
    "start_time": "2024-10-29T09:31:14.250Z"
   },
   {
    "duration": 4,
    "start_time": "2024-10-29T09:31:14.521Z"
   },
   {
    "duration": 16,
    "start_time": "2024-10-29T09:31:14.799Z"
   },
   {
    "duration": 12,
    "start_time": "2024-10-29T09:31:15.271Z"
   },
   {
    "duration": 5,
    "start_time": "2024-10-29T09:31:15.526Z"
   },
   {
    "duration": 5,
    "start_time": "2024-10-29T09:31:16.208Z"
   },
   {
    "duration": 6,
    "start_time": "2024-10-29T09:31:16.635Z"
   },
   {
    "duration": 4,
    "start_time": "2024-10-29T09:31:16.974Z"
   },
   {
    "duration": 2,
    "start_time": "2024-10-29T09:31:21.838Z"
   },
   {
    "duration": 4,
    "start_time": "2024-10-29T09:31:22.288Z"
   },
   {
    "duration": 9,
    "start_time": "2024-10-29T09:31:22.751Z"
   },
   {
    "duration": 12,
    "start_time": "2024-10-29T09:31:23.425Z"
   },
   {
    "duration": 3,
    "start_time": "2024-10-29T09:31:24.290Z"
   },
   {
    "duration": 5,
    "start_time": "2024-10-29T09:31:26.325Z"
   },
   {
    "duration": 48,
    "start_time": "2024-10-29T09:31:26.855Z"
   },
   {
    "duration": 35,
    "start_time": "2024-10-29T09:32:37.119Z"
   },
   {
    "duration": 166,
    "start_time": "2024-10-29T09:34:34.691Z"
   },
   {
    "duration": 10,
    "start_time": "2024-10-29T09:34:45.023Z"
   },
   {
    "duration": 3,
    "start_time": "2024-10-29T09:34:46.535Z"
   },
   {
    "duration": 2,
    "start_time": "2024-10-29T09:34:47.564Z"
   },
   {
    "duration": 42,
    "start_time": "2024-10-29T09:34:47.867Z"
   },
   {
    "duration": 10,
    "start_time": "2024-10-29T09:34:55.100Z"
   },
   {
    "duration": 9,
    "start_time": "2024-10-29T09:34:58.805Z"
   },
   {
    "duration": 8,
    "start_time": "2024-10-29T09:37:23.224Z"
   },
   {
    "duration": 9,
    "start_time": "2024-10-29T09:37:24.138Z"
   },
   {
    "duration": 9,
    "start_time": "2024-10-29T09:37:26.171Z"
   },
   {
    "duration": 9,
    "start_time": "2024-10-29T09:37:28.436Z"
   },
   {
    "duration": 9,
    "start_time": "2024-10-29T09:37:30.319Z"
   },
   {
    "duration": 2631,
    "start_time": "2024-10-29T11:58:03.532Z"
   },
   {
    "duration": 143,
    "start_time": "2024-10-29T11:58:06.166Z"
   },
   {
    "duration": 11,
    "start_time": "2024-10-29T11:58:06.311Z"
   },
   {
    "duration": 11,
    "start_time": "2024-10-29T11:58:06.325Z"
   },
   {
    "duration": 16,
    "start_time": "2024-10-29T11:58:06.339Z"
   },
   {
    "duration": 8,
    "start_time": "2024-10-29T11:58:06.356Z"
   },
   {
    "duration": 4,
    "start_time": "2024-10-29T11:58:06.366Z"
   },
   {
    "duration": 9,
    "start_time": "2024-10-29T11:58:06.371Z"
   },
   {
    "duration": 11,
    "start_time": "2024-10-29T11:58:06.382Z"
   },
   {
    "duration": 4,
    "start_time": "2024-10-29T11:58:06.395Z"
   },
   {
    "duration": 7,
    "start_time": "2024-10-29T11:58:06.432Z"
   },
   {
    "duration": 6,
    "start_time": "2024-10-29T11:58:06.441Z"
   },
   {
    "duration": 7,
    "start_time": "2024-10-29T11:58:06.449Z"
   },
   {
    "duration": 3,
    "start_time": "2024-10-29T11:58:06.461Z"
   },
   {
    "duration": 6,
    "start_time": "2024-10-29T11:58:06.466Z"
   },
   {
    "duration": 9,
    "start_time": "2024-10-29T11:58:06.474Z"
   },
   {
    "duration": 51,
    "start_time": "2024-10-29T11:58:06.484Z"
   },
   {
    "duration": 10,
    "start_time": "2024-10-29T11:58:06.537Z"
   },
   {
    "duration": 21,
    "start_time": "2024-10-29T11:58:06.548Z"
   },
   {
    "duration": 13,
    "start_time": "2024-10-29T11:58:06.570Z"
   },
   {
    "duration": 7,
    "start_time": "2024-10-29T11:58:06.585Z"
   },
   {
    "duration": 38,
    "start_time": "2024-10-29T11:58:06.594Z"
   },
   {
    "duration": 5,
    "start_time": "2024-10-29T11:58:06.634Z"
   },
   {
    "duration": 4,
    "start_time": "2024-10-29T11:58:06.641Z"
   },
   {
    "duration": 5,
    "start_time": "2024-10-29T11:58:06.647Z"
   },
   {
    "duration": 5,
    "start_time": "2024-10-29T11:58:06.653Z"
   },
   {
    "duration": 6,
    "start_time": "2024-10-29T11:58:06.660Z"
   },
   {
    "duration": 4,
    "start_time": "2024-10-29T11:58:06.668Z"
   },
   {
    "duration": 13,
    "start_time": "2024-10-29T11:58:06.673Z"
   },
   {
    "duration": 80,
    "start_time": "2024-10-29T11:58:06.688Z"
   },
   {
    "duration": 5,
    "start_time": "2024-10-29T11:58:06.769Z"
   },
   {
    "duration": 16,
    "start_time": "2024-10-29T11:58:06.776Z"
   },
   {
    "duration": 37,
    "start_time": "2024-10-29T11:58:06.793Z"
   },
   {
    "duration": 5,
    "start_time": "2024-10-29T11:58:06.832Z"
   },
   {
    "duration": 4,
    "start_time": "2024-10-29T11:58:06.839Z"
   },
   {
    "duration": 5,
    "start_time": "2024-10-29T11:58:06.846Z"
   },
   {
    "duration": 4,
    "start_time": "2024-10-29T11:58:06.852Z"
   },
   {
    "duration": 2,
    "start_time": "2024-10-29T11:58:06.858Z"
   },
   {
    "duration": 4,
    "start_time": "2024-10-29T11:58:06.861Z"
   },
   {
    "duration": 11,
    "start_time": "2024-10-29T11:58:06.867Z"
   },
   {
    "duration": 48,
    "start_time": "2024-10-29T11:58:06.885Z"
   },
   {
    "duration": 3,
    "start_time": "2024-10-29T11:58:06.935Z"
   },
   {
    "duration": 3,
    "start_time": "2024-10-29T11:58:06.939Z"
   },
   {
    "duration": 200,
    "start_time": "2024-10-29T11:58:06.944Z"
   },
   {
    "duration": 0,
    "start_time": "2024-10-29T11:58:07.146Z"
   },
   {
    "duration": 9,
    "start_time": "2024-10-29T11:59:13.911Z"
   },
   {
    "duration": 10,
    "start_time": "2024-10-29T11:59:33.755Z"
   },
   {
    "duration": 13,
    "start_time": "2024-10-29T11:59:35.769Z"
   },
   {
    "duration": 3,
    "start_time": "2024-10-29T11:59:37.508Z"
   },
   {
    "duration": 3,
    "start_time": "2024-10-29T11:59:42.862Z"
   },
   {
    "duration": 479,
    "start_time": "2024-10-29T11:59:43.587Z"
   },
   {
    "duration": 11,
    "start_time": "2024-10-29T12:00:12.530Z"
   },
   {
    "duration": 10,
    "start_time": "2024-10-29T12:00:20.847Z"
   },
   {
    "duration": 9,
    "start_time": "2024-10-29T12:00:32.292Z"
   },
   {
    "duration": 8,
    "start_time": "2024-10-29T12:05:01.100Z"
   },
   {
    "duration": 3,
    "start_time": "2024-10-29T12:05:05.709Z"
   },
   {
    "duration": 10,
    "start_time": "2024-10-29T12:05:13.153Z"
   },
   {
    "duration": 9,
    "start_time": "2024-10-29T12:10:18.952Z"
   },
   {
    "duration": 4,
    "start_time": "2024-10-29T12:14:00.937Z"
   },
   {
    "duration": 4,
    "start_time": "2024-10-29T12:14:03.043Z"
   },
   {
    "duration": 10,
    "start_time": "2024-10-29T12:14:59.740Z"
   },
   {
    "duration": 9,
    "start_time": "2024-10-29T12:15:29.711Z"
   },
   {
    "duration": 12,
    "start_time": "2024-10-29T12:15:31.468Z"
   },
   {
    "duration": 3,
    "start_time": "2024-10-29T12:15:32.119Z"
   },
   {
    "duration": 3,
    "start_time": "2024-10-29T12:15:34.097Z"
   },
   {
    "duration": 43,
    "start_time": "2024-10-29T12:15:34.610Z"
   },
   {
    "duration": 3,
    "start_time": "2024-10-29T12:15:47.772Z"
   },
   {
    "duration": 10,
    "start_time": "2024-10-29T12:15:48.941Z"
   },
   {
    "duration": 12,
    "start_time": "2024-10-29T12:15:52.924Z"
   },
   {
    "duration": 3,
    "start_time": "2024-10-29T12:15:53.960Z"
   },
   {
    "duration": 5,
    "start_time": "2024-10-29T12:15:58.347Z"
   },
   {
    "duration": 125,
    "start_time": "2024-10-29T12:15:59.640Z"
   },
   {
    "duration": 2,
    "start_time": "2024-10-29T12:16:26.242Z"
   },
   {
    "duration": 44,
    "start_time": "2024-10-29T12:16:27.084Z"
   },
   {
    "duration": 43,
    "start_time": "2024-10-29T12:18:17.989Z"
   },
   {
    "duration": 34,
    "start_time": "2024-10-29T12:19:37.745Z"
   },
   {
    "duration": 10,
    "start_time": "2024-10-29T12:20:40.631Z"
   },
   {
    "duration": 3,
    "start_time": "2024-10-29T12:20:41.555Z"
   },
   {
    "duration": 3,
    "start_time": "2024-10-29T12:20:43.399Z"
   },
   {
    "duration": 29,
    "start_time": "2024-10-29T12:20:44.430Z"
   },
   {
    "duration": 99,
    "start_time": "2024-10-29T12:23:17.001Z"
   },
   {
    "duration": 3,
    "start_time": "2024-10-29T12:23:31.745Z"
   },
   {
    "duration": 106,
    "start_time": "2024-10-29T12:23:31.882Z"
   },
   {
    "duration": 3,
    "start_time": "2024-10-29T12:24:05.954Z"
   },
   {
    "duration": 100,
    "start_time": "2024-10-29T12:24:06.665Z"
   },
   {
    "duration": 80,
    "start_time": "2024-10-29T12:25:05.978Z"
   },
   {
    "duration": 33,
    "start_time": "2024-10-29T12:30:47.332Z"
   },
   {
    "duration": 22,
    "start_time": "2024-10-29T12:31:08.372Z"
   },
   {
    "duration": 7,
    "start_time": "2024-10-29T12:31:49.827Z"
   },
   {
    "duration": 27,
    "start_time": "2024-10-29T12:32:19.377Z"
   },
   {
    "duration": 2527,
    "start_time": "2024-10-29T12:32:52.007Z"
   },
   {
    "duration": 944,
    "start_time": "2024-10-29T12:33:09.762Z"
   },
   {
    "duration": 103,
    "start_time": "2024-10-29T12:33:10.709Z"
   },
   {
    "duration": 11,
    "start_time": "2024-10-29T12:33:10.814Z"
   },
   {
    "duration": 11,
    "start_time": "2024-10-29T12:33:10.827Z"
   },
   {
    "duration": 16,
    "start_time": "2024-10-29T12:33:10.840Z"
   },
   {
    "duration": 8,
    "start_time": "2024-10-29T12:33:10.859Z"
   },
   {
    "duration": 4,
    "start_time": "2024-10-29T12:33:10.868Z"
   },
   {
    "duration": 7,
    "start_time": "2024-10-29T12:33:10.874Z"
   },
   {
    "duration": 12,
    "start_time": "2024-10-29T12:33:10.883Z"
   },
   {
    "duration": 4,
    "start_time": "2024-10-29T12:33:10.931Z"
   },
   {
    "duration": 8,
    "start_time": "2024-10-29T12:33:10.937Z"
   },
   {
    "duration": 7,
    "start_time": "2024-10-29T12:33:10.946Z"
   },
   {
    "duration": 7,
    "start_time": "2024-10-29T12:33:10.954Z"
   },
   {
    "duration": 3,
    "start_time": "2024-10-29T12:33:10.963Z"
   },
   {
    "duration": 7,
    "start_time": "2024-10-29T12:33:10.968Z"
   },
   {
    "duration": 9,
    "start_time": "2024-10-29T12:33:10.978Z"
   },
   {
    "duration": 42,
    "start_time": "2024-10-29T12:33:10.990Z"
   },
   {
    "duration": 9,
    "start_time": "2024-10-29T12:33:11.034Z"
   },
   {
    "duration": 20,
    "start_time": "2024-10-29T12:33:11.045Z"
   },
   {
    "duration": 14,
    "start_time": "2024-10-29T12:33:11.068Z"
   },
   {
    "duration": 7,
    "start_time": "2024-10-29T12:33:11.085Z"
   },
   {
    "duration": 47,
    "start_time": "2024-10-29T12:33:11.094Z"
   },
   {
    "duration": 738,
    "start_time": "2024-10-29T12:33:11.143Z"
   },
   {
    "duration": 0,
    "start_time": "2024-10-29T12:33:11.883Z"
   },
   {
    "duration": 0,
    "start_time": "2024-10-29T12:33:11.884Z"
   },
   {
    "duration": 0,
    "start_time": "2024-10-29T12:33:11.885Z"
   },
   {
    "duration": 0,
    "start_time": "2024-10-29T12:33:11.887Z"
   },
   {
    "duration": 0,
    "start_time": "2024-10-29T12:33:11.888Z"
   },
   {
    "duration": 0,
    "start_time": "2024-10-29T12:33:11.890Z"
   },
   {
    "duration": 0,
    "start_time": "2024-10-29T12:33:11.891Z"
   },
   {
    "duration": 0,
    "start_time": "2024-10-29T12:33:11.892Z"
   },
   {
    "duration": 0,
    "start_time": "2024-10-29T12:33:11.893Z"
   },
   {
    "duration": 0,
    "start_time": "2024-10-29T12:33:11.894Z"
   },
   {
    "duration": 0,
    "start_time": "2024-10-29T12:33:11.895Z"
   },
   {
    "duration": 0,
    "start_time": "2024-10-29T12:33:11.896Z"
   },
   {
    "duration": 0,
    "start_time": "2024-10-29T12:33:11.897Z"
   },
   {
    "duration": 0,
    "start_time": "2024-10-29T12:33:11.898Z"
   },
   {
    "duration": 0,
    "start_time": "2024-10-29T12:33:11.899Z"
   },
   {
    "duration": 0,
    "start_time": "2024-10-29T12:33:11.900Z"
   },
   {
    "duration": 0,
    "start_time": "2024-10-29T12:33:11.901Z"
   },
   {
    "duration": 0,
    "start_time": "2024-10-29T12:33:11.903Z"
   },
   {
    "duration": 0,
    "start_time": "2024-10-29T12:33:11.903Z"
   },
   {
    "duration": 0,
    "start_time": "2024-10-29T12:33:11.931Z"
   },
   {
    "duration": 0,
    "start_time": "2024-10-29T12:33:11.932Z"
   },
   {
    "duration": 0,
    "start_time": "2024-10-29T12:33:11.934Z"
   },
   {
    "duration": 0,
    "start_time": "2024-10-29T12:33:11.935Z"
   },
   {
    "duration": 0,
    "start_time": "2024-10-29T12:33:11.936Z"
   },
   {
    "duration": 9313,
    "start_time": "2024-10-29T12:35:48.570Z"
   },
   {
    "duration": 2251,
    "start_time": "2024-10-29T12:36:07.203Z"
   },
   {
    "duration": 1418,
    "start_time": "2024-10-29T12:36:18.335Z"
   },
   {
    "duration": 1406,
    "start_time": "2024-10-29T12:37:11.059Z"
   },
   {
    "duration": 49,
    "start_time": "2024-10-29T12:37:30.210Z"
   },
   {
    "duration": 12,
    "start_time": "2024-10-29T12:37:40.987Z"
   },
   {
    "duration": 11,
    "start_time": "2024-10-29T12:37:42.359Z"
   },
   {
    "duration": 10,
    "start_time": "2024-10-29T12:37:44.193Z"
   },
   {
    "duration": 9,
    "start_time": "2024-10-29T12:37:45.208Z"
   },
   {
    "duration": 4,
    "start_time": "2024-10-29T12:38:19.031Z"
   },
   {
    "duration": 4,
    "start_time": "2024-10-29T12:38:20.919Z"
   },
   {
    "duration": 5,
    "start_time": "2024-10-29T12:38:31.434Z"
   },
   {
    "duration": 8,
    "start_time": "2024-10-29T12:38:35.438Z"
   },
   {
    "duration": 4,
    "start_time": "2024-10-29T12:38:45.064Z"
   },
   {
    "duration": 11,
    "start_time": "2024-10-29T12:38:46.395Z"
   },
   {
    "duration": 13,
    "start_time": "2024-10-29T12:38:47.488Z"
   },
   {
    "duration": 22,
    "start_time": "2024-10-29T12:38:48.749Z"
   },
   {
    "duration": 3,
    "start_time": "2024-10-29T12:38:49.268Z"
   },
   {
    "duration": 50,
    "start_time": "2024-10-29T12:38:50.010Z"
   },
   {
    "duration": 3,
    "start_time": "2024-10-29T12:39:21.927Z"
   },
   {
    "duration": 47,
    "start_time": "2024-10-29T12:39:22.920Z"
   },
   {
    "duration": 12,
    "start_time": "2024-10-29T12:39:31.053Z"
   },
   {
    "duration": 10,
    "start_time": "2024-10-29T12:39:34.816Z"
   },
   {
    "duration": 8,
    "start_time": "2024-10-29T12:39:35.753Z"
   },
   {
    "duration": 882,
    "start_time": "2024-10-30T09:07:56.662Z"
   },
   {
    "duration": 96,
    "start_time": "2024-10-30T09:07:57.547Z"
   },
   {
    "duration": 10,
    "start_time": "2024-10-30T09:07:57.645Z"
   },
   {
    "duration": 12,
    "start_time": "2024-10-30T09:07:57.657Z"
   },
   {
    "duration": 16,
    "start_time": "2024-10-30T09:07:57.671Z"
   },
   {
    "duration": 8,
    "start_time": "2024-10-30T09:07:57.688Z"
   },
   {
    "duration": 4,
    "start_time": "2024-10-30T09:07:57.697Z"
   },
   {
    "duration": 5,
    "start_time": "2024-10-30T09:07:57.702Z"
   },
   {
    "duration": 41,
    "start_time": "2024-10-30T09:07:57.708Z"
   },
   {
    "duration": 3,
    "start_time": "2024-10-30T09:07:57.751Z"
   },
   {
    "duration": 7,
    "start_time": "2024-10-30T09:07:57.755Z"
   },
   {
    "duration": 7,
    "start_time": "2024-10-30T09:07:57.763Z"
   },
   {
    "duration": 6,
    "start_time": "2024-10-30T09:07:57.771Z"
   },
   {
    "duration": 4,
    "start_time": "2024-10-30T09:07:57.781Z"
   },
   {
    "duration": 5,
    "start_time": "2024-10-30T09:07:57.787Z"
   },
   {
    "duration": 9,
    "start_time": "2024-10-30T09:07:57.794Z"
   },
   {
    "duration": 47,
    "start_time": "2024-10-30T09:07:57.804Z"
   },
   {
    "duration": 10,
    "start_time": "2024-10-30T09:07:57.852Z"
   },
   {
    "duration": 18,
    "start_time": "2024-10-30T09:07:57.864Z"
   },
   {
    "duration": 12,
    "start_time": "2024-10-30T09:07:57.884Z"
   },
   {
    "duration": 7,
    "start_time": "2024-10-30T09:07:57.898Z"
   },
   {
    "duration": 8,
    "start_time": "2024-10-30T09:07:57.943Z"
   },
   {
    "duration": 5,
    "start_time": "2024-10-30T09:07:57.952Z"
   },
   {
    "duration": 1,
    "start_time": "2024-10-30T09:07:57.959Z"
   },
   {
    "duration": 5,
    "start_time": "2024-10-30T09:07:57.962Z"
   },
   {
    "duration": 5,
    "start_time": "2024-10-30T09:07:57.968Z"
   },
   {
    "duration": 6,
    "start_time": "2024-10-30T09:07:57.975Z"
   },
   {
    "duration": 4,
    "start_time": "2024-10-30T09:07:57.983Z"
   },
   {
    "duration": 56,
    "start_time": "2024-10-30T09:07:57.988Z"
   },
   {
    "duration": 41,
    "start_time": "2024-10-30T09:07:58.045Z"
   },
   {
    "duration": 4,
    "start_time": "2024-10-30T09:07:58.088Z"
   },
   {
    "duration": 20,
    "start_time": "2024-10-30T09:07:58.094Z"
   },
   {
    "duration": 32,
    "start_time": "2024-10-30T09:07:58.115Z"
   },
   {
    "duration": 5,
    "start_time": "2024-10-30T09:07:58.149Z"
   },
   {
    "duration": 6,
    "start_time": "2024-10-30T09:07:58.156Z"
   },
   {
    "duration": 6,
    "start_time": "2024-10-30T09:07:58.165Z"
   },
   {
    "duration": 6,
    "start_time": "2024-10-30T09:07:58.172Z"
   },
   {
    "duration": 3,
    "start_time": "2024-10-30T09:07:58.179Z"
   },
   {
    "duration": 327,
    "start_time": "2024-10-30T09:07:58.183Z"
   },
   {
    "duration": 0,
    "start_time": "2024-10-30T09:07:58.512Z"
   },
   {
    "duration": 9,
    "start_time": "2024-10-30T09:08:13.990Z"
   },
   {
    "duration": 98,
    "start_time": "2024-10-30T09:08:41.720Z"
   },
   {
    "duration": 10,
    "start_time": "2024-10-30T09:08:43.463Z"
   },
   {
    "duration": 839,
    "start_time": "2024-10-30T09:08:53.620Z"
   },
   {
    "duration": 96,
    "start_time": "2024-10-30T09:08:54.461Z"
   },
   {
    "duration": 11,
    "start_time": "2024-10-30T09:08:54.558Z"
   },
   {
    "duration": 10,
    "start_time": "2024-10-30T09:08:54.570Z"
   },
   {
    "duration": 17,
    "start_time": "2024-10-30T09:08:56.570Z"
   },
   {
    "duration": 7,
    "start_time": "2024-10-30T09:08:56.589Z"
   },
   {
    "duration": 4,
    "start_time": "2024-10-30T09:08:56.597Z"
   },
   {
    "duration": 4,
    "start_time": "2024-10-30T09:08:56.603Z"
   },
   {
    "duration": 9,
    "start_time": "2024-10-30T09:08:56.610Z"
   },
   {
    "duration": 3,
    "start_time": "2024-10-30T09:08:56.621Z"
   },
   {
    "duration": 19,
    "start_time": "2024-10-30T09:08:56.625Z"
   },
   {
    "duration": 6,
    "start_time": "2024-10-30T09:08:56.646Z"
   },
   {
    "duration": 8,
    "start_time": "2024-10-30T09:08:56.653Z"
   },
   {
    "duration": 3,
    "start_time": "2024-10-30T09:08:56.662Z"
   },
   {
    "duration": 8,
    "start_time": "2024-10-30T09:08:56.666Z"
   },
   {
    "duration": 9,
    "start_time": "2024-10-30T09:08:56.675Z"
   },
   {
    "duration": 9,
    "start_time": "2024-10-30T09:08:56.686Z"
   },
   {
    "duration": 49,
    "start_time": "2024-10-30T09:08:56.698Z"
   },
   {
    "duration": 19,
    "start_time": "2024-10-30T09:08:56.749Z"
   },
   {
    "duration": 13,
    "start_time": "2024-10-30T09:08:56.769Z"
   },
   {
    "duration": 5,
    "start_time": "2024-10-30T09:08:56.784Z"
   },
   {
    "duration": 7,
    "start_time": "2024-10-30T09:08:56.793Z"
   },
   {
    "duration": 5,
    "start_time": "2024-10-30T09:08:56.802Z"
   },
   {
    "duration": 34,
    "start_time": "2024-10-30T09:08:56.810Z"
   },
   {
    "duration": 5,
    "start_time": "2024-10-30T09:08:56.846Z"
   },
   {
    "duration": 6,
    "start_time": "2024-10-30T09:08:56.852Z"
   },
   {
    "duration": 7,
    "start_time": "2024-10-30T09:08:56.859Z"
   },
   {
    "duration": 4,
    "start_time": "2024-10-30T09:08:56.867Z"
   },
   {
    "duration": 12,
    "start_time": "2024-10-30T09:08:56.872Z"
   },
   {
    "duration": 76,
    "start_time": "2024-10-30T09:08:56.886Z"
   },
   {
    "duration": 5,
    "start_time": "2024-10-30T09:08:56.964Z"
   },
   {
    "duration": 17,
    "start_time": "2024-10-30T09:08:56.970Z"
   },
   {
    "duration": 11,
    "start_time": "2024-10-30T09:08:56.989Z"
   },
   {
    "duration": 5,
    "start_time": "2024-10-30T09:08:57.002Z"
   },
   {
    "duration": 5,
    "start_time": "2024-10-30T09:08:57.008Z"
   },
   {
    "duration": 5,
    "start_time": "2024-10-30T09:08:57.043Z"
   },
   {
    "duration": 4,
    "start_time": "2024-10-30T09:08:57.050Z"
   },
   {
    "duration": 3,
    "start_time": "2024-10-30T09:08:57.056Z"
   },
   {
    "duration": 309,
    "start_time": "2024-10-30T09:08:57.061Z"
   },
   {
    "duration": 0,
    "start_time": "2024-10-30T09:08:57.372Z"
   },
   {
    "duration": 13,
    "start_time": "2024-10-30T09:09:20.536Z"
   },
   {
    "duration": 828,
    "start_time": "2024-10-30T09:09:57.295Z"
   },
   {
    "duration": 101,
    "start_time": "2024-10-30T09:09:58.125Z"
   },
   {
    "duration": 10,
    "start_time": "2024-10-30T09:09:58.228Z"
   },
   {
    "duration": 9,
    "start_time": "2024-10-30T09:09:58.243Z"
   },
   {
    "duration": 15,
    "start_time": "2024-10-30T09:09:58.255Z"
   },
   {
    "duration": 7,
    "start_time": "2024-10-30T09:09:58.272Z"
   },
   {
    "duration": 4,
    "start_time": "2024-10-30T09:09:58.281Z"
   },
   {
    "duration": 5,
    "start_time": "2024-10-30T09:09:58.287Z"
   },
   {
    "duration": 10,
    "start_time": "2024-10-30T09:09:58.293Z"
   },
   {
    "duration": 39,
    "start_time": "2024-10-30T09:09:58.305Z"
   },
   {
    "duration": 7,
    "start_time": "2024-10-30T09:09:58.346Z"
   },
   {
    "duration": 7,
    "start_time": "2024-10-30T09:09:58.354Z"
   },
   {
    "duration": 6,
    "start_time": "2024-10-30T09:09:58.363Z"
   },
   {
    "duration": 4,
    "start_time": "2024-10-30T09:09:58.373Z"
   },
   {
    "duration": 6,
    "start_time": "2024-10-30T09:09:58.378Z"
   },
   {
    "duration": 9,
    "start_time": "2024-10-30T09:09:58.385Z"
   },
   {
    "duration": 48,
    "start_time": "2024-10-30T09:09:58.396Z"
   },
   {
    "duration": 9,
    "start_time": "2024-10-30T09:09:58.445Z"
   },
   {
    "duration": 19,
    "start_time": "2024-10-30T09:09:58.455Z"
   },
   {
    "duration": 12,
    "start_time": "2024-10-30T09:09:58.475Z"
   },
   {
    "duration": 6,
    "start_time": "2024-10-30T09:09:58.488Z"
   },
   {
    "duration": 8,
    "start_time": "2024-10-30T09:09:58.495Z"
   },
   {
    "duration": 38,
    "start_time": "2024-10-30T09:09:58.504Z"
   },
   {
    "duration": 2,
    "start_time": "2024-10-30T09:09:58.545Z"
   },
   {
    "duration": 8,
    "start_time": "2024-10-30T09:09:58.549Z"
   },
   {
    "duration": 6,
    "start_time": "2024-10-30T09:09:58.559Z"
   },
   {
    "duration": 6,
    "start_time": "2024-10-30T09:09:58.567Z"
   },
   {
    "duration": 4,
    "start_time": "2024-10-30T09:09:58.575Z"
   },
   {
    "duration": 13,
    "start_time": "2024-10-30T09:09:58.581Z"
   },
   {
    "duration": 82,
    "start_time": "2024-10-30T09:09:58.596Z"
   },
   {
    "duration": 5,
    "start_time": "2024-10-30T09:09:58.679Z"
   },
   {
    "duration": 16,
    "start_time": "2024-10-30T09:09:58.685Z"
   },
   {
    "duration": 11,
    "start_time": "2024-10-30T09:09:58.702Z"
   },
   {
    "duration": 4,
    "start_time": "2024-10-30T09:09:58.715Z"
   },
   {
    "duration": 26,
    "start_time": "2024-10-30T09:09:58.721Z"
   },
   {
    "duration": 5,
    "start_time": "2024-10-30T09:09:58.748Z"
   },
   {
    "duration": 4,
    "start_time": "2024-10-30T09:09:58.755Z"
   },
   {
    "duration": 2,
    "start_time": "2024-10-30T09:09:58.761Z"
   },
   {
    "duration": 317,
    "start_time": "2024-10-30T09:09:58.765Z"
   },
   {
    "duration": 0,
    "start_time": "2024-10-30T09:09:59.084Z"
   },
   {
    "duration": 11,
    "start_time": "2024-10-30T09:10:48.857Z"
   },
   {
    "duration": 872,
    "start_time": "2024-10-30T09:11:00.550Z"
   },
   {
    "duration": 96,
    "start_time": "2024-10-30T09:11:01.424Z"
   },
   {
    "duration": 11,
    "start_time": "2024-10-30T09:11:01.522Z"
   },
   {
    "duration": 13,
    "start_time": "2024-10-30T09:11:01.535Z"
   },
   {
    "duration": 16,
    "start_time": "2024-10-30T09:11:01.549Z"
   },
   {
    "duration": 7,
    "start_time": "2024-10-30T09:11:01.566Z"
   },
   {
    "duration": 3,
    "start_time": "2024-10-30T09:11:01.575Z"
   },
   {
    "duration": 5,
    "start_time": "2024-10-30T09:11:01.580Z"
   },
   {
    "duration": 10,
    "start_time": "2024-10-30T09:11:01.587Z"
   },
   {
    "duration": 3,
    "start_time": "2024-10-30T09:11:01.600Z"
   },
   {
    "duration": 7,
    "start_time": "2024-10-30T09:11:01.643Z"
   },
   {
    "duration": 7,
    "start_time": "2024-10-30T09:11:01.652Z"
   },
   {
    "duration": 7,
    "start_time": "2024-10-30T09:11:01.660Z"
   },
   {
    "duration": 3,
    "start_time": "2024-10-30T09:11:01.669Z"
   },
   {
    "duration": 6,
    "start_time": "2024-10-30T09:11:01.673Z"
   },
   {
    "duration": 10,
    "start_time": "2024-10-30T09:11:01.681Z"
   },
   {
    "duration": 53,
    "start_time": "2024-10-30T09:11:01.693Z"
   },
   {
    "duration": 8,
    "start_time": "2024-10-30T09:11:01.748Z"
   },
   {
    "duration": 30,
    "start_time": "2024-10-30T09:11:01.758Z"
   },
   {
    "duration": 12,
    "start_time": "2024-10-30T09:11:01.790Z"
   },
   {
    "duration": 6,
    "start_time": "2024-10-30T09:11:01.804Z"
   },
   {
    "duration": 8,
    "start_time": "2024-10-30T09:11:01.812Z"
   },
   {
    "duration": 4,
    "start_time": "2024-10-30T09:11:01.842Z"
   },
   {
    "duration": 2,
    "start_time": "2024-10-30T09:11:01.848Z"
   },
   {
    "duration": 5,
    "start_time": "2024-10-30T09:11:01.852Z"
   },
   {
    "duration": 6,
    "start_time": "2024-10-30T09:11:01.858Z"
   },
   {
    "duration": 6,
    "start_time": "2024-10-30T09:11:01.866Z"
   },
   {
    "duration": 4,
    "start_time": "2024-10-30T09:11:01.876Z"
   },
   {
    "duration": 12,
    "start_time": "2024-10-30T09:11:01.882Z"
   },
   {
    "duration": 84,
    "start_time": "2024-10-30T09:11:01.896Z"
   },
   {
    "duration": 5,
    "start_time": "2024-10-30T09:11:01.981Z"
   },
   {
    "duration": 19,
    "start_time": "2024-10-30T09:11:01.987Z"
   },
   {
    "duration": 11,
    "start_time": "2024-10-30T09:11:02.008Z"
   },
   {
    "duration": 25,
    "start_time": "2024-10-30T09:11:02.020Z"
   },
   {
    "duration": 5,
    "start_time": "2024-10-30T09:11:02.047Z"
   },
   {
    "duration": 6,
    "start_time": "2024-10-30T09:11:02.054Z"
   },
   {
    "duration": 4,
    "start_time": "2024-10-30T09:11:02.061Z"
   },
   {
    "duration": 2,
    "start_time": "2024-10-30T09:11:02.068Z"
   },
   {
    "duration": 340,
    "start_time": "2024-10-30T09:11:02.072Z"
   },
   {
    "duration": 0,
    "start_time": "2024-10-30T09:11:02.413Z"
   },
   {
    "duration": 8783,
    "start_time": "2024-10-30T09:11:34.720Z"
   },
   {
    "duration": 1335,
    "start_time": "2024-10-30T09:12:07.966Z"
   },
   {
    "duration": 843,
    "start_time": "2024-10-30T09:12:44.522Z"
   },
   {
    "duration": 105,
    "start_time": "2024-10-30T09:12:45.367Z"
   },
   {
    "duration": 11,
    "start_time": "2024-10-30T09:12:45.474Z"
   },
   {
    "duration": 10,
    "start_time": "2024-10-30T09:12:45.486Z"
   },
   {
    "duration": 15,
    "start_time": "2024-10-30T09:12:45.498Z"
   },
   {
    "duration": 30,
    "start_time": "2024-10-30T09:12:45.515Z"
   },
   {
    "duration": 4,
    "start_time": "2024-10-30T09:12:45.547Z"
   },
   {
    "duration": 5,
    "start_time": "2024-10-30T09:12:45.552Z"
   },
   {
    "duration": 9,
    "start_time": "2024-10-30T09:12:45.559Z"
   },
   {
    "duration": 4,
    "start_time": "2024-10-30T09:12:45.569Z"
   },
   {
    "duration": 7,
    "start_time": "2024-10-30T09:12:45.574Z"
   },
   {
    "duration": 6,
    "start_time": "2024-10-30T09:12:45.583Z"
   },
   {
    "duration": 6,
    "start_time": "2024-10-30T09:12:45.591Z"
   },
   {
    "duration": 43,
    "start_time": "2024-10-30T09:12:45.601Z"
   },
   {
    "duration": 6,
    "start_time": "2024-10-30T09:12:45.646Z"
   },
   {
    "duration": 11,
    "start_time": "2024-10-30T09:12:45.654Z"
   },
   {
    "duration": 8,
    "start_time": "2024-10-30T09:12:45.667Z"
   },
   {
    "duration": 9,
    "start_time": "2024-10-30T09:12:45.676Z"
   },
   {
    "duration": 19,
    "start_time": "2024-10-30T09:12:45.686Z"
   },
   {
    "duration": 45,
    "start_time": "2024-10-30T09:12:45.706Z"
   },
   {
    "duration": 6,
    "start_time": "2024-10-30T09:12:45.753Z"
   },
   {
    "duration": 8,
    "start_time": "2024-10-30T09:12:45.760Z"
   },
   {
    "duration": 4,
    "start_time": "2024-10-30T09:12:45.769Z"
   },
   {
    "duration": 3,
    "start_time": "2024-10-30T09:12:45.775Z"
   },
   {
    "duration": 5,
    "start_time": "2024-10-30T09:12:45.780Z"
   },
   {
    "duration": 5,
    "start_time": "2024-10-30T09:12:45.786Z"
   },
   {
    "duration": 7,
    "start_time": "2024-10-30T09:12:46.361Z"
   },
   {
    "duration": 4,
    "start_time": "2024-10-30T09:12:46.370Z"
   },
   {
    "duration": 12,
    "start_time": "2024-10-30T09:12:46.376Z"
   },
   {
    "duration": 82,
    "start_time": "2024-10-30T09:12:46.390Z"
   },
   {
    "duration": 5,
    "start_time": "2024-10-30T09:12:46.477Z"
   },
   {
    "duration": 61,
    "start_time": "2024-10-30T09:12:46.483Z"
   },
   {
    "duration": 11,
    "start_time": "2024-10-30T09:12:46.546Z"
   },
   {
    "duration": 5,
    "start_time": "2024-10-30T09:12:46.558Z"
   },
   {
    "duration": 5,
    "start_time": "2024-10-30T09:12:46.564Z"
   },
   {
    "duration": 7,
    "start_time": "2024-10-30T09:12:46.570Z"
   },
   {
    "duration": 3,
    "start_time": "2024-10-30T09:12:46.579Z"
   },
   {
    "duration": 2,
    "start_time": "2024-10-30T09:12:46.584Z"
   },
   {
    "duration": 58,
    "start_time": "2024-10-30T09:12:46.588Z"
   },
   {
    "duration": 867,
    "start_time": "2024-10-30T09:13:57.929Z"
   },
   {
    "duration": 95,
    "start_time": "2024-10-30T09:13:58.799Z"
   },
   {
    "duration": 11,
    "start_time": "2024-10-30T09:13:58.895Z"
   },
   {
    "duration": 8,
    "start_time": "2024-10-30T09:13:58.908Z"
   },
   {
    "duration": 31,
    "start_time": "2024-10-30T09:13:58.919Z"
   },
   {
    "duration": 7,
    "start_time": "2024-10-30T09:13:58.952Z"
   },
   {
    "duration": 3,
    "start_time": "2024-10-30T09:13:58.961Z"
   },
   {
    "duration": 5,
    "start_time": "2024-10-30T09:13:58.966Z"
   },
   {
    "duration": 9,
    "start_time": "2024-10-30T09:13:58.973Z"
   },
   {
    "duration": 3,
    "start_time": "2024-10-30T09:13:58.984Z"
   },
   {
    "duration": 7,
    "start_time": "2024-10-30T09:13:58.988Z"
   },
   {
    "duration": 6,
    "start_time": "2024-10-30T09:13:58.997Z"
   },
   {
    "duration": 7,
    "start_time": "2024-10-30T09:13:59.043Z"
   },
   {
    "duration": 4,
    "start_time": "2024-10-30T09:13:59.054Z"
   },
   {
    "duration": 6,
    "start_time": "2024-10-30T09:13:59.059Z"
   },
   {
    "duration": 9,
    "start_time": "2024-10-30T09:13:59.068Z"
   },
   {
    "duration": 9,
    "start_time": "2024-10-30T09:13:59.078Z"
   },
   {
    "duration": 9,
    "start_time": "2024-10-30T09:13:59.088Z"
   },
   {
    "duration": 57,
    "start_time": "2024-10-30T09:13:59.098Z"
   },
   {
    "duration": 12,
    "start_time": "2024-10-30T09:13:59.156Z"
   },
   {
    "duration": 5,
    "start_time": "2024-10-30T09:13:59.170Z"
   },
   {
    "duration": 8,
    "start_time": "2024-10-30T09:13:59.177Z"
   },
   {
    "duration": 4,
    "start_time": "2024-10-30T09:13:59.186Z"
   },
   {
    "duration": 3,
    "start_time": "2024-10-30T09:13:59.192Z"
   },
   {
    "duration": 4,
    "start_time": "2024-10-30T09:13:59.197Z"
   },
   {
    "duration": 43,
    "start_time": "2024-10-30T09:13:59.203Z"
   },
   {
    "duration": 6,
    "start_time": "2024-10-30T09:13:59.247Z"
   },
   {
    "duration": 5,
    "start_time": "2024-10-30T09:13:59.254Z"
   },
   {
    "duration": 13,
    "start_time": "2024-10-30T09:13:59.260Z"
   },
   {
    "duration": 69,
    "start_time": "2024-10-30T09:13:59.274Z"
   },
   {
    "duration": 4,
    "start_time": "2024-10-30T09:13:59.345Z"
   },
   {
    "duration": 16,
    "start_time": "2024-10-30T09:13:59.351Z"
   },
   {
    "duration": 11,
    "start_time": "2024-10-30T09:13:59.369Z"
   },
   {
    "duration": 5,
    "start_time": "2024-10-30T09:13:59.382Z"
   },
   {
    "duration": 5,
    "start_time": "2024-10-30T09:13:59.388Z"
   },
   {
    "duration": 5,
    "start_time": "2024-10-30T09:13:59.395Z"
   },
   {
    "duration": 6,
    "start_time": "2024-10-30T09:13:59.401Z"
   },
   {
    "duration": 3,
    "start_time": "2024-10-30T09:13:59.443Z"
   },
   {
    "duration": 7,
    "start_time": "2024-10-30T09:13:59.448Z"
   },
   {
    "duration": 263,
    "start_time": "2024-10-30T10:33:54.436Z"
   },
   {
    "duration": 839,
    "start_time": "2024-10-30T10:37:07.473Z"
   },
   {
    "duration": 99,
    "start_time": "2024-10-30T10:37:08.314Z"
   },
   {
    "duration": 10,
    "start_time": "2024-10-30T10:37:08.415Z"
   },
   {
    "duration": 17,
    "start_time": "2024-10-30T10:37:08.427Z"
   },
   {
    "duration": 16,
    "start_time": "2024-10-30T10:37:08.446Z"
   },
   {
    "duration": 7,
    "start_time": "2024-10-30T10:37:08.463Z"
   },
   {
    "duration": 4,
    "start_time": "2024-10-30T10:37:08.472Z"
   },
   {
    "duration": 4,
    "start_time": "2024-10-30T10:37:08.477Z"
   },
   {
    "duration": 10,
    "start_time": "2024-10-30T10:37:08.483Z"
   },
   {
    "duration": 3,
    "start_time": "2024-10-30T10:37:08.494Z"
   },
   {
    "duration": 6,
    "start_time": "2024-10-30T10:37:08.499Z"
   },
   {
    "duration": 7,
    "start_time": "2024-10-30T10:37:08.542Z"
   },
   {
    "duration": 7,
    "start_time": "2024-10-30T10:37:08.550Z"
   },
   {
    "duration": 2,
    "start_time": "2024-10-30T10:37:08.562Z"
   },
   {
    "duration": 6,
    "start_time": "2024-10-30T10:37:08.566Z"
   },
   {
    "duration": 10,
    "start_time": "2024-10-30T10:37:08.574Z"
   },
   {
    "duration": 8,
    "start_time": "2024-10-30T10:37:08.586Z"
   },
   {
    "duration": 49,
    "start_time": "2024-10-30T10:37:08.596Z"
   },
   {
    "duration": 20,
    "start_time": "2024-10-30T10:37:08.646Z"
   },
   {
    "duration": 11,
    "start_time": "2024-10-30T10:37:08.668Z"
   },
   {
    "duration": 5,
    "start_time": "2024-10-30T10:37:08.681Z"
   },
   {
    "duration": 8,
    "start_time": "2024-10-30T10:37:08.688Z"
   },
   {
    "duration": 4,
    "start_time": "2024-10-30T10:37:08.698Z"
   },
   {
    "duration": 824,
    "start_time": "2024-10-30T10:37:08.703Z"
   },
   {
    "duration": 0,
    "start_time": "2024-10-30T10:37:09.529Z"
   },
   {
    "duration": 0,
    "start_time": "2024-10-30T10:37:09.531Z"
   },
   {
    "duration": 0,
    "start_time": "2024-10-30T10:37:09.532Z"
   },
   {
    "duration": 0,
    "start_time": "2024-10-30T10:37:09.542Z"
   },
   {
    "duration": 0,
    "start_time": "2024-10-30T10:37:09.544Z"
   },
   {
    "duration": 0,
    "start_time": "2024-10-30T10:37:09.545Z"
   },
   {
    "duration": 0,
    "start_time": "2024-10-30T10:37:09.546Z"
   },
   {
    "duration": 0,
    "start_time": "2024-10-30T10:37:09.547Z"
   },
   {
    "duration": 0,
    "start_time": "2024-10-30T10:37:09.548Z"
   },
   {
    "duration": 0,
    "start_time": "2024-10-30T10:37:09.549Z"
   },
   {
    "duration": 0,
    "start_time": "2024-10-30T10:37:09.550Z"
   },
   {
    "duration": 0,
    "start_time": "2024-10-30T10:37:09.551Z"
   },
   {
    "duration": 0,
    "start_time": "2024-10-30T10:37:09.552Z"
   },
   {
    "duration": 0,
    "start_time": "2024-10-30T10:37:09.553Z"
   },
   {
    "duration": 5,
    "start_time": "2024-10-30T10:51:36.426Z"
   },
   {
    "duration": 19,
    "start_time": "2024-10-30T10:53:58.742Z"
   },
   {
    "duration": 24,
    "start_time": "2024-10-30T10:54:04.921Z"
   },
   {
    "duration": 5,
    "start_time": "2024-10-30T10:54:20.103Z"
   },
   {
    "duration": 10,
    "start_time": "2024-10-30T10:55:08.462Z"
   },
   {
    "duration": 852,
    "start_time": "2024-10-30T10:55:26.103Z"
   },
   {
    "duration": 100,
    "start_time": "2024-10-30T10:55:26.958Z"
   },
   {
    "duration": 11,
    "start_time": "2024-10-30T10:55:27.060Z"
   },
   {
    "duration": 9,
    "start_time": "2024-10-30T10:55:27.072Z"
   },
   {
    "duration": 16,
    "start_time": "2024-10-30T10:55:27.082Z"
   },
   {
    "duration": 7,
    "start_time": "2024-10-30T10:55:27.099Z"
   },
   {
    "duration": 4,
    "start_time": "2024-10-30T10:55:27.108Z"
   },
   {
    "duration": 30,
    "start_time": "2024-10-30T10:55:27.114Z"
   },
   {
    "duration": 10,
    "start_time": "2024-10-30T10:55:27.145Z"
   },
   {
    "duration": 3,
    "start_time": "2024-10-30T10:55:27.158Z"
   },
   {
    "duration": 7,
    "start_time": "2024-10-30T10:55:27.162Z"
   },
   {
    "duration": 7,
    "start_time": "2024-10-30T10:55:27.171Z"
   },
   {
    "duration": 6,
    "start_time": "2024-10-30T10:55:27.180Z"
   },
   {
    "duration": 3,
    "start_time": "2024-10-30T10:55:27.188Z"
   },
   {
    "duration": 5,
    "start_time": "2024-10-30T10:55:27.193Z"
   },
   {
    "duration": 10,
    "start_time": "2024-10-30T10:55:27.242Z"
   },
   {
    "duration": 9,
    "start_time": "2024-10-30T10:55:27.254Z"
   },
   {
    "duration": 9,
    "start_time": "2024-10-30T10:55:27.264Z"
   },
   {
    "duration": 19,
    "start_time": "2024-10-30T10:55:27.274Z"
   },
   {
    "duration": 13,
    "start_time": "2024-10-30T10:55:27.294Z"
   },
   {
    "duration": 38,
    "start_time": "2024-10-30T10:55:27.309Z"
   },
   {
    "duration": 10,
    "start_time": "2024-10-30T10:55:27.348Z"
   },
   {
    "duration": 4,
    "start_time": "2024-10-30T10:55:27.361Z"
   },
   {
    "duration": 4,
    "start_time": "2024-10-30T10:55:27.366Z"
   },
   {
    "duration": 8,
    "start_time": "2024-10-30T10:55:27.372Z"
   },
   {
    "duration": 3,
    "start_time": "2024-10-30T10:55:27.382Z"
   },
   {
    "duration": 21,
    "start_time": "2024-10-30T10:55:27.387Z"
   },
   {
    "duration": 4,
    "start_time": "2024-10-30T10:55:27.446Z"
   },
   {
    "duration": 15,
    "start_time": "2024-10-30T10:55:27.452Z"
   },
   {
    "duration": 6,
    "start_time": "2024-10-30T10:55:27.469Z"
   },
   {
    "duration": 4,
    "start_time": "2024-10-30T10:55:27.476Z"
   },
   {
    "duration": 13,
    "start_time": "2024-10-30T10:55:27.481Z"
   },
   {
    "duration": 66,
    "start_time": "2024-10-30T10:55:27.496Z"
   },
   {
    "duration": 4,
    "start_time": "2024-10-30T10:55:27.564Z"
   },
   {
    "duration": 17,
    "start_time": "2024-10-30T10:55:27.570Z"
   },
   {
    "duration": 11,
    "start_time": "2024-10-30T10:55:27.588Z"
   },
   {
    "duration": 4,
    "start_time": "2024-10-30T10:55:27.601Z"
   },
   {
    "duration": 5,
    "start_time": "2024-10-30T10:55:27.606Z"
   },
   {
    "duration": 33,
    "start_time": "2024-10-30T10:55:27.613Z"
   },
   {
    "duration": 4,
    "start_time": "2024-10-30T10:55:27.648Z"
   },
   {
    "duration": 7,
    "start_time": "2024-10-30T10:55:27.654Z"
   },
   {
    "duration": 15,
    "start_time": "2024-10-30T10:57:15.185Z"
   },
   {
    "duration": 845,
    "start_time": "2024-10-30T10:57:26.782Z"
   },
   {
    "duration": 100,
    "start_time": "2024-10-30T10:57:27.629Z"
   },
   {
    "duration": 13,
    "start_time": "2024-10-30T10:57:27.731Z"
   },
   {
    "duration": 8,
    "start_time": "2024-10-30T10:57:27.747Z"
   },
   {
    "duration": 16,
    "start_time": "2024-10-30T10:57:27.757Z"
   },
   {
    "duration": 7,
    "start_time": "2024-10-30T10:57:27.775Z"
   },
   {
    "duration": 4,
    "start_time": "2024-10-30T10:57:27.783Z"
   },
   {
    "duration": 5,
    "start_time": "2024-10-30T10:57:27.789Z"
   },
   {
    "duration": 10,
    "start_time": "2024-10-30T10:57:27.795Z"
   },
   {
    "duration": 3,
    "start_time": "2024-10-30T10:57:27.844Z"
   },
   {
    "duration": 6,
    "start_time": "2024-10-30T10:57:27.849Z"
   },
   {
    "duration": 7,
    "start_time": "2024-10-30T10:57:27.857Z"
   },
   {
    "duration": 6,
    "start_time": "2024-10-30T10:57:27.866Z"
   },
   {
    "duration": 4,
    "start_time": "2024-10-30T10:57:27.873Z"
   },
   {
    "duration": 7,
    "start_time": "2024-10-30T10:57:27.878Z"
   },
   {
    "duration": 10,
    "start_time": "2024-10-30T10:57:27.887Z"
   },
   {
    "duration": 47,
    "start_time": "2024-10-30T10:57:27.899Z"
   },
   {
    "duration": 8,
    "start_time": "2024-10-30T10:57:27.948Z"
   },
   {
    "duration": 20,
    "start_time": "2024-10-30T10:57:27.957Z"
   },
   {
    "duration": 12,
    "start_time": "2024-10-30T10:57:27.978Z"
   },
   {
    "duration": 6,
    "start_time": "2024-10-30T10:57:27.992Z"
   },
   {
    "duration": 8,
    "start_time": "2024-10-30T10:57:28.000Z"
   },
   {
    "duration": 4,
    "start_time": "2024-10-30T10:57:28.043Z"
   },
   {
    "duration": 5,
    "start_time": "2024-10-30T10:57:28.048Z"
   },
   {
    "duration": 15,
    "start_time": "2024-10-30T10:57:28.055Z"
   },
   {
    "duration": 2,
    "start_time": "2024-10-30T10:57:28.072Z"
   },
   {
    "duration": 22,
    "start_time": "2024-10-30T10:57:28.075Z"
   },
   {
    "duration": 4,
    "start_time": "2024-10-30T10:57:28.101Z"
   },
   {
    "duration": 40,
    "start_time": "2024-10-30T10:57:28.106Z"
   },
   {
    "duration": 8,
    "start_time": "2024-10-30T10:57:28.148Z"
   },
   {
    "duration": 4,
    "start_time": "2024-10-30T10:57:28.158Z"
   },
   {
    "duration": 13,
    "start_time": "2024-10-30T10:57:28.164Z"
   },
   {
    "duration": 65,
    "start_time": "2024-10-30T10:57:28.178Z"
   },
   {
    "duration": 4,
    "start_time": "2024-10-30T10:57:28.245Z"
   },
   {
    "duration": 16,
    "start_time": "2024-10-30T10:57:28.251Z"
   },
   {
    "duration": 11,
    "start_time": "2024-10-30T10:57:28.269Z"
   },
   {
    "duration": 3,
    "start_time": "2024-10-30T10:57:28.282Z"
   },
   {
    "duration": 5,
    "start_time": "2024-10-30T10:57:28.287Z"
   },
   {
    "duration": 6,
    "start_time": "2024-10-30T10:57:28.294Z"
   },
   {
    "duration": 4,
    "start_time": "2024-10-30T10:57:28.301Z"
   },
   {
    "duration": 40,
    "start_time": "2024-10-30T10:57:28.306Z"
   },
   {
    "duration": 2657,
    "start_time": "2024-10-30T16:12:50.254Z"
   },
   {
    "duration": 159,
    "start_time": "2024-10-30T16:12:52.913Z"
   },
   {
    "duration": 11,
    "start_time": "2024-10-30T16:12:53.074Z"
   },
   {
    "duration": 9,
    "start_time": "2024-10-30T16:12:53.086Z"
   },
   {
    "duration": 15,
    "start_time": "2024-10-30T16:12:53.098Z"
   },
   {
    "duration": 28,
    "start_time": "2024-10-30T16:12:53.115Z"
   },
   {
    "duration": 4,
    "start_time": "2024-10-30T16:12:53.144Z"
   },
   {
    "duration": 4,
    "start_time": "2024-10-30T16:12:53.150Z"
   },
   {
    "duration": 11,
    "start_time": "2024-10-30T16:12:53.156Z"
   },
   {
    "duration": 3,
    "start_time": "2024-10-30T16:12:53.169Z"
   },
   {
    "duration": 7,
    "start_time": "2024-10-30T16:12:53.174Z"
   },
   {
    "duration": 6,
    "start_time": "2024-10-30T16:12:53.183Z"
   },
   {
    "duration": 7,
    "start_time": "2024-10-30T16:12:53.191Z"
   },
   {
    "duration": 4,
    "start_time": "2024-10-30T16:12:53.242Z"
   },
   {
    "duration": 7,
    "start_time": "2024-10-30T16:12:53.247Z"
   },
   {
    "duration": 10,
    "start_time": "2024-10-30T16:12:53.255Z"
   },
   {
    "duration": 9,
    "start_time": "2024-10-30T16:12:53.266Z"
   },
   {
    "duration": 9,
    "start_time": "2024-10-30T16:12:53.277Z"
   },
   {
    "duration": 56,
    "start_time": "2024-10-30T16:12:53.287Z"
   },
   {
    "duration": 12,
    "start_time": "2024-10-30T16:12:53.345Z"
   },
   {
    "duration": 6,
    "start_time": "2024-10-30T16:12:53.358Z"
   },
   {
    "duration": 7,
    "start_time": "2024-10-30T16:12:53.366Z"
   },
   {
    "duration": 4,
    "start_time": "2024-10-30T16:12:53.375Z"
   },
   {
    "duration": 4,
    "start_time": "2024-10-30T16:12:53.381Z"
   },
   {
    "duration": 16,
    "start_time": "2024-10-30T16:12:53.386Z"
   },
   {
    "duration": 39,
    "start_time": "2024-10-30T16:12:53.404Z"
   },
   {
    "duration": 21,
    "start_time": "2024-10-30T16:12:53.445Z"
   },
   {
    "duration": 5,
    "start_time": "2024-10-30T16:12:53.468Z"
   },
   {
    "duration": 6,
    "start_time": "2024-10-30T16:12:53.475Z"
   },
   {
    "duration": 6,
    "start_time": "2024-10-30T16:12:53.482Z"
   },
   {
    "duration": 4,
    "start_time": "2024-10-30T16:12:53.489Z"
   },
   {
    "duration": 49,
    "start_time": "2024-10-30T16:12:53.495Z"
   },
   {
    "duration": 42,
    "start_time": "2024-10-30T16:12:53.546Z"
   },
   {
    "duration": 4,
    "start_time": "2024-10-30T16:12:53.590Z"
   },
   {
    "duration": 16,
    "start_time": "2024-10-30T16:12:53.597Z"
   },
   {
    "duration": 32,
    "start_time": "2024-10-30T16:12:53.615Z"
   },
   {
    "duration": 5,
    "start_time": "2024-10-30T16:12:53.648Z"
   },
   {
    "duration": 5,
    "start_time": "2024-10-30T16:12:53.654Z"
   },
   {
    "duration": 5,
    "start_time": "2024-10-30T16:12:53.661Z"
   },
   {
    "duration": 4,
    "start_time": "2024-10-30T16:12:53.667Z"
   },
   {
    "duration": 6,
    "start_time": "2024-10-30T16:12:53.675Z"
   },
   {
    "duration": 9,
    "start_time": "2024-10-30T16:20:57.409Z"
   },
   {
    "duration": 705,
    "start_time": "2024-10-30T16:25:13.431Z"
   },
   {
    "duration": 5,
    "start_time": "2024-10-30T16:25:33.903Z"
   },
   {
    "duration": 7,
    "start_time": "2024-10-30T16:25:40.456Z"
   },
   {
    "duration": 5,
    "start_time": "2024-10-30T16:27:45.998Z"
   },
   {
    "duration": 856,
    "start_time": "2024-10-30T16:27:55.559Z"
   },
   {
    "duration": 97,
    "start_time": "2024-10-30T16:27:56.417Z"
   },
   {
    "duration": 10,
    "start_time": "2024-10-30T16:27:56.516Z"
   },
   {
    "duration": 19,
    "start_time": "2024-10-30T16:27:56.528Z"
   },
   {
    "duration": 16,
    "start_time": "2024-10-30T16:27:56.550Z"
   },
   {
    "duration": 10,
    "start_time": "2024-10-30T16:27:56.567Z"
   },
   {
    "duration": 5,
    "start_time": "2024-10-30T16:27:56.578Z"
   },
   {
    "duration": 5,
    "start_time": "2024-10-30T16:27:56.584Z"
   },
   {
    "duration": 9,
    "start_time": "2024-10-30T16:27:56.591Z"
   },
   {
    "duration": 3,
    "start_time": "2024-10-30T16:27:56.602Z"
   },
   {
    "duration": 39,
    "start_time": "2024-10-30T16:27:56.607Z"
   },
   {
    "duration": 7,
    "start_time": "2024-10-30T16:27:56.647Z"
   },
   {
    "duration": 8,
    "start_time": "2024-10-30T16:27:56.656Z"
   },
   {
    "duration": 4,
    "start_time": "2024-10-30T16:27:56.668Z"
   },
   {
    "duration": 6,
    "start_time": "2024-10-30T16:27:56.674Z"
   },
   {
    "duration": 9,
    "start_time": "2024-10-30T16:27:56.682Z"
   },
   {
    "duration": 9,
    "start_time": "2024-10-30T16:27:56.693Z"
   },
   {
    "duration": 44,
    "start_time": "2024-10-30T16:27:56.704Z"
   },
   {
    "duration": 20,
    "start_time": "2024-10-30T16:27:56.750Z"
   },
   {
    "duration": 12,
    "start_time": "2024-10-30T16:27:56.771Z"
   },
   {
    "duration": 6,
    "start_time": "2024-10-30T16:27:56.785Z"
   },
   {
    "duration": 7,
    "start_time": "2024-10-30T16:27:56.793Z"
   },
   {
    "duration": 4,
    "start_time": "2024-10-30T16:27:56.802Z"
   },
   {
    "duration": 39,
    "start_time": "2024-10-30T16:27:56.807Z"
   },
   {
    "duration": 6,
    "start_time": "2024-10-30T16:27:56.847Z"
   },
   {
    "duration": 22,
    "start_time": "2024-10-30T16:27:56.854Z"
   },
   {
    "duration": 4,
    "start_time": "2024-10-30T16:27:56.877Z"
   },
   {
    "duration": 5,
    "start_time": "2024-10-30T16:27:56.883Z"
   },
   {
    "duration": 6,
    "start_time": "2024-10-30T16:27:56.889Z"
   },
   {
    "duration": 4,
    "start_time": "2024-10-30T16:27:56.898Z"
   },
   {
    "duration": 51,
    "start_time": "2024-10-30T16:27:56.903Z"
   },
   {
    "duration": 46,
    "start_time": "2024-10-30T16:27:56.956Z"
   },
   {
    "duration": 4,
    "start_time": "2024-10-30T16:27:57.003Z"
   },
   {
    "duration": 37,
    "start_time": "2024-10-30T16:27:57.009Z"
   },
   {
    "duration": 12,
    "start_time": "2024-10-30T16:27:57.047Z"
   },
   {
    "duration": 3,
    "start_time": "2024-10-30T16:27:57.061Z"
   },
   {
    "duration": 5,
    "start_time": "2024-10-30T16:27:57.066Z"
   },
   {
    "duration": 5,
    "start_time": "2024-10-30T16:27:57.073Z"
   },
   {
    "duration": 5,
    "start_time": "2024-10-30T16:27:57.080Z"
   },
   {
    "duration": 6,
    "start_time": "2024-10-30T16:27:57.086Z"
   },
   {
    "duration": 5,
    "start_time": "2024-10-30T16:28:25.286Z"
   },
   {
    "duration": 6,
    "start_time": "2024-10-30T16:29:56.725Z"
   },
   {
    "duration": 934,
    "start_time": "2024-10-30T16:30:18.445Z"
   },
   {
    "duration": 98,
    "start_time": "2024-10-30T16:30:19.381Z"
   },
   {
    "duration": 11,
    "start_time": "2024-10-30T16:30:19.481Z"
   },
   {
    "duration": 9,
    "start_time": "2024-10-30T16:30:19.494Z"
   },
   {
    "duration": 17,
    "start_time": "2024-10-30T16:30:19.505Z"
   },
   {
    "duration": 9,
    "start_time": "2024-10-30T16:30:19.543Z"
   },
   {
    "duration": 5,
    "start_time": "2024-10-30T16:30:19.553Z"
   },
   {
    "duration": 5,
    "start_time": "2024-10-30T16:30:19.559Z"
   },
   {
    "duration": 12,
    "start_time": "2024-10-30T16:30:19.566Z"
   },
   {
    "duration": 3,
    "start_time": "2024-10-30T16:30:19.581Z"
   },
   {
    "duration": 7,
    "start_time": "2024-10-30T16:30:19.586Z"
   },
   {
    "duration": 7,
    "start_time": "2024-10-30T16:30:19.595Z"
   },
   {
    "duration": 45,
    "start_time": "2024-10-30T16:30:19.603Z"
   },
   {
    "duration": 3,
    "start_time": "2024-10-30T16:30:19.650Z"
   },
   {
    "duration": 6,
    "start_time": "2024-10-30T16:30:19.655Z"
   },
   {
    "duration": 11,
    "start_time": "2024-10-30T16:30:19.663Z"
   },
   {
    "duration": 9,
    "start_time": "2024-10-30T16:30:19.676Z"
   },
   {
    "duration": 9,
    "start_time": "2024-10-30T16:30:19.687Z"
   },
   {
    "duration": 59,
    "start_time": "2024-10-30T16:30:19.698Z"
   },
   {
    "duration": 14,
    "start_time": "2024-10-30T16:30:19.759Z"
   },
   {
    "duration": 6,
    "start_time": "2024-10-30T16:30:19.775Z"
   },
   {
    "duration": 10,
    "start_time": "2024-10-30T16:30:19.783Z"
   },
   {
    "duration": 6,
    "start_time": "2024-10-30T16:30:19.796Z"
   },
   {
    "duration": 38,
    "start_time": "2024-10-30T16:30:19.805Z"
   },
   {
    "duration": 8,
    "start_time": "2024-10-30T16:30:19.845Z"
   },
   {
    "duration": 22,
    "start_time": "2024-10-30T16:30:19.855Z"
   },
   {
    "duration": 4,
    "start_time": "2024-10-30T16:30:19.879Z"
   },
   {
    "duration": 6,
    "start_time": "2024-10-30T16:30:19.888Z"
   },
   {
    "duration": 7,
    "start_time": "2024-10-30T16:30:19.895Z"
   },
   {
    "duration": 4,
    "start_time": "2024-10-30T16:30:19.904Z"
   },
   {
    "duration": 14,
    "start_time": "2024-10-30T16:30:19.943Z"
   },
   {
    "duration": 46,
    "start_time": "2024-10-30T16:30:19.959Z"
   },
   {
    "duration": 5,
    "start_time": "2024-10-30T16:30:20.007Z"
   },
   {
    "duration": 37,
    "start_time": "2024-10-30T16:30:20.013Z"
   },
   {
    "duration": 14,
    "start_time": "2024-10-30T16:30:20.052Z"
   },
   {
    "duration": 5,
    "start_time": "2024-10-30T16:30:20.068Z"
   },
   {
    "duration": 6,
    "start_time": "2024-10-30T16:30:20.074Z"
   },
   {
    "duration": 5,
    "start_time": "2024-10-30T16:30:20.081Z"
   },
   {
    "duration": 4,
    "start_time": "2024-10-30T16:30:20.089Z"
   },
   {
    "duration": 5,
    "start_time": "2024-10-30T16:30:20.095Z"
   },
   {
    "duration": 7,
    "start_time": "2024-10-30T16:31:02.812Z"
   },
   {
    "duration": 857,
    "start_time": "2024-10-30T16:31:13.697Z"
   },
   {
    "duration": 100,
    "start_time": "2024-10-30T16:31:14.556Z"
   },
   {
    "duration": 12,
    "start_time": "2024-10-30T16:31:14.657Z"
   },
   {
    "duration": 8,
    "start_time": "2024-10-30T16:31:14.671Z"
   },
   {
    "duration": 16,
    "start_time": "2024-10-30T16:31:14.682Z"
   },
   {
    "duration": 7,
    "start_time": "2024-10-30T16:31:14.701Z"
   },
   {
    "duration": 4,
    "start_time": "2024-10-30T16:31:14.709Z"
   },
   {
    "duration": 31,
    "start_time": "2024-10-30T16:31:14.715Z"
   },
   {
    "duration": 9,
    "start_time": "2024-10-30T16:31:14.748Z"
   },
   {
    "duration": 4,
    "start_time": "2024-10-30T16:31:14.759Z"
   },
   {
    "duration": 7,
    "start_time": "2024-10-30T16:31:14.765Z"
   },
   {
    "duration": 6,
    "start_time": "2024-10-30T16:31:14.774Z"
   },
   {
    "duration": 7,
    "start_time": "2024-10-30T16:31:14.782Z"
   },
   {
    "duration": 4,
    "start_time": "2024-10-30T16:31:14.792Z"
   },
   {
    "duration": 47,
    "start_time": "2024-10-30T16:31:14.797Z"
   },
   {
    "duration": 11,
    "start_time": "2024-10-30T16:31:14.846Z"
   },
   {
    "duration": 9,
    "start_time": "2024-10-30T16:31:14.859Z"
   },
   {
    "duration": 8,
    "start_time": "2024-10-30T16:31:14.870Z"
   },
   {
    "duration": 20,
    "start_time": "2024-10-30T16:31:14.880Z"
   },
   {
    "duration": 42,
    "start_time": "2024-10-30T16:31:14.902Z"
   },
   {
    "duration": 6,
    "start_time": "2024-10-30T16:31:14.945Z"
   },
   {
    "duration": 8,
    "start_time": "2024-10-30T16:31:14.953Z"
   },
   {
    "duration": 5,
    "start_time": "2024-10-30T16:31:14.962Z"
   },
   {
    "duration": 3,
    "start_time": "2024-10-30T16:31:14.970Z"
   },
   {
    "duration": 8,
    "start_time": "2024-10-30T16:31:14.975Z"
   },
   {
    "duration": 20,
    "start_time": "2024-10-30T16:31:14.985Z"
   },
   {
    "duration": 4,
    "start_time": "2024-10-30T16:31:15.043Z"
   },
   {
    "duration": 5,
    "start_time": "2024-10-30T16:31:15.049Z"
   },
   {
    "duration": 10,
    "start_time": "2024-10-30T16:31:15.056Z"
   },
   {
    "duration": 4,
    "start_time": "2024-10-30T16:31:15.067Z"
   },
   {
    "duration": 15,
    "start_time": "2024-10-30T16:31:15.073Z"
   },
   {
    "duration": 71,
    "start_time": "2024-10-30T16:31:15.091Z"
   },
   {
    "duration": 6,
    "start_time": "2024-10-30T16:31:15.163Z"
   },
   {
    "duration": 25,
    "start_time": "2024-10-30T16:31:15.170Z"
   },
   {
    "duration": 15,
    "start_time": "2024-10-30T16:31:15.197Z"
   },
   {
    "duration": 5,
    "start_time": "2024-10-30T16:31:15.213Z"
   },
   {
    "duration": 5,
    "start_time": "2024-10-30T16:31:15.243Z"
   },
   {
    "duration": 5,
    "start_time": "2024-10-30T16:31:15.250Z"
   },
   {
    "duration": 4,
    "start_time": "2024-10-30T16:31:15.257Z"
   },
   {
    "duration": 6,
    "start_time": "2024-10-30T16:31:15.263Z"
   },
   {
    "duration": 6,
    "start_time": "2024-10-30T16:33:37.520Z"
   },
   {
    "duration": 34,
    "start_time": "2024-10-30T16:36:22.995Z"
   },
   {
    "duration": 10,
    "start_time": "2024-10-30T16:37:39.460Z"
   },
   {
    "duration": 924,
    "start_time": "2024-10-30T16:37:46.951Z"
   },
   {
    "duration": 96,
    "start_time": "2024-10-30T16:37:47.877Z"
   },
   {
    "duration": 10,
    "start_time": "2024-10-30T16:37:47.975Z"
   },
   {
    "duration": 10,
    "start_time": "2024-10-30T16:37:47.987Z"
   },
   {
    "duration": 15,
    "start_time": "2024-10-30T16:37:47.998Z"
   },
   {
    "duration": 28,
    "start_time": "2024-10-30T16:37:48.015Z"
   },
   {
    "duration": 3,
    "start_time": "2024-10-30T16:37:48.045Z"
   },
   {
    "duration": 4,
    "start_time": "2024-10-30T16:37:48.050Z"
   },
   {
    "duration": 10,
    "start_time": "2024-10-30T16:37:48.056Z"
   },
   {
    "duration": 3,
    "start_time": "2024-10-30T16:37:48.069Z"
   },
   {
    "duration": 7,
    "start_time": "2024-10-30T16:37:48.073Z"
   },
   {
    "duration": 7,
    "start_time": "2024-10-30T16:37:48.082Z"
   },
   {
    "duration": 7,
    "start_time": "2024-10-30T16:37:48.091Z"
   },
   {
    "duration": 45,
    "start_time": "2024-10-30T16:37:48.099Z"
   },
   {
    "duration": 6,
    "start_time": "2024-10-30T16:37:48.145Z"
   },
   {
    "duration": 11,
    "start_time": "2024-10-30T16:37:48.152Z"
   },
   {
    "duration": 9,
    "start_time": "2024-10-30T16:37:48.164Z"
   },
   {
    "duration": 9,
    "start_time": "2024-10-30T16:37:48.175Z"
   },
   {
    "duration": 19,
    "start_time": "2024-10-30T16:37:48.185Z"
   },
   {
    "duration": 12,
    "start_time": "2024-10-30T16:37:48.242Z"
   },
   {
    "duration": 7,
    "start_time": "2024-10-30T16:37:48.256Z"
   },
   {
    "duration": 8,
    "start_time": "2024-10-30T16:37:48.265Z"
   },
   {
    "duration": 5,
    "start_time": "2024-10-30T16:37:48.275Z"
   },
   {
    "duration": 4,
    "start_time": "2024-10-30T16:37:48.281Z"
   },
   {
    "duration": 9,
    "start_time": "2024-10-30T16:37:48.287Z"
   },
   {
    "duration": 46,
    "start_time": "2024-10-30T16:37:48.298Z"
   },
   {
    "duration": 4,
    "start_time": "2024-10-30T16:37:48.346Z"
   },
   {
    "duration": 6,
    "start_time": "2024-10-30T16:37:48.354Z"
   },
   {
    "duration": 7,
    "start_time": "2024-10-30T16:37:48.362Z"
   },
   {
    "duration": 4,
    "start_time": "2024-10-30T16:37:48.370Z"
   },
   {
    "duration": 13,
    "start_time": "2024-10-30T16:37:48.376Z"
   },
   {
    "duration": 83,
    "start_time": "2024-10-30T16:37:48.391Z"
   },
   {
    "duration": 4,
    "start_time": "2024-10-30T16:37:48.476Z"
   },
   {
    "duration": 21,
    "start_time": "2024-10-30T16:37:48.482Z"
   },
   {
    "duration": 11,
    "start_time": "2024-10-30T16:37:48.505Z"
   },
   {
    "duration": 25,
    "start_time": "2024-10-30T16:37:48.518Z"
   },
   {
    "duration": 5,
    "start_time": "2024-10-30T16:37:48.545Z"
   },
   {
    "duration": 5,
    "start_time": "2024-10-30T16:37:48.552Z"
   },
   {
    "duration": 3,
    "start_time": "2024-10-30T16:37:48.559Z"
   },
   {
    "duration": 317,
    "start_time": "2024-10-30T16:37:48.564Z"
   },
   {
    "duration": 926,
    "start_time": "2024-10-30T16:46:46.773Z"
   },
   {
    "duration": 103,
    "start_time": "2024-10-30T16:46:47.701Z"
   },
   {
    "duration": 11,
    "start_time": "2024-10-30T16:46:47.805Z"
   },
   {
    "duration": 8,
    "start_time": "2024-10-30T16:46:47.818Z"
   },
   {
    "duration": 28,
    "start_time": "2024-10-30T16:46:47.829Z"
   },
   {
    "duration": 8,
    "start_time": "2024-10-30T16:46:47.859Z"
   },
   {
    "duration": 4,
    "start_time": "2024-10-30T16:46:47.869Z"
   },
   {
    "duration": 5,
    "start_time": "2024-10-30T16:46:47.874Z"
   },
   {
    "duration": 10,
    "start_time": "2024-10-30T16:46:47.880Z"
   },
   {
    "duration": 4,
    "start_time": "2024-10-30T16:46:47.892Z"
   },
   {
    "duration": 7,
    "start_time": "2024-10-30T16:46:47.897Z"
   },
   {
    "duration": 42,
    "start_time": "2024-10-30T16:46:47.906Z"
   },
   {
    "duration": 7,
    "start_time": "2024-10-30T16:46:47.950Z"
   },
   {
    "duration": 4,
    "start_time": "2024-10-30T16:46:47.962Z"
   },
   {
    "duration": 6,
    "start_time": "2024-10-30T16:46:47.967Z"
   },
   {
    "duration": 9,
    "start_time": "2024-10-30T16:46:47.975Z"
   },
   {
    "duration": 9,
    "start_time": "2024-10-30T16:46:47.985Z"
   },
   {
    "duration": 52,
    "start_time": "2024-10-30T16:46:47.996Z"
   },
   {
    "duration": 21,
    "start_time": "2024-10-30T16:46:48.049Z"
   },
   {
    "duration": 12,
    "start_time": "2024-10-30T16:46:48.072Z"
   },
   {
    "duration": 7,
    "start_time": "2024-10-30T16:46:48.086Z"
   },
   {
    "duration": 8,
    "start_time": "2024-10-30T16:46:48.094Z"
   },
   {
    "duration": 4,
    "start_time": "2024-10-30T16:46:48.104Z"
   },
   {
    "duration": 6,
    "start_time": "2024-10-30T16:46:48.143Z"
   },
   {
    "duration": 9,
    "start_time": "2024-10-30T16:46:48.151Z"
   },
   {
    "duration": 11,
    "start_time": "2024-10-30T16:46:48.163Z"
   },
   {
    "duration": 6,
    "start_time": "2024-10-30T16:46:48.175Z"
   },
   {
    "duration": 6,
    "start_time": "2024-10-30T16:46:48.183Z"
   },
   {
    "duration": 7,
    "start_time": "2024-10-30T16:46:48.193Z"
   },
   {
    "duration": 4,
    "start_time": "2024-10-30T16:46:48.243Z"
   },
   {
    "duration": 14,
    "start_time": "2024-10-30T16:46:48.250Z"
   },
   {
    "duration": 43,
    "start_time": "2024-10-30T16:46:48.266Z"
   },
   {
    "duration": 5,
    "start_time": "2024-10-30T16:46:48.310Z"
   },
   {
    "duration": 17,
    "start_time": "2024-10-30T16:46:48.343Z"
   },
   {
    "duration": 11,
    "start_time": "2024-10-30T16:46:48.362Z"
   },
   {
    "duration": 5,
    "start_time": "2024-10-30T16:46:48.375Z"
   },
   {
    "duration": 5,
    "start_time": "2024-10-30T16:46:48.382Z"
   },
   {
    "duration": 6,
    "start_time": "2024-10-30T16:46:48.389Z"
   },
   {
    "duration": 4,
    "start_time": "2024-10-30T16:46:48.396Z"
   },
   {
    "duration": 314,
    "start_time": "2024-10-30T16:46:48.402Z"
   },
   {
    "duration": 3,
    "start_time": "2024-10-30T17:01:59.593Z"
   },
   {
    "duration": 4,
    "start_time": "2024-10-30T17:03:20.536Z"
   },
   {
    "duration": 11,
    "start_time": "2024-10-30T17:06:47.549Z"
   },
   {
    "duration": 4,
    "start_time": "2024-10-30T17:07:17.911Z"
   },
   {
    "duration": 14,
    "start_time": "2024-10-30T17:08:44.531Z"
   },
   {
    "duration": 13,
    "start_time": "2024-10-30T17:08:50.105Z"
   },
   {
    "duration": 9,
    "start_time": "2024-10-30T17:09:06.124Z"
   },
   {
    "duration": 15,
    "start_time": "2024-10-30T17:09:13.373Z"
   },
   {
    "duration": 14,
    "start_time": "2024-10-30T17:11:26.781Z"
   },
   {
    "duration": 10,
    "start_time": "2024-10-30T17:12:02.609Z"
   },
   {
    "duration": 25,
    "start_time": "2024-10-30T17:12:12.476Z"
   },
   {
    "duration": 9,
    "start_time": "2024-10-30T17:12:19.658Z"
   },
   {
    "duration": 14,
    "start_time": "2024-10-30T17:12:26.881Z"
   },
   {
    "duration": 15,
    "start_time": "2024-10-30T17:12:54.854Z"
   },
   {
    "duration": 7,
    "start_time": "2024-10-30T17:13:39.382Z"
   },
   {
    "duration": 8,
    "start_time": "2024-10-30T17:14:28.084Z"
   },
   {
    "duration": 6,
    "start_time": "2024-10-30T17:14:58.606Z"
   },
   {
    "duration": 14,
    "start_time": "2024-10-30T17:15:33.142Z"
   },
   {
    "duration": 6,
    "start_time": "2024-10-30T17:15:33.514Z"
   },
   {
    "duration": 160,
    "start_time": "2024-10-31T09:00:23.974Z"
   },
   {
    "duration": 2551,
    "start_time": "2024-10-31T09:00:35.054Z"
   },
   {
    "duration": 138,
    "start_time": "2024-10-31T09:00:37.608Z"
   },
   {
    "duration": 10,
    "start_time": "2024-10-31T09:00:37.748Z"
   },
   {
    "duration": 8,
    "start_time": "2024-10-31T09:00:37.760Z"
   },
   {
    "duration": 21,
    "start_time": "2024-10-31T09:00:37.771Z"
   },
   {
    "duration": 8,
    "start_time": "2024-10-31T09:00:37.793Z"
   },
   {
    "duration": 3,
    "start_time": "2024-10-31T09:00:37.802Z"
   },
   {
    "duration": 5,
    "start_time": "2024-10-31T09:00:37.807Z"
   },
   {
    "duration": 10,
    "start_time": "2024-10-31T09:00:37.814Z"
   },
   {
    "duration": 3,
    "start_time": "2024-10-31T09:00:37.826Z"
   },
   {
    "duration": 6,
    "start_time": "2024-10-31T09:00:37.831Z"
   },
   {
    "duration": 7,
    "start_time": "2024-10-31T09:00:37.840Z"
   },
   {
    "duration": 8,
    "start_time": "2024-10-31T09:00:37.888Z"
   },
   {
    "duration": 4,
    "start_time": "2024-10-31T09:00:37.900Z"
   },
   {
    "duration": 5,
    "start_time": "2024-10-31T09:00:37.906Z"
   },
   {
    "duration": 9,
    "start_time": "2024-10-31T09:00:37.913Z"
   },
   {
    "duration": 8,
    "start_time": "2024-10-31T09:00:37.924Z"
   },
   {
    "duration": 8,
    "start_time": "2024-10-31T09:00:37.934Z"
   },
   {
    "duration": 56,
    "start_time": "2024-10-31T09:00:37.943Z"
   },
   {
    "duration": 13,
    "start_time": "2024-10-31T09:00:38.000Z"
   },
   {
    "duration": 6,
    "start_time": "2024-10-31T09:00:38.015Z"
   },
   {
    "duration": 8,
    "start_time": "2024-10-31T09:00:38.023Z"
   },
   {
    "duration": 10,
    "start_time": "2024-10-31T09:00:38.032Z"
   },
   {
    "duration": 4,
    "start_time": "2024-10-31T09:00:38.044Z"
   },
   {
    "duration": 41,
    "start_time": "2024-10-31T09:00:38.049Z"
   },
   {
    "duration": 8,
    "start_time": "2024-10-31T09:00:38.092Z"
   },
   {
    "duration": 5,
    "start_time": "2024-10-31T09:00:38.102Z"
   },
   {
    "duration": 5,
    "start_time": "2024-10-31T09:00:38.108Z"
   },
   {
    "duration": 3,
    "start_time": "2024-10-31T09:00:38.114Z"
   },
   {
    "duration": 13,
    "start_time": "2024-10-31T09:00:38.120Z"
   },
   {
    "duration": 5,
    "start_time": "2024-10-31T09:00:38.136Z"
   },
   {
    "duration": 46,
    "start_time": "2024-10-31T09:00:38.142Z"
   },
   {
    "duration": 6,
    "start_time": "2024-10-31T09:00:38.190Z"
   },
   {
    "duration": 6,
    "start_time": "2024-10-31T09:00:38.197Z"
   },
   {
    "duration": 13,
    "start_time": "2024-10-31T09:00:38.205Z"
   },
   {
    "duration": 41,
    "start_time": "2024-10-31T09:00:38.220Z"
   },
   {
    "duration": 27,
    "start_time": "2024-10-31T09:00:38.262Z"
   },
   {
    "duration": 16,
    "start_time": "2024-10-31T09:00:38.291Z"
   },
   {
    "duration": 11,
    "start_time": "2024-10-31T09:00:38.308Z"
   },
   {
    "duration": 4,
    "start_time": "2024-10-31T09:00:38.322Z"
   },
   {
    "duration": 5,
    "start_time": "2024-10-31T09:00:38.330Z"
   },
   {
    "duration": 5,
    "start_time": "2024-10-31T09:00:38.337Z"
   },
   {
    "duration": 4,
    "start_time": "2024-10-31T09:00:38.343Z"
   },
   {
    "duration": 273,
    "start_time": "2024-10-31T09:00:38.349Z"
   },
   {
    "duration": 7,
    "start_time": "2024-10-31T09:01:52.106Z"
   },
   {
    "duration": 8,
    "start_time": "2024-10-31T09:01:59.390Z"
   },
   {
    "duration": 6,
    "start_time": "2024-10-31T09:02:12.619Z"
   },
   {
    "duration": 5,
    "start_time": "2024-10-31T09:03:31.264Z"
   },
   {
    "duration": 6,
    "start_time": "2024-10-31T09:03:45.406Z"
   },
   {
    "duration": 5,
    "start_time": "2024-10-31T09:03:45.752Z"
   },
   {
    "duration": 27,
    "start_time": "2024-10-31T09:04:00.904Z"
   },
   {
    "duration": 8,
    "start_time": "2024-10-31T09:04:06.342Z"
   },
   {
    "duration": 7,
    "start_time": "2024-10-31T09:04:07.967Z"
   },
   {
    "duration": 7,
    "start_time": "2024-10-31T09:04:17.726Z"
   },
   {
    "duration": 6,
    "start_time": "2024-10-31T09:04:26.865Z"
   },
   {
    "duration": 4,
    "start_time": "2024-10-31T09:04:27.221Z"
   },
   {
    "duration": 6,
    "start_time": "2024-10-31T09:08:38.259Z"
   },
   {
    "duration": 5,
    "start_time": "2024-10-31T09:09:05.994Z"
   },
   {
    "duration": 3,
    "start_time": "2024-10-31T09:10:56.195Z"
   },
   {
    "duration": 3,
    "start_time": "2024-10-31T09:11:13.224Z"
   },
   {
    "duration": 3,
    "start_time": "2024-10-31T09:11:22.490Z"
   },
   {
    "duration": 4,
    "start_time": "2024-10-31T09:11:32.773Z"
   },
   {
    "duration": 15,
    "start_time": "2024-10-31T09:12:00.069Z"
   },
   {
    "duration": 181,
    "start_time": "2024-10-31T09:12:10.862Z"
   },
   {
    "duration": 5,
    "start_time": "2024-10-31T09:12:42.248Z"
   },
   {
    "duration": 39,
    "start_time": "2024-10-31T09:13:33.134Z"
   },
   {
    "duration": 19,
    "start_time": "2024-10-31T09:13:44.150Z"
   },
   {
    "duration": 27,
    "start_time": "2024-10-31T09:14:00.274Z"
   },
   {
    "duration": 947,
    "start_time": "2024-10-31T09:14:37.897Z"
   },
   {
    "duration": 100,
    "start_time": "2024-10-31T09:14:38.846Z"
   },
   {
    "duration": 10,
    "start_time": "2024-10-31T09:14:38.948Z"
   },
   {
    "duration": 8,
    "start_time": "2024-10-31T09:14:38.960Z"
   },
   {
    "duration": 17,
    "start_time": "2024-10-31T09:14:38.986Z"
   },
   {
    "duration": 7,
    "start_time": "2024-10-31T09:14:39.005Z"
   },
   {
    "duration": 5,
    "start_time": "2024-10-31T09:14:39.013Z"
   },
   {
    "duration": 6,
    "start_time": "2024-10-31T09:14:39.019Z"
   },
   {
    "duration": 10,
    "start_time": "2024-10-31T09:14:39.027Z"
   },
   {
    "duration": 3,
    "start_time": "2024-10-31T09:14:39.038Z"
   },
   {
    "duration": 7,
    "start_time": "2024-10-31T09:14:39.042Z"
   },
   {
    "duration": 7,
    "start_time": "2024-10-31T09:14:39.087Z"
   },
   {
    "duration": 8,
    "start_time": "2024-10-31T09:14:39.095Z"
   },
   {
    "duration": 4,
    "start_time": "2024-10-31T09:14:39.107Z"
   },
   {
    "duration": 5,
    "start_time": "2024-10-31T09:14:39.112Z"
   },
   {
    "duration": 10,
    "start_time": "2024-10-31T09:14:39.119Z"
   },
   {
    "duration": 9,
    "start_time": "2024-10-31T09:14:39.130Z"
   },
   {
    "duration": 47,
    "start_time": "2024-10-31T09:14:39.140Z"
   },
   {
    "duration": 19,
    "start_time": "2024-10-31T09:14:39.189Z"
   },
   {
    "duration": 12,
    "start_time": "2024-10-31T09:14:39.209Z"
   },
   {
    "duration": 3,
    "start_time": "2024-10-31T09:14:39.223Z"
   },
   {
    "duration": 6,
    "start_time": "2024-10-31T09:14:39.227Z"
   },
   {
    "duration": 8,
    "start_time": "2024-10-31T09:14:39.235Z"
   },
   {
    "duration": 4,
    "start_time": "2024-10-31T09:14:39.244Z"
   },
   {
    "duration": 63,
    "start_time": "2024-10-31T09:14:39.249Z"
   },
   {
    "duration": 7,
    "start_time": "2024-10-31T09:14:39.313Z"
   },
   {
    "duration": 5,
    "start_time": "2024-10-31T09:14:39.322Z"
   },
   {
    "duration": 5,
    "start_time": "2024-10-31T09:14:39.329Z"
   },
   {
    "duration": 3,
    "start_time": "2024-10-31T09:14:39.335Z"
   },
   {
    "duration": 4,
    "start_time": "2024-10-31T09:14:39.339Z"
   },
   {
    "duration": 6,
    "start_time": "2024-10-31T09:14:39.346Z"
   },
   {
    "duration": 39,
    "start_time": "2024-10-31T09:14:39.353Z"
   },
   {
    "duration": 4,
    "start_time": "2024-10-31T09:14:39.393Z"
   },
   {
    "duration": 12,
    "start_time": "2024-10-31T09:14:39.399Z"
   },
   {
    "duration": 75,
    "start_time": "2024-10-31T09:14:39.412Z"
   },
   {
    "duration": 5,
    "start_time": "2024-10-31T09:14:39.488Z"
   },
   {
    "duration": 17,
    "start_time": "2024-10-31T09:14:39.495Z"
   },
   {
    "duration": 11,
    "start_time": "2024-10-31T09:14:39.513Z"
   },
   {
    "duration": 5,
    "start_time": "2024-10-31T09:14:39.526Z"
   },
   {
    "duration": 5,
    "start_time": "2024-10-31T09:14:39.533Z"
   },
   {
    "duration": 5,
    "start_time": "2024-10-31T09:14:39.542Z"
   },
   {
    "duration": 39,
    "start_time": "2024-10-31T09:14:39.548Z"
   },
   {
    "duration": 280,
    "start_time": "2024-10-31T09:14:39.588Z"
   },
   {
    "duration": 9,
    "start_time": "2024-10-31T09:16:03.618Z"
   },
   {
    "duration": 4,
    "start_time": "2024-10-31T09:16:26.521Z"
   },
   {
    "duration": 5,
    "start_time": "2024-10-31T09:16:57.082Z"
   },
   {
    "duration": 910,
    "start_time": "2024-10-31T09:17:07.904Z"
   },
   {
    "duration": 102,
    "start_time": "2024-10-31T09:17:08.816Z"
   },
   {
    "duration": 11,
    "start_time": "2024-10-31T09:17:08.919Z"
   },
   {
    "duration": 8,
    "start_time": "2024-10-31T09:17:08.931Z"
   },
   {
    "duration": 15,
    "start_time": "2024-10-31T09:17:08.942Z"
   },
   {
    "duration": 29,
    "start_time": "2024-10-31T09:17:08.958Z"
   },
   {
    "duration": 4,
    "start_time": "2024-10-31T09:17:08.988Z"
   },
   {
    "duration": 5,
    "start_time": "2024-10-31T09:17:08.993Z"
   },
   {
    "duration": 10,
    "start_time": "2024-10-31T09:17:09.000Z"
   },
   {
    "duration": 3,
    "start_time": "2024-10-31T09:17:09.011Z"
   },
   {
    "duration": 8,
    "start_time": "2024-10-31T09:17:09.016Z"
   },
   {
    "duration": 7,
    "start_time": "2024-10-31T09:17:09.025Z"
   },
   {
    "duration": 7,
    "start_time": "2024-10-31T09:17:09.033Z"
   },
   {
    "duration": 44,
    "start_time": "2024-10-31T09:17:09.044Z"
   },
   {
    "duration": 6,
    "start_time": "2024-10-31T09:17:09.089Z"
   },
   {
    "duration": 10,
    "start_time": "2024-10-31T09:17:09.096Z"
   },
   {
    "duration": 9,
    "start_time": "2024-10-31T09:17:09.107Z"
   },
   {
    "duration": 8,
    "start_time": "2024-10-31T09:17:09.118Z"
   },
   {
    "duration": 19,
    "start_time": "2024-10-31T09:17:09.127Z"
   },
   {
    "duration": 46,
    "start_time": "2024-10-31T09:17:09.148Z"
   },
   {
    "duration": 3,
    "start_time": "2024-10-31T09:17:09.196Z"
   },
   {
    "duration": 6,
    "start_time": "2024-10-31T09:17:09.201Z"
   },
   {
    "duration": 8,
    "start_time": "2024-10-31T09:17:09.208Z"
   },
   {
    "duration": 3,
    "start_time": "2024-10-31T09:17:09.218Z"
   },
   {
    "duration": 8,
    "start_time": "2024-10-31T09:17:09.223Z"
   },
   {
    "duration": 6,
    "start_time": "2024-10-31T09:17:09.234Z"
   },
   {
    "duration": 48,
    "start_time": "2024-10-31T09:17:09.241Z"
   },
   {
    "duration": 5,
    "start_time": "2024-10-31T09:17:09.291Z"
   },
   {
    "duration": 6,
    "start_time": "2024-10-31T09:17:09.298Z"
   },
   {
    "duration": 5,
    "start_time": "2024-10-31T09:17:09.305Z"
   },
   {
    "duration": 6,
    "start_time": "2024-10-31T09:17:09.311Z"
   },
   {
    "duration": 7,
    "start_time": "2024-10-31T09:17:09.318Z"
   },
   {
    "duration": 3,
    "start_time": "2024-10-31T09:17:09.327Z"
   },
   {
    "duration": 12,
    "start_time": "2024-10-31T09:17:09.332Z"
   },
   {
    "duration": 83,
    "start_time": "2024-10-31T09:17:09.345Z"
   },
   {
    "duration": 4,
    "start_time": "2024-10-31T09:17:09.430Z"
   },
   {
    "duration": 18,
    "start_time": "2024-10-31T09:17:09.436Z"
   },
   {
    "duration": 31,
    "start_time": "2024-10-31T09:17:09.456Z"
   },
   {
    "duration": 5,
    "start_time": "2024-10-31T09:17:09.488Z"
   },
   {
    "duration": 6,
    "start_time": "2024-10-31T09:17:09.494Z"
   },
   {
    "duration": 5,
    "start_time": "2024-10-31T09:17:09.504Z"
   },
   {
    "duration": 3,
    "start_time": "2024-10-31T09:17:09.511Z"
   },
   {
    "duration": 299,
    "start_time": "2024-10-31T09:17:09.517Z"
   },
   {
    "duration": 564,
    "start_time": "2024-10-31T09:17:22.039Z"
   },
   {
    "duration": 90,
    "start_time": "2024-10-31T09:17:53.247Z"
   },
   {
    "duration": 4,
    "start_time": "2024-10-31T09:18:14.937Z"
   },
   {
    "duration": 156,
    "start_time": "2024-10-31T10:00:55.570Z"
   },
   {
    "duration": 2613,
    "start_time": "2024-10-31T10:01:06.715Z"
   },
   {
    "duration": 157,
    "start_time": "2024-10-31T10:01:09.330Z"
   },
   {
    "duration": 10,
    "start_time": "2024-10-31T10:01:09.489Z"
   },
   {
    "duration": 8,
    "start_time": "2024-10-31T10:01:09.501Z"
   },
   {
    "duration": 19,
    "start_time": "2024-10-31T10:01:09.511Z"
   },
   {
    "duration": 7,
    "start_time": "2024-10-31T10:01:09.531Z"
   },
   {
    "duration": 5,
    "start_time": "2024-10-31T10:01:09.540Z"
   },
   {
    "duration": 4,
    "start_time": "2024-10-31T10:01:09.546Z"
   },
   {
    "duration": 11,
    "start_time": "2024-10-31T10:01:09.552Z"
   },
   {
    "duration": 3,
    "start_time": "2024-10-31T10:01:09.564Z"
   },
   {
    "duration": 7,
    "start_time": "2024-10-31T10:01:09.568Z"
   },
   {
    "duration": 6,
    "start_time": "2024-10-31T10:01:09.577Z"
   },
   {
    "duration": 45,
    "start_time": "2024-10-31T10:01:09.585Z"
   },
   {
    "duration": 3,
    "start_time": "2024-10-31T10:01:09.634Z"
   },
   {
    "duration": 5,
    "start_time": "2024-10-31T10:01:09.639Z"
   },
   {
    "duration": 9,
    "start_time": "2024-10-31T10:01:09.646Z"
   },
   {
    "duration": 9,
    "start_time": "2024-10-31T10:01:09.656Z"
   },
   {
    "duration": 8,
    "start_time": "2024-10-31T10:01:09.666Z"
   },
   {
    "duration": 56,
    "start_time": "2024-10-31T10:01:09.676Z"
   },
   {
    "duration": 12,
    "start_time": "2024-10-31T10:01:09.734Z"
   },
   {
    "duration": 3,
    "start_time": "2024-10-31T10:01:09.748Z"
   },
   {
    "duration": 6,
    "start_time": "2024-10-31T10:01:09.753Z"
   },
   {
    "duration": 7,
    "start_time": "2024-10-31T10:01:09.761Z"
   },
   {
    "duration": 4,
    "start_time": "2024-10-31T10:01:09.770Z"
   },
   {
    "duration": 5,
    "start_time": "2024-10-31T10:01:09.775Z"
   },
   {
    "duration": 47,
    "start_time": "2024-10-31T10:01:09.782Z"
   },
   {
    "duration": 861,
    "start_time": "2024-10-31T10:01:09.831Z"
   },
   {
    "duration": 0,
    "start_time": "2024-10-31T10:01:10.695Z"
   },
   {
    "duration": 0,
    "start_time": "2024-10-31T10:01:10.696Z"
   },
   {
    "duration": 0,
    "start_time": "2024-10-31T10:01:10.697Z"
   },
   {
    "duration": 0,
    "start_time": "2024-10-31T10:01:10.699Z"
   },
   {
    "duration": 0,
    "start_time": "2024-10-31T10:01:10.699Z"
   },
   {
    "duration": 0,
    "start_time": "2024-10-31T10:01:10.700Z"
   },
   {
    "duration": 0,
    "start_time": "2024-10-31T10:01:10.702Z"
   },
   {
    "duration": 0,
    "start_time": "2024-10-31T10:01:10.703Z"
   },
   {
    "duration": 0,
    "start_time": "2024-10-31T10:01:10.704Z"
   },
   {
    "duration": 0,
    "start_time": "2024-10-31T10:01:10.705Z"
   },
   {
    "duration": 0,
    "start_time": "2024-10-31T10:01:10.706Z"
   },
   {
    "duration": 0,
    "start_time": "2024-10-31T10:01:10.707Z"
   },
   {
    "duration": 0,
    "start_time": "2024-10-31T10:01:10.708Z"
   },
   {
    "duration": 0,
    "start_time": "2024-10-31T10:01:10.709Z"
   },
   {
    "duration": 0,
    "start_time": "2024-10-31T10:01:10.711Z"
   },
   {
    "duration": 0,
    "start_time": "2024-10-31T10:01:10.712Z"
   },
   {
    "duration": 27,
    "start_time": "2024-10-31T10:01:49.103Z"
   },
   {
    "duration": 2,
    "start_time": "2024-10-31T10:02:04.173Z"
   },
   {
    "duration": 7,
    "start_time": "2024-10-31T10:02:08.624Z"
   },
   {
    "duration": 7,
    "start_time": "2024-10-31T10:02:16.243Z"
   },
   {
    "duration": 5,
    "start_time": "2024-10-31T10:03:34.030Z"
   },
   {
    "duration": 4,
    "start_time": "2024-10-31T10:03:44.656Z"
   },
   {
    "duration": 7,
    "start_time": "2024-10-31T10:09:22.664Z"
   },
   {
    "duration": 10,
    "start_time": "2024-10-31T10:09:58.351Z"
   },
   {
    "duration": 892,
    "start_time": "2024-10-31T10:13:47.789Z"
   },
   {
    "duration": 99,
    "start_time": "2024-10-31T10:13:48.683Z"
   },
   {
    "duration": 11,
    "start_time": "2024-10-31T10:13:48.783Z"
   },
   {
    "duration": 8,
    "start_time": "2024-10-31T10:13:48.795Z"
   },
   {
    "duration": 27,
    "start_time": "2024-10-31T10:13:48.806Z"
   },
   {
    "duration": 7,
    "start_time": "2024-10-31T10:13:48.835Z"
   },
   {
    "duration": 3,
    "start_time": "2024-10-31T10:13:48.843Z"
   },
   {
    "duration": 4,
    "start_time": "2024-10-31T10:13:48.848Z"
   },
   {
    "duration": 10,
    "start_time": "2024-10-31T10:13:48.854Z"
   },
   {
    "duration": 4,
    "start_time": "2024-10-31T10:13:48.866Z"
   },
   {
    "duration": 6,
    "start_time": "2024-10-31T10:13:48.873Z"
   },
   {
    "duration": 43,
    "start_time": "2024-10-31T10:13:48.881Z"
   },
   {
    "duration": 7,
    "start_time": "2024-10-31T10:13:48.926Z"
   },
   {
    "duration": 4,
    "start_time": "2024-10-31T10:13:48.937Z"
   },
   {
    "duration": 7,
    "start_time": "2024-10-31T10:13:48.942Z"
   },
   {
    "duration": 9,
    "start_time": "2024-10-31T10:13:48.951Z"
   },
   {
    "duration": 8,
    "start_time": "2024-10-31T10:13:48.962Z"
   },
   {
    "duration": 8,
    "start_time": "2024-10-31T10:13:48.972Z"
   },
   {
    "duration": 59,
    "start_time": "2024-10-31T10:13:48.981Z"
   },
   {
    "duration": 14,
    "start_time": "2024-10-31T10:13:49.042Z"
   },
   {
    "duration": 4,
    "start_time": "2024-10-31T10:13:49.057Z"
   },
   {
    "duration": 7,
    "start_time": "2024-10-31T10:13:49.062Z"
   },
   {
    "duration": 9,
    "start_time": "2024-10-31T10:13:49.071Z"
   },
   {
    "duration": 3,
    "start_time": "2024-10-31T10:13:49.082Z"
   },
   {
    "duration": 38,
    "start_time": "2024-10-31T10:13:49.087Z"
   },
   {
    "duration": 26,
    "start_time": "2024-10-31T10:13:49.127Z"
   },
   {
    "duration": 8,
    "start_time": "2024-10-31T10:13:49.154Z"
   },
   {
    "duration": 3,
    "start_time": "2024-10-31T10:13:49.164Z"
   },
   {
    "duration": 4,
    "start_time": "2024-10-31T10:13:49.169Z"
   },
   {
    "duration": 6,
    "start_time": "2024-10-31T10:13:49.175Z"
   },
   {
    "duration": 41,
    "start_time": "2024-10-31T10:13:49.183Z"
   },
   {
    "duration": 7,
    "start_time": "2024-10-31T10:13:49.225Z"
   },
   {
    "duration": 5,
    "start_time": "2024-10-31T10:13:49.233Z"
   },
   {
    "duration": 17,
    "start_time": "2024-10-31T10:13:49.239Z"
   },
   {
    "duration": 44,
    "start_time": "2024-10-31T10:13:49.261Z"
   },
   {
    "duration": 21,
    "start_time": "2024-10-31T10:13:49.306Z"
   },
   {
    "duration": 16,
    "start_time": "2024-10-31T10:13:49.329Z"
   },
   {
    "duration": 11,
    "start_time": "2024-10-31T10:13:49.347Z"
   },
   {
    "duration": 5,
    "start_time": "2024-10-31T10:13:49.359Z"
   },
   {
    "duration": 5,
    "start_time": "2024-10-31T10:13:49.365Z"
   },
   {
    "duration": 5,
    "start_time": "2024-10-31T10:13:49.374Z"
   },
   {
    "duration": 4,
    "start_time": "2024-10-31T10:13:49.380Z"
   },
   {
    "duration": 42,
    "start_time": "2024-10-31T10:13:49.386Z"
   },
   {
    "duration": 8,
    "start_time": "2024-10-31T10:19:44.713Z"
   },
   {
    "duration": 11,
    "start_time": "2024-10-31T10:19:53.524Z"
   },
   {
    "duration": 6,
    "start_time": "2024-10-31T10:20:36.121Z"
   },
   {
    "duration": 354,
    "start_time": "2024-10-31T10:22:58.564Z"
   },
   {
    "duration": 15,
    "start_time": "2024-10-31T10:23:10.277Z"
   },
   {
    "duration": 13,
    "start_time": "2024-10-31T10:25:07.185Z"
   },
   {
    "duration": 7,
    "start_time": "2024-10-31T10:25:51.822Z"
   },
   {
    "duration": 7,
    "start_time": "2024-10-31T10:26:45.018Z"
   },
   {
    "duration": 7,
    "start_time": "2024-10-31T10:27:42.584Z"
   },
   {
    "duration": 158,
    "start_time": "2024-10-31T10:29:14.215Z"
   },
   {
    "duration": 167,
    "start_time": "2024-10-31T10:31:14.393Z"
   },
   {
    "duration": 172,
    "start_time": "2024-10-31T10:31:53.784Z"
   },
   {
    "duration": 161,
    "start_time": "2024-10-31T10:32:45.450Z"
   },
   {
    "duration": 100,
    "start_time": "2024-10-31T10:33:44.738Z"
   },
   {
    "duration": 237,
    "start_time": "2024-10-31T10:33:52.080Z"
   },
   {
    "duration": 165,
    "start_time": "2024-10-31T10:38:34.750Z"
   },
   {
    "duration": 12,
    "start_time": "2024-10-31T10:39:19.354Z"
   },
   {
    "duration": 6,
    "start_time": "2024-10-31T10:39:28.313Z"
   },
   {
    "duration": 141,
    "start_time": "2024-10-31T10:39:55.407Z"
   },
   {
    "duration": 11,
    "start_time": "2024-10-31T10:41:10.797Z"
   },
   {
    "duration": 7,
    "start_time": "2024-10-31T10:41:12.638Z"
   },
   {
    "duration": 172,
    "start_time": "2024-10-31T10:41:14.236Z"
   },
   {
    "duration": 146,
    "start_time": "2024-10-31T10:44:07.801Z"
   },
   {
    "duration": 212,
    "start_time": "2024-10-31T10:45:11.748Z"
   },
   {
    "duration": 7,
    "start_time": "2024-10-31T10:46:15.462Z"
   },
   {
    "duration": 25,
    "start_time": "2024-10-31T10:50:07.236Z"
   },
   {
    "duration": 6,
    "start_time": "2024-10-31T10:50:24.077Z"
   },
   {
    "duration": 6,
    "start_time": "2024-10-31T10:50:58.272Z"
   },
   {
    "duration": 4,
    "start_time": "2024-10-31T10:53:08.224Z"
   },
   {
    "duration": 909,
    "start_time": "2024-10-31T16:40:20.865Z"
   },
   {
    "duration": 144,
    "start_time": "2024-10-31T16:40:21.776Z"
   },
   {
    "duration": 10,
    "start_time": "2024-10-31T16:40:21.921Z"
   },
   {
    "duration": 9,
    "start_time": "2024-10-31T16:40:21.933Z"
   },
   {
    "duration": 17,
    "start_time": "2024-10-31T16:40:21.945Z"
   },
   {
    "duration": 8,
    "start_time": "2024-10-31T16:40:21.963Z"
   },
   {
    "duration": 4,
    "start_time": "2024-10-31T16:40:21.973Z"
   },
   {
    "duration": 31,
    "start_time": "2024-10-31T16:40:21.979Z"
   },
   {
    "duration": 13,
    "start_time": "2024-10-31T16:40:22.011Z"
   },
   {
    "duration": 4,
    "start_time": "2024-10-31T16:40:22.025Z"
   },
   {
    "duration": 7,
    "start_time": "2024-10-31T16:40:22.030Z"
   },
   {
    "duration": 6,
    "start_time": "2024-10-31T16:40:22.039Z"
   },
   {
    "duration": 7,
    "start_time": "2024-10-31T16:40:22.047Z"
   },
   {
    "duration": 3,
    "start_time": "2024-10-31T16:40:22.059Z"
   },
   {
    "duration": 6,
    "start_time": "2024-10-31T16:40:22.063Z"
   },
   {
    "duration": 48,
    "start_time": "2024-10-31T16:40:22.070Z"
   },
   {
    "duration": 9,
    "start_time": "2024-10-31T16:40:22.120Z"
   },
   {
    "duration": 9,
    "start_time": "2024-10-31T16:40:22.131Z"
   },
   {
    "duration": 18,
    "start_time": "2024-10-31T16:40:22.142Z"
   },
   {
    "duration": 47,
    "start_time": "2024-10-31T16:40:22.162Z"
   },
   {
    "duration": 4,
    "start_time": "2024-10-31T16:40:22.210Z"
   },
   {
    "duration": 6,
    "start_time": "2024-10-31T16:40:22.216Z"
   },
   {
    "duration": 8,
    "start_time": "2024-10-31T16:40:22.223Z"
   },
   {
    "duration": 4,
    "start_time": "2024-10-31T16:40:22.233Z"
   },
   {
    "duration": 6,
    "start_time": "2024-10-31T16:40:22.239Z"
   },
   {
    "duration": 64,
    "start_time": "2024-10-31T16:40:22.246Z"
   },
   {
    "duration": 8,
    "start_time": "2024-10-31T16:40:22.312Z"
   },
   {
    "duration": 4,
    "start_time": "2024-10-31T16:40:22.323Z"
   },
   {
    "duration": 6,
    "start_time": "2024-10-31T16:40:22.329Z"
   },
   {
    "duration": 6,
    "start_time": "2024-10-31T16:40:22.337Z"
   },
   {
    "duration": 5,
    "start_time": "2024-10-31T16:40:22.345Z"
   },
   {
    "duration": 7,
    "start_time": "2024-10-31T16:40:22.352Z"
   },
   {
    "duration": 4,
    "start_time": "2024-10-31T16:40:22.361Z"
   },
   {
    "duration": 14,
    "start_time": "2024-10-31T16:40:22.409Z"
   },
   {
    "duration": 42,
    "start_time": "2024-10-31T16:40:22.425Z"
   },
   {
    "duration": 4,
    "start_time": "2024-10-31T16:40:22.469Z"
   },
   {
    "duration": 37,
    "start_time": "2024-10-31T16:40:22.475Z"
   },
   {
    "duration": 11,
    "start_time": "2024-10-31T16:40:22.513Z"
   },
   {
    "duration": 6,
    "start_time": "2024-10-31T16:40:22.526Z"
   },
   {
    "duration": 5,
    "start_time": "2024-10-31T16:40:22.534Z"
   },
   {
    "duration": 5,
    "start_time": "2024-10-31T16:40:22.543Z"
   },
   {
    "duration": 4,
    "start_time": "2024-10-31T16:40:22.550Z"
   },
   {
    "duration": 12,
    "start_time": "2024-10-31T16:40:22.556Z"
   },
   {
    "duration": 41,
    "start_time": "2024-10-31T16:40:22.570Z"
   },
   {
    "duration": 6,
    "start_time": "2024-10-31T16:40:22.612Z"
   },
   {
    "duration": 374,
    "start_time": "2024-10-31T16:40:22.619Z"
   },
   {
    "duration": 0,
    "start_time": "2024-10-31T16:40:22.994Z"
   },
   {
    "duration": 0,
    "start_time": "2024-10-31T16:40:22.996Z"
   },
   {
    "duration": 251,
    "start_time": "2024-10-31T16:49:43.377Z"
   },
   {
    "duration": 322,
    "start_time": "2024-10-31T16:49:54.138Z"
   },
   {
    "duration": 177,
    "start_time": "2024-10-31T16:50:19.745Z"
   },
   {
    "duration": 8,
    "start_time": "2024-10-31T16:50:32.261Z"
   },
   {
    "duration": 11,
    "start_time": "2024-10-31T16:56:19.209Z"
   },
   {
    "duration": 3,
    "start_time": "2024-10-31T16:56:23.024Z"
   },
   {
    "duration": 3,
    "start_time": "2024-10-31T16:57:14.869Z"
   },
   {
    "duration": 24,
    "start_time": "2024-10-31T17:02:52.359Z"
   },
   {
    "duration": 143,
    "start_time": "2024-10-31T17:03:42.058Z"
   },
   {
    "duration": 22,
    "start_time": "2024-10-31T17:04:03.876Z"
   },
   {
    "duration": 238,
    "start_time": "2024-10-31T17:04:05.443Z"
   },
   {
    "duration": 24,
    "start_time": "2024-10-31T17:04:22.011Z"
   },
   {
    "duration": 137,
    "start_time": "2024-10-31T17:04:23.167Z"
   },
   {
    "duration": 5,
    "start_time": "2024-10-31T17:05:36.123Z"
   },
   {
    "duration": 965,
    "start_time": "2024-10-31T17:07:06.935Z"
   },
   {
    "duration": 111,
    "start_time": "2024-10-31T17:07:07.902Z"
   },
   {
    "duration": 11,
    "start_time": "2024-10-31T17:07:08.014Z"
   },
   {
    "duration": 8,
    "start_time": "2024-10-31T17:07:08.027Z"
   },
   {
    "duration": 16,
    "start_time": "2024-10-31T17:07:08.038Z"
   },
   {
    "duration": 8,
    "start_time": "2024-10-31T17:07:08.055Z"
   },
   {
    "duration": 4,
    "start_time": "2024-10-31T17:07:08.065Z"
   },
   {
    "duration": 5,
    "start_time": "2024-10-31T17:07:08.071Z"
   },
   {
    "duration": 12,
    "start_time": "2024-10-31T17:07:08.108Z"
   },
   {
    "duration": 3,
    "start_time": "2024-10-31T17:07:08.122Z"
   },
   {
    "duration": 7,
    "start_time": "2024-10-31T17:07:08.127Z"
   },
   {
    "duration": 7,
    "start_time": "2024-10-31T17:07:08.136Z"
   },
   {
    "duration": 7,
    "start_time": "2024-10-31T17:07:08.145Z"
   },
   {
    "duration": 4,
    "start_time": "2024-10-31T17:07:08.157Z"
   },
   {
    "duration": 47,
    "start_time": "2024-10-31T17:07:08.163Z"
   },
   {
    "duration": 14,
    "start_time": "2024-10-31T17:07:08.212Z"
   },
   {
    "duration": 9,
    "start_time": "2024-10-31T17:07:08.227Z"
   },
   {
    "duration": 9,
    "start_time": "2024-10-31T17:07:08.237Z"
   },
   {
    "duration": 20,
    "start_time": "2024-10-31T17:07:08.247Z"
   },
   {
    "duration": 41,
    "start_time": "2024-10-31T17:07:08.270Z"
   },
   {
    "duration": 4,
    "start_time": "2024-10-31T17:07:08.313Z"
   },
   {
    "duration": 7,
    "start_time": "2024-10-31T17:07:08.319Z"
   },
   {
    "duration": 8,
    "start_time": "2024-10-31T17:07:08.328Z"
   },
   {
    "duration": 4,
    "start_time": "2024-10-31T17:07:08.338Z"
   },
   {
    "duration": 5,
    "start_time": "2024-10-31T17:07:08.343Z"
   },
   {
    "duration": 65,
    "start_time": "2024-10-31T17:07:08.350Z"
   },
   {
    "duration": 7,
    "start_time": "2024-10-31T17:07:08.417Z"
   },
   {
    "duration": 5,
    "start_time": "2024-10-31T17:07:08.426Z"
   },
   {
    "duration": 5,
    "start_time": "2024-10-31T17:07:08.432Z"
   },
   {
    "duration": 7,
    "start_time": "2024-10-31T17:07:08.438Z"
   },
   {
    "duration": 6,
    "start_time": "2024-10-31T17:07:08.447Z"
   },
   {
    "duration": 8,
    "start_time": "2024-10-31T17:07:08.455Z"
   },
   {
    "duration": 45,
    "start_time": "2024-10-31T17:07:08.465Z"
   },
   {
    "duration": 13,
    "start_time": "2024-10-31T17:07:08.513Z"
   },
   {
    "duration": 45,
    "start_time": "2024-10-31T17:07:08.528Z"
   },
   {
    "duration": 4,
    "start_time": "2024-10-31T17:07:08.575Z"
   },
   {
    "duration": 43,
    "start_time": "2024-10-31T17:07:08.581Z"
   },
   {
    "duration": 11,
    "start_time": "2024-10-31T17:07:08.626Z"
   },
   {
    "duration": 5,
    "start_time": "2024-10-31T17:07:08.639Z"
   },
   {
    "duration": 7,
    "start_time": "2024-10-31T17:07:08.645Z"
   },
   {
    "duration": 5,
    "start_time": "2024-10-31T17:07:08.657Z"
   },
   {
    "duration": 4,
    "start_time": "2024-10-31T17:07:08.664Z"
   },
   {
    "duration": 46,
    "start_time": "2024-10-31T17:07:08.670Z"
   },
   {
    "duration": 5,
    "start_time": "2024-10-31T17:07:08.718Z"
   },
   {
    "duration": 5,
    "start_time": "2024-10-31T17:07:08.725Z"
   },
   {
    "duration": 412,
    "start_time": "2024-10-31T17:07:08.732Z"
   },
   {
    "duration": 0,
    "start_time": "2024-10-31T17:07:09.146Z"
   },
   {
    "duration": 0,
    "start_time": "2024-10-31T17:07:09.147Z"
   },
   {
    "duration": 0,
    "start_time": "2024-10-31T17:07:09.149Z"
   },
   {
    "duration": 0,
    "start_time": "2024-10-31T17:07:09.150Z"
   },
   {
    "duration": 0,
    "start_time": "2024-10-31T17:07:09.151Z"
   },
   {
    "duration": 180,
    "start_time": "2024-10-31T17:08:10.531Z"
   },
   {
    "duration": 180,
    "start_time": "2024-10-31T17:08:47.382Z"
   },
   {
    "duration": 948,
    "start_time": "2024-10-31T17:08:57.631Z"
   },
   {
    "duration": 96,
    "start_time": "2024-10-31T17:08:58.582Z"
   },
   {
    "duration": 11,
    "start_time": "2024-10-31T17:08:58.680Z"
   },
   {
    "duration": 17,
    "start_time": "2024-10-31T17:08:58.693Z"
   },
   {
    "duration": 15,
    "start_time": "2024-10-31T17:08:58.713Z"
   },
   {
    "duration": 7,
    "start_time": "2024-10-31T17:08:58.730Z"
   },
   {
    "duration": 4,
    "start_time": "2024-10-31T17:08:58.738Z"
   },
   {
    "duration": 5,
    "start_time": "2024-10-31T17:08:58.744Z"
   },
   {
    "duration": 10,
    "start_time": "2024-10-31T17:08:58.751Z"
   },
   {
    "duration": 4,
    "start_time": "2024-10-31T17:08:58.763Z"
   },
   {
    "duration": 42,
    "start_time": "2024-10-31T17:08:58.768Z"
   },
   {
    "duration": 7,
    "start_time": "2024-10-31T17:08:58.812Z"
   },
   {
    "duration": 7,
    "start_time": "2024-10-31T17:08:58.821Z"
   },
   {
    "duration": 3,
    "start_time": "2024-10-31T17:08:58.832Z"
   },
   {
    "duration": 6,
    "start_time": "2024-10-31T17:08:58.837Z"
   },
   {
    "duration": 8,
    "start_time": "2024-10-31T17:08:58.845Z"
   },
   {
    "duration": 8,
    "start_time": "2024-10-31T17:08:58.855Z"
   },
   {
    "duration": 50,
    "start_time": "2024-10-31T17:08:58.866Z"
   },
   {
    "duration": 19,
    "start_time": "2024-10-31T17:08:58.918Z"
   },
   {
    "duration": 12,
    "start_time": "2024-10-31T17:08:58.939Z"
   },
   {
    "duration": 4,
    "start_time": "2024-10-31T17:08:58.953Z"
   },
   {
    "duration": 6,
    "start_time": "2024-10-31T17:08:58.958Z"
   },
   {
    "duration": 43,
    "start_time": "2024-10-31T17:08:58.966Z"
   },
   {
    "duration": 4,
    "start_time": "2024-10-31T17:08:59.011Z"
   },
   {
    "duration": 6,
    "start_time": "2024-10-31T17:08:59.017Z"
   },
   {
    "duration": 26,
    "start_time": "2024-10-31T17:08:59.024Z"
   },
   {
    "duration": 6,
    "start_time": "2024-10-31T17:08:59.053Z"
   },
   {
    "duration": 5,
    "start_time": "2024-10-31T17:08:59.060Z"
   },
   {
    "duration": 3,
    "start_time": "2024-10-31T17:08:59.067Z"
   },
   {
    "duration": 39,
    "start_time": "2024-10-31T17:08:59.072Z"
   },
   {
    "duration": 6,
    "start_time": "2024-10-31T17:08:59.113Z"
   },
   {
    "duration": 7,
    "start_time": "2024-10-31T17:08:59.120Z"
   },
   {
    "duration": 4,
    "start_time": "2024-10-31T17:08:59.129Z"
   },
   {
    "duration": 12,
    "start_time": "2024-10-31T17:08:59.135Z"
   },
   {
    "duration": 76,
    "start_time": "2024-10-31T17:08:59.149Z"
   },
   {
    "duration": 5,
    "start_time": "2024-10-31T17:08:59.227Z"
   },
   {
    "duration": 16,
    "start_time": "2024-10-31T17:08:59.233Z"
   },
   {
    "duration": 11,
    "start_time": "2024-10-31T17:08:59.251Z"
   },
   {
    "duration": 5,
    "start_time": "2024-10-31T17:08:59.263Z"
   },
   {
    "duration": 5,
    "start_time": "2024-10-31T17:08:59.269Z"
   },
   {
    "duration": 6,
    "start_time": "2024-10-31T17:08:59.311Z"
   },
   {
    "duration": 4,
    "start_time": "2024-10-31T17:08:59.319Z"
   },
   {
    "duration": 11,
    "start_time": "2024-10-31T17:08:59.326Z"
   },
   {
    "duration": 6,
    "start_time": "2024-10-31T17:08:59.339Z"
   },
   {
    "duration": 403,
    "start_time": "2024-10-31T17:08:59.347Z"
   },
   {
    "duration": 0,
    "start_time": "2024-10-31T17:08:59.753Z"
   },
   {
    "duration": 0,
    "start_time": "2024-10-31T17:08:59.754Z"
   },
   {
    "duration": 0,
    "start_time": "2024-10-31T17:08:59.756Z"
   },
   {
    "duration": 0,
    "start_time": "2024-10-31T17:08:59.757Z"
   },
   {
    "duration": 0,
    "start_time": "2024-10-31T17:08:59.758Z"
   },
   {
    "duration": 104,
    "start_time": "2024-10-31T17:09:16.037Z"
   },
   {
    "duration": 288,
    "start_time": "2024-10-31T17:09:22.945Z"
   },
   {
    "duration": 178,
    "start_time": "2024-10-31T17:09:44.879Z"
   },
   {
    "duration": 894,
    "start_time": "2024-10-31T17:09:54.784Z"
   },
   {
    "duration": 99,
    "start_time": "2024-10-31T17:09:55.680Z"
   },
   {
    "duration": 10,
    "start_time": "2024-10-31T17:09:55.781Z"
   },
   {
    "duration": 16,
    "start_time": "2024-10-31T17:09:55.793Z"
   },
   {
    "duration": 16,
    "start_time": "2024-10-31T17:09:55.813Z"
   },
   {
    "duration": 6,
    "start_time": "2024-10-31T17:09:55.831Z"
   },
   {
    "duration": 4,
    "start_time": "2024-10-31T17:09:55.839Z"
   },
   {
    "duration": 5,
    "start_time": "2024-10-31T17:09:55.844Z"
   },
   {
    "duration": 10,
    "start_time": "2024-10-31T17:09:55.850Z"
   },
   {
    "duration": 5,
    "start_time": "2024-10-31T17:09:55.861Z"
   },
   {
    "duration": 43,
    "start_time": "2024-10-31T17:09:55.868Z"
   },
   {
    "duration": 6,
    "start_time": "2024-10-31T17:09:55.913Z"
   },
   {
    "duration": 6,
    "start_time": "2024-10-31T17:09:55.921Z"
   },
   {
    "duration": 3,
    "start_time": "2024-10-31T17:09:55.932Z"
   },
   {
    "duration": 6,
    "start_time": "2024-10-31T17:09:55.937Z"
   },
   {
    "duration": 8,
    "start_time": "2024-10-31T17:09:55.945Z"
   },
   {
    "duration": 10,
    "start_time": "2024-10-31T17:09:55.955Z"
   },
   {
    "duration": 46,
    "start_time": "2024-10-31T17:09:55.967Z"
   },
   {
    "duration": 21,
    "start_time": "2024-10-31T17:09:56.015Z"
   },
   {
    "duration": 12,
    "start_time": "2024-10-31T17:09:56.038Z"
   },
   {
    "duration": 4,
    "start_time": "2024-10-31T17:09:56.051Z"
   },
   {
    "duration": 6,
    "start_time": "2024-10-31T17:09:56.057Z"
   },
   {
    "duration": 45,
    "start_time": "2024-10-31T17:09:56.065Z"
   },
   {
    "duration": 4,
    "start_time": "2024-10-31T17:09:56.111Z"
   },
   {
    "duration": 5,
    "start_time": "2024-10-31T17:09:56.117Z"
   },
   {
    "duration": 26,
    "start_time": "2024-10-31T17:09:56.124Z"
   },
   {
    "duration": 6,
    "start_time": "2024-10-31T17:09:56.151Z"
   },
   {
    "duration": 6,
    "start_time": "2024-10-31T17:09:56.159Z"
   },
   {
    "duration": 4,
    "start_time": "2024-10-31T17:09:56.168Z"
   },
   {
    "duration": 41,
    "start_time": "2024-10-31T17:09:56.174Z"
   },
   {
    "duration": 8,
    "start_time": "2024-10-31T17:09:56.217Z"
   },
   {
    "duration": 8,
    "start_time": "2024-10-31T17:09:56.226Z"
   },
   {
    "duration": 5,
    "start_time": "2024-10-31T17:09:56.236Z"
   },
   {
    "duration": 13,
    "start_time": "2024-10-31T17:09:56.243Z"
   },
   {
    "duration": 81,
    "start_time": "2024-10-31T17:09:56.257Z"
   },
   {
    "duration": 4,
    "start_time": "2024-10-31T17:09:56.340Z"
   },
   {
    "duration": 15,
    "start_time": "2024-10-31T17:09:56.346Z"
   },
   {
    "duration": 13,
    "start_time": "2024-10-31T17:09:56.363Z"
   },
   {
    "duration": 5,
    "start_time": "2024-10-31T17:09:56.378Z"
   },
   {
    "duration": 5,
    "start_time": "2024-10-31T17:09:56.409Z"
   },
   {
    "duration": 5,
    "start_time": "2024-10-31T17:09:56.421Z"
   },
   {
    "duration": 4,
    "start_time": "2024-10-31T17:09:56.427Z"
   },
   {
    "duration": 12,
    "start_time": "2024-10-31T17:09:56.433Z"
   },
   {
    "duration": 5,
    "start_time": "2024-10-31T17:09:56.446Z"
   },
   {
    "duration": 260,
    "start_time": "2024-10-31T17:09:56.453Z"
   },
   {
    "duration": 7,
    "start_time": "2024-10-31T17:09:56.715Z"
   },
   {
    "duration": 23,
    "start_time": "2024-10-31T17:09:56.724Z"
   },
   {
    "duration": 173,
    "start_time": "2024-10-31T17:09:56.748Z"
   },
   {
    "duration": 176,
    "start_time": "2024-10-31T17:09:56.923Z"
   },
   {
    "duration": 6,
    "start_time": "2024-10-31T17:09:57.108Z"
   },
   {
    "duration": 933,
    "start_time": "2024-10-31T17:11:02.538Z"
   },
   {
    "duration": 96,
    "start_time": "2024-10-31T17:11:03.474Z"
   },
   {
    "duration": 10,
    "start_time": "2024-10-31T17:11:03.572Z"
   },
   {
    "duration": 9,
    "start_time": "2024-10-31T17:11:03.584Z"
   },
   {
    "duration": 28,
    "start_time": "2024-10-31T17:11:03.595Z"
   },
   {
    "duration": 7,
    "start_time": "2024-10-31T17:11:03.626Z"
   },
   {
    "duration": 4,
    "start_time": "2024-10-31T17:11:03.635Z"
   },
   {
    "duration": 7,
    "start_time": "2024-10-31T17:11:03.640Z"
   },
   {
    "duration": 10,
    "start_time": "2024-10-31T17:11:03.648Z"
   },
   {
    "duration": 4,
    "start_time": "2024-10-31T17:11:03.659Z"
   },
   {
    "duration": 6,
    "start_time": "2024-10-31T17:11:03.665Z"
   },
   {
    "duration": 7,
    "start_time": "2024-10-31T17:11:03.710Z"
   },
   {
    "duration": 7,
    "start_time": "2024-10-31T17:11:03.719Z"
   },
   {
    "duration": 3,
    "start_time": "2024-10-31T17:11:03.730Z"
   },
   {
    "duration": 6,
    "start_time": "2024-10-31T17:11:03.735Z"
   },
   {
    "duration": 9,
    "start_time": "2024-10-31T17:11:03.743Z"
   },
   {
    "duration": 8,
    "start_time": "2024-10-31T17:11:03.754Z"
   },
   {
    "duration": 46,
    "start_time": "2024-10-31T17:11:03.764Z"
   },
   {
    "duration": 20,
    "start_time": "2024-10-31T17:11:03.811Z"
   },
   {
    "duration": 12,
    "start_time": "2024-10-31T17:11:03.833Z"
   },
   {
    "duration": 3,
    "start_time": "2024-10-31T17:11:03.846Z"
   },
   {
    "duration": 7,
    "start_time": "2024-10-31T17:11:03.851Z"
   },
   {
    "duration": 9,
    "start_time": "2024-10-31T17:11:03.860Z"
   },
   {
    "duration": 4,
    "start_time": "2024-10-31T17:11:03.870Z"
   },
   {
    "duration": 38,
    "start_time": "2024-10-31T17:11:03.875Z"
   },
   {
    "duration": 26,
    "start_time": "2024-10-31T17:11:03.915Z"
   },
   {
    "duration": 6,
    "start_time": "2024-10-31T17:11:03.944Z"
   },
   {
    "duration": 5,
    "start_time": "2024-10-31T17:11:03.951Z"
   },
   {
    "duration": 4,
    "start_time": "2024-10-31T17:11:03.959Z"
   },
   {
    "duration": 7,
    "start_time": "2024-10-31T17:11:03.965Z"
   },
   {
    "duration": 6,
    "start_time": "2024-10-31T17:11:04.009Z"
   },
   {
    "duration": 8,
    "start_time": "2024-10-31T17:11:04.017Z"
   },
   {
    "duration": 5,
    "start_time": "2024-10-31T17:11:04.026Z"
   },
   {
    "duration": 15,
    "start_time": "2024-10-31T17:11:04.032Z"
   },
   {
    "duration": 75,
    "start_time": "2024-10-31T17:11:04.048Z"
   },
   {
    "duration": 6,
    "start_time": "2024-10-31T17:11:04.124Z"
   },
   {
    "duration": 17,
    "start_time": "2024-10-31T17:11:04.132Z"
   },
   {
    "duration": 11,
    "start_time": "2024-10-31T17:11:04.151Z"
   },
   {
    "duration": 4,
    "start_time": "2024-10-31T17:11:04.164Z"
   },
   {
    "duration": 5,
    "start_time": "2024-10-31T17:11:04.170Z"
   },
   {
    "duration": 5,
    "start_time": "2024-10-31T17:11:04.209Z"
   },
   {
    "duration": 3,
    "start_time": "2024-10-31T17:11:04.217Z"
   },
   {
    "duration": 12,
    "start_time": "2024-10-31T17:11:04.222Z"
   },
   {
    "duration": 5,
    "start_time": "2024-10-31T17:11:04.236Z"
   },
   {
    "duration": 268,
    "start_time": "2024-10-31T17:11:04.243Z"
   },
   {
    "duration": 13,
    "start_time": "2024-10-31T17:11:04.513Z"
   },
   {
    "duration": 24,
    "start_time": "2024-10-31T17:11:04.528Z"
   },
   {
    "duration": 163,
    "start_time": "2024-10-31T17:11:04.554Z"
   },
   {
    "duration": 7,
    "start_time": "2024-10-31T17:11:04.719Z"
   },
   {
    "duration": 224,
    "start_time": "2024-10-31T17:31:35.351Z"
   },
   {
    "duration": 9,
    "start_time": "2024-10-31T17:32:09.270Z"
   },
   {
    "duration": 7,
    "start_time": "2024-10-31T17:32:46.869Z"
   },
   {
    "duration": 10,
    "start_time": "2024-10-31T17:33:10.076Z"
   },
   {
    "duration": 7,
    "start_time": "2024-10-31T17:33:36.702Z"
   },
   {
    "duration": 9,
    "start_time": "2024-10-31T17:34:35.608Z"
   },
   {
    "duration": 6,
    "start_time": "2024-10-31T17:34:48.229Z"
   },
   {
    "duration": 21,
    "start_time": "2024-10-31T17:35:44.533Z"
   },
   {
    "duration": 19,
    "start_time": "2024-10-31T17:36:12.242Z"
   },
   {
    "duration": 8,
    "start_time": "2024-10-31T17:36:50.399Z"
   },
   {
    "duration": 8,
    "start_time": "2024-10-31T17:37:03.660Z"
   },
   {
    "duration": 337,
    "start_time": "2024-10-31T17:49:00.020Z"
   },
   {
    "duration": 38,
    "start_time": "2024-10-31T17:57:28.047Z"
   },
   {
    "duration": 39,
    "start_time": "2024-10-31T17:57:32.404Z"
   },
   {
    "duration": 39,
    "start_time": "2024-10-31T17:58:14.702Z"
   },
   {
    "duration": 40,
    "start_time": "2024-10-31T18:03:02.222Z"
   },
   {
    "duration": 41,
    "start_time": "2024-10-31T18:03:04.924Z"
   },
   {
    "duration": 8,
    "start_time": "2024-10-31T18:04:16.110Z"
   },
   {
    "duration": 41,
    "start_time": "2024-10-31T18:04:27.406Z"
   },
   {
    "duration": 917,
    "start_time": "2024-10-31T18:05:41.958Z"
   },
   {
    "duration": 104,
    "start_time": "2024-10-31T18:05:42.877Z"
   },
   {
    "duration": 11,
    "start_time": "2024-10-31T18:05:42.983Z"
   },
   {
    "duration": 14,
    "start_time": "2024-10-31T18:05:42.995Z"
   },
   {
    "duration": 15,
    "start_time": "2024-10-31T18:05:43.011Z"
   },
   {
    "duration": 8,
    "start_time": "2024-10-31T18:05:43.028Z"
   },
   {
    "duration": 4,
    "start_time": "2024-10-31T18:05:43.038Z"
   },
   {
    "duration": 5,
    "start_time": "2024-10-31T18:05:43.044Z"
   },
   {
    "duration": 10,
    "start_time": "2024-10-31T18:05:43.051Z"
   },
   {
    "duration": 3,
    "start_time": "2024-10-31T18:05:43.063Z"
   },
   {
    "duration": 49,
    "start_time": "2024-10-31T18:05:43.067Z"
   },
   {
    "duration": 8,
    "start_time": "2024-10-31T18:05:43.117Z"
   },
   {
    "duration": 7,
    "start_time": "2024-10-31T18:05:43.126Z"
   },
   {
    "duration": 3,
    "start_time": "2024-10-31T18:05:43.136Z"
   },
   {
    "duration": 6,
    "start_time": "2024-10-31T18:05:43.141Z"
   },
   {
    "duration": 10,
    "start_time": "2024-10-31T18:05:43.149Z"
   },
   {
    "duration": 9,
    "start_time": "2024-10-31T18:05:43.161Z"
   },
   {
    "duration": 9,
    "start_time": "2024-10-31T18:05:43.208Z"
   },
   {
    "duration": 20,
    "start_time": "2024-10-31T18:05:43.219Z"
   },
   {
    "duration": 12,
    "start_time": "2024-10-31T18:05:43.241Z"
   },
   {
    "duration": 3,
    "start_time": "2024-10-31T18:05:43.255Z"
   },
   {
    "duration": 5,
    "start_time": "2024-10-31T18:05:43.260Z"
   },
   {
    "duration": 42,
    "start_time": "2024-10-31T18:05:43.267Z"
   },
   {
    "duration": 4,
    "start_time": "2024-10-31T18:05:43.310Z"
   },
   {
    "duration": 5,
    "start_time": "2024-10-31T18:05:43.316Z"
   },
   {
    "duration": 27,
    "start_time": "2024-10-31T18:05:43.322Z"
   },
   {
    "duration": 6,
    "start_time": "2024-10-31T18:05:43.350Z"
   },
   {
    "duration": 4,
    "start_time": "2024-10-31T18:05:43.358Z"
   },
   {
    "duration": 6,
    "start_time": "2024-10-31T18:05:43.368Z"
   },
   {
    "duration": 8,
    "start_time": "2024-10-31T18:05:43.408Z"
   },
   {
    "duration": 6,
    "start_time": "2024-10-31T18:05:43.417Z"
   },
   {
    "duration": 7,
    "start_time": "2024-10-31T18:05:43.424Z"
   },
   {
    "duration": 4,
    "start_time": "2024-10-31T18:05:43.433Z"
   },
   {
    "duration": 14,
    "start_time": "2024-10-31T18:05:43.438Z"
   },
   {
    "duration": 72,
    "start_time": "2024-10-31T18:05:43.454Z"
   },
   {
    "duration": 4,
    "start_time": "2024-10-31T18:05:43.528Z"
   },
   {
    "duration": 18,
    "start_time": "2024-10-31T18:05:43.533Z"
   },
   {
    "duration": 12,
    "start_time": "2024-10-31T18:05:43.553Z"
   },
   {
    "duration": 5,
    "start_time": "2024-10-31T18:05:43.566Z"
   },
   {
    "duration": 6,
    "start_time": "2024-10-31T18:05:43.572Z"
   },
   {
    "duration": 31,
    "start_time": "2024-10-31T18:05:43.582Z"
   },
   {
    "duration": 4,
    "start_time": "2024-10-31T18:05:43.614Z"
   },
   {
    "duration": 11,
    "start_time": "2024-10-31T18:05:43.619Z"
   },
   {
    "duration": 5,
    "start_time": "2024-10-31T18:05:43.632Z"
   },
   {
    "duration": 271,
    "start_time": "2024-10-31T18:05:43.638Z"
   },
   {
    "duration": 7,
    "start_time": "2024-10-31T18:05:43.911Z"
   },
   {
    "duration": 22,
    "start_time": "2024-10-31T18:05:43.920Z"
   },
   {
    "duration": 159,
    "start_time": "2024-10-31T18:05:43.944Z"
   },
   {
    "duration": 6,
    "start_time": "2024-10-31T18:05:44.105Z"
   },
   {
    "duration": 3,
    "start_time": "2024-10-31T18:05:44.112Z"
   },
   {
    "duration": 11,
    "start_time": "2024-10-31T18:05:44.116Z"
   },
   {
    "duration": 6,
    "start_time": "2024-10-31T18:05:44.130Z"
   },
   {
    "duration": 7,
    "start_time": "2024-10-31T18:05:44.138Z"
   },
   {
    "duration": 5,
    "start_time": "2024-10-31T18:05:44.147Z"
   },
   {
    "duration": 583,
    "start_time": "2024-10-31T18:05:44.154Z"
   },
   {
    "duration": 0,
    "start_time": "2024-10-31T18:05:44.739Z"
   },
   {
    "duration": 2675,
    "start_time": "2024-11-04T09:04:34.991Z"
   },
   {
    "duration": 155,
    "start_time": "2024-11-04T09:04:37.669Z"
   },
   {
    "duration": 13,
    "start_time": "2024-11-04T09:04:37.826Z"
   },
   {
    "duration": 10,
    "start_time": "2024-11-04T09:04:37.840Z"
   },
   {
    "duration": 16,
    "start_time": "2024-11-04T09:04:37.854Z"
   },
   {
    "duration": 7,
    "start_time": "2024-11-04T09:04:37.873Z"
   },
   {
    "duration": 5,
    "start_time": "2024-11-04T09:04:37.881Z"
   },
   {
    "duration": 5,
    "start_time": "2024-11-04T09:04:37.888Z"
   },
   {
    "duration": 50,
    "start_time": "2024-11-04T09:04:37.895Z"
   },
   {
    "duration": 3,
    "start_time": "2024-11-04T09:04:37.947Z"
   },
   {
    "duration": 9,
    "start_time": "2024-11-04T09:04:37.952Z"
   },
   {
    "duration": 8,
    "start_time": "2024-11-04T09:04:37.963Z"
   },
   {
    "duration": 8,
    "start_time": "2024-11-04T09:04:37.972Z"
   },
   {
    "duration": 3,
    "start_time": "2024-11-04T09:04:37.984Z"
   },
   {
    "duration": 6,
    "start_time": "2024-11-04T09:04:37.990Z"
   },
   {
    "duration": 46,
    "start_time": "2024-11-04T09:04:37.997Z"
   },
   {
    "duration": 10,
    "start_time": "2024-11-04T09:04:38.044Z"
   },
   {
    "duration": 8,
    "start_time": "2024-11-04T09:04:38.056Z"
   },
   {
    "duration": 19,
    "start_time": "2024-11-04T09:04:38.066Z"
   },
   {
    "duration": 13,
    "start_time": "2024-11-04T09:04:38.087Z"
   },
   {
    "duration": 4,
    "start_time": "2024-11-04T09:04:38.131Z"
   },
   {
    "duration": 7,
    "start_time": "2024-11-04T09:04:38.137Z"
   },
   {
    "duration": 8,
    "start_time": "2024-11-04T09:04:38.146Z"
   },
   {
    "duration": 4,
    "start_time": "2024-11-04T09:04:38.155Z"
   },
   {
    "duration": 29,
    "start_time": "2024-11-04T09:04:38.160Z"
   },
   {
    "duration": 29,
    "start_time": "2024-11-04T09:04:38.191Z"
   },
   {
    "duration": 16,
    "start_time": "2024-11-04T09:04:38.221Z"
   },
   {
    "duration": 5,
    "start_time": "2024-11-04T09:04:38.239Z"
   },
   {
    "duration": 4,
    "start_time": "2024-11-04T09:04:38.246Z"
   },
   {
    "duration": 6,
    "start_time": "2024-11-04T09:04:38.253Z"
   },
   {
    "duration": 5,
    "start_time": "2024-11-04T09:04:38.262Z"
   },
   {
    "duration": 7,
    "start_time": "2024-11-04T09:04:38.269Z"
   },
   {
    "duration": 4,
    "start_time": "2024-11-04T09:04:38.278Z"
   },
   {
    "duration": 55,
    "start_time": "2024-11-04T09:04:38.283Z"
   },
   {
    "duration": 43,
    "start_time": "2024-11-04T09:04:38.340Z"
   },
   {
    "duration": 5,
    "start_time": "2024-11-04T09:04:38.384Z"
   },
   {
    "duration": 17,
    "start_time": "2024-11-04T09:04:38.390Z"
   },
   {
    "duration": 33,
    "start_time": "2024-11-04T09:04:38.409Z"
   },
   {
    "duration": 5,
    "start_time": "2024-11-04T09:04:38.444Z"
   },
   {
    "duration": 6,
    "start_time": "2024-11-04T09:04:38.451Z"
   },
   {
    "duration": 5,
    "start_time": "2024-11-04T09:04:38.461Z"
   },
   {
    "duration": 4,
    "start_time": "2024-11-04T09:04:38.468Z"
   },
   {
    "duration": 12,
    "start_time": "2024-11-04T09:04:38.474Z"
   },
   {
    "duration": 5,
    "start_time": "2024-11-04T09:04:38.489Z"
   },
   {
    "duration": 240,
    "start_time": "2024-11-04T09:04:38.495Z"
   },
   {
    "duration": 7,
    "start_time": "2024-11-04T09:04:38.737Z"
   },
   {
    "duration": 23,
    "start_time": "2024-11-04T09:04:38.746Z"
   },
   {
    "duration": 163,
    "start_time": "2024-11-04T09:04:38.771Z"
   },
   {
    "duration": 2,
    "start_time": "2024-11-04T09:04:38.936Z"
   },
   {
    "duration": 3,
    "start_time": "2024-11-04T09:04:38.940Z"
   },
   {
    "duration": 9,
    "start_time": "2024-11-04T09:04:38.945Z"
   },
   {
    "duration": 6,
    "start_time": "2024-11-04T09:04:38.956Z"
   },
   {
    "duration": 7,
    "start_time": "2024-11-04T09:04:38.964Z"
   },
   {
    "duration": 5,
    "start_time": "2024-11-04T09:04:38.972Z"
   },
   {
    "duration": 569,
    "start_time": "2024-11-04T09:04:38.979Z"
   },
   {
    "duration": 0,
    "start_time": "2024-11-04T09:04:39.550Z"
   },
   {
    "duration": 34,
    "start_time": "2024-11-04T09:16:50.935Z"
   },
   {
    "duration": 26,
    "start_time": "2024-11-04T09:17:56.162Z"
   },
   {
    "duration": 25,
    "start_time": "2024-11-04T09:19:01.442Z"
   },
   {
    "duration": 26,
    "start_time": "2024-11-04T09:19:35.387Z"
   },
   {
    "duration": 31,
    "start_time": "2024-11-04T09:19:44.740Z"
   },
   {
    "duration": 38,
    "start_time": "2024-11-04T09:22:09.872Z"
   },
   {
    "duration": 26,
    "start_time": "2024-11-04T09:22:10.138Z"
   },
   {
    "duration": 6,
    "start_time": "2024-11-04T09:25:01.198Z"
   },
   {
    "duration": 6,
    "start_time": "2024-11-04T09:25:11.846Z"
   },
   {
    "duration": 963,
    "start_time": "2024-11-04T09:25:24.452Z"
   },
   {
    "duration": 112,
    "start_time": "2024-11-04T09:25:25.417Z"
   },
   {
    "duration": 11,
    "start_time": "2024-11-04T09:25:25.530Z"
   },
   {
    "duration": 8,
    "start_time": "2024-11-04T09:25:25.543Z"
   },
   {
    "duration": 15,
    "start_time": "2024-11-04T09:25:25.553Z"
   },
   {
    "duration": 11,
    "start_time": "2024-11-04T09:25:25.569Z"
   },
   {
    "duration": 4,
    "start_time": "2024-11-04T09:25:25.582Z"
   },
   {
    "duration": 5,
    "start_time": "2024-11-04T09:25:25.587Z"
   },
   {
    "duration": 46,
    "start_time": "2024-11-04T09:25:25.594Z"
   },
   {
    "duration": 4,
    "start_time": "2024-11-04T09:25:25.642Z"
   },
   {
    "duration": 7,
    "start_time": "2024-11-04T09:25:25.647Z"
   },
   {
    "duration": 7,
    "start_time": "2024-11-04T09:25:25.656Z"
   },
   {
    "duration": 6,
    "start_time": "2024-11-04T09:25:25.665Z"
   },
   {
    "duration": 3,
    "start_time": "2024-11-04T09:25:25.676Z"
   },
   {
    "duration": 6,
    "start_time": "2024-11-04T09:25:25.680Z"
   },
   {
    "duration": 46,
    "start_time": "2024-11-04T09:25:25.688Z"
   },
   {
    "duration": 10,
    "start_time": "2024-11-04T09:25:25.736Z"
   },
   {
    "duration": 8,
    "start_time": "2024-11-04T09:25:25.748Z"
   },
   {
    "duration": 20,
    "start_time": "2024-11-04T09:25:25.757Z"
   },
   {
    "duration": 12,
    "start_time": "2024-11-04T09:25:25.780Z"
   },
   {
    "duration": 3,
    "start_time": "2024-11-04T09:25:25.794Z"
   },
   {
    "duration": 9,
    "start_time": "2024-11-04T09:25:25.832Z"
   },
   {
    "duration": 8,
    "start_time": "2024-11-04T09:25:25.842Z"
   },
   {
    "duration": 4,
    "start_time": "2024-11-04T09:25:25.852Z"
   },
   {
    "duration": 5,
    "start_time": "2024-11-04T09:25:25.858Z"
   },
   {
    "duration": 27,
    "start_time": "2024-11-04T09:25:25.865Z"
   },
   {
    "duration": 8,
    "start_time": "2024-11-04T09:25:25.930Z"
   },
   {
    "duration": 4,
    "start_time": "2024-11-04T09:25:25.940Z"
   },
   {
    "duration": 4,
    "start_time": "2024-11-04T09:25:25.945Z"
   },
   {
    "duration": 6,
    "start_time": "2024-11-04T09:25:25.951Z"
   },
   {
    "duration": 6,
    "start_time": "2024-11-04T09:25:25.958Z"
   },
   {
    "duration": 6,
    "start_time": "2024-11-04T09:25:25.966Z"
   },
   {
    "duration": 4,
    "start_time": "2024-11-04T09:25:25.973Z"
   },
   {
    "duration": 54,
    "start_time": "2024-11-04T09:25:25.979Z"
   },
   {
    "duration": 44,
    "start_time": "2024-11-04T09:25:26.035Z"
   },
   {
    "duration": 4,
    "start_time": "2024-11-04T09:25:26.081Z"
   },
   {
    "duration": 17,
    "start_time": "2024-11-04T09:25:26.087Z"
   },
   {
    "duration": 32,
    "start_time": "2024-11-04T09:25:26.106Z"
   },
   {
    "duration": 5,
    "start_time": "2024-11-04T09:25:26.140Z"
   },
   {
    "duration": 6,
    "start_time": "2024-11-04T09:25:26.146Z"
   },
   {
    "duration": 4,
    "start_time": "2024-11-04T09:25:26.157Z"
   },
   {
    "duration": 4,
    "start_time": "2024-11-04T09:25:26.163Z"
   },
   {
    "duration": 13,
    "start_time": "2024-11-04T09:25:26.169Z"
   },
   {
    "duration": 50,
    "start_time": "2024-11-04T09:25:26.184Z"
   },
   {
    "duration": 248,
    "start_time": "2024-11-04T09:25:26.236Z"
   },
   {
    "duration": 7,
    "start_time": "2024-11-04T09:25:26.485Z"
   },
   {
    "duration": 39,
    "start_time": "2024-11-04T09:25:26.493Z"
   },
   {
    "duration": 150,
    "start_time": "2024-11-04T09:25:26.534Z"
   },
   {
    "duration": 2,
    "start_time": "2024-11-04T09:25:26.686Z"
   },
   {
    "duration": 3,
    "start_time": "2024-11-04T09:25:26.690Z"
   },
   {
    "duration": 8,
    "start_time": "2024-11-04T09:25:26.695Z"
   },
   {
    "duration": 569,
    "start_time": "2024-11-04T09:25:26.704Z"
   },
   {
    "duration": 0,
    "start_time": "2024-11-04T09:25:27.275Z"
   },
   {
    "duration": 13,
    "start_time": "2024-11-04T09:26:25.693Z"
   },
   {
    "duration": 15,
    "start_time": "2024-11-04T09:26:28.959Z"
   },
   {
    "duration": 4,
    "start_time": "2024-11-04T09:26:32.905Z"
   },
   {
    "duration": 14,
    "start_time": "2024-11-04T09:27:32.726Z"
   },
   {
    "duration": 4,
    "start_time": "2024-11-04T09:27:42.450Z"
   },
   {
    "duration": 4,
    "start_time": "2024-11-04T09:28:02.993Z"
   },
   {
    "duration": 4,
    "start_time": "2024-11-04T09:28:24.092Z"
   },
   {
    "duration": 136,
    "start_time": "2024-11-04T09:29:16.453Z"
   },
   {
    "duration": 10,
    "start_time": "2024-11-04T09:31:05.074Z"
   },
   {
    "duration": 7,
    "start_time": "2024-11-04T09:31:07.354Z"
   },
   {
    "duration": 879,
    "start_time": "2024-11-04T09:31:23.133Z"
   },
   {
    "duration": 106,
    "start_time": "2024-11-04T09:31:24.014Z"
   },
   {
    "duration": 11,
    "start_time": "2024-11-04T09:31:24.122Z"
   },
   {
    "duration": 10,
    "start_time": "2024-11-04T09:31:24.135Z"
   },
   {
    "duration": 15,
    "start_time": "2024-11-04T09:31:24.147Z"
   },
   {
    "duration": 7,
    "start_time": "2024-11-04T09:31:24.164Z"
   },
   {
    "duration": 4,
    "start_time": "2024-11-04T09:31:24.173Z"
   },
   {
    "duration": 10,
    "start_time": "2024-11-04T09:31:24.179Z"
   },
   {
    "duration": 42,
    "start_time": "2024-11-04T09:31:24.191Z"
   },
   {
    "duration": 4,
    "start_time": "2024-11-04T09:31:24.235Z"
   },
   {
    "duration": 8,
    "start_time": "2024-11-04T09:31:24.241Z"
   },
   {
    "duration": 12,
    "start_time": "2024-11-04T09:31:24.251Z"
   },
   {
    "duration": 7,
    "start_time": "2024-11-04T09:31:24.264Z"
   },
   {
    "duration": 4,
    "start_time": "2024-11-04T09:31:24.275Z"
   },
   {
    "duration": 6,
    "start_time": "2024-11-04T09:31:24.280Z"
   },
   {
    "duration": 48,
    "start_time": "2024-11-04T09:31:24.287Z"
   },
   {
    "duration": 10,
    "start_time": "2024-11-04T09:31:24.337Z"
   },
   {
    "duration": 9,
    "start_time": "2024-11-04T09:31:24.348Z"
   },
   {
    "duration": 20,
    "start_time": "2024-11-04T09:31:24.358Z"
   },
   {
    "duration": 12,
    "start_time": "2024-11-04T09:31:24.380Z"
   },
   {
    "duration": 40,
    "start_time": "2024-11-04T09:31:24.394Z"
   },
   {
    "duration": 6,
    "start_time": "2024-11-04T09:31:24.436Z"
   },
   {
    "duration": 8,
    "start_time": "2024-11-04T09:31:24.444Z"
   },
   {
    "duration": 3,
    "start_time": "2024-11-04T09:31:24.454Z"
   },
   {
    "duration": 6,
    "start_time": "2024-11-04T09:31:24.459Z"
   },
   {
    "duration": 28,
    "start_time": "2024-11-04T09:31:24.466Z"
   },
   {
    "duration": 8,
    "start_time": "2024-11-04T09:31:24.531Z"
   },
   {
    "duration": 5,
    "start_time": "2024-11-04T09:31:24.540Z"
   },
   {
    "duration": 5,
    "start_time": "2024-11-04T09:31:24.549Z"
   },
   {
    "duration": 6,
    "start_time": "2024-11-04T09:31:24.557Z"
   },
   {
    "duration": 5,
    "start_time": "2024-11-04T09:31:24.565Z"
   },
   {
    "duration": 8,
    "start_time": "2024-11-04T09:31:24.572Z"
   },
   {
    "duration": 5,
    "start_time": "2024-11-04T09:31:24.582Z"
   },
   {
    "duration": 52,
    "start_time": "2024-11-04T09:31:24.588Z"
   },
   {
    "duration": 57,
    "start_time": "2024-11-04T09:31:24.641Z"
   },
   {
    "duration": 5,
    "start_time": "2024-11-04T09:31:24.699Z"
   },
   {
    "duration": 37,
    "start_time": "2024-11-04T09:31:24.706Z"
   },
   {
    "duration": 727,
    "start_time": "2024-11-04T09:31:24.745Z"
   },
   {
    "duration": 0,
    "start_time": "2024-11-04T09:31:25.474Z"
   },
   {
    "duration": 0,
    "start_time": "2024-11-04T09:31:25.475Z"
   },
   {
    "duration": 0,
    "start_time": "2024-11-04T09:31:25.476Z"
   },
   {
    "duration": 0,
    "start_time": "2024-11-04T09:31:25.477Z"
   },
   {
    "duration": 0,
    "start_time": "2024-11-04T09:31:25.478Z"
   },
   {
    "duration": 0,
    "start_time": "2024-11-04T09:31:25.479Z"
   },
   {
    "duration": 0,
    "start_time": "2024-11-04T09:31:25.480Z"
   },
   {
    "duration": 0,
    "start_time": "2024-11-04T09:31:25.481Z"
   },
   {
    "duration": 0,
    "start_time": "2024-11-04T09:31:25.482Z"
   },
   {
    "duration": 0,
    "start_time": "2024-11-04T09:31:25.484Z"
   },
   {
    "duration": 0,
    "start_time": "2024-11-04T09:31:25.484Z"
   },
   {
    "duration": 0,
    "start_time": "2024-11-04T09:31:25.486Z"
   },
   {
    "duration": 0,
    "start_time": "2024-11-04T09:31:25.487Z"
   },
   {
    "duration": 0,
    "start_time": "2024-11-04T09:31:25.488Z"
   },
   {
    "duration": 0,
    "start_time": "2024-11-04T09:31:25.489Z"
   },
   {
    "duration": 62,
    "start_time": "2024-11-04T09:32:03.950Z"
   },
   {
    "duration": 132,
    "start_time": "2024-11-04T09:36:13.684Z"
   },
   {
    "duration": 41,
    "start_time": "2024-11-04T09:36:35.745Z"
   },
   {
    "duration": 12,
    "start_time": "2024-11-04T09:37:50.958Z"
   },
   {
    "duration": 5,
    "start_time": "2024-11-04T09:37:53.109Z"
   },
   {
    "duration": 903,
    "start_time": "2024-11-04T09:37:58.799Z"
   },
   {
    "duration": 104,
    "start_time": "2024-11-04T09:37:59.704Z"
   },
   {
    "duration": 11,
    "start_time": "2024-11-04T09:37:59.810Z"
   },
   {
    "duration": 12,
    "start_time": "2024-11-04T09:37:59.823Z"
   },
   {
    "duration": 18,
    "start_time": "2024-11-04T09:37:59.838Z"
   },
   {
    "duration": 8,
    "start_time": "2024-11-04T09:37:59.857Z"
   },
   {
    "duration": 5,
    "start_time": "2024-11-04T09:37:59.867Z"
   },
   {
    "duration": 4,
    "start_time": "2024-11-04T09:37:59.873Z"
   },
   {
    "duration": 10,
    "start_time": "2024-11-04T09:37:59.879Z"
   },
   {
    "duration": 43,
    "start_time": "2024-11-04T09:37:59.890Z"
   },
   {
    "duration": 7,
    "start_time": "2024-11-04T09:37:59.935Z"
   },
   {
    "duration": 11,
    "start_time": "2024-11-04T09:37:59.943Z"
   },
   {
    "duration": 7,
    "start_time": "2024-11-04T09:37:59.956Z"
   },
   {
    "duration": 3,
    "start_time": "2024-11-04T09:37:59.967Z"
   },
   {
    "duration": 7,
    "start_time": "2024-11-04T09:37:59.972Z"
   },
   {
    "duration": 10,
    "start_time": "2024-11-04T09:37:59.981Z"
   },
   {
    "duration": 47,
    "start_time": "2024-11-04T09:37:59.992Z"
   },
   {
    "duration": 9,
    "start_time": "2024-11-04T09:38:00.041Z"
   },
   {
    "duration": 21,
    "start_time": "2024-11-04T09:38:00.051Z"
   },
   {
    "duration": 14,
    "start_time": "2024-11-04T09:38:00.074Z"
   },
   {
    "duration": 4,
    "start_time": "2024-11-04T09:38:00.089Z"
   },
   {
    "duration": 40,
    "start_time": "2024-11-04T09:38:00.095Z"
   },
   {
    "duration": 8,
    "start_time": "2024-11-04T09:38:00.137Z"
   },
   {
    "duration": 3,
    "start_time": "2024-11-04T09:38:00.147Z"
   },
   {
    "duration": 5,
    "start_time": "2024-11-04T09:38:00.152Z"
   },
   {
    "duration": 28,
    "start_time": "2024-11-04T09:38:00.159Z"
   },
   {
    "duration": 7,
    "start_time": "2024-11-04T09:38:00.188Z"
   },
   {
    "duration": 40,
    "start_time": "2024-11-04T09:38:00.197Z"
   },
   {
    "duration": 6,
    "start_time": "2024-11-04T09:38:00.240Z"
   },
   {
    "duration": 7,
    "start_time": "2024-11-04T09:38:00.248Z"
   },
   {
    "duration": 5,
    "start_time": "2024-11-04T09:38:00.257Z"
   },
   {
    "duration": 6,
    "start_time": "2024-11-04T09:38:00.264Z"
   },
   {
    "duration": 4,
    "start_time": "2024-11-04T09:38:00.271Z"
   },
   {
    "duration": 14,
    "start_time": "2024-11-04T09:38:00.276Z"
   },
   {
    "duration": 80,
    "start_time": "2024-11-04T09:38:00.291Z"
   },
   {
    "duration": 5,
    "start_time": "2024-11-04T09:38:00.373Z"
   },
   {
    "duration": 17,
    "start_time": "2024-11-04T09:38:00.379Z"
   },
   {
    "duration": 16,
    "start_time": "2024-11-04T09:38:00.397Z"
   },
   {
    "duration": 5,
    "start_time": "2024-11-04T09:38:00.432Z"
   },
   {
    "duration": 5,
    "start_time": "2024-11-04T09:38:00.439Z"
   },
   {
    "duration": 5,
    "start_time": "2024-11-04T09:38:00.448Z"
   },
   {
    "duration": 4,
    "start_time": "2024-11-04T09:38:00.454Z"
   },
   {
    "duration": 12,
    "start_time": "2024-11-04T09:38:00.460Z"
   },
   {
    "duration": 7,
    "start_time": "2024-11-04T09:38:00.474Z"
   },
   {
    "duration": 286,
    "start_time": "2024-11-04T09:38:00.483Z"
   },
   {
    "duration": 8,
    "start_time": "2024-11-04T09:38:00.770Z"
   },
   {
    "duration": 26,
    "start_time": "2024-11-04T09:38:00.779Z"
   },
   {
    "duration": 346,
    "start_time": "2024-11-04T09:38:00.808Z"
   },
   {
    "duration": 0,
    "start_time": "2024-11-04T09:38:01.156Z"
   },
   {
    "duration": 0,
    "start_time": "2024-11-04T09:38:01.158Z"
   },
   {
    "duration": 0,
    "start_time": "2024-11-04T09:38:01.159Z"
   },
   {
    "duration": 1,
    "start_time": "2024-11-04T09:38:01.160Z"
   },
   {
    "duration": 351,
    "start_time": "2024-11-04T09:38:14.802Z"
   },
   {
    "duration": 144,
    "start_time": "2024-11-04T09:38:25.597Z"
   },
   {
    "duration": 52,
    "start_time": "2024-11-04T09:39:43.421Z"
   },
   {
    "duration": 50,
    "start_time": "2024-11-04T09:40:15.824Z"
   },
   {
    "duration": 144,
    "start_time": "2024-11-04T09:40:49.159Z"
   },
   {
    "duration": 966,
    "start_time": "2024-11-04T09:41:07.250Z"
   },
   {
    "duration": 109,
    "start_time": "2024-11-04T09:41:08.218Z"
   },
   {
    "duration": 15,
    "start_time": "2024-11-04T09:41:08.329Z"
   },
   {
    "duration": 8,
    "start_time": "2024-11-04T09:41:08.346Z"
   },
   {
    "duration": 16,
    "start_time": "2024-11-04T09:41:08.357Z"
   },
   {
    "duration": 9,
    "start_time": "2024-11-04T09:41:08.374Z"
   },
   {
    "duration": 4,
    "start_time": "2024-11-04T09:41:08.386Z"
   },
   {
    "duration": 4,
    "start_time": "2024-11-04T09:41:08.392Z"
   },
   {
    "duration": 11,
    "start_time": "2024-11-04T09:41:08.431Z"
   },
   {
    "duration": 4,
    "start_time": "2024-11-04T09:41:08.444Z"
   },
   {
    "duration": 7,
    "start_time": "2024-11-04T09:41:08.449Z"
   },
   {
    "duration": 11,
    "start_time": "2024-11-04T09:41:08.458Z"
   },
   {
    "duration": 7,
    "start_time": "2024-11-04T09:41:08.471Z"
   },
   {
    "duration": 5,
    "start_time": "2024-11-04T09:41:08.483Z"
   },
   {
    "duration": 5,
    "start_time": "2024-11-04T09:41:08.490Z"
   },
   {
    "duration": 12,
    "start_time": "2024-11-04T09:41:08.531Z"
   },
   {
    "duration": 10,
    "start_time": "2024-11-04T09:41:08.544Z"
   },
   {
    "duration": 12,
    "start_time": "2024-11-04T09:41:08.556Z"
   },
   {
    "duration": 22,
    "start_time": "2024-11-04T09:41:08.570Z"
   },
   {
    "duration": 42,
    "start_time": "2024-11-04T09:41:08.594Z"
   },
   {
    "duration": 4,
    "start_time": "2024-11-04T09:41:08.638Z"
   },
   {
    "duration": 7,
    "start_time": "2024-11-04T09:41:08.643Z"
   },
   {
    "duration": 9,
    "start_time": "2024-11-04T09:41:08.651Z"
   },
   {
    "duration": 4,
    "start_time": "2024-11-04T09:41:08.662Z"
   },
   {
    "duration": 5,
    "start_time": "2024-11-04T09:41:08.668Z"
   },
   {
    "duration": 68,
    "start_time": "2024-11-04T09:41:08.675Z"
   },
   {
    "duration": 7,
    "start_time": "2024-11-04T09:41:08.744Z"
   },
   {
    "duration": 4,
    "start_time": "2024-11-04T09:41:08.753Z"
   },
   {
    "duration": 5,
    "start_time": "2024-11-04T09:41:08.758Z"
   },
   {
    "duration": 6,
    "start_time": "2024-11-04T09:41:08.764Z"
   },
   {
    "duration": 7,
    "start_time": "2024-11-04T09:41:08.772Z"
   },
   {
    "duration": 6,
    "start_time": "2024-11-04T09:41:08.780Z"
   },
   {
    "duration": 4,
    "start_time": "2024-11-04T09:41:08.788Z"
   },
   {
    "duration": 14,
    "start_time": "2024-11-04T09:41:08.831Z"
   },
   {
    "duration": 45,
    "start_time": "2024-11-04T09:41:08.846Z"
   },
   {
    "duration": 4,
    "start_time": "2024-11-04T09:41:08.893Z"
   },
   {
    "duration": 37,
    "start_time": "2024-11-04T09:41:08.899Z"
   },
   {
    "duration": 11,
    "start_time": "2024-11-04T09:41:08.938Z"
   },
   {
    "duration": 5,
    "start_time": "2024-11-04T09:41:08.951Z"
   },
   {
    "duration": 7,
    "start_time": "2024-11-04T09:41:08.958Z"
   },
   {
    "duration": 5,
    "start_time": "2024-11-04T09:41:08.969Z"
   },
   {
    "duration": 4,
    "start_time": "2024-11-04T09:41:08.977Z"
   },
   {
    "duration": 49,
    "start_time": "2024-11-04T09:41:08.982Z"
   },
   {
    "duration": 6,
    "start_time": "2024-11-04T09:41:09.033Z"
   },
   {
    "duration": 250,
    "start_time": "2024-11-04T09:41:09.041Z"
   },
   {
    "duration": 8,
    "start_time": "2024-11-04T09:41:09.293Z"
   },
   {
    "duration": 37,
    "start_time": "2024-11-04T09:41:09.302Z"
   },
   {
    "duration": 151,
    "start_time": "2024-11-04T09:41:09.341Z"
   },
   {
    "duration": 2,
    "start_time": "2024-11-04T09:41:09.494Z"
   },
   {
    "duration": 354,
    "start_time": "2024-11-04T09:41:09.498Z"
   },
   {
    "duration": 0,
    "start_time": "2024-11-04T09:41:09.854Z"
   },
   {
    "duration": 0,
    "start_time": "2024-11-04T09:41:09.855Z"
   },
   {
    "duration": 47,
    "start_time": "2024-11-04T09:42:18.699Z"
   },
   {
    "duration": 5,
    "start_time": "2024-11-04T09:43:51.605Z"
   },
   {
    "duration": 939,
    "start_time": "2024-11-04T09:44:02.860Z"
   },
   {
    "duration": 103,
    "start_time": "2024-11-04T09:44:03.801Z"
   },
   {
    "duration": 11,
    "start_time": "2024-11-04T09:44:03.906Z"
   },
   {
    "duration": 18,
    "start_time": "2024-11-04T09:44:03.919Z"
   },
   {
    "duration": 24,
    "start_time": "2024-11-04T09:44:03.940Z"
   },
   {
    "duration": 7,
    "start_time": "2024-11-04T09:44:03.966Z"
   },
   {
    "duration": 4,
    "start_time": "2024-11-04T09:44:03.975Z"
   },
   {
    "duration": 5,
    "start_time": "2024-11-04T09:44:03.980Z"
   },
   {
    "duration": 10,
    "start_time": "2024-11-04T09:44:03.987Z"
   },
   {
    "duration": 32,
    "start_time": "2024-11-04T09:44:03.999Z"
   },
   {
    "duration": 8,
    "start_time": "2024-11-04T09:44:04.033Z"
   },
   {
    "duration": 12,
    "start_time": "2024-11-04T09:44:04.043Z"
   },
   {
    "duration": 7,
    "start_time": "2024-11-04T09:44:04.056Z"
   },
   {
    "duration": 2,
    "start_time": "2024-11-04T09:44:04.067Z"
   },
   {
    "duration": 6,
    "start_time": "2024-11-04T09:44:04.071Z"
   },
   {
    "duration": 10,
    "start_time": "2024-11-04T09:44:04.078Z"
   },
   {
    "duration": 47,
    "start_time": "2024-11-04T09:44:04.089Z"
   },
   {
    "duration": 9,
    "start_time": "2024-11-04T09:44:04.138Z"
   },
   {
    "duration": 18,
    "start_time": "2024-11-04T09:44:04.150Z"
   },
   {
    "duration": 13,
    "start_time": "2024-11-04T09:44:04.170Z"
   },
   {
    "duration": 3,
    "start_time": "2024-11-04T09:44:04.185Z"
   },
   {
    "duration": 6,
    "start_time": "2024-11-04T09:44:04.190Z"
   },
   {
    "duration": 10,
    "start_time": "2024-11-04T09:44:04.230Z"
   },
   {
    "duration": 4,
    "start_time": "2024-11-04T09:44:04.241Z"
   },
   {
    "duration": 6,
    "start_time": "2024-11-04T09:44:04.246Z"
   },
   {
    "duration": 27,
    "start_time": "2024-11-04T09:44:04.253Z"
   },
   {
    "duration": 7,
    "start_time": "2024-11-04T09:44:04.281Z"
   },
   {
    "duration": 4,
    "start_time": "2024-11-04T09:44:04.290Z"
   },
   {
    "duration": 39,
    "start_time": "2024-11-04T09:44:04.296Z"
   },
   {
    "duration": 6,
    "start_time": "2024-11-04T09:44:04.337Z"
   },
   {
    "duration": 5,
    "start_time": "2024-11-04T09:44:04.345Z"
   },
   {
    "duration": 7,
    "start_time": "2024-11-04T09:44:04.352Z"
   },
   {
    "duration": 4,
    "start_time": "2024-11-04T09:44:04.361Z"
   },
   {
    "duration": 15,
    "start_time": "2024-11-04T09:44:04.366Z"
   },
   {
    "duration": 81,
    "start_time": "2024-11-04T09:44:04.382Z"
   },
   {
    "duration": 4,
    "start_time": "2024-11-04T09:44:04.465Z"
   },
   {
    "duration": 17,
    "start_time": "2024-11-04T09:44:04.471Z"
   },
   {
    "duration": 3,
    "start_time": "2024-11-04T09:44:04.489Z"
   },
   {
    "duration": 6,
    "start_time": "2024-11-04T09:44:04.493Z"
   },
   {
    "duration": 34,
    "start_time": "2024-11-04T09:44:04.500Z"
   },
   {
    "duration": 5,
    "start_time": "2024-11-04T09:44:04.539Z"
   },
   {
    "duration": 4,
    "start_time": "2024-11-04T09:44:04.545Z"
   },
   {
    "duration": 13,
    "start_time": "2024-11-04T09:44:04.551Z"
   },
   {
    "duration": 6,
    "start_time": "2024-11-04T09:44:04.565Z"
   },
   {
    "duration": 276,
    "start_time": "2024-11-04T09:44:04.573Z"
   },
   {
    "duration": 7,
    "start_time": "2024-11-04T09:44:04.851Z"
   },
   {
    "duration": 25,
    "start_time": "2024-11-04T09:44:04.859Z"
   },
   {
    "duration": 401,
    "start_time": "2024-11-04T09:44:04.886Z"
   },
   {
    "duration": 3,
    "start_time": "2024-11-04T09:44:05.289Z"
   },
   {
    "duration": 74,
    "start_time": "2024-11-04T09:44:05.294Z"
   },
   {
    "duration": 67,
    "start_time": "2024-11-04T09:44:05.370Z"
   },
   {
    "duration": 6,
    "start_time": "2024-11-04T09:44:05.438Z"
   },
   {
    "duration": 51,
    "start_time": "2024-11-04T09:47:34.188Z"
   },
   {
    "duration": 3,
    "start_time": "2024-11-04T09:47:56.183Z"
   },
   {
    "duration": 8,
    "start_time": "2024-11-04T09:50:49.644Z"
   },
   {
    "duration": 651,
    "start_time": "2024-11-04T09:53:04.710Z"
   },
   {
    "duration": 38,
    "start_time": "2024-11-04T09:53:12.185Z"
   },
   {
    "duration": 8,
    "start_time": "2024-11-04T09:54:26.556Z"
   },
   {
    "duration": 933,
    "start_time": "2024-11-04T09:55:08.065Z"
   },
   {
    "duration": 106,
    "start_time": "2024-11-04T09:55:09.000Z"
   },
   {
    "duration": 10,
    "start_time": "2024-11-04T09:55:09.108Z"
   },
   {
    "duration": 17,
    "start_time": "2024-11-04T09:55:09.120Z"
   },
   {
    "duration": 16,
    "start_time": "2024-11-04T09:55:09.140Z"
   },
   {
    "duration": 7,
    "start_time": "2024-11-04T09:55:09.158Z"
   },
   {
    "duration": 4,
    "start_time": "2024-11-04T09:55:09.167Z"
   },
   {
    "duration": 6,
    "start_time": "2024-11-04T09:55:09.172Z"
   },
   {
    "duration": 10,
    "start_time": "2024-11-04T09:55:09.179Z"
   },
   {
    "duration": 3,
    "start_time": "2024-11-04T09:55:09.192Z"
   },
   {
    "duration": 7,
    "start_time": "2024-11-04T09:55:09.232Z"
   },
   {
    "duration": 12,
    "start_time": "2024-11-04T09:55:09.241Z"
   },
   {
    "duration": 7,
    "start_time": "2024-11-04T09:55:09.254Z"
   },
   {
    "duration": 3,
    "start_time": "2024-11-04T09:55:09.266Z"
   },
   {
    "duration": 6,
    "start_time": "2024-11-04T09:55:09.271Z"
   },
   {
    "duration": 9,
    "start_time": "2024-11-04T09:55:09.279Z"
   },
   {
    "duration": 47,
    "start_time": "2024-11-04T09:55:09.289Z"
   },
   {
    "duration": 9,
    "start_time": "2024-11-04T09:55:09.338Z"
   },
   {
    "duration": 20,
    "start_time": "2024-11-04T09:55:09.348Z"
   },
   {
    "duration": 14,
    "start_time": "2024-11-04T09:55:09.369Z"
   },
   {
    "duration": 3,
    "start_time": "2024-11-04T09:55:09.386Z"
   },
   {
    "duration": 5,
    "start_time": "2024-11-04T09:55:09.392Z"
   },
   {
    "duration": 9,
    "start_time": "2024-11-04T09:55:09.432Z"
   },
   {
    "duration": 4,
    "start_time": "2024-11-04T09:55:09.443Z"
   },
   {
    "duration": 5,
    "start_time": "2024-11-04T09:55:09.449Z"
   },
   {
    "duration": 27,
    "start_time": "2024-11-04T09:55:09.456Z"
   },
   {
    "duration": 7,
    "start_time": "2024-11-04T09:55:09.485Z"
   },
   {
    "duration": 40,
    "start_time": "2024-11-04T09:55:09.493Z"
   },
   {
    "duration": 5,
    "start_time": "2024-11-04T09:55:09.535Z"
   },
   {
    "duration": 6,
    "start_time": "2024-11-04T09:55:09.542Z"
   },
   {
    "duration": 7,
    "start_time": "2024-11-04T09:55:09.551Z"
   },
   {
    "duration": 6,
    "start_time": "2024-11-04T09:55:09.561Z"
   },
   {
    "duration": 5,
    "start_time": "2024-11-04T09:55:09.569Z"
   },
   {
    "duration": 13,
    "start_time": "2024-11-04T09:55:09.576Z"
   },
   {
    "duration": 80,
    "start_time": "2024-11-04T09:55:09.591Z"
   },
   {
    "duration": 4,
    "start_time": "2024-11-04T09:55:09.673Z"
   },
   {
    "duration": 17,
    "start_time": "2024-11-04T09:55:09.678Z"
   },
   {
    "duration": 2,
    "start_time": "2024-11-04T09:55:09.697Z"
   },
   {
    "duration": 5,
    "start_time": "2024-11-04T09:55:09.701Z"
   },
   {
    "duration": 28,
    "start_time": "2024-11-04T09:55:09.707Z"
   },
   {
    "duration": 5,
    "start_time": "2024-11-04T09:55:09.741Z"
   },
   {
    "duration": 4,
    "start_time": "2024-11-04T09:55:09.748Z"
   },
   {
    "duration": 11,
    "start_time": "2024-11-04T09:55:09.754Z"
   },
   {
    "duration": 6,
    "start_time": "2024-11-04T09:55:09.767Z"
   },
   {
    "duration": 279,
    "start_time": "2024-11-04T09:55:09.775Z"
   },
   {
    "duration": 7,
    "start_time": "2024-11-04T09:55:10.057Z"
   },
   {
    "duration": 24,
    "start_time": "2024-11-04T09:55:10.066Z"
   },
   {
    "duration": 417,
    "start_time": "2024-11-04T09:55:10.092Z"
   },
   {
    "duration": 2,
    "start_time": "2024-11-04T09:55:10.511Z"
   },
   {
    "duration": 74,
    "start_time": "2024-11-04T09:55:10.515Z"
   },
   {
    "duration": 66,
    "start_time": "2024-11-04T09:55:10.591Z"
   },
   {
    "duration": 3,
    "start_time": "2024-11-04T09:55:10.659Z"
   },
   {
    "duration": 9,
    "start_time": "2024-11-04T09:55:10.664Z"
   },
   {
    "duration": 5,
    "start_time": "2024-11-04T09:55:10.674Z"
   },
   {
    "duration": 10,
    "start_time": "2024-11-04T09:55:27.469Z"
   },
   {
    "duration": 13,
    "start_time": "2024-11-04T09:55:48.318Z"
   },
   {
    "duration": 226,
    "start_time": "2024-11-04T09:56:37.132Z"
   },
   {
    "duration": 5,
    "start_time": "2024-11-04T09:56:45.091Z"
   },
   {
    "duration": 4,
    "start_time": "2024-11-04T09:56:55.739Z"
   },
   {
    "duration": 9,
    "start_time": "2024-11-04T09:57:13.700Z"
   },
   {
    "duration": 6,
    "start_time": "2024-11-04T09:59:42.213Z"
   },
   {
    "duration": 8,
    "start_time": "2024-11-04T09:59:52.499Z"
   },
   {
    "duration": 6,
    "start_time": "2024-11-04T10:01:41.772Z"
   },
   {
    "duration": 54,
    "start_time": "2024-11-04T10:02:55.710Z"
   },
   {
    "duration": 99,
    "start_time": "2024-11-04T10:03:39.546Z"
   },
   {
    "duration": 3,
    "start_time": "2024-11-04T10:03:42.691Z"
   },
   {
    "duration": 7,
    "start_time": "2024-11-04T10:03:43.607Z"
   },
   {
    "duration": 50,
    "start_time": "2024-11-04T10:04:34.450Z"
   },
   {
    "duration": 10,
    "start_time": "2024-11-04T10:05:54.176Z"
   },
   {
    "duration": 10,
    "start_time": "2024-11-04T10:06:04.958Z"
   },
   {
    "duration": 13,
    "start_time": "2024-11-04T10:06:32.385Z"
   },
   {
    "duration": 14,
    "start_time": "2024-11-04T10:11:50.505Z"
   },
   {
    "duration": 4,
    "start_time": "2024-11-04T10:11:54.213Z"
   },
   {
    "duration": 5,
    "start_time": "2024-11-04T10:12:11.912Z"
   },
   {
    "duration": 6,
    "start_time": "2024-11-04T10:12:28.672Z"
   },
   {
    "duration": 5,
    "start_time": "2024-11-04T10:12:36.972Z"
   },
   {
    "duration": 9,
    "start_time": "2024-11-04T10:13:15.315Z"
   },
   {
    "duration": 480,
    "start_time": "2024-11-04T10:15:28.172Z"
   },
   {
    "duration": 51,
    "start_time": "2024-11-04T10:15:57.237Z"
   },
   {
    "duration": 8,
    "start_time": "2024-11-04T10:16:21.597Z"
   },
   {
    "duration": 9,
    "start_time": "2024-11-04T10:16:33.639Z"
   },
   {
    "duration": 10,
    "start_time": "2024-11-04T10:19:33.762Z"
   },
   {
    "duration": 173,
    "start_time": "2024-11-04T13:23:11.657Z"
   },
   {
    "duration": 2629,
    "start_time": "2024-11-04T13:23:33.727Z"
   },
   {
    "duration": 148,
    "start_time": "2024-11-04T13:23:36.358Z"
   },
   {
    "duration": 10,
    "start_time": "2024-11-04T13:23:36.507Z"
   },
   {
    "duration": 8,
    "start_time": "2024-11-04T13:23:36.520Z"
   },
   {
    "duration": 17,
    "start_time": "2024-11-04T13:23:36.529Z"
   },
   {
    "duration": 8,
    "start_time": "2024-11-04T13:23:36.547Z"
   },
   {
    "duration": 5,
    "start_time": "2024-11-04T13:23:36.556Z"
   },
   {
    "duration": 8,
    "start_time": "2024-11-04T13:23:36.563Z"
   },
   {
    "duration": 11,
    "start_time": "2024-11-04T13:23:36.572Z"
   },
   {
    "duration": 3,
    "start_time": "2024-11-04T13:23:36.587Z"
   },
   {
    "duration": 7,
    "start_time": "2024-11-04T13:23:36.593Z"
   },
   {
    "duration": 10,
    "start_time": "2024-11-04T13:23:36.632Z"
   },
   {
    "duration": 7,
    "start_time": "2024-11-04T13:23:36.644Z"
   },
   {
    "duration": 3,
    "start_time": "2024-11-04T13:23:36.652Z"
   },
   {
    "duration": 5,
    "start_time": "2024-11-04T13:23:36.657Z"
   },
   {
    "duration": 10,
    "start_time": "2024-11-04T13:23:36.663Z"
   },
   {
    "duration": 9,
    "start_time": "2024-11-04T13:23:36.675Z"
   },
   {
    "duration": 47,
    "start_time": "2024-11-04T13:23:36.686Z"
   },
   {
    "duration": 19,
    "start_time": "2024-11-04T13:23:36.735Z"
   },
   {
    "duration": 13,
    "start_time": "2024-11-04T13:23:36.756Z"
   },
   {
    "duration": 3,
    "start_time": "2024-11-04T13:23:36.770Z"
   },
   {
    "duration": 6,
    "start_time": "2024-11-04T13:23:36.775Z"
   },
   {
    "duration": 8,
    "start_time": "2024-11-04T13:23:36.782Z"
   },
   {
    "duration": 39,
    "start_time": "2024-11-04T13:23:36.792Z"
   },
   {
    "duration": 5,
    "start_time": "2024-11-04T13:23:36.833Z"
   },
   {
    "duration": 28,
    "start_time": "2024-11-04T13:23:36.840Z"
   },
   {
    "duration": 8,
    "start_time": "2024-11-04T13:23:36.869Z"
   },
   {
    "duration": 6,
    "start_time": "2024-11-04T13:23:36.881Z"
   },
   {
    "duration": 4,
    "start_time": "2024-11-04T13:23:36.890Z"
   },
   {
    "duration": 36,
    "start_time": "2024-11-04T13:23:36.895Z"
   },
   {
    "duration": 6,
    "start_time": "2024-11-04T13:23:36.933Z"
   },
   {
    "duration": 6,
    "start_time": "2024-11-04T13:23:36.941Z"
   },
   {
    "duration": 4,
    "start_time": "2024-11-04T13:23:36.949Z"
   },
   {
    "duration": 18,
    "start_time": "2024-11-04T13:23:36.955Z"
   },
   {
    "duration": 14,
    "start_time": "2024-11-04T13:23:36.975Z"
   },
   {
    "duration": 74,
    "start_time": "2024-11-04T13:23:36.990Z"
   },
   {
    "duration": 4,
    "start_time": "2024-11-04T13:23:37.066Z"
   },
   {
    "duration": 16,
    "start_time": "2024-11-04T13:23:37.073Z"
   },
   {
    "duration": 3,
    "start_time": "2024-11-04T13:23:37.091Z"
   },
   {
    "duration": 5,
    "start_time": "2024-11-04T13:23:37.096Z"
   },
   {
    "duration": 30,
    "start_time": "2024-11-04T13:23:37.102Z"
   },
   {
    "duration": 6,
    "start_time": "2024-11-04T13:23:37.134Z"
   },
   {
    "duration": 5,
    "start_time": "2024-11-04T13:23:37.141Z"
   },
   {
    "duration": 12,
    "start_time": "2024-11-04T13:23:37.148Z"
   },
   {
    "duration": 6,
    "start_time": "2024-11-04T13:23:37.161Z"
   },
   {
    "duration": 215,
    "start_time": "2024-11-04T13:23:37.169Z"
   },
   {
    "duration": 6,
    "start_time": "2024-11-04T13:23:37.387Z"
   },
   {
    "duration": 40,
    "start_time": "2024-11-04T13:23:37.395Z"
   },
   {
    "duration": 396,
    "start_time": "2024-11-04T13:23:37.437Z"
   },
   {
    "duration": 3,
    "start_time": "2024-11-04T13:23:37.835Z"
   },
   {
    "duration": 4,
    "start_time": "2024-11-04T13:23:37.840Z"
   },
   {
    "duration": 8,
    "start_time": "2024-11-04T13:23:37.846Z"
   },
   {
    "duration": 4,
    "start_time": "2024-11-04T13:23:37.856Z"
   },
   {
    "duration": 9,
    "start_time": "2024-11-04T13:23:37.861Z"
   },
   {
    "duration": 602,
    "start_time": "2024-11-04T13:23:37.872Z"
   },
   {
    "duration": 0,
    "start_time": "2024-11-04T13:23:38.476Z"
   },
   {
    "duration": 0,
    "start_time": "2024-11-04T13:23:38.477Z"
   },
   {
    "duration": 0,
    "start_time": "2024-11-04T13:23:38.478Z"
   },
   {
    "duration": 8,
    "start_time": "2024-11-04T13:24:38.666Z"
   },
   {
    "duration": 6,
    "start_time": "2024-11-04T13:24:51.830Z"
   },
   {
    "duration": 6,
    "start_time": "2024-11-04T13:25:12.581Z"
   },
   {
    "duration": 7,
    "start_time": "2024-11-04T13:32:36.735Z"
   },
   {
    "duration": 302,
    "start_time": "2024-11-04T13:32:46.767Z"
   },
   {
    "duration": 41,
    "start_time": "2024-11-04T13:32:49.670Z"
   },
   {
    "duration": 7,
    "start_time": "2024-11-04T13:32:53.169Z"
   },
   {
    "duration": 43,
    "start_time": "2024-11-04T13:32:54.071Z"
   },
   {
    "duration": 6,
    "start_time": "2024-11-04T13:33:24.559Z"
   },
   {
    "duration": 15,
    "start_time": "2024-11-04T13:33:46.374Z"
   },
   {
    "duration": 53,
    "start_time": "2024-11-04T13:35:41.240Z"
   },
   {
    "duration": 114,
    "start_time": "2024-11-04T13:36:30.628Z"
   },
   {
    "duration": 105,
    "start_time": "2024-11-04T13:36:57.807Z"
   },
   {
    "duration": 63,
    "start_time": "2024-11-04T13:37:13.251Z"
   },
   {
    "duration": 3,
    "start_time": "2024-11-04T13:37:18.779Z"
   },
   {
    "duration": 56,
    "start_time": "2024-11-04T13:37:32.550Z"
   },
   {
    "duration": 9,
    "start_time": "2024-11-04T13:41:03.530Z"
   },
   {
    "duration": 7,
    "start_time": "2024-11-04T13:41:23.258Z"
   },
   {
    "duration": 7,
    "start_time": "2024-11-04T13:42:04.097Z"
   },
   {
    "duration": 9,
    "start_time": "2024-11-04T13:42:04.923Z"
   },
   {
    "duration": 6,
    "start_time": "2024-11-04T13:42:05.499Z"
   },
   {
    "duration": 901,
    "start_time": "2024-11-04T13:43:25.096Z"
   },
   {
    "duration": 106,
    "start_time": "2024-11-04T13:43:25.999Z"
   },
   {
    "duration": 12,
    "start_time": "2024-11-04T13:43:26.106Z"
   },
   {
    "duration": 12,
    "start_time": "2024-11-04T13:43:26.120Z"
   },
   {
    "duration": 8,
    "start_time": "2024-11-04T13:43:26.135Z"
   },
   {
    "duration": 6,
    "start_time": "2024-11-04T13:43:26.144Z"
   },
   {
    "duration": 10,
    "start_time": "2024-11-04T13:43:26.152Z"
   },
   {
    "duration": 9,
    "start_time": "2024-11-04T13:43:26.164Z"
   },
   {
    "duration": 16,
    "start_time": "2024-11-04T13:43:26.175Z"
   },
   {
    "duration": 46,
    "start_time": "2024-11-04T13:43:26.192Z"
   },
   {
    "duration": 5,
    "start_time": "2024-11-04T13:43:26.239Z"
   },
   {
    "duration": 4,
    "start_time": "2024-11-04T13:43:26.245Z"
   },
   {
    "duration": 9,
    "start_time": "2024-11-04T13:43:26.250Z"
   },
   {
    "duration": 4,
    "start_time": "2024-11-04T13:43:26.263Z"
   },
   {
    "duration": 6,
    "start_time": "2024-11-04T13:43:26.269Z"
   },
   {
    "duration": 11,
    "start_time": "2024-11-04T13:43:26.277Z"
   },
   {
    "duration": 48,
    "start_time": "2024-11-04T13:43:26.289Z"
   },
   {
    "duration": 4,
    "start_time": "2024-11-04T13:43:26.339Z"
   },
   {
    "duration": 6,
    "start_time": "2024-11-04T13:43:26.344Z"
   },
   {
    "duration": 9,
    "start_time": "2024-11-04T13:43:26.351Z"
   },
   {
    "duration": 9,
    "start_time": "2024-11-04T13:43:26.361Z"
   },
   {
    "duration": 11,
    "start_time": "2024-11-04T13:43:26.372Z"
   },
   {
    "duration": 57,
    "start_time": "2024-11-04T13:43:26.384Z"
   },
   {
    "duration": 13,
    "start_time": "2024-11-04T13:43:26.443Z"
   },
   {
    "duration": 4,
    "start_time": "2024-11-04T13:43:26.457Z"
   },
   {
    "duration": 7,
    "start_time": "2024-11-04T13:43:26.463Z"
   },
   {
    "duration": 9,
    "start_time": "2024-11-04T13:43:26.471Z"
   },
   {
    "duration": 9,
    "start_time": "2024-11-04T13:43:26.481Z"
   },
   {
    "duration": 5,
    "start_time": "2024-11-04T13:43:26.492Z"
   },
   {
    "duration": 28,
    "start_time": "2024-11-04T13:43:26.532Z"
   },
   {
    "duration": 6,
    "start_time": "2024-11-04T13:43:26.562Z"
   },
   {
    "duration": 6,
    "start_time": "2024-11-04T13:43:26.570Z"
   },
   {
    "duration": 5,
    "start_time": "2024-11-04T13:43:26.578Z"
   },
   {
    "duration": 7,
    "start_time": "2024-11-04T13:43:26.585Z"
   },
   {
    "duration": 43,
    "start_time": "2024-11-04T13:43:26.593Z"
   },
   {
    "duration": 7,
    "start_time": "2024-11-04T13:43:26.637Z"
   },
   {
    "duration": 4,
    "start_time": "2024-11-04T13:43:26.646Z"
   },
   {
    "duration": 13,
    "start_time": "2024-11-04T13:43:26.652Z"
   },
   {
    "duration": 14,
    "start_time": "2024-11-04T13:43:26.667Z"
   },
   {
    "duration": 74,
    "start_time": "2024-11-04T13:43:26.682Z"
   },
   {
    "duration": 4,
    "start_time": "2024-11-04T13:43:26.761Z"
   },
   {
    "duration": 19,
    "start_time": "2024-11-04T13:43:26.766Z"
   },
   {
    "duration": 2,
    "start_time": "2024-11-04T13:43:26.787Z"
   },
   {
    "duration": 5,
    "start_time": "2024-11-04T13:43:26.791Z"
   },
   {
    "duration": 34,
    "start_time": "2024-11-04T13:43:26.797Z"
   },
   {
    "duration": 6,
    "start_time": "2024-11-04T13:43:26.834Z"
   },
   {
    "duration": 5,
    "start_time": "2024-11-04T13:43:26.841Z"
   },
   {
    "duration": 13,
    "start_time": "2024-11-04T13:43:26.847Z"
   },
   {
    "duration": 6,
    "start_time": "2024-11-04T13:43:26.862Z"
   },
   {
    "duration": 267,
    "start_time": "2024-11-04T13:43:26.869Z"
   },
   {
    "duration": 7,
    "start_time": "2024-11-04T13:43:27.138Z"
   },
   {
    "duration": 23,
    "start_time": "2024-11-04T13:43:27.146Z"
   },
   {
    "duration": 419,
    "start_time": "2024-11-04T13:43:27.170Z"
   },
   {
    "duration": 4,
    "start_time": "2024-11-04T13:43:27.590Z"
   },
   {
    "duration": 4,
    "start_time": "2024-11-04T13:43:27.596Z"
   },
   {
    "duration": 8,
    "start_time": "2024-11-04T13:43:27.602Z"
   },
   {
    "duration": 24,
    "start_time": "2024-11-04T13:43:27.611Z"
   },
   {
    "duration": 10,
    "start_time": "2024-11-04T13:43:27.637Z"
   },
   {
    "duration": 11,
    "start_time": "2024-11-04T13:43:27.652Z"
   },
   {
    "duration": 8,
    "start_time": "2024-11-04T13:43:27.665Z"
   },
   {
    "duration": 129,
    "start_time": "2024-11-04T13:43:27.675Z"
   },
   {
    "duration": 65,
    "start_time": "2024-11-04T13:43:27.806Z"
   },
   {
    "duration": 6,
    "start_time": "2024-11-04T13:43:27.873Z"
   },
   {
    "duration": 8,
    "start_time": "2024-11-04T13:45:12.644Z"
   },
   {
    "duration": 7,
    "start_time": "2024-11-04T13:45:28.140Z"
   },
   {
    "duration": 408,
    "start_time": "2024-11-04T13:46:04.290Z"
   },
   {
    "duration": 6,
    "start_time": "2024-11-04T13:47:30.905Z"
   },
   {
    "duration": 8,
    "start_time": "2024-11-04T13:47:46.074Z"
   },
   {
    "duration": 7,
    "start_time": "2024-11-04T13:47:52.693Z"
   },
   {
    "duration": 7,
    "start_time": "2024-11-04T13:47:56.109Z"
   },
   {
    "duration": 7,
    "start_time": "2024-11-04T13:48:43.322Z"
   },
   {
    "duration": 9,
    "start_time": "2024-11-04T13:49:12.014Z"
   },
   {
    "duration": 7,
    "start_time": "2024-11-04T13:49:18.752Z"
   },
   {
    "duration": 9,
    "start_time": "2024-11-04T13:49:19.791Z"
   },
   {
    "duration": 7,
    "start_time": "2024-11-04T13:49:23.474Z"
   },
   {
    "duration": 6,
    "start_time": "2024-11-04T13:49:44.756Z"
   },
   {
    "duration": 6,
    "start_time": "2024-11-04T13:49:49.357Z"
   },
   {
    "duration": 6,
    "start_time": "2024-11-04T13:51:01.063Z"
   },
   {
    "duration": 8,
    "start_time": "2024-11-04T13:51:22.274Z"
   },
   {
    "duration": 9,
    "start_time": "2024-11-04T13:52:35.780Z"
   },
   {
    "duration": 6,
    "start_time": "2024-11-04T13:52:40.881Z"
   },
   {
    "duration": 133,
    "start_time": "2024-11-04T13:55:51.572Z"
   },
   {
    "duration": 106,
    "start_time": "2024-11-04T13:56:09.380Z"
   },
   {
    "duration": 444,
    "start_time": "2024-11-04T13:57:35.809Z"
   },
   {
    "duration": 421,
    "start_time": "2024-11-04T13:58:25.292Z"
   },
   {
    "duration": 48,
    "start_time": "2024-11-04T14:00:41.079Z"
   },
   {
    "duration": 46,
    "start_time": "2024-11-04T14:04:09.767Z"
   },
   {
    "duration": 2,
    "start_time": "2024-11-04T14:08:47.632Z"
   },
   {
    "duration": 6,
    "start_time": "2024-11-04T14:14:57.674Z"
   },
   {
    "duration": 6,
    "start_time": "2024-11-04T14:15:04.427Z"
   },
   {
    "duration": 7,
    "start_time": "2024-11-04T14:15:21.041Z"
   },
   {
    "duration": 6,
    "start_time": "2024-11-04T14:15:25.471Z"
   },
   {
    "duration": 7,
    "start_time": "2024-11-04T14:15:37.755Z"
   },
   {
    "duration": 9,
    "start_time": "2024-11-04T14:16:02.761Z"
   },
   {
    "duration": 9,
    "start_time": "2024-11-04T14:18:10.222Z"
   },
   {
    "duration": 17,
    "start_time": "2024-11-04T14:25:41.526Z"
   },
   {
    "duration": 24,
    "start_time": "2024-11-04T14:25:49.845Z"
   },
   {
    "duration": 27,
    "start_time": "2024-11-04T14:26:06.249Z"
   },
   {
    "duration": 22,
    "start_time": "2024-11-04T14:27:17.306Z"
   },
   {
    "duration": 21,
    "start_time": "2024-11-04T14:28:26.784Z"
   },
   {
    "duration": 25,
    "start_time": "2024-11-04T14:31:21.186Z"
   },
   {
    "duration": 13,
    "start_time": "2024-11-04T14:36:19.253Z"
   },
   {
    "duration": 2969,
    "start_time": "2024-11-04T14:40:50.594Z"
   },
   {
    "duration": 174,
    "start_time": "2024-11-04T14:41:14.848Z"
   },
   {
    "duration": 940,
    "start_time": "2024-11-04T14:41:33.583Z"
   },
   {
    "duration": 139,
    "start_time": "2024-11-04T14:41:34.525Z"
   },
   {
    "duration": 12,
    "start_time": "2024-11-04T14:41:34.666Z"
   },
   {
    "duration": 8,
    "start_time": "2024-11-04T14:41:34.680Z"
   },
   {
    "duration": 8,
    "start_time": "2024-11-04T14:41:34.691Z"
   },
   {
    "duration": 7,
    "start_time": "2024-11-04T14:41:34.701Z"
   },
   {
    "duration": 29,
    "start_time": "2024-11-04T14:41:34.709Z"
   },
   {
    "duration": 9,
    "start_time": "2024-11-04T14:41:34.740Z"
   },
   {
    "duration": 16,
    "start_time": "2024-11-04T14:41:34.751Z"
   },
   {
    "duration": 8,
    "start_time": "2024-11-04T14:41:34.768Z"
   },
   {
    "duration": 5,
    "start_time": "2024-11-04T14:41:34.778Z"
   },
   {
    "duration": 4,
    "start_time": "2024-11-04T14:41:34.784Z"
   },
   {
    "duration": 49,
    "start_time": "2024-11-04T14:41:34.790Z"
   },
   {
    "duration": 3,
    "start_time": "2024-11-04T14:41:34.844Z"
   },
   {
    "duration": 7,
    "start_time": "2024-11-04T14:41:34.849Z"
   },
   {
    "duration": 12,
    "start_time": "2024-11-04T14:41:34.858Z"
   },
   {
    "duration": 8,
    "start_time": "2024-11-04T14:41:34.871Z"
   },
   {
    "duration": 4,
    "start_time": "2024-11-04T14:41:34.881Z"
   },
   {
    "duration": 7,
    "start_time": "2024-11-04T14:41:34.886Z"
   },
   {
    "duration": 47,
    "start_time": "2024-11-04T14:41:34.894Z"
   },
   {
    "duration": 9,
    "start_time": "2024-11-04T14:41:34.943Z"
   },
   {
    "duration": 9,
    "start_time": "2024-11-04T14:41:34.953Z"
   },
   {
    "duration": 20,
    "start_time": "2024-11-04T14:41:34.965Z"
   },
   {
    "duration": 45,
    "start_time": "2024-11-04T14:41:34.987Z"
   },
   {
    "duration": 5,
    "start_time": "2024-11-04T14:41:35.034Z"
   },
   {
    "duration": 6,
    "start_time": "2024-11-04T14:41:35.041Z"
   },
   {
    "duration": 8,
    "start_time": "2024-11-04T14:41:35.049Z"
   },
   {
    "duration": 4,
    "start_time": "2024-11-04T14:41:35.059Z"
   },
   {
    "duration": 5,
    "start_time": "2024-11-04T14:41:35.065Z"
   },
   {
    "duration": 65,
    "start_time": "2024-11-04T14:41:35.072Z"
   },
   {
    "duration": 7,
    "start_time": "2024-11-04T14:41:35.138Z"
   },
   {
    "duration": 4,
    "start_time": "2024-11-04T14:41:35.147Z"
   },
   {
    "duration": 5,
    "start_time": "2024-11-04T14:41:35.152Z"
   },
   {
    "duration": 7,
    "start_time": "2024-11-04T14:41:35.158Z"
   },
   {
    "duration": 5,
    "start_time": "2024-11-04T14:41:35.167Z"
   },
   {
    "duration": 7,
    "start_time": "2024-11-04T14:41:35.174Z"
   },
   {
    "duration": 4,
    "start_time": "2024-11-04T14:41:35.183Z"
   },
   {
    "duration": 14,
    "start_time": "2024-11-04T14:41:35.231Z"
   },
   {
    "duration": 13,
    "start_time": "2024-11-04T14:41:35.247Z"
   },
   {
    "duration": 49,
    "start_time": "2024-11-04T14:41:35.262Z"
   },
   {
    "duration": 5,
    "start_time": "2024-11-04T14:41:35.330Z"
   },
   {
    "duration": 17,
    "start_time": "2024-11-04T14:41:35.337Z"
   },
   {
    "duration": 2,
    "start_time": "2024-11-04T14:41:35.358Z"
   },
   {
    "duration": 5,
    "start_time": "2024-11-04T14:41:35.361Z"
   },
   {
    "duration": 5,
    "start_time": "2024-11-04T14:41:35.368Z"
   },
   {
    "duration": 6,
    "start_time": "2024-11-04T14:41:35.374Z"
   },
   {
    "duration": 4,
    "start_time": "2024-11-04T14:41:35.383Z"
   },
   {
    "duration": 49,
    "start_time": "2024-11-04T14:41:35.389Z"
   },
   {
    "duration": 5,
    "start_time": "2024-11-04T14:41:35.440Z"
   },
   {
    "duration": 251,
    "start_time": "2024-11-04T14:41:35.446Z"
   },
   {
    "duration": 8,
    "start_time": "2024-11-04T14:41:35.699Z"
   },
   {
    "duration": 36,
    "start_time": "2024-11-04T14:41:35.709Z"
   },
   {
    "duration": 389,
    "start_time": "2024-11-04T14:41:35.747Z"
   },
   {
    "duration": 2,
    "start_time": "2024-11-04T14:41:36.138Z"
   },
   {
    "duration": 5,
    "start_time": "2024-11-04T14:41:36.141Z"
   },
   {
    "duration": 3,
    "start_time": "2024-11-04T14:41:36.147Z"
   },
   {
    "duration": 25,
    "start_time": "2024-11-04T14:41:36.151Z"
   },
   {
    "duration": 12,
    "start_time": "2024-11-04T14:41:36.178Z"
   },
   {
    "duration": 2951,
    "start_time": "2024-11-04T14:41:36.192Z"
   },
   {
    "duration": 6,
    "start_time": "2024-11-04T14:41:39.145Z"
   },
   {
    "duration": 6,
    "start_time": "2024-11-04T14:41:39.153Z"
   },
   {
    "duration": 7,
    "start_time": "2024-11-04T14:41:39.160Z"
   },
   {
    "duration": 120,
    "start_time": "2024-11-04T14:41:39.169Z"
   },
   {
    "duration": 61,
    "start_time": "2024-11-04T14:41:39.291Z"
   },
   {
    "duration": 6,
    "start_time": "2024-11-04T14:41:39.354Z"
   },
   {
    "duration": 159,
    "start_time": "2024-11-04T14:43:22.392Z"
   },
   {
    "duration": 12,
    "start_time": "2024-11-04T14:43:39.517Z"
   },
   {
    "duration": 952,
    "start_time": "2024-11-05T09:30:24.497Z"
   },
   {
    "duration": 127,
    "start_time": "2024-11-05T09:30:25.451Z"
   },
   {
    "duration": 12,
    "start_time": "2024-11-05T09:30:25.580Z"
   },
   {
    "duration": 7,
    "start_time": "2024-11-05T09:30:25.594Z"
   },
   {
    "duration": 6,
    "start_time": "2024-11-05T09:30:25.603Z"
   },
   {
    "duration": 5,
    "start_time": "2024-11-05T09:30:25.611Z"
   },
   {
    "duration": 10,
    "start_time": "2024-11-05T09:30:25.618Z"
   },
   {
    "duration": 8,
    "start_time": "2024-11-05T09:30:25.630Z"
   },
   {
    "duration": 52,
    "start_time": "2024-11-05T09:30:25.639Z"
   },
   {
    "duration": 7,
    "start_time": "2024-11-05T09:30:25.695Z"
   },
   {
    "duration": 4,
    "start_time": "2024-11-05T09:30:25.703Z"
   },
   {
    "duration": 4,
    "start_time": "2024-11-05T09:30:25.708Z"
   },
   {
    "duration": 8,
    "start_time": "2024-11-05T09:30:25.714Z"
   },
   {
    "duration": 4,
    "start_time": "2024-11-05T09:30:25.723Z"
   },
   {
    "duration": 6,
    "start_time": "2024-11-05T09:30:25.729Z"
   },
   {
    "duration": 50,
    "start_time": "2024-11-05T09:30:25.737Z"
   },
   {
    "duration": 7,
    "start_time": "2024-11-05T09:30:25.789Z"
   },
   {
    "duration": 3,
    "start_time": "2024-11-05T09:30:25.798Z"
   },
   {
    "duration": 5,
    "start_time": "2024-11-05T09:30:25.803Z"
   },
   {
    "duration": 9,
    "start_time": "2024-11-05T09:30:25.810Z"
   },
   {
    "duration": 10,
    "start_time": "2024-11-05T09:30:25.820Z"
   },
   {
    "duration": 8,
    "start_time": "2024-11-05T09:30:25.833Z"
   },
   {
    "duration": 55,
    "start_time": "2024-11-05T09:30:25.842Z"
   },
   {
    "duration": 12,
    "start_time": "2024-11-05T09:30:25.898Z"
   },
   {
    "duration": 3,
    "start_time": "2024-11-05T09:30:25.912Z"
   },
   {
    "duration": 6,
    "start_time": "2024-11-05T09:30:25.916Z"
   },
   {
    "duration": 9,
    "start_time": "2024-11-05T09:30:25.924Z"
   },
   {
    "duration": 4,
    "start_time": "2024-11-05T09:30:25.938Z"
   },
   {
    "duration": 5,
    "start_time": "2024-11-05T09:30:25.944Z"
   },
   {
    "duration": 27,
    "start_time": "2024-11-05T09:30:25.987Z"
   },
   {
    "duration": 6,
    "start_time": "2024-11-05T09:30:26.016Z"
   },
   {
    "duration": 4,
    "start_time": "2024-11-05T09:30:26.023Z"
   },
   {
    "duration": 4,
    "start_time": "2024-11-05T09:30:26.028Z"
   },
   {
    "duration": 7,
    "start_time": "2024-11-05T09:30:26.034Z"
   },
   {
    "duration": 5,
    "start_time": "2024-11-05T09:30:26.042Z"
   },
   {
    "duration": 41,
    "start_time": "2024-11-05T09:30:26.049Z"
   },
   {
    "duration": 4,
    "start_time": "2024-11-05T09:30:26.092Z"
   },
   {
    "duration": 12,
    "start_time": "2024-11-05T09:30:26.098Z"
   },
   {
    "duration": 13,
    "start_time": "2024-11-05T09:30:26.112Z"
   },
   {
    "duration": 68,
    "start_time": "2024-11-05T09:30:26.126Z"
   },
   {
    "duration": 4,
    "start_time": "2024-11-05T09:30:26.195Z"
   },
   {
    "duration": 17,
    "start_time": "2024-11-05T09:30:26.201Z"
   },
   {
    "duration": 2,
    "start_time": "2024-11-05T09:30:26.219Z"
   },
   {
    "duration": 4,
    "start_time": "2024-11-05T09:30:26.223Z"
   },
   {
    "duration": 5,
    "start_time": "2024-11-05T09:30:26.228Z"
   },
   {
    "duration": 5,
    "start_time": "2024-11-05T09:30:26.234Z"
   },
   {
    "duration": 3,
    "start_time": "2024-11-05T09:30:26.241Z"
   },
   {
    "duration": 49,
    "start_time": "2024-11-05T09:30:26.246Z"
   },
   {
    "duration": 5,
    "start_time": "2024-11-05T09:30:26.297Z"
   },
   {
    "duration": 247,
    "start_time": "2024-11-05T09:30:26.304Z"
   },
   {
    "duration": 7,
    "start_time": "2024-11-05T09:30:26.552Z"
   },
   {
    "duration": 36,
    "start_time": "2024-11-05T09:30:26.561Z"
   },
   {
    "duration": 385,
    "start_time": "2024-11-05T09:30:26.598Z"
   },
   {
    "duration": 3,
    "start_time": "2024-11-05T09:30:26.984Z"
   },
   {
    "duration": 3,
    "start_time": "2024-11-05T09:30:26.988Z"
   },
   {
    "duration": 2,
    "start_time": "2024-11-05T09:30:26.993Z"
   },
   {
    "duration": 26,
    "start_time": "2024-11-05T09:30:26.997Z"
   },
   {
    "duration": 12,
    "start_time": "2024-11-05T09:30:27.025Z"
   },
   {
    "duration": 2997,
    "start_time": "2024-11-05T09:30:27.039Z"
   },
   {
    "duration": 7,
    "start_time": "2024-11-05T09:30:30.038Z"
   },
   {
    "duration": 6,
    "start_time": "2024-11-05T09:30:30.047Z"
   },
   {
    "duration": 8,
    "start_time": "2024-11-05T09:30:30.055Z"
   },
   {
    "duration": 87,
    "start_time": "2024-11-05T09:30:30.086Z"
   },
   {
    "duration": 53,
    "start_time": "2024-11-05T09:30:30.175Z"
   },
   {
    "duration": 5,
    "start_time": "2024-11-05T09:30:30.230Z"
   },
   {
    "duration": 83,
    "start_time": "2024-11-05T09:31:03.216Z"
   },
   {
    "duration": 157,
    "start_time": "2024-11-05T09:35:10.238Z"
   },
   {
    "duration": 11,
    "start_time": "2024-11-05T09:35:19.777Z"
   },
   {
    "duration": 905,
    "start_time": "2024-11-05T09:35:25.220Z"
   },
   {
    "duration": 96,
    "start_time": "2024-11-05T09:35:26.128Z"
   },
   {
    "duration": 11,
    "start_time": "2024-11-05T09:35:26.225Z"
   },
   {
    "duration": 6,
    "start_time": "2024-11-05T09:35:26.238Z"
   },
   {
    "duration": 6,
    "start_time": "2024-11-05T09:35:26.247Z"
   },
   {
    "duration": 5,
    "start_time": "2024-11-05T09:35:26.255Z"
   },
   {
    "duration": 34,
    "start_time": "2024-11-05T09:35:26.261Z"
   },
   {
    "duration": 8,
    "start_time": "2024-11-05T09:35:26.296Z"
   },
   {
    "duration": 15,
    "start_time": "2024-11-05T09:35:26.306Z"
   },
   {
    "duration": 7,
    "start_time": "2024-11-05T09:35:26.323Z"
   },
   {
    "duration": 4,
    "start_time": "2024-11-05T09:35:26.331Z"
   },
   {
    "duration": 4,
    "start_time": "2024-11-05T09:35:26.336Z"
   },
   {
    "duration": 8,
    "start_time": "2024-11-05T09:35:26.342Z"
   },
   {
    "duration": 3,
    "start_time": "2024-11-05T09:35:26.390Z"
   },
   {
    "duration": 6,
    "start_time": "2024-11-05T09:35:26.395Z"
   },
   {
    "duration": 10,
    "start_time": "2024-11-05T09:35:26.403Z"
   },
   {
    "duration": 7,
    "start_time": "2024-11-05T09:35:26.415Z"
   },
   {
    "duration": 3,
    "start_time": "2024-11-05T09:35:26.424Z"
   },
   {
    "duration": 7,
    "start_time": "2024-11-05T09:35:26.428Z"
   },
   {
    "duration": 50,
    "start_time": "2024-11-05T09:35:26.437Z"
   },
   {
    "duration": 9,
    "start_time": "2024-11-05T09:35:26.489Z"
   },
   {
    "duration": 8,
    "start_time": "2024-11-05T09:35:26.500Z"
   },
   {
    "duration": 18,
    "start_time": "2024-11-05T09:35:26.510Z"
   },
   {
    "duration": 13,
    "start_time": "2024-11-05T09:35:26.530Z"
   },
   {
    "duration": 4,
    "start_time": "2024-11-05T09:35:26.544Z"
   },
   {
    "duration": 39,
    "start_time": "2024-11-05T09:35:26.549Z"
   },
   {
    "duration": 8,
    "start_time": "2024-11-05T09:35:26.590Z"
   },
   {
    "duration": 4,
    "start_time": "2024-11-05T09:35:26.599Z"
   },
   {
    "duration": 5,
    "start_time": "2024-11-05T09:35:26.605Z"
   },
   {
    "duration": 27,
    "start_time": "2024-11-05T09:35:26.611Z"
   },
   {
    "duration": 6,
    "start_time": "2024-11-05T09:35:26.640Z"
   },
   {
    "duration": 41,
    "start_time": "2024-11-05T09:35:26.648Z"
   },
   {
    "duration": 4,
    "start_time": "2024-11-05T09:35:26.691Z"
   },
   {
    "duration": 6,
    "start_time": "2024-11-05T09:35:26.697Z"
   },
   {
    "duration": 6,
    "start_time": "2024-11-05T09:35:26.705Z"
   },
   {
    "duration": 6,
    "start_time": "2024-11-05T09:35:26.713Z"
   },
   {
    "duration": 4,
    "start_time": "2024-11-05T09:35:26.721Z"
   },
   {
    "duration": 12,
    "start_time": "2024-11-05T09:35:26.727Z"
   },
   {
    "duration": 53,
    "start_time": "2024-11-05T09:35:26.741Z"
   },
   {
    "duration": 43,
    "start_time": "2024-11-05T09:35:26.796Z"
   },
   {
    "duration": 4,
    "start_time": "2024-11-05T09:35:26.844Z"
   },
   {
    "duration": 39,
    "start_time": "2024-11-05T09:35:26.850Z"
   },
   {
    "duration": 2,
    "start_time": "2024-11-05T09:35:26.891Z"
   },
   {
    "duration": 4,
    "start_time": "2024-11-05T09:35:26.896Z"
   },
   {
    "duration": 5,
    "start_time": "2024-11-05T09:35:26.902Z"
   },
   {
    "duration": 5,
    "start_time": "2024-11-05T09:35:26.909Z"
   },
   {
    "duration": 4,
    "start_time": "2024-11-05T09:35:26.915Z"
   },
   {
    "duration": 12,
    "start_time": "2024-11-05T09:35:26.921Z"
   },
   {
    "duration": 5,
    "start_time": "2024-11-05T09:35:26.934Z"
   },
   {
    "duration": 275,
    "start_time": "2024-11-05T09:35:26.941Z"
   },
   {
    "duration": 8,
    "start_time": "2024-11-05T09:35:27.217Z"
   },
   {
    "duration": 23,
    "start_time": "2024-11-05T09:35:27.226Z"
   },
   {
    "duration": 401,
    "start_time": "2024-11-05T09:35:27.251Z"
   },
   {
    "duration": 2,
    "start_time": "2024-11-05T09:35:27.654Z"
   },
   {
    "duration": 4,
    "start_time": "2024-11-05T09:35:27.658Z"
   },
   {
    "duration": 2,
    "start_time": "2024-11-05T09:35:27.664Z"
   },
   {
    "duration": 40,
    "start_time": "2024-11-05T09:35:27.668Z"
   },
   {
    "duration": 12,
    "start_time": "2024-11-05T09:35:27.710Z"
   },
   {
    "duration": 2979,
    "start_time": "2024-11-05T09:35:27.723Z"
   },
   {
    "duration": 13,
    "start_time": "2024-11-05T09:35:30.704Z"
   },
   {
    "duration": 6,
    "start_time": "2024-11-05T09:35:30.719Z"
   },
   {
    "duration": 7,
    "start_time": "2024-11-05T09:35:30.726Z"
   },
   {
    "duration": 110,
    "start_time": "2024-11-05T09:35:30.736Z"
   },
   {
    "duration": 54,
    "start_time": "2024-11-05T09:35:30.848Z"
   },
   {
    "duration": 7,
    "start_time": "2024-11-05T09:35:30.904Z"
   },
   {
    "duration": 222,
    "start_time": "2024-11-05T09:38:29.217Z"
   },
   {
    "duration": 1734,
    "start_time": "2024-11-05T09:38:59.939Z"
   },
   {
    "duration": 1247,
    "start_time": "2024-11-05T09:41:44.055Z"
   },
   {
    "duration": 931,
    "start_time": "2024-11-05T09:42:02.338Z"
   },
   {
    "duration": 99,
    "start_time": "2024-11-05T09:42:03.271Z"
   },
   {
    "duration": 16,
    "start_time": "2024-11-05T09:42:03.372Z"
   },
   {
    "duration": 8,
    "start_time": "2024-11-05T09:42:03.391Z"
   },
   {
    "duration": 6,
    "start_time": "2024-11-05T09:42:03.401Z"
   },
   {
    "duration": 6,
    "start_time": "2024-11-05T09:42:03.409Z"
   },
   {
    "duration": 10,
    "start_time": "2024-11-05T09:42:03.417Z"
   },
   {
    "duration": 8,
    "start_time": "2024-11-05T09:42:03.429Z"
   },
   {
    "duration": 50,
    "start_time": "2024-11-05T09:42:03.438Z"
   },
   {
    "duration": 8,
    "start_time": "2024-11-05T09:42:03.491Z"
   },
   {
    "duration": 4,
    "start_time": "2024-11-05T09:42:03.501Z"
   },
   {
    "duration": 4,
    "start_time": "2024-11-05T09:42:03.506Z"
   },
   {
    "duration": 9,
    "start_time": "2024-11-05T09:42:03.511Z"
   },
   {
    "duration": 3,
    "start_time": "2024-11-05T09:42:03.522Z"
   },
   {
    "duration": 6,
    "start_time": "2024-11-05T09:42:03.527Z"
   },
   {
    "duration": 11,
    "start_time": "2024-11-05T09:42:03.535Z"
   },
   {
    "duration": 8,
    "start_time": "2024-11-05T09:42:03.586Z"
   },
   {
    "duration": 3,
    "start_time": "2024-11-05T09:42:03.596Z"
   },
   {
    "duration": 5,
    "start_time": "2024-11-05T09:42:03.601Z"
   },
   {
    "duration": 11,
    "start_time": "2024-11-05T09:42:03.608Z"
   },
   {
    "duration": 9,
    "start_time": "2024-11-05T09:42:03.620Z"
   },
   {
    "duration": 10,
    "start_time": "2024-11-05T09:42:03.630Z"
   },
   {
    "duration": 61,
    "start_time": "2024-11-05T09:42:03.641Z"
   },
   {
    "duration": 13,
    "start_time": "2024-11-05T09:42:03.704Z"
   },
   {
    "duration": 4,
    "start_time": "2024-11-05T09:42:03.718Z"
   },
   {
    "duration": 7,
    "start_time": "2024-11-05T09:42:03.725Z"
   },
   {
    "duration": 9,
    "start_time": "2024-11-05T09:42:03.733Z"
   },
   {
    "duration": 4,
    "start_time": "2024-11-05T09:42:03.747Z"
   },
   {
    "duration": 37,
    "start_time": "2024-11-05T09:42:03.753Z"
   },
   {
    "duration": 30,
    "start_time": "2024-11-05T09:42:03.792Z"
   },
   {
    "duration": 7,
    "start_time": "2024-11-05T09:42:03.824Z"
   },
   {
    "duration": 5,
    "start_time": "2024-11-05T09:42:03.833Z"
   },
   {
    "duration": 5,
    "start_time": "2024-11-05T09:42:03.840Z"
   },
   {
    "duration": 7,
    "start_time": "2024-11-05T09:42:03.846Z"
   },
   {
    "duration": 7,
    "start_time": "2024-11-05T09:42:03.888Z"
   },
   {
    "duration": 7,
    "start_time": "2024-11-05T09:42:03.897Z"
   },
   {
    "duration": 4,
    "start_time": "2024-11-05T09:42:03.906Z"
   },
   {
    "duration": 14,
    "start_time": "2024-11-05T09:42:03.911Z"
   },
   {
    "duration": 14,
    "start_time": "2024-11-05T09:42:03.926Z"
   },
   {
    "duration": 85,
    "start_time": "2024-11-05T09:42:03.941Z"
   },
   {
    "duration": 4,
    "start_time": "2024-11-05T09:42:04.028Z"
   },
   {
    "duration": 18,
    "start_time": "2024-11-05T09:42:04.034Z"
   },
   {
    "duration": 2,
    "start_time": "2024-11-05T09:42:04.053Z"
   },
   {
    "duration": 5,
    "start_time": "2024-11-05T09:42:04.057Z"
   },
   {
    "duration": 6,
    "start_time": "2024-11-05T09:42:04.087Z"
   },
   {
    "duration": 5,
    "start_time": "2024-11-05T09:42:04.095Z"
   },
   {
    "duration": 4,
    "start_time": "2024-11-05T09:42:04.102Z"
   },
   {
    "duration": 18,
    "start_time": "2024-11-05T09:42:04.108Z"
   },
   {
    "duration": 6,
    "start_time": "2024-11-05T09:42:04.128Z"
   },
   {
    "duration": 254,
    "start_time": "2024-11-05T09:42:04.135Z"
   },
   {
    "duration": 7,
    "start_time": "2024-11-05T09:42:04.391Z"
   },
   {
    "duration": 22,
    "start_time": "2024-11-05T09:42:04.400Z"
   },
   {
    "duration": 397,
    "start_time": "2024-11-05T09:42:04.424Z"
   },
   {
    "duration": 3,
    "start_time": "2024-11-05T09:42:04.823Z"
   },
   {
    "duration": 3,
    "start_time": "2024-11-05T09:42:04.827Z"
   },
   {
    "duration": 2,
    "start_time": "2024-11-05T09:42:04.831Z"
   },
   {
    "duration": 25,
    "start_time": "2024-11-05T09:42:04.836Z"
   },
   {
    "duration": 35,
    "start_time": "2024-11-05T09:42:04.862Z"
   },
   {
    "duration": 2989,
    "start_time": "2024-11-05T09:42:04.898Z"
   },
   {
    "duration": 13,
    "start_time": "2024-11-05T09:42:07.889Z"
   },
   {
    "duration": 3,
    "start_time": "2024-11-05T09:42:07.904Z"
   },
   {
    "duration": 1236,
    "start_time": "2024-11-05T09:42:07.908Z"
   },
   {
    "duration": 6,
    "start_time": "2024-11-05T09:42:09.146Z"
   },
   {
    "duration": 6,
    "start_time": "2024-11-05T09:42:09.154Z"
   },
   {
    "duration": 113,
    "start_time": "2024-11-05T09:42:09.161Z"
   },
   {
    "duration": 52,
    "start_time": "2024-11-05T09:42:09.276Z"
   },
   {
    "duration": 5,
    "start_time": "2024-11-05T09:42:09.331Z"
   },
   {
    "duration": 7,
    "start_time": "2024-11-05T09:43:52.029Z"
   },
   {
    "duration": 7,
    "start_time": "2024-11-05T09:43:52.844Z"
   },
   {
    "duration": 85,
    "start_time": "2024-11-05T09:43:53.683Z"
   },
   {
    "duration": 1216,
    "start_time": "2024-11-05T09:45:46.473Z"
   },
   {
    "duration": 2616,
    "start_time": "2024-11-05T12:36:59.734Z"
   },
   {
    "duration": 151,
    "start_time": "2024-11-05T12:37:02.353Z"
   },
   {
    "duration": 11,
    "start_time": "2024-11-05T12:37:02.506Z"
   },
   {
    "duration": 6,
    "start_time": "2024-11-05T12:37:02.520Z"
   },
   {
    "duration": 14,
    "start_time": "2024-11-05T12:37:02.528Z"
   },
   {
    "duration": 6,
    "start_time": "2024-11-05T12:37:02.543Z"
   },
   {
    "duration": 11,
    "start_time": "2024-11-05T12:37:02.550Z"
   },
   {
    "duration": 9,
    "start_time": "2024-11-05T12:37:02.562Z"
   },
   {
    "duration": 16,
    "start_time": "2024-11-05T12:37:02.572Z"
   },
   {
    "duration": 7,
    "start_time": "2024-11-05T12:37:02.592Z"
   },
   {
    "duration": 4,
    "start_time": "2024-11-05T12:37:02.600Z"
   },
   {
    "duration": 38,
    "start_time": "2024-11-05T12:37:02.606Z"
   },
   {
    "duration": 9,
    "start_time": "2024-11-05T12:37:02.645Z"
   },
   {
    "duration": 5,
    "start_time": "2024-11-05T12:37:02.656Z"
   },
   {
    "duration": 9,
    "start_time": "2024-11-05T12:37:02.662Z"
   },
   {
    "duration": 10,
    "start_time": "2024-11-05T12:37:02.673Z"
   },
   {
    "duration": 7,
    "start_time": "2024-11-05T12:37:02.684Z"
   },
   {
    "duration": 3,
    "start_time": "2024-11-05T12:37:02.693Z"
   },
   {
    "duration": 6,
    "start_time": "2024-11-05T12:37:02.697Z"
   },
   {
    "duration": 9,
    "start_time": "2024-11-05T12:37:02.743Z"
   },
   {
    "duration": 9,
    "start_time": "2024-11-05T12:37:02.753Z"
   },
   {
    "duration": 9,
    "start_time": "2024-11-05T12:37:02.763Z"
   },
   {
    "duration": 20,
    "start_time": "2024-11-05T12:37:02.773Z"
   },
   {
    "duration": 12,
    "start_time": "2024-11-05T12:37:02.794Z"
   },
   {
    "duration": 37,
    "start_time": "2024-11-05T12:37:02.807Z"
   },
   {
    "duration": 6,
    "start_time": "2024-11-05T12:37:02.846Z"
   },
   {
    "duration": 8,
    "start_time": "2024-11-05T12:37:02.854Z"
   },
   {
    "duration": 4,
    "start_time": "2024-11-05T12:37:02.867Z"
   },
   {
    "duration": 5,
    "start_time": "2024-11-05T12:37:02.873Z"
   },
   {
    "duration": 27,
    "start_time": "2024-11-05T12:37:02.879Z"
   },
   {
    "duration": 40,
    "start_time": "2024-11-05T12:37:02.907Z"
   },
   {
    "duration": 5,
    "start_time": "2024-11-05T12:37:02.949Z"
   },
   {
    "duration": 5,
    "start_time": "2024-11-05T12:37:02.956Z"
   },
   {
    "duration": 11,
    "start_time": "2024-11-05T12:37:02.963Z"
   },
   {
    "duration": 8,
    "start_time": "2024-11-05T12:37:02.976Z"
   },
   {
    "duration": 7,
    "start_time": "2024-11-05T12:37:02.986Z"
   },
   {
    "duration": 4,
    "start_time": "2024-11-05T12:37:02.994Z"
   },
   {
    "duration": 48,
    "start_time": "2024-11-05T12:37:03.000Z"
   },
   {
    "duration": 14,
    "start_time": "2024-11-05T12:37:03.050Z"
   },
   {
    "duration": 45,
    "start_time": "2024-11-05T12:37:03.066Z"
   },
   {
    "duration": 4,
    "start_time": "2024-11-05T12:37:03.114Z"
   },
   {
    "duration": 39,
    "start_time": "2024-11-05T12:37:03.120Z"
   },
   {
    "duration": 3,
    "start_time": "2024-11-05T12:37:03.161Z"
   },
   {
    "duration": 5,
    "start_time": "2024-11-05T12:37:03.165Z"
   },
   {
    "duration": 5,
    "start_time": "2024-11-05T12:37:03.171Z"
   },
   {
    "duration": 5,
    "start_time": "2024-11-05T12:37:03.178Z"
   },
   {
    "duration": 4,
    "start_time": "2024-11-05T12:37:03.184Z"
   },
   {
    "duration": 12,
    "start_time": "2024-11-05T12:37:03.190Z"
   },
   {
    "duration": 44,
    "start_time": "2024-11-05T12:37:03.204Z"
   },
   {
    "duration": 196,
    "start_time": "2024-11-05T12:37:03.249Z"
   },
   {
    "duration": 7,
    "start_time": "2024-11-05T12:37:03.447Z"
   },
   {
    "duration": 24,
    "start_time": "2024-11-05T12:37:03.455Z"
   },
   {
    "duration": 468,
    "start_time": "2024-11-05T12:37:03.480Z"
   },
   {
    "duration": 2,
    "start_time": "2024-11-05T12:37:03.950Z"
   },
   {
    "duration": 3,
    "start_time": "2024-11-05T12:37:03.954Z"
   },
   {
    "duration": 3,
    "start_time": "2024-11-05T12:37:03.958Z"
   },
   {
    "duration": 24,
    "start_time": "2024-11-05T12:37:03.963Z"
   },
   {
    "duration": 81,
    "start_time": "2024-11-05T12:37:03.989Z"
   },
   {
    "duration": 2903,
    "start_time": "2024-11-05T12:37:04.072Z"
   },
   {
    "duration": 14,
    "start_time": "2024-11-05T12:37:06.976Z"
   },
   {
    "duration": 2,
    "start_time": "2024-11-05T12:37:06.991Z"
   },
   {
    "duration": 1227,
    "start_time": "2024-11-05T12:37:06.995Z"
   },
   {
    "duration": 7,
    "start_time": "2024-11-05T12:37:08.224Z"
   },
   {
    "duration": 6,
    "start_time": "2024-11-05T12:37:08.242Z"
   },
   {
    "duration": 6,
    "start_time": "2024-11-05T12:37:08.249Z"
   },
   {
    "duration": 877,
    "start_time": "2024-11-05T14:06:48.147Z"
   },
   {
    "duration": 113,
    "start_time": "2024-11-05T14:06:49.028Z"
   },
   {
    "duration": 11,
    "start_time": "2024-11-05T14:06:49.143Z"
   },
   {
    "duration": 6,
    "start_time": "2024-11-05T14:06:49.157Z"
   },
   {
    "duration": 7,
    "start_time": "2024-11-05T14:06:49.165Z"
   },
   {
    "duration": 5,
    "start_time": "2024-11-05T14:06:49.173Z"
   },
   {
    "duration": 10,
    "start_time": "2024-11-05T14:06:49.180Z"
   },
   {
    "duration": 9,
    "start_time": "2024-11-05T14:06:49.192Z"
   },
   {
    "duration": 54,
    "start_time": "2024-11-05T14:06:49.203Z"
   },
   {
    "duration": 7,
    "start_time": "2024-11-05T14:06:49.262Z"
   },
   {
    "duration": 4,
    "start_time": "2024-11-05T14:06:49.271Z"
   },
   {
    "duration": 5,
    "start_time": "2024-11-05T14:06:49.276Z"
   },
   {
    "duration": 9,
    "start_time": "2024-11-05T14:06:49.284Z"
   },
   {
    "duration": 4,
    "start_time": "2024-11-05T14:06:49.295Z"
   },
   {
    "duration": 45,
    "start_time": "2024-11-05T14:06:49.300Z"
   },
   {
    "duration": 11,
    "start_time": "2024-11-05T14:06:49.346Z"
   },
   {
    "duration": 7,
    "start_time": "2024-11-05T14:06:49.358Z"
   },
   {
    "duration": 4,
    "start_time": "2024-11-05T14:06:49.366Z"
   },
   {
    "duration": 6,
    "start_time": "2024-11-05T14:06:49.371Z"
   },
   {
    "duration": 10,
    "start_time": "2024-11-05T14:06:49.379Z"
   },
   {
    "duration": 8,
    "start_time": "2024-11-05T14:06:49.392Z"
   },
   {
    "duration": 46,
    "start_time": "2024-11-05T14:06:49.401Z"
   },
   {
    "duration": 20,
    "start_time": "2024-11-05T14:06:49.448Z"
   },
   {
    "duration": 13,
    "start_time": "2024-11-05T14:06:49.470Z"
   },
   {
    "duration": 5,
    "start_time": "2024-11-05T14:06:49.484Z"
   },
   {
    "duration": 6,
    "start_time": "2024-11-05T14:06:49.491Z"
   },
   {
    "duration": 8,
    "start_time": "2024-11-05T14:06:49.499Z"
   },
   {
    "duration": 4,
    "start_time": "2024-11-05T14:06:49.544Z"
   },
   {
    "duration": 5,
    "start_time": "2024-11-05T14:06:49.550Z"
   },
   {
    "duration": 28,
    "start_time": "2024-11-05T14:06:49.557Z"
   },
   {
    "duration": 7,
    "start_time": "2024-11-05T14:06:49.586Z"
   },
   {
    "duration": 5,
    "start_time": "2024-11-05T14:06:49.595Z"
   },
   {
    "duration": 4,
    "start_time": "2024-11-05T14:06:49.602Z"
   },
   {
    "duration": 7,
    "start_time": "2024-11-05T14:06:49.643Z"
   },
   {
    "duration": 7,
    "start_time": "2024-11-05T14:06:49.651Z"
   },
   {
    "duration": 7,
    "start_time": "2024-11-05T14:06:49.659Z"
   },
   {
    "duration": 5,
    "start_time": "2024-11-05T14:06:49.667Z"
   },
   {
    "duration": 12,
    "start_time": "2024-11-05T14:06:49.674Z"
   },
   {
    "duration": 14,
    "start_time": "2024-11-05T14:06:49.688Z"
   },
   {
    "duration": 83,
    "start_time": "2024-11-05T14:06:49.704Z"
   },
   {
    "duration": 5,
    "start_time": "2024-11-05T14:06:49.789Z"
   },
   {
    "duration": 19,
    "start_time": "2024-11-05T14:06:49.796Z"
   },
   {
    "duration": 2,
    "start_time": "2024-11-05T14:06:49.817Z"
   },
   {
    "duration": 5,
    "start_time": "2024-11-05T14:06:49.843Z"
   },
   {
    "duration": 6,
    "start_time": "2024-11-05T14:06:49.850Z"
   },
   {
    "duration": 6,
    "start_time": "2024-11-05T14:06:49.857Z"
   },
   {
    "duration": 4,
    "start_time": "2024-11-05T14:06:49.865Z"
   },
   {
    "duration": 12,
    "start_time": "2024-11-05T14:06:49.871Z"
   },
   {
    "duration": 5,
    "start_time": "2024-11-05T14:06:49.885Z"
   },
   {
    "duration": 283,
    "start_time": "2024-11-05T14:06:49.892Z"
   },
   {
    "duration": 8,
    "start_time": "2024-11-05T14:06:50.177Z"
   },
   {
    "duration": 24,
    "start_time": "2024-11-05T14:06:50.186Z"
   },
   {
    "duration": 448,
    "start_time": "2024-11-05T14:06:50.211Z"
   },
   {
    "duration": 4,
    "start_time": "2024-11-05T14:06:50.662Z"
   },
   {
    "duration": 2,
    "start_time": "2024-11-05T14:06:50.669Z"
   },
   {
    "duration": 2,
    "start_time": "2024-11-05T14:06:50.673Z"
   },
   {
    "duration": 78,
    "start_time": "2024-11-05T14:06:50.677Z"
   },
   {
    "duration": 15,
    "start_time": "2024-11-05T14:06:50.756Z"
   },
   {
    "duration": 3014,
    "start_time": "2024-11-05T14:06:50.773Z"
   },
   {
    "duration": 15,
    "start_time": "2024-11-05T14:06:53.789Z"
   },
   {
    "duration": 2,
    "start_time": "2024-11-05T14:06:53.806Z"
   },
   {
    "duration": 1245,
    "start_time": "2024-11-05T14:06:53.811Z"
   },
   {
    "duration": 7,
    "start_time": "2024-11-05T14:06:55.057Z"
   },
   {
    "duration": 6,
    "start_time": "2024-11-05T14:06:55.065Z"
   },
   {
    "duration": 5,
    "start_time": "2024-11-05T14:06:55.073Z"
   },
   {
    "duration": 292,
    "start_time": "2024-11-05T14:10:16.726Z"
   },
   {
    "duration": 794,
    "start_time": "2024-11-05T14:11:24.986Z"
   },
   {
    "duration": 777,
    "start_time": "2024-11-05T14:13:34.931Z"
   },
   {
    "duration": 779,
    "start_time": "2024-11-05T14:13:40.443Z"
   },
   {
    "duration": 79,
    "start_time": "2024-11-05T14:14:54.933Z"
   },
   {
    "duration": 778,
    "start_time": "2024-11-05T14:15:11.956Z"
   },
   {
    "duration": 778,
    "start_time": "2024-11-05T14:15:51.944Z"
   },
   {
    "duration": 766,
    "start_time": "2024-11-05T14:15:59.689Z"
   },
   {
    "duration": 2613,
    "start_time": "2024-11-05T14:22:47.733Z"
   },
   {
    "duration": 4342,
    "start_time": "2024-11-05T14:23:15.672Z"
   },
   {
    "duration": 4275,
    "start_time": "2024-11-05T14:24:37.710Z"
   },
   {
    "duration": 4964,
    "start_time": "2024-11-05T14:24:46.401Z"
   },
   {
    "duration": 4313,
    "start_time": "2024-11-05T14:25:20.244Z"
   },
   {
    "duration": 4236,
    "start_time": "2024-11-05T14:25:48.328Z"
   },
   {
    "duration": 4221,
    "start_time": "2024-11-05T14:26:17.151Z"
   },
   {
    "duration": 4171,
    "start_time": "2024-11-05T14:26:37.505Z"
   },
   {
    "duration": 4328,
    "start_time": "2024-11-05T14:26:59.717Z"
   },
   {
    "duration": 4166,
    "start_time": "2024-11-05T14:27:21.130Z"
   },
   {
    "duration": 4184,
    "start_time": "2024-11-05T14:27:36.345Z"
   },
   {
    "duration": 776,
    "start_time": "2024-11-05T14:37:08.883Z"
   },
   {
    "duration": 770,
    "start_time": "2024-11-05T14:37:46.318Z"
   },
   {
    "duration": 767,
    "start_time": "2024-11-05T14:39:29.723Z"
   },
   {
    "duration": 757,
    "start_time": "2024-11-05T14:39:38.903Z"
   },
   {
    "duration": 783,
    "start_time": "2024-11-05T14:39:54.108Z"
   },
   {
    "duration": 789,
    "start_time": "2024-11-05T14:40:02.417Z"
   },
   {
    "duration": 781,
    "start_time": "2024-11-05T14:40:09.226Z"
   },
   {
    "duration": 764,
    "start_time": "2024-11-05T14:40:15.052Z"
   },
   {
    "duration": 2,
    "start_time": "2024-11-05T14:47:14.853Z"
   },
   {
    "duration": 2,
    "start_time": "2024-11-05T14:48:01.273Z"
   },
   {
    "duration": 4368,
    "start_time": "2024-11-05T14:48:57.989Z"
   },
   {
    "duration": 6,
    "start_time": "2024-11-05T14:58:05.855Z"
   },
   {
    "duration": 2,
    "start_time": "2024-11-05T15:00:22.276Z"
   },
   {
    "duration": 2,
    "start_time": "2024-11-05T15:01:58.255Z"
   },
   {
    "duration": 989,
    "start_time": "2024-11-05T15:05:22.727Z"
   },
   {
    "duration": 131,
    "start_time": "2024-11-05T15:05:23.718Z"
   },
   {
    "duration": 12,
    "start_time": "2024-11-05T15:05:23.851Z"
   },
   {
    "duration": 6,
    "start_time": "2024-11-05T15:05:23.865Z"
   },
   {
    "duration": 7,
    "start_time": "2024-11-05T15:05:23.874Z"
   },
   {
    "duration": 5,
    "start_time": "2024-11-05T15:05:23.883Z"
   },
   {
    "duration": 10,
    "start_time": "2024-11-05T15:05:23.890Z"
   },
   {
    "duration": 41,
    "start_time": "2024-11-05T15:05:23.902Z"
   },
   {
    "duration": 16,
    "start_time": "2024-11-05T15:05:23.945Z"
   },
   {
    "duration": 8,
    "start_time": "2024-11-05T15:05:23.962Z"
   },
   {
    "duration": 4,
    "start_time": "2024-11-05T15:05:23.971Z"
   },
   {
    "duration": 4,
    "start_time": "2024-11-05T15:05:23.977Z"
   },
   {
    "duration": 9,
    "start_time": "2024-11-05T15:05:23.982Z"
   },
   {
    "duration": 3,
    "start_time": "2024-11-05T15:05:23.994Z"
   },
   {
    "duration": 44,
    "start_time": "2024-11-05T15:05:23.999Z"
   },
   {
    "duration": 11,
    "start_time": "2024-11-05T15:05:24.045Z"
   },
   {
    "duration": 8,
    "start_time": "2024-11-05T15:05:24.059Z"
   },
   {
    "duration": 3,
    "start_time": "2024-11-05T15:05:24.069Z"
   },
   {
    "duration": 5,
    "start_time": "2024-11-05T15:05:24.074Z"
   },
   {
    "duration": 9,
    "start_time": "2024-11-05T15:05:24.080Z"
   },
   {
    "duration": 8,
    "start_time": "2024-11-05T15:05:24.091Z"
   },
   {
    "duration": 49,
    "start_time": "2024-11-05T15:05:24.100Z"
   },
   {
    "duration": 19,
    "start_time": "2024-11-05T15:05:24.151Z"
   },
   {
    "duration": 13,
    "start_time": "2024-11-05T15:05:24.172Z"
   },
   {
    "duration": 4,
    "start_time": "2024-11-05T15:05:24.186Z"
   },
   {
    "duration": 5,
    "start_time": "2024-11-05T15:05:24.192Z"
   },
   {
    "duration": 8,
    "start_time": "2024-11-05T15:05:24.199Z"
   },
   {
    "duration": 39,
    "start_time": "2024-11-05T15:05:24.209Z"
   },
   {
    "duration": 8,
    "start_time": "2024-11-05T15:05:24.250Z"
   },
   {
    "duration": 30,
    "start_time": "2024-11-05T15:05:24.259Z"
   },
   {
    "duration": 7,
    "start_time": "2024-11-05T15:05:24.291Z"
   },
   {
    "duration": 4,
    "start_time": "2024-11-05T15:05:24.299Z"
   },
   {
    "duration": 4,
    "start_time": "2024-11-05T15:05:24.305Z"
   },
   {
    "duration": 36,
    "start_time": "2024-11-05T15:05:24.311Z"
   },
   {
    "duration": 7,
    "start_time": "2024-11-05T15:05:24.348Z"
   },
   {
    "duration": 7,
    "start_time": "2024-11-05T15:05:24.356Z"
   },
   {
    "duration": 6,
    "start_time": "2024-11-05T15:05:24.365Z"
   },
   {
    "duration": 15,
    "start_time": "2024-11-05T15:05:24.372Z"
   },
   {
    "duration": 13,
    "start_time": "2024-11-05T15:05:24.388Z"
   },
   {
    "duration": 76,
    "start_time": "2024-11-05T15:05:24.403Z"
   },
   {
    "duration": 5,
    "start_time": "2024-11-05T15:05:24.484Z"
   },
   {
    "duration": 17,
    "start_time": "2024-11-05T15:05:24.490Z"
   },
   {
    "duration": 3,
    "start_time": "2024-11-05T15:05:24.508Z"
   },
   {
    "duration": 5,
    "start_time": "2024-11-05T15:05:24.512Z"
   },
   {
    "duration": 26,
    "start_time": "2024-11-05T15:05:24.519Z"
   },
   {
    "duration": 5,
    "start_time": "2024-11-05T15:05:24.547Z"
   },
   {
    "duration": 5,
    "start_time": "2024-11-05T15:05:24.553Z"
   },
   {
    "duration": 14,
    "start_time": "2024-11-05T15:05:24.560Z"
   },
   {
    "duration": 5,
    "start_time": "2024-11-05T15:05:24.576Z"
   },
   {
    "duration": 214,
    "start_time": "2024-11-05T15:05:24.584Z"
   },
   {
    "duration": 6,
    "start_time": "2024-11-05T15:05:24.800Z"
   },
   {
    "duration": 35,
    "start_time": "2024-11-05T15:05:24.809Z"
   },
   {
    "duration": 396,
    "start_time": "2024-11-05T15:05:24.846Z"
   },
   {
    "duration": 2,
    "start_time": "2024-11-05T15:05:25.245Z"
   },
   {
    "duration": 2,
    "start_time": "2024-11-05T15:05:25.249Z"
   },
   {
    "duration": 25,
    "start_time": "2024-11-05T15:05:25.253Z"
   },
   {
    "duration": 13,
    "start_time": "2024-11-05T15:05:25.279Z"
   },
   {
    "duration": 2908,
    "start_time": "2024-11-05T15:05:25.293Z"
   },
   {
    "duration": 15,
    "start_time": "2024-11-05T15:05:28.202Z"
   },
   {
    "duration": 1238,
    "start_time": "2024-11-05T15:05:28.219Z"
   },
   {
    "duration": 2,
    "start_time": "2024-11-05T15:05:29.459Z"
   },
   {
    "duration": 7,
    "start_time": "2024-11-05T15:05:29.463Z"
   },
   {
    "duration": 6,
    "start_time": "2024-11-05T15:05:29.471Z"
   },
   {
    "duration": 774,
    "start_time": "2024-11-05T15:05:29.478Z"
   },
   {
    "duration": 4336,
    "start_time": "2024-11-05T15:05:30.253Z"
   },
   {
    "duration": 764,
    "start_time": "2024-11-05T15:05:34.591Z"
   },
   {
    "duration": 3,
    "start_time": "2024-11-05T15:05:35.357Z"
   },
   {
    "duration": 160,
    "start_time": "2024-11-05T15:06:32.615Z"
   },
   {
    "duration": 13,
    "start_time": "2024-11-05T15:07:01.815Z"
   },
   {
    "duration": 1063,
    "start_time": "2024-11-05T15:07:08.758Z"
   },
   {
    "duration": 127,
    "start_time": "2024-11-05T15:07:09.824Z"
   },
   {
    "duration": 11,
    "start_time": "2024-11-05T15:07:09.953Z"
   },
   {
    "duration": 6,
    "start_time": "2024-11-05T15:07:09.966Z"
   },
   {
    "duration": 7,
    "start_time": "2024-11-05T15:07:09.976Z"
   },
   {
    "duration": 6,
    "start_time": "2024-11-05T15:07:09.984Z"
   },
   {
    "duration": 10,
    "start_time": "2024-11-05T15:07:09.991Z"
   },
   {
    "duration": 8,
    "start_time": "2024-11-05T15:07:10.002Z"
   },
   {
    "duration": 15,
    "start_time": "2024-11-05T15:07:10.043Z"
   },
   {
    "duration": 8,
    "start_time": "2024-11-05T15:07:10.060Z"
   },
   {
    "duration": 4,
    "start_time": "2024-11-05T15:07:10.069Z"
   },
   {
    "duration": 5,
    "start_time": "2024-11-05T15:07:10.075Z"
   },
   {
    "duration": 8,
    "start_time": "2024-11-05T15:07:10.082Z"
   },
   {
    "duration": 3,
    "start_time": "2024-11-05T15:07:10.094Z"
   },
   {
    "duration": 7,
    "start_time": "2024-11-05T15:07:10.099Z"
   },
   {
    "duration": 12,
    "start_time": "2024-11-05T15:07:10.144Z"
   },
   {
    "duration": 7,
    "start_time": "2024-11-05T15:07:10.158Z"
   },
   {
    "duration": 4,
    "start_time": "2024-11-05T15:07:10.169Z"
   },
   {
    "duration": 6,
    "start_time": "2024-11-05T15:07:10.175Z"
   },
   {
    "duration": 8,
    "start_time": "2024-11-05T15:07:10.183Z"
   },
   {
    "duration": 9,
    "start_time": "2024-11-05T15:07:10.193Z"
   },
   {
    "duration": 44,
    "start_time": "2024-11-05T15:07:10.204Z"
   },
   {
    "duration": 18,
    "start_time": "2024-11-05T15:07:10.250Z"
   },
   {
    "duration": 12,
    "start_time": "2024-11-05T15:07:10.270Z"
   },
   {
    "duration": 4,
    "start_time": "2024-11-05T15:07:10.284Z"
   },
   {
    "duration": 6,
    "start_time": "2024-11-05T15:07:10.289Z"
   },
   {
    "duration": 8,
    "start_time": "2024-11-05T15:07:10.297Z"
   },
   {
    "duration": 36,
    "start_time": "2024-11-05T15:07:10.306Z"
   },
   {
    "duration": 5,
    "start_time": "2024-11-05T15:07:10.344Z"
   },
   {
    "duration": 26,
    "start_time": "2024-11-05T15:07:10.351Z"
   },
   {
    "duration": 6,
    "start_time": "2024-11-05T15:07:10.379Z"
   },
   {
    "duration": 4,
    "start_time": "2024-11-05T15:07:10.387Z"
   },
   {
    "duration": 5,
    "start_time": "2024-11-05T15:07:10.393Z"
   },
   {
    "duration": 45,
    "start_time": "2024-11-05T15:07:10.399Z"
   },
   {
    "duration": 6,
    "start_time": "2024-11-05T15:07:10.445Z"
   },
   {
    "duration": 7,
    "start_time": "2024-11-05T15:07:10.452Z"
   },
   {
    "duration": 4,
    "start_time": "2024-11-05T15:07:10.460Z"
   },
   {
    "duration": 15,
    "start_time": "2024-11-05T15:07:10.466Z"
   },
   {
    "duration": 20,
    "start_time": "2024-11-05T15:07:10.483Z"
   },
   {
    "duration": 79,
    "start_time": "2024-11-05T15:07:10.505Z"
   },
   {
    "duration": 4,
    "start_time": "2024-11-05T15:07:10.589Z"
   },
   {
    "duration": 16,
    "start_time": "2024-11-05T15:07:10.595Z"
   },
   {
    "duration": 3,
    "start_time": "2024-11-05T15:07:10.613Z"
   },
   {
    "duration": 25,
    "start_time": "2024-11-05T15:07:10.618Z"
   },
   {
    "duration": 5,
    "start_time": "2024-11-05T15:07:10.645Z"
   },
   {
    "duration": 6,
    "start_time": "2024-11-05T15:07:10.652Z"
   },
   {
    "duration": 4,
    "start_time": "2024-11-05T15:07:10.660Z"
   },
   {
    "duration": 11,
    "start_time": "2024-11-05T15:07:10.666Z"
   },
   {
    "duration": 5,
    "start_time": "2024-11-05T15:07:10.679Z"
   },
   {
    "duration": 220,
    "start_time": "2024-11-05T15:07:10.686Z"
   },
   {
    "duration": 7,
    "start_time": "2024-11-05T15:07:10.908Z"
   },
   {
    "duration": 41,
    "start_time": "2024-11-05T15:07:10.917Z"
   },
   {
    "duration": 396,
    "start_time": "2024-11-05T15:07:10.960Z"
   },
   {
    "duration": 2,
    "start_time": "2024-11-05T15:07:11.358Z"
   },
   {
    "duration": 3,
    "start_time": "2024-11-05T15:07:11.362Z"
   },
   {
    "duration": 26,
    "start_time": "2024-11-05T15:07:11.367Z"
   },
   {
    "duration": 12,
    "start_time": "2024-11-05T15:07:11.395Z"
   },
   {
    "duration": 3030,
    "start_time": "2024-11-05T15:07:11.409Z"
   },
   {
    "duration": 13,
    "start_time": "2024-11-05T15:07:14.443Z"
   },
   {
    "duration": 1235,
    "start_time": "2024-11-05T15:07:14.457Z"
   },
   {
    "duration": 2,
    "start_time": "2024-11-05T15:07:15.694Z"
   },
   {
    "duration": 6,
    "start_time": "2024-11-05T15:07:15.698Z"
   },
   {
    "duration": 6,
    "start_time": "2024-11-05T15:07:15.707Z"
   },
   {
    "duration": 768,
    "start_time": "2024-11-05T15:07:15.714Z"
   },
   {
    "duration": 4229,
    "start_time": "2024-11-05T15:07:16.484Z"
   },
   {
    "duration": 775,
    "start_time": "2024-11-05T15:07:20.715Z"
   },
   {
    "duration": 2,
    "start_time": "2024-11-05T15:07:21.492Z"
   },
   {
    "duration": 1055,
    "start_time": "2024-11-05T15:08:54.507Z"
   },
   {
    "duration": 17,
    "start_time": "2024-11-05T15:09:25.697Z"
   },
   {
    "duration": 1043,
    "start_time": "2024-11-05T15:10:20.965Z"
   },
   {
    "duration": 124,
    "start_time": "2024-11-05T15:10:22.010Z"
   },
   {
    "duration": 12,
    "start_time": "2024-11-05T15:10:22.136Z"
   },
   {
    "duration": 6,
    "start_time": "2024-11-05T15:10:22.150Z"
   },
   {
    "duration": 7,
    "start_time": "2024-11-05T15:10:22.158Z"
   },
   {
    "duration": 4,
    "start_time": "2024-11-05T15:10:22.167Z"
   },
   {
    "duration": 10,
    "start_time": "2024-11-05T15:10:22.173Z"
   },
   {
    "duration": 9,
    "start_time": "2024-11-05T15:10:22.186Z"
   },
   {
    "duration": 15,
    "start_time": "2024-11-05T15:10:22.196Z"
   },
   {
    "duration": 7,
    "start_time": "2024-11-05T15:10:22.243Z"
   },
   {
    "duration": 3,
    "start_time": "2024-11-05T15:10:22.252Z"
   },
   {
    "duration": 3,
    "start_time": "2024-11-05T15:10:22.259Z"
   },
   {
    "duration": 8,
    "start_time": "2024-11-05T15:10:22.264Z"
   },
   {
    "duration": 3,
    "start_time": "2024-11-05T15:10:22.274Z"
   },
   {
    "duration": 7,
    "start_time": "2024-11-05T15:10:22.278Z"
   },
   {
    "duration": 9,
    "start_time": "2024-11-05T15:10:22.287Z"
   },
   {
    "duration": 7,
    "start_time": "2024-11-05T15:10:22.298Z"
   },
   {
    "duration": 5,
    "start_time": "2024-11-05T15:10:22.342Z"
   },
   {
    "duration": 8,
    "start_time": "2024-11-05T15:10:22.350Z"
   },
   {
    "duration": 9,
    "start_time": "2024-11-05T15:10:22.362Z"
   },
   {
    "duration": 9,
    "start_time": "2024-11-05T15:10:22.373Z"
   },
   {
    "duration": 8,
    "start_time": "2024-11-05T15:10:22.384Z"
   },
   {
    "duration": 50,
    "start_time": "2024-11-05T15:10:22.393Z"
   },
   {
    "duration": 12,
    "start_time": "2024-11-05T15:10:22.444Z"
   },
   {
    "duration": 4,
    "start_time": "2024-11-05T15:10:22.458Z"
   },
   {
    "duration": 6,
    "start_time": "2024-11-05T15:10:22.464Z"
   },
   {
    "duration": 8,
    "start_time": "2024-11-05T15:10:22.472Z"
   },
   {
    "duration": 4,
    "start_time": "2024-11-05T15:10:22.484Z"
   },
   {
    "duration": 4,
    "start_time": "2024-11-05T15:10:22.490Z"
   },
   {
    "duration": 68,
    "start_time": "2024-11-05T15:10:22.496Z"
   },
   {
    "duration": 7,
    "start_time": "2024-11-05T15:10:22.565Z"
   },
   {
    "duration": 4,
    "start_time": "2024-11-05T15:10:22.574Z"
   },
   {
    "duration": 4,
    "start_time": "2024-11-05T15:10:22.580Z"
   },
   {
    "duration": 6,
    "start_time": "2024-11-05T15:10:22.586Z"
   },
   {
    "duration": 5,
    "start_time": "2024-11-05T15:10:22.594Z"
   },
   {
    "duration": 6,
    "start_time": "2024-11-05T15:10:22.602Z"
   },
   {
    "duration": 5,
    "start_time": "2024-11-05T15:10:22.643Z"
   },
   {
    "duration": 15,
    "start_time": "2024-11-05T15:10:22.650Z"
   },
   {
    "duration": 13,
    "start_time": "2024-11-05T15:10:22.667Z"
   },
   {
    "duration": 70,
    "start_time": "2024-11-05T15:10:22.682Z"
   },
   {
    "duration": 5,
    "start_time": "2024-11-05T15:10:22.755Z"
   },
   {
    "duration": 17,
    "start_time": "2024-11-05T15:10:22.762Z"
   },
   {
    "duration": 2,
    "start_time": "2024-11-05T15:10:22.781Z"
   },
   {
    "duration": 4,
    "start_time": "2024-11-05T15:10:22.784Z"
   },
   {
    "duration": 5,
    "start_time": "2024-11-05T15:10:22.790Z"
   },
   {
    "duration": 5,
    "start_time": "2024-11-05T15:10:22.796Z"
   },
   {
    "duration": 4,
    "start_time": "2024-11-05T15:10:22.803Z"
   },
   {
    "duration": 11,
    "start_time": "2024-11-05T15:10:22.843Z"
   },
   {
    "duration": 5,
    "start_time": "2024-11-05T15:10:22.856Z"
   },
   {
    "duration": 208,
    "start_time": "2024-11-05T15:10:22.863Z"
   },
   {
    "duration": 7,
    "start_time": "2024-11-05T15:10:23.073Z"
   },
   {
    "duration": 23,
    "start_time": "2024-11-05T15:10:23.082Z"
   },
   {
    "duration": 422,
    "start_time": "2024-11-05T15:10:23.107Z"
   },
   {
    "duration": 2,
    "start_time": "2024-11-05T15:10:23.531Z"
   },
   {
    "duration": 2,
    "start_time": "2024-11-05T15:10:23.543Z"
   },
   {
    "duration": 27,
    "start_time": "2024-11-05T15:10:23.546Z"
   },
   {
    "duration": 13,
    "start_time": "2024-11-05T15:10:23.574Z"
   },
   {
    "duration": 3127,
    "start_time": "2024-11-05T15:10:23.588Z"
   },
   {
    "duration": 13,
    "start_time": "2024-11-05T15:10:26.717Z"
   },
   {
    "duration": 1223,
    "start_time": "2024-11-05T15:10:26.731Z"
   },
   {
    "duration": 2,
    "start_time": "2024-11-05T15:10:27.956Z"
   },
   {
    "duration": 6,
    "start_time": "2024-11-05T15:10:27.960Z"
   },
   {
    "duration": 6,
    "start_time": "2024-11-05T15:10:27.969Z"
   },
   {
    "duration": 770,
    "start_time": "2024-11-05T15:10:27.977Z"
   },
   {
    "duration": 4198,
    "start_time": "2024-11-05T15:10:28.749Z"
   },
   {
    "duration": 770,
    "start_time": "2024-11-05T15:10:32.949Z"
   },
   {
    "duration": 3,
    "start_time": "2024-11-05T15:10:33.720Z"
   },
   {
    "duration": 1049,
    "start_time": "2024-11-05T15:16:17.100Z"
   },
   {
    "duration": 130,
    "start_time": "2024-11-05T15:16:18.152Z"
   },
   {
    "duration": 15,
    "start_time": "2024-11-05T15:16:18.284Z"
   },
   {
    "duration": 10,
    "start_time": "2024-11-05T15:16:18.301Z"
   },
   {
    "duration": 14,
    "start_time": "2024-11-05T15:16:18.315Z"
   },
   {
    "duration": 6,
    "start_time": "2024-11-05T15:16:18.342Z"
   },
   {
    "duration": 11,
    "start_time": "2024-11-05T15:16:18.350Z"
   },
   {
    "duration": 9,
    "start_time": "2024-11-05T15:16:18.363Z"
   },
   {
    "duration": 18,
    "start_time": "2024-11-05T15:16:18.374Z"
   },
   {
    "duration": 10,
    "start_time": "2024-11-05T15:16:18.394Z"
   },
   {
    "duration": 4,
    "start_time": "2024-11-05T15:16:18.444Z"
   },
   {
    "duration": 5,
    "start_time": "2024-11-05T15:16:18.450Z"
   },
   {
    "duration": 10,
    "start_time": "2024-11-05T15:16:18.457Z"
   },
   {
    "duration": 3,
    "start_time": "2024-11-05T15:16:18.472Z"
   },
   {
    "duration": 7,
    "start_time": "2024-11-05T15:16:18.477Z"
   },
   {
    "duration": 12,
    "start_time": "2024-11-05T15:16:18.486Z"
   },
   {
    "duration": 45,
    "start_time": "2024-11-05T15:16:18.499Z"
   },
   {
    "duration": 3,
    "start_time": "2024-11-05T15:16:18.546Z"
   },
   {
    "duration": 6,
    "start_time": "2024-11-05T15:16:18.551Z"
   },
   {
    "duration": 10,
    "start_time": "2024-11-05T15:16:18.559Z"
   },
   {
    "duration": 11,
    "start_time": "2024-11-05T15:16:18.571Z"
   },
   {
    "duration": 9,
    "start_time": "2024-11-05T15:16:18.584Z"
   },
   {
    "duration": 58,
    "start_time": "2024-11-05T15:16:18.595Z"
   },
   {
    "duration": 15,
    "start_time": "2024-11-05T15:16:18.655Z"
   },
   {
    "duration": 4,
    "start_time": "2024-11-05T15:16:18.672Z"
   },
   {
    "duration": 7,
    "start_time": "2024-11-05T15:16:18.678Z"
   },
   {
    "duration": 12,
    "start_time": "2024-11-05T15:16:18.687Z"
   },
   {
    "duration": 5,
    "start_time": "2024-11-05T15:16:18.701Z"
   },
   {
    "duration": 7,
    "start_time": "2024-11-05T15:16:18.742Z"
   },
   {
    "duration": 28,
    "start_time": "2024-11-05T15:16:18.751Z"
   },
   {
    "duration": 7,
    "start_time": "2024-11-05T15:16:18.781Z"
   },
   {
    "duration": 6,
    "start_time": "2024-11-05T15:16:18.790Z"
   },
   {
    "duration": 4,
    "start_time": "2024-11-05T15:16:18.799Z"
   },
   {
    "duration": 44,
    "start_time": "2024-11-05T15:16:18.805Z"
   },
   {
    "duration": 6,
    "start_time": "2024-11-05T15:16:18.851Z"
   },
   {
    "duration": 8,
    "start_time": "2024-11-05T15:16:18.859Z"
   },
   {
    "duration": 5,
    "start_time": "2024-11-05T15:16:18.868Z"
   },
   {
    "duration": 13,
    "start_time": "2024-11-05T15:16:18.875Z"
   },
   {
    "duration": 15,
    "start_time": "2024-11-05T15:16:18.890Z"
   },
   {
    "duration": 82,
    "start_time": "2024-11-05T15:16:18.906Z"
   },
   {
    "duration": 4,
    "start_time": "2024-11-05T15:16:18.995Z"
   },
   {
    "duration": 41,
    "start_time": "2024-11-05T15:16:19.002Z"
   },
   {
    "duration": 2,
    "start_time": "2024-11-05T15:16:19.045Z"
   },
   {
    "duration": 5,
    "start_time": "2024-11-05T15:16:19.050Z"
   },
   {
    "duration": 8,
    "start_time": "2024-11-05T15:16:19.056Z"
   },
   {
    "duration": 6,
    "start_time": "2024-11-05T15:16:19.066Z"
   },
   {
    "duration": 6,
    "start_time": "2024-11-05T15:16:19.074Z"
   },
   {
    "duration": 23,
    "start_time": "2024-11-05T15:16:19.082Z"
   },
   {
    "duration": 34,
    "start_time": "2024-11-05T15:16:19.110Z"
   },
   {
    "duration": 199,
    "start_time": "2024-11-05T15:16:19.146Z"
   },
   {
    "duration": 9,
    "start_time": "2024-11-05T15:16:19.347Z"
   },
   {
    "duration": 27,
    "start_time": "2024-11-05T15:16:19.359Z"
   },
   {
    "duration": 400,
    "start_time": "2024-11-05T15:16:19.388Z"
   },
   {
    "duration": 2,
    "start_time": "2024-11-05T15:16:19.790Z"
   },
   {
    "duration": 3,
    "start_time": "2024-11-05T15:16:19.794Z"
   },
   {
    "duration": 26,
    "start_time": "2024-11-05T15:16:19.798Z"
   },
   {
    "duration": 13,
    "start_time": "2024-11-05T15:16:19.842Z"
   },
   {
    "duration": 3083,
    "start_time": "2024-11-05T15:16:19.857Z"
   },
   {
    "duration": 14,
    "start_time": "2024-11-05T15:16:22.943Z"
   },
   {
    "duration": 1234,
    "start_time": "2024-11-05T15:16:22.961Z"
   },
   {
    "duration": 2,
    "start_time": "2024-11-05T15:16:24.197Z"
   },
   {
    "duration": 7,
    "start_time": "2024-11-05T15:16:24.201Z"
   },
   {
    "duration": 7,
    "start_time": "2024-11-05T15:16:24.209Z"
   },
   {
    "duration": 743,
    "start_time": "2024-11-05T15:16:24.242Z"
   },
   {
    "duration": 4312,
    "start_time": "2024-11-05T15:16:24.987Z"
   },
   {
    "duration": 790,
    "start_time": "2024-11-05T15:16:29.301Z"
   },
   {
    "duration": 3,
    "start_time": "2024-11-05T15:16:30.092Z"
   },
   {
    "duration": 166,
    "start_time": "2024-11-05T15:17:08.227Z"
   },
   {
    "duration": 1015,
    "start_time": "2024-11-05T15:20:47.508Z"
   },
   {
    "duration": 124,
    "start_time": "2024-11-05T15:20:48.526Z"
   },
   {
    "duration": 10,
    "start_time": "2024-11-05T15:20:48.652Z"
   },
   {
    "duration": 6,
    "start_time": "2024-11-05T15:20:48.664Z"
   },
   {
    "duration": 6,
    "start_time": "2024-11-05T15:20:48.674Z"
   },
   {
    "duration": 5,
    "start_time": "2024-11-05T15:20:48.682Z"
   },
   {
    "duration": 12,
    "start_time": "2024-11-05T15:20:48.689Z"
   },
   {
    "duration": 8,
    "start_time": "2024-11-05T15:20:48.703Z"
   },
   {
    "duration": 16,
    "start_time": "2024-11-05T15:20:48.742Z"
   },
   {
    "duration": 7,
    "start_time": "2024-11-05T15:20:48.759Z"
   },
   {
    "duration": 4,
    "start_time": "2024-11-05T15:20:48.768Z"
   },
   {
    "duration": 3,
    "start_time": "2024-11-05T15:20:48.774Z"
   },
   {
    "duration": 8,
    "start_time": "2024-11-05T15:20:48.779Z"
   },
   {
    "duration": 3,
    "start_time": "2024-11-05T15:20:48.791Z"
   },
   {
    "duration": 7,
    "start_time": "2024-11-05T15:20:48.796Z"
   },
   {
    "duration": 10,
    "start_time": "2024-11-05T15:20:48.842Z"
   },
   {
    "duration": 9,
    "start_time": "2024-11-05T15:20:48.853Z"
   },
   {
    "duration": 4,
    "start_time": "2024-11-05T15:20:48.863Z"
   },
   {
    "duration": 5,
    "start_time": "2024-11-05T15:20:48.868Z"
   },
   {
    "duration": 9,
    "start_time": "2024-11-05T15:20:48.875Z"
   },
   {
    "duration": 9,
    "start_time": "2024-11-05T15:20:48.886Z"
   },
   {
    "duration": 48,
    "start_time": "2024-11-05T15:20:48.896Z"
   },
   {
    "duration": 20,
    "start_time": "2024-11-05T15:20:48.946Z"
   },
   {
    "duration": 12,
    "start_time": "2024-11-05T15:20:48.968Z"
   },
   {
    "duration": 3,
    "start_time": "2024-11-05T15:20:48.982Z"
   },
   {
    "duration": 6,
    "start_time": "2024-11-05T15:20:48.986Z"
   },
   {
    "duration": 9,
    "start_time": "2024-11-05T15:20:48.994Z"
   },
   {
    "duration": 37,
    "start_time": "2024-11-05T15:20:49.005Z"
   },
   {
    "duration": 6,
    "start_time": "2024-11-05T15:20:49.043Z"
   },
   {
    "duration": 41,
    "start_time": "2024-11-05T15:20:49.050Z"
   },
   {
    "duration": 9,
    "start_time": "2024-11-05T15:20:49.093Z"
   },
   {
    "duration": 6,
    "start_time": "2024-11-05T15:20:49.104Z"
   },
   {
    "duration": 6,
    "start_time": "2024-11-05T15:20:49.112Z"
   },
   {
    "duration": 24,
    "start_time": "2024-11-05T15:20:49.119Z"
   },
   {
    "duration": 6,
    "start_time": "2024-11-05T15:20:49.145Z"
   },
   {
    "duration": 6,
    "start_time": "2024-11-05T15:20:49.152Z"
   },
   {
    "duration": 5,
    "start_time": "2024-11-05T15:20:49.160Z"
   },
   {
    "duration": 13,
    "start_time": "2024-11-05T15:20:49.166Z"
   },
   {
    "duration": 13,
    "start_time": "2024-11-05T15:20:49.180Z"
   },
   {
    "duration": 87,
    "start_time": "2024-11-05T15:20:49.195Z"
   },
   {
    "duration": 4,
    "start_time": "2024-11-05T15:20:49.287Z"
   },
   {
    "duration": 17,
    "start_time": "2024-11-05T15:20:49.293Z"
   },
   {
    "duration": 2,
    "start_time": "2024-11-05T15:20:49.312Z"
   },
   {
    "duration": 27,
    "start_time": "2024-11-05T15:20:49.316Z"
   },
   {
    "duration": 4,
    "start_time": "2024-11-05T15:20:49.345Z"
   },
   {
    "duration": 5,
    "start_time": "2024-11-05T15:20:49.351Z"
   },
   {
    "duration": 4,
    "start_time": "2024-11-05T15:20:49.357Z"
   },
   {
    "duration": 12,
    "start_time": "2024-11-05T15:20:49.362Z"
   },
   {
    "duration": 5,
    "start_time": "2024-11-05T15:20:49.376Z"
   },
   {
    "duration": 214,
    "start_time": "2024-11-05T15:20:49.383Z"
   },
   {
    "duration": 7,
    "start_time": "2024-11-05T15:20:49.599Z"
   },
   {
    "duration": 36,
    "start_time": "2024-11-05T15:20:49.607Z"
   },
   {
    "duration": 390,
    "start_time": "2024-11-05T15:20:49.645Z"
   },
   {
    "duration": 6,
    "start_time": "2024-11-05T15:20:50.037Z"
   },
   {
    "duration": 2,
    "start_time": "2024-11-05T15:20:50.045Z"
   },
   {
    "duration": 26,
    "start_time": "2024-11-05T15:20:50.049Z"
   },
   {
    "duration": 13,
    "start_time": "2024-11-05T15:20:50.076Z"
   },
   {
    "duration": 3054,
    "start_time": "2024-11-05T15:20:50.090Z"
   },
   {
    "duration": 14,
    "start_time": "2024-11-05T15:20:53.146Z"
   },
   {
    "duration": 1227,
    "start_time": "2024-11-05T15:20:53.161Z"
   },
   {
    "duration": 3,
    "start_time": "2024-11-05T15:20:54.390Z"
   },
   {
    "duration": 7,
    "start_time": "2024-11-05T15:20:54.394Z"
   },
   {
    "duration": 6,
    "start_time": "2024-11-05T15:20:54.403Z"
   },
   {
    "duration": 781,
    "start_time": "2024-11-05T15:20:54.410Z"
   },
   {
    "duration": 4268,
    "start_time": "2024-11-05T15:20:55.193Z"
   },
   {
    "duration": 764,
    "start_time": "2024-11-05T15:20:59.463Z"
   },
   {
    "duration": 2,
    "start_time": "2024-11-05T15:21:00.228Z"
   },
   {
    "duration": 1013,
    "start_time": "2024-11-05T15:22:05.015Z"
   },
   {
    "duration": 125,
    "start_time": "2024-11-05T15:22:06.030Z"
   },
   {
    "duration": 12,
    "start_time": "2024-11-05T15:22:06.156Z"
   },
   {
    "duration": 6,
    "start_time": "2024-11-05T15:22:06.170Z"
   },
   {
    "duration": 8,
    "start_time": "2024-11-05T15:22:06.178Z"
   },
   {
    "duration": 6,
    "start_time": "2024-11-05T15:22:06.187Z"
   },
   {
    "duration": 9,
    "start_time": "2024-11-05T15:22:06.195Z"
   },
   {
    "duration": 42,
    "start_time": "2024-11-05T15:22:06.206Z"
   },
   {
    "duration": 16,
    "start_time": "2024-11-05T15:22:06.249Z"
   },
   {
    "duration": 6,
    "start_time": "2024-11-05T15:22:06.268Z"
   },
   {
    "duration": 4,
    "start_time": "2024-11-05T15:22:06.277Z"
   },
   {
    "duration": 4,
    "start_time": "2024-11-05T15:22:06.282Z"
   },
   {
    "duration": 9,
    "start_time": "2024-11-05T15:22:06.287Z"
   },
   {
    "duration": 4,
    "start_time": "2024-11-05T15:22:06.297Z"
   },
   {
    "duration": 43,
    "start_time": "2024-11-05T15:22:06.303Z"
   },
   {
    "duration": 10,
    "start_time": "2024-11-05T15:22:06.347Z"
   },
   {
    "duration": 7,
    "start_time": "2024-11-05T15:22:06.359Z"
   },
   {
    "duration": 3,
    "start_time": "2024-11-05T15:22:06.369Z"
   },
   {
    "duration": 8,
    "start_time": "2024-11-05T15:22:06.374Z"
   },
   {
    "duration": 9,
    "start_time": "2024-11-05T15:22:06.384Z"
   },
   {
    "duration": 12,
    "start_time": "2024-11-05T15:22:06.395Z"
   },
   {
    "duration": 41,
    "start_time": "2024-11-05T15:22:06.409Z"
   },
   {
    "duration": 19,
    "start_time": "2024-11-05T15:22:06.451Z"
   },
   {
    "duration": 12,
    "start_time": "2024-11-05T15:22:06.473Z"
   },
   {
    "duration": 3,
    "start_time": "2024-11-05T15:22:06.487Z"
   },
   {
    "duration": 6,
    "start_time": "2024-11-05T15:22:06.492Z"
   },
   {
    "duration": 8,
    "start_time": "2024-11-05T15:22:06.499Z"
   },
   {
    "duration": 4,
    "start_time": "2024-11-05T15:22:06.545Z"
   },
   {
    "duration": 5,
    "start_time": "2024-11-05T15:22:06.550Z"
   },
   {
    "duration": 28,
    "start_time": "2024-11-05T15:22:06.557Z"
   },
   {
    "duration": 6,
    "start_time": "2024-11-05T15:22:06.587Z"
   },
   {
    "duration": 5,
    "start_time": "2024-11-05T15:22:06.595Z"
   },
   {
    "duration": 5,
    "start_time": "2024-11-05T15:22:06.601Z"
   },
   {
    "duration": 38,
    "start_time": "2024-11-05T15:22:06.608Z"
   },
   {
    "duration": 6,
    "start_time": "2024-11-05T15:22:06.648Z"
   },
   {
    "duration": 7,
    "start_time": "2024-11-05T15:22:06.655Z"
   },
   {
    "duration": 4,
    "start_time": "2024-11-05T15:22:06.663Z"
   },
   {
    "duration": 18,
    "start_time": "2024-11-05T15:22:06.668Z"
   },
   {
    "duration": 13,
    "start_time": "2024-11-05T15:22:06.687Z"
   },
   {
    "duration": 78,
    "start_time": "2024-11-05T15:22:06.702Z"
   },
   {
    "duration": 4,
    "start_time": "2024-11-05T15:22:06.783Z"
   },
   {
    "duration": 18,
    "start_time": "2024-11-05T15:22:06.788Z"
   },
   {
    "duration": 2,
    "start_time": "2024-11-05T15:22:06.807Z"
   },
   {
    "duration": 5,
    "start_time": "2024-11-05T15:22:06.810Z"
   },
   {
    "duration": 28,
    "start_time": "2024-11-05T15:22:06.817Z"
   },
   {
    "duration": 5,
    "start_time": "2024-11-05T15:22:06.847Z"
   },
   {
    "duration": 4,
    "start_time": "2024-11-05T15:22:06.854Z"
   },
   {
    "duration": 12,
    "start_time": "2024-11-05T15:22:06.860Z"
   },
   {
    "duration": 5,
    "start_time": "2024-11-05T15:22:06.874Z"
   },
   {
    "duration": 212,
    "start_time": "2024-11-05T15:22:06.880Z"
   },
   {
    "duration": 7,
    "start_time": "2024-11-05T15:22:07.094Z"
   },
   {
    "duration": 23,
    "start_time": "2024-11-05T15:22:07.102Z"
   },
   {
    "duration": 390,
    "start_time": "2024-11-05T15:22:07.142Z"
   },
   {
    "duration": 2,
    "start_time": "2024-11-05T15:22:07.534Z"
   },
   {
    "duration": 3,
    "start_time": "2024-11-05T15:22:07.544Z"
   },
   {
    "duration": 25,
    "start_time": "2024-11-05T15:22:07.548Z"
   },
   {
    "duration": 13,
    "start_time": "2024-11-05T15:22:07.574Z"
   },
   {
    "duration": 2949,
    "start_time": "2024-11-05T15:22:07.588Z"
   },
   {
    "duration": 17,
    "start_time": "2024-11-05T15:22:10.539Z"
   },
   {
    "duration": 1250,
    "start_time": "2024-11-05T15:22:10.559Z"
   },
   {
    "duration": 2,
    "start_time": "2024-11-05T15:22:11.811Z"
   },
   {
    "duration": 6,
    "start_time": "2024-11-05T15:22:11.816Z"
   },
   {
    "duration": 21,
    "start_time": "2024-11-05T15:22:11.825Z"
   },
   {
    "duration": 749,
    "start_time": "2024-11-05T15:22:11.849Z"
   },
   {
    "duration": 4233,
    "start_time": "2024-11-05T15:22:12.600Z"
   },
   {
    "duration": 769,
    "start_time": "2024-11-05T15:22:16.835Z"
   },
   {
    "duration": 2,
    "start_time": "2024-11-05T15:22:17.606Z"
   },
   {
    "duration": 1114,
    "start_time": "2024-11-05T15:23:11.979Z"
   },
   {
    "duration": 132,
    "start_time": "2024-11-05T15:23:13.095Z"
   },
   {
    "duration": 12,
    "start_time": "2024-11-05T15:23:13.229Z"
   },
   {
    "duration": 7,
    "start_time": "2024-11-05T15:23:13.243Z"
   },
   {
    "duration": 8,
    "start_time": "2024-11-05T15:23:13.253Z"
   },
   {
    "duration": 7,
    "start_time": "2024-11-05T15:23:13.262Z"
   },
   {
    "duration": 12,
    "start_time": "2024-11-05T15:23:13.272Z"
   },
   {
    "duration": 12,
    "start_time": "2024-11-05T15:23:13.286Z"
   },
   {
    "duration": 49,
    "start_time": "2024-11-05T15:23:13.300Z"
   },
   {
    "duration": 8,
    "start_time": "2024-11-05T15:23:13.351Z"
   },
   {
    "duration": 4,
    "start_time": "2024-11-05T15:23:13.362Z"
   },
   {
    "duration": 6,
    "start_time": "2024-11-05T15:23:13.368Z"
   },
   {
    "duration": 10,
    "start_time": "2024-11-05T15:23:13.375Z"
   },
   {
    "duration": 4,
    "start_time": "2024-11-05T15:23:13.389Z"
   },
   {
    "duration": 51,
    "start_time": "2024-11-05T15:23:13.395Z"
   },
   {
    "duration": 12,
    "start_time": "2024-11-05T15:23:13.448Z"
   },
   {
    "duration": 9,
    "start_time": "2024-11-05T15:23:13.462Z"
   },
   {
    "duration": 4,
    "start_time": "2024-11-05T15:23:13.473Z"
   },
   {
    "duration": 6,
    "start_time": "2024-11-05T15:23:13.479Z"
   },
   {
    "duration": 11,
    "start_time": "2024-11-05T15:23:13.487Z"
   },
   {
    "duration": 49,
    "start_time": "2024-11-05T15:23:13.500Z"
   },
   {
    "duration": 10,
    "start_time": "2024-11-05T15:23:13.551Z"
   },
   {
    "duration": 21,
    "start_time": "2024-11-05T15:23:13.563Z"
   },
   {
    "duration": 14,
    "start_time": "2024-11-05T15:23:13.585Z"
   },
   {
    "duration": 4,
    "start_time": "2024-11-05T15:23:13.600Z"
   },
   {
    "duration": 41,
    "start_time": "2024-11-05T15:23:13.605Z"
   },
   {
    "duration": 9,
    "start_time": "2024-11-05T15:23:13.648Z"
   },
   {
    "duration": 4,
    "start_time": "2024-11-05T15:23:13.659Z"
   },
   {
    "duration": 6,
    "start_time": "2024-11-05T15:23:13.665Z"
   },
   {
    "duration": 29,
    "start_time": "2024-11-05T15:23:13.672Z"
   },
   {
    "duration": 41,
    "start_time": "2024-11-05T15:23:13.703Z"
   },
   {
    "duration": 5,
    "start_time": "2024-11-05T15:23:13.746Z"
   },
   {
    "duration": 6,
    "start_time": "2024-11-05T15:23:13.752Z"
   },
   {
    "duration": 8,
    "start_time": "2024-11-05T15:23:13.759Z"
   },
   {
    "duration": 6,
    "start_time": "2024-11-05T15:23:13.769Z"
   },
   {
    "duration": 8,
    "start_time": "2024-11-05T15:23:13.776Z"
   },
   {
    "duration": 5,
    "start_time": "2024-11-05T15:23:13.785Z"
   },
   {
    "duration": 54,
    "start_time": "2024-11-05T15:23:13.792Z"
   },
   {
    "duration": 16,
    "start_time": "2024-11-05T15:23:13.849Z"
   },
   {
    "duration": 48,
    "start_time": "2024-11-05T15:23:13.867Z"
   },
   {
    "duration": 25,
    "start_time": "2024-11-05T15:23:13.920Z"
   },
   {
    "duration": 18,
    "start_time": "2024-11-05T15:23:13.947Z"
   },
   {
    "duration": 2,
    "start_time": "2024-11-05T15:23:13.968Z"
   },
   {
    "duration": 5,
    "start_time": "2024-11-05T15:23:13.973Z"
   },
   {
    "duration": 6,
    "start_time": "2024-11-05T15:23:13.980Z"
   },
   {
    "duration": 6,
    "start_time": "2024-11-05T15:23:13.988Z"
   },
   {
    "duration": 6,
    "start_time": "2024-11-05T15:23:13.995Z"
   },
   {
    "duration": 13,
    "start_time": "2024-11-05T15:23:14.043Z"
   },
   {
    "duration": 6,
    "start_time": "2024-11-05T15:23:14.058Z"
   },
   {
    "duration": 213,
    "start_time": "2024-11-05T15:23:14.066Z"
   },
   {
    "duration": 7,
    "start_time": "2024-11-05T15:23:14.281Z"
   },
   {
    "duration": 24,
    "start_time": "2024-11-05T15:23:14.290Z"
   },
   {
    "duration": 422,
    "start_time": "2024-11-05T15:23:14.316Z"
   },
   {
    "duration": 3,
    "start_time": "2024-11-05T15:23:14.742Z"
   },
   {
    "duration": 2,
    "start_time": "2024-11-05T15:23:14.747Z"
   },
   {
    "duration": 26,
    "start_time": "2024-11-05T15:23:14.752Z"
   },
   {
    "duration": 13,
    "start_time": "2024-11-05T15:23:14.780Z"
   },
   {
    "duration": 3131,
    "start_time": "2024-11-05T15:23:14.797Z"
   },
   {
    "duration": 19,
    "start_time": "2024-11-05T15:23:17.930Z"
   },
   {
    "duration": 1267,
    "start_time": "2024-11-05T15:23:17.950Z"
   },
   {
    "duration": 2,
    "start_time": "2024-11-05T15:23:19.219Z"
   },
   {
    "duration": 20,
    "start_time": "2024-11-05T15:23:19.223Z"
   },
   {
    "duration": 7,
    "start_time": "2024-11-05T15:23:19.245Z"
   },
   {
    "duration": 770,
    "start_time": "2024-11-05T15:23:19.254Z"
   },
   {
    "duration": 4276,
    "start_time": "2024-11-05T15:23:20.026Z"
   },
   {
    "duration": 774,
    "start_time": "2024-11-05T15:23:24.304Z"
   },
   {
    "duration": 3,
    "start_time": "2024-11-05T15:23:25.080Z"
   },
   {
    "duration": 1043,
    "start_time": "2024-11-05T15:27:35.244Z"
   },
   {
    "duration": 125,
    "start_time": "2024-11-05T15:27:36.289Z"
   },
   {
    "duration": 14,
    "start_time": "2024-11-05T15:27:36.417Z"
   },
   {
    "duration": 11,
    "start_time": "2024-11-05T15:27:36.433Z"
   },
   {
    "duration": 7,
    "start_time": "2024-11-05T15:27:36.446Z"
   },
   {
    "duration": 6,
    "start_time": "2024-11-05T15:27:36.455Z"
   },
   {
    "duration": 9,
    "start_time": "2024-11-05T15:27:36.463Z"
   },
   {
    "duration": 10,
    "start_time": "2024-11-05T15:27:36.474Z"
   },
   {
    "duration": 16,
    "start_time": "2024-11-05T15:27:36.485Z"
   },
   {
    "duration": 7,
    "start_time": "2024-11-05T15:27:36.544Z"
   },
   {
    "duration": 3,
    "start_time": "2024-11-05T15:27:36.553Z"
   },
   {
    "duration": 4,
    "start_time": "2024-11-05T15:27:36.558Z"
   },
   {
    "duration": 10,
    "start_time": "2024-11-05T15:27:36.563Z"
   },
   {
    "duration": 3,
    "start_time": "2024-11-05T15:27:36.575Z"
   },
   {
    "duration": 7,
    "start_time": "2024-11-05T15:27:36.580Z"
   },
   {
    "duration": 10,
    "start_time": "2024-11-05T15:27:36.589Z"
   },
   {
    "duration": 43,
    "start_time": "2024-11-05T15:27:36.602Z"
   },
   {
    "duration": 3,
    "start_time": "2024-11-05T15:27:36.646Z"
   },
   {
    "duration": 5,
    "start_time": "2024-11-05T15:27:36.651Z"
   },
   {
    "duration": 10,
    "start_time": "2024-11-05T15:27:36.658Z"
   },
   {
    "duration": 8,
    "start_time": "2024-11-05T15:27:36.671Z"
   },
   {
    "duration": 8,
    "start_time": "2024-11-05T15:27:36.681Z"
   },
   {
    "duration": 53,
    "start_time": "2024-11-05T15:27:36.690Z"
   },
   {
    "duration": 12,
    "start_time": "2024-11-05T15:27:36.745Z"
   },
   {
    "duration": 4,
    "start_time": "2024-11-05T15:27:36.759Z"
   },
   {
    "duration": 6,
    "start_time": "2024-11-05T15:27:36.765Z"
   },
   {
    "duration": 9,
    "start_time": "2024-11-05T15:27:36.772Z"
   },
   {
    "duration": 4,
    "start_time": "2024-11-05T15:27:36.785Z"
   },
   {
    "duration": 5,
    "start_time": "2024-11-05T15:27:36.790Z"
   },
   {
    "duration": 67,
    "start_time": "2024-11-05T15:27:36.797Z"
   },
   {
    "duration": 6,
    "start_time": "2024-11-05T15:27:36.865Z"
   },
   {
    "duration": 3,
    "start_time": "2024-11-05T15:27:36.873Z"
   },
   {
    "duration": 4,
    "start_time": "2024-11-05T15:27:36.878Z"
   },
   {
    "duration": 6,
    "start_time": "2024-11-05T15:27:36.884Z"
   },
   {
    "duration": 5,
    "start_time": "2024-11-05T15:27:36.892Z"
   },
   {
    "duration": 6,
    "start_time": "2024-11-05T15:27:36.899Z"
   },
   {
    "duration": 4,
    "start_time": "2024-11-05T15:27:36.942Z"
   },
   {
    "duration": 13,
    "start_time": "2024-11-05T15:27:36.947Z"
   },
   {
    "duration": 13,
    "start_time": "2024-11-05T15:27:36.961Z"
   },
   {
    "duration": 43,
    "start_time": "2024-11-05T15:27:36.976Z"
   },
   {
    "duration": 5,
    "start_time": "2024-11-05T15:27:37.042Z"
   },
   {
    "duration": 16,
    "start_time": "2024-11-05T15:27:37.049Z"
   },
   {
    "duration": 2,
    "start_time": "2024-11-05T15:27:37.067Z"
   },
   {
    "duration": 4,
    "start_time": "2024-11-05T15:27:37.071Z"
   },
   {
    "duration": 5,
    "start_time": "2024-11-05T15:27:37.077Z"
   },
   {
    "duration": 5,
    "start_time": "2024-11-05T15:27:37.083Z"
   },
   {
    "duration": 4,
    "start_time": "2024-11-05T15:27:37.090Z"
   },
   {
    "duration": 52,
    "start_time": "2024-11-05T15:27:37.096Z"
   },
   {
    "duration": 6,
    "start_time": "2024-11-05T15:27:37.149Z"
   },
   {
    "duration": 198,
    "start_time": "2024-11-05T15:27:37.157Z"
   },
   {
    "duration": 7,
    "start_time": "2024-11-05T15:27:37.357Z"
   },
   {
    "duration": 23,
    "start_time": "2024-11-05T15:27:37.366Z"
   },
   {
    "duration": 444,
    "start_time": "2024-11-05T15:27:37.390Z"
   },
   {
    "duration": 8,
    "start_time": "2024-11-05T15:27:37.835Z"
   },
   {
    "duration": 2,
    "start_time": "2024-11-05T15:27:37.845Z"
   },
   {
    "duration": 26,
    "start_time": "2024-11-05T15:27:37.849Z"
   },
   {
    "duration": 12,
    "start_time": "2024-11-05T15:27:37.876Z"
   },
   {
    "duration": 2882,
    "start_time": "2024-11-05T15:27:37.889Z"
   },
   {
    "duration": 14,
    "start_time": "2024-11-05T15:27:40.773Z"
   },
   {
    "duration": 1225,
    "start_time": "2024-11-05T15:27:40.789Z"
   },
   {
    "duration": 2,
    "start_time": "2024-11-05T15:27:42.016Z"
   },
   {
    "duration": 24,
    "start_time": "2024-11-05T15:27:42.019Z"
   },
   {
    "duration": 6,
    "start_time": "2024-11-05T15:27:42.044Z"
   },
   {
    "duration": 760,
    "start_time": "2024-11-05T15:27:42.051Z"
   },
   {
    "duration": 4244,
    "start_time": "2024-11-05T15:27:42.812Z"
   },
   {
    "duration": 759,
    "start_time": "2024-11-05T15:27:47.058Z"
   },
   {
    "duration": 2,
    "start_time": "2024-11-05T15:27:47.819Z"
   },
   {
    "duration": 2889,
    "start_time": "2024-11-05T17:14:26.181Z"
   },
   {
    "duration": 136,
    "start_time": "2024-11-05T17:14:29.073Z"
   },
   {
    "duration": 11,
    "start_time": "2024-11-05T17:14:29.211Z"
   },
   {
    "duration": 7,
    "start_time": "2024-11-05T17:14:29.230Z"
   },
   {
    "duration": 8,
    "start_time": "2024-11-05T17:14:29.239Z"
   },
   {
    "duration": 5,
    "start_time": "2024-11-05T17:14:29.249Z"
   },
   {
    "duration": 11,
    "start_time": "2024-11-05T17:14:29.256Z"
   },
   {
    "duration": 8,
    "start_time": "2024-11-05T17:14:29.269Z"
   },
   {
    "duration": 52,
    "start_time": "2024-11-05T17:14:29.279Z"
   },
   {
    "duration": 10,
    "start_time": "2024-11-05T17:14:29.334Z"
   },
   {
    "duration": 5,
    "start_time": "2024-11-05T17:14:29.345Z"
   },
   {
    "duration": 4,
    "start_time": "2024-11-05T17:14:29.351Z"
   },
   {
    "duration": 8,
    "start_time": "2024-11-05T17:14:29.357Z"
   },
   {
    "duration": 3,
    "start_time": "2024-11-05T17:14:29.367Z"
   },
   {
    "duration": 9,
    "start_time": "2024-11-05T17:14:29.372Z"
   },
   {
    "duration": 48,
    "start_time": "2024-11-05T17:14:29.383Z"
   },
   {
    "duration": 8,
    "start_time": "2024-11-05T17:14:29.433Z"
   },
   {
    "duration": 4,
    "start_time": "2024-11-05T17:14:29.442Z"
   },
   {
    "duration": 6,
    "start_time": "2024-11-05T17:14:29.447Z"
   },
   {
    "duration": 10,
    "start_time": "2024-11-05T17:14:29.455Z"
   },
   {
    "duration": 9,
    "start_time": "2024-11-05T17:14:29.466Z"
   },
   {
    "duration": 9,
    "start_time": "2024-11-05T17:14:29.477Z"
   },
   {
    "duration": 64,
    "start_time": "2024-11-05T17:14:29.487Z"
   },
   {
    "duration": 14,
    "start_time": "2024-11-05T17:14:29.554Z"
   },
   {
    "duration": 4,
    "start_time": "2024-11-05T17:14:29.570Z"
   },
   {
    "duration": 7,
    "start_time": "2024-11-05T17:14:29.576Z"
   },
   {
    "duration": 10,
    "start_time": "2024-11-05T17:14:29.585Z"
   },
   {
    "duration": 33,
    "start_time": "2024-11-05T17:14:29.600Z"
   },
   {
    "duration": 7,
    "start_time": "2024-11-05T17:14:29.634Z"
   },
   {
    "duration": 100,
    "start_time": "2024-11-05T17:14:29.642Z"
   },
   {
    "duration": 7,
    "start_time": "2024-11-05T17:14:29.744Z"
   },
   {
    "duration": 4,
    "start_time": "2024-11-05T17:14:29.753Z"
   },
   {
    "duration": 4,
    "start_time": "2024-11-05T17:14:29.759Z"
   },
   {
    "duration": 7,
    "start_time": "2024-11-05T17:14:29.765Z"
   },
   {
    "duration": 7,
    "start_time": "2024-11-05T17:14:29.773Z"
   },
   {
    "duration": 6,
    "start_time": "2024-11-05T17:14:29.782Z"
   },
   {
    "duration": 46,
    "start_time": "2024-11-05T17:14:29.789Z"
   },
   {
    "duration": 13,
    "start_time": "2024-11-05T17:14:29.837Z"
   },
   {
    "duration": 14,
    "start_time": "2024-11-05T17:14:29.852Z"
   },
   {
    "duration": 70,
    "start_time": "2024-11-05T17:14:29.868Z"
   },
   {
    "duration": 6,
    "start_time": "2024-11-05T17:14:29.940Z"
   },
   {
    "duration": 15,
    "start_time": "2024-11-05T17:14:29.947Z"
   },
   {
    "duration": 2,
    "start_time": "2024-11-05T17:14:29.964Z"
   },
   {
    "duration": 5,
    "start_time": "2024-11-05T17:14:29.967Z"
   },
   {
    "duration": 7,
    "start_time": "2024-11-05T17:14:29.973Z"
   },
   {
    "duration": 6,
    "start_time": "2024-11-05T17:14:29.981Z"
   },
   {
    "duration": 4,
    "start_time": "2024-11-05T17:14:29.988Z"
   },
   {
    "duration": 49,
    "start_time": "2024-11-05T17:14:29.994Z"
   },
   {
    "duration": 5,
    "start_time": "2024-11-05T17:14:30.045Z"
   },
   {
    "duration": 210,
    "start_time": "2024-11-05T17:14:30.052Z"
   },
   {
    "duration": 7,
    "start_time": "2024-11-05T17:14:30.264Z"
   },
   {
    "duration": 24,
    "start_time": "2024-11-05T17:14:30.273Z"
   },
   {
    "duration": 467,
    "start_time": "2024-11-05T17:14:30.299Z"
   },
   {
    "duration": 2,
    "start_time": "2024-11-05T17:14:30.769Z"
   },
   {
    "duration": 5,
    "start_time": "2024-11-05T17:14:30.773Z"
   },
   {
    "duration": 26,
    "start_time": "2024-11-05T17:14:30.779Z"
   },
   {
    "duration": 30,
    "start_time": "2024-11-05T17:14:30.807Z"
   },
   {
    "duration": 2881,
    "start_time": "2024-11-05T17:14:30.839Z"
   },
   {
    "duration": 22,
    "start_time": "2024-11-05T17:14:33.721Z"
   },
   {
    "duration": 1233,
    "start_time": "2024-11-05T17:14:33.745Z"
   },
   {
    "duration": 2,
    "start_time": "2024-11-05T17:14:34.980Z"
   },
   {
    "duration": 7,
    "start_time": "2024-11-05T17:14:34.984Z"
   },
   {
    "duration": 7,
    "start_time": "2024-11-05T17:14:34.992Z"
   },
   {
    "duration": 769,
    "start_time": "2024-11-05T17:14:35.001Z"
   },
   {
    "duration": 4223,
    "start_time": "2024-11-05T17:14:35.772Z"
   },
   {
    "duration": 781,
    "start_time": "2024-11-05T17:14:39.998Z"
   },
   {
    "duration": 2,
    "start_time": "2024-11-05T17:14:40.783Z"
   },
   {
    "duration": 161,
    "start_time": "2024-11-05T17:15:03.758Z"
   },
   {
    "duration": 1088,
    "start_time": "2024-11-05T17:15:09.245Z"
   },
   {
    "duration": 134,
    "start_time": "2024-11-05T17:15:10.335Z"
   },
   {
    "duration": 11,
    "start_time": "2024-11-05T17:15:10.471Z"
   },
   {
    "duration": 7,
    "start_time": "2024-11-05T17:15:10.484Z"
   },
   {
    "duration": 7,
    "start_time": "2024-11-05T17:15:10.493Z"
   },
   {
    "duration": 9,
    "start_time": "2024-11-05T17:15:10.502Z"
   },
   {
    "duration": 28,
    "start_time": "2024-11-05T17:15:10.512Z"
   },
   {
    "duration": 10,
    "start_time": "2024-11-05T17:15:10.541Z"
   },
   {
    "duration": 16,
    "start_time": "2024-11-05T17:15:10.553Z"
   },
   {
    "duration": 8,
    "start_time": "2024-11-05T17:15:10.573Z"
   },
   {
    "duration": 3,
    "start_time": "2024-11-05T17:15:10.583Z"
   },
   {
    "duration": 4,
    "start_time": "2024-11-05T17:15:10.588Z"
   },
   {
    "duration": 46,
    "start_time": "2024-11-05T17:15:10.593Z"
   },
   {
    "duration": 4,
    "start_time": "2024-11-05T17:15:10.641Z"
   },
   {
    "duration": 7,
    "start_time": "2024-11-05T17:15:10.646Z"
   },
   {
    "duration": 9,
    "start_time": "2024-11-05T17:15:10.655Z"
   },
   {
    "duration": 7,
    "start_time": "2024-11-05T17:15:10.666Z"
   },
   {
    "duration": 3,
    "start_time": "2024-11-05T17:15:10.675Z"
   },
   {
    "duration": 6,
    "start_time": "2024-11-05T17:15:10.680Z"
   },
   {
    "duration": 52,
    "start_time": "2024-11-05T17:15:10.688Z"
   },
   {
    "duration": 9,
    "start_time": "2024-11-05T17:15:10.741Z"
   },
   {
    "duration": 8,
    "start_time": "2024-11-05T17:15:10.751Z"
   },
   {
    "duration": 19,
    "start_time": "2024-11-05T17:15:10.761Z"
   },
   {
    "duration": 13,
    "start_time": "2024-11-05T17:15:10.782Z"
   },
   {
    "duration": 36,
    "start_time": "2024-11-05T17:15:10.796Z"
   },
   {
    "duration": 7,
    "start_time": "2024-11-05T17:15:10.834Z"
   },
   {
    "duration": 8,
    "start_time": "2024-11-05T17:15:10.843Z"
   },
   {
    "duration": 4,
    "start_time": "2024-11-05T17:15:10.856Z"
   },
   {
    "duration": 5,
    "start_time": "2024-11-05T17:15:10.861Z"
   },
   {
    "duration": 29,
    "start_time": "2024-11-05T17:15:10.868Z"
   },
   {
    "duration": 39,
    "start_time": "2024-11-05T17:15:10.898Z"
   },
   {
    "duration": 5,
    "start_time": "2024-11-05T17:15:10.940Z"
   },
   {
    "duration": 6,
    "start_time": "2024-11-05T17:15:10.946Z"
   },
   {
    "duration": 6,
    "start_time": "2024-11-05T17:15:10.954Z"
   },
   {
    "duration": 6,
    "start_time": "2024-11-05T17:15:10.962Z"
   },
   {
    "duration": 7,
    "start_time": "2024-11-05T17:15:10.969Z"
   },
   {
    "duration": 5,
    "start_time": "2024-11-05T17:15:10.977Z"
   },
   {
    "duration": 54,
    "start_time": "2024-11-05T17:15:10.984Z"
   },
   {
    "duration": 13,
    "start_time": "2024-11-05T17:15:11.039Z"
   },
   {
    "duration": 48,
    "start_time": "2024-11-05T17:15:11.054Z"
   },
   {
    "duration": 5,
    "start_time": "2024-11-05T17:15:11.104Z"
   },
   {
    "duration": 40,
    "start_time": "2024-11-05T17:15:11.110Z"
   },
   {
    "duration": 2,
    "start_time": "2024-11-05T17:15:11.152Z"
   },
   {
    "duration": 5,
    "start_time": "2024-11-05T17:15:11.155Z"
   },
   {
    "duration": 6,
    "start_time": "2024-11-05T17:15:11.161Z"
   },
   {
    "duration": 6,
    "start_time": "2024-11-05T17:15:11.169Z"
   },
   {
    "duration": 6,
    "start_time": "2024-11-05T17:15:11.177Z"
   },
   {
    "duration": 48,
    "start_time": "2024-11-05T17:15:11.185Z"
   },
   {
    "duration": 5,
    "start_time": "2024-11-05T17:15:11.235Z"
   },
   {
    "duration": 205,
    "start_time": "2024-11-05T17:15:11.241Z"
   },
   {
    "duration": 7,
    "start_time": "2024-11-05T17:15:11.448Z"
   },
   {
    "duration": 25,
    "start_time": "2024-11-05T17:15:11.457Z"
   },
   {
    "duration": 519,
    "start_time": "2024-11-05T17:15:11.483Z"
   },
   {
    "duration": 3,
    "start_time": "2024-11-05T17:15:12.004Z"
   },
   {
    "duration": 2,
    "start_time": "2024-11-05T17:15:12.009Z"
   },
   {
    "duration": 44,
    "start_time": "2024-11-05T17:15:12.014Z"
   },
   {
    "duration": 13,
    "start_time": "2024-11-05T17:15:12.059Z"
   },
   {
    "duration": 2897,
    "start_time": "2024-11-05T17:15:12.074Z"
   },
   {
    "duration": 15,
    "start_time": "2024-11-05T17:15:14.973Z"
   },
   {
    "duration": 1256,
    "start_time": "2024-11-05T17:15:14.990Z"
   },
   {
    "duration": 3,
    "start_time": "2024-11-05T17:15:16.248Z"
   },
   {
    "duration": 8,
    "start_time": "2024-11-05T17:15:16.254Z"
   },
   {
    "duration": 7,
    "start_time": "2024-11-05T17:15:16.264Z"
   },
   {
    "duration": 768,
    "start_time": "2024-11-05T17:15:16.274Z"
   },
   {
    "duration": 4259,
    "start_time": "2024-11-05T17:15:17.044Z"
   },
   {
    "duration": 771,
    "start_time": "2024-11-05T17:15:21.306Z"
   },
   {
    "duration": 2,
    "start_time": "2024-11-05T17:15:22.080Z"
   },
   {
    "duration": 1071,
    "start_time": "2024-11-05T17:16:00.900Z"
   },
   {
    "duration": 133,
    "start_time": "2024-11-05T17:16:01.973Z"
   },
   {
    "duration": 10,
    "start_time": "2024-11-05T17:16:02.108Z"
   },
   {
    "duration": 11,
    "start_time": "2024-11-05T17:16:02.121Z"
   },
   {
    "duration": 8,
    "start_time": "2024-11-05T17:16:02.134Z"
   },
   {
    "duration": 5,
    "start_time": "2024-11-05T17:16:02.144Z"
   },
   {
    "duration": 11,
    "start_time": "2024-11-05T17:16:02.150Z"
   },
   {
    "duration": 8,
    "start_time": "2024-11-05T17:16:02.163Z"
   },
   {
    "duration": 17,
    "start_time": "2024-11-05T17:16:02.172Z"
   },
   {
    "duration": 45,
    "start_time": "2024-11-05T17:16:02.192Z"
   },
   {
    "duration": 4,
    "start_time": "2024-11-05T17:16:02.239Z"
   },
   {
    "duration": 5,
    "start_time": "2024-11-05T17:16:02.244Z"
   },
   {
    "duration": 8,
    "start_time": "2024-11-05T17:16:02.251Z"
   },
   {
    "duration": 4,
    "start_time": "2024-11-05T17:16:02.261Z"
   },
   {
    "duration": 7,
    "start_time": "2024-11-05T17:16:02.266Z"
   },
   {
    "duration": 10,
    "start_time": "2024-11-05T17:16:02.274Z"
   },
   {
    "duration": 6,
    "start_time": "2024-11-05T17:16:02.286Z"
   },
   {
    "duration": 4,
    "start_time": "2024-11-05T17:16:02.331Z"
   },
   {
    "duration": 7,
    "start_time": "2024-11-05T17:16:02.336Z"
   },
   {
    "duration": 10,
    "start_time": "2024-11-05T17:16:02.344Z"
   },
   {
    "duration": 8,
    "start_time": "2024-11-05T17:16:02.355Z"
   },
   {
    "duration": 9,
    "start_time": "2024-11-05T17:16:02.364Z"
   },
   {
    "duration": 20,
    "start_time": "2024-11-05T17:16:02.375Z"
   },
   {
    "duration": 46,
    "start_time": "2024-11-05T17:16:02.397Z"
   },
   {
    "duration": 3,
    "start_time": "2024-11-05T17:16:02.445Z"
   },
   {
    "duration": 6,
    "start_time": "2024-11-05T17:16:02.450Z"
   },
   {
    "duration": 8,
    "start_time": "2024-11-05T17:16:02.458Z"
   },
   {
    "duration": 4,
    "start_time": "2024-11-05T17:16:02.472Z"
   },
   {
    "duration": 5,
    "start_time": "2024-11-05T17:16:02.477Z"
   },
   {
    "duration": 70,
    "start_time": "2024-11-05T17:16:02.485Z"
   },
   {
    "duration": 7,
    "start_time": "2024-11-05T17:16:02.556Z"
   },
   {
    "duration": 5,
    "start_time": "2024-11-05T17:16:02.564Z"
   },
   {
    "duration": 5,
    "start_time": "2024-11-05T17:16:02.570Z"
   },
   {
    "duration": 7,
    "start_time": "2024-11-05T17:16:02.577Z"
   },
   {
    "duration": 6,
    "start_time": "2024-11-05T17:16:02.586Z"
   },
   {
    "duration": 39,
    "start_time": "2024-11-05T17:16:02.593Z"
   },
   {
    "duration": 6,
    "start_time": "2024-11-05T17:16:02.634Z"
   },
   {
    "duration": 14,
    "start_time": "2024-11-05T17:16:02.641Z"
   },
   {
    "duration": 14,
    "start_time": "2024-11-05T17:16:02.656Z"
   },
   {
    "duration": 69,
    "start_time": "2024-11-05T17:16:02.672Z"
   },
   {
    "duration": 4,
    "start_time": "2024-11-05T17:16:02.743Z"
   },
   {
    "duration": 17,
    "start_time": "2024-11-05T17:16:02.749Z"
   },
   {
    "duration": 2,
    "start_time": "2024-11-05T17:16:02.768Z"
   },
   {
    "duration": 6,
    "start_time": "2024-11-05T17:16:02.771Z"
   },
   {
    "duration": 6,
    "start_time": "2024-11-05T17:16:02.779Z"
   },
   {
    "duration": 5,
    "start_time": "2024-11-05T17:16:02.786Z"
   },
   {
    "duration": 39,
    "start_time": "2024-11-05T17:16:02.793Z"
   },
   {
    "duration": 12,
    "start_time": "2024-11-05T17:16:02.834Z"
   },
   {
    "duration": 5,
    "start_time": "2024-11-05T17:16:02.848Z"
   },
   {
    "duration": 208,
    "start_time": "2024-11-05T17:16:02.855Z"
   },
   {
    "duration": 8,
    "start_time": "2024-11-05T17:16:03.065Z"
   },
   {
    "duration": 24,
    "start_time": "2024-11-05T17:16:03.074Z"
   },
   {
    "duration": 401,
    "start_time": "2024-11-05T17:16:03.099Z"
   },
   {
    "duration": 2,
    "start_time": "2024-11-05T17:16:03.502Z"
   },
   {
    "duration": 2,
    "start_time": "2024-11-05T17:16:03.506Z"
   },
   {
    "duration": 42,
    "start_time": "2024-11-05T17:16:03.510Z"
   },
   {
    "duration": 13,
    "start_time": "2024-11-05T17:16:03.553Z"
   },
   {
    "duration": 2922,
    "start_time": "2024-11-05T17:16:03.567Z"
   },
   {
    "duration": 14,
    "start_time": "2024-11-05T17:16:06.491Z"
   },
   {
    "duration": 1236,
    "start_time": "2024-11-05T17:16:06.507Z"
   },
   {
    "duration": 3,
    "start_time": "2024-11-05T17:16:07.744Z"
   },
   {
    "duration": 8,
    "start_time": "2024-11-05T17:16:07.749Z"
   },
   {
    "duration": 6,
    "start_time": "2024-11-05T17:16:07.758Z"
   },
   {
    "duration": 776,
    "start_time": "2024-11-05T17:16:07.766Z"
   },
   {
    "duration": 4216,
    "start_time": "2024-11-05T17:16:08.544Z"
   },
   {
    "duration": 774,
    "start_time": "2024-11-05T17:16:12.762Z"
   },
   {
    "duration": 5,
    "start_time": "2024-11-05T17:16:13.541Z"
   },
   {
    "duration": 1066,
    "start_time": "2024-11-05T17:19:53.080Z"
   },
   {
    "duration": 138,
    "start_time": "2024-11-05T17:19:54.148Z"
   },
   {
    "duration": 12,
    "start_time": "2024-11-05T17:19:54.288Z"
   },
   {
    "duration": 8,
    "start_time": "2024-11-05T17:19:54.301Z"
   },
   {
    "duration": 7,
    "start_time": "2024-11-05T17:19:54.312Z"
   },
   {
    "duration": 6,
    "start_time": "2024-11-05T17:19:54.332Z"
   },
   {
    "duration": 11,
    "start_time": "2024-11-05T17:19:54.340Z"
   },
   {
    "duration": 9,
    "start_time": "2024-11-05T17:19:54.353Z"
   },
   {
    "duration": 18,
    "start_time": "2024-11-05T17:19:54.364Z"
   },
   {
    "duration": 7,
    "start_time": "2024-11-05T17:19:54.384Z"
   },
   {
    "duration": 37,
    "start_time": "2024-11-05T17:19:54.394Z"
   },
   {
    "duration": 4,
    "start_time": "2024-11-05T17:19:54.433Z"
   },
   {
    "duration": 8,
    "start_time": "2024-11-05T17:19:54.439Z"
   },
   {
    "duration": 3,
    "start_time": "2024-11-05T17:19:54.452Z"
   },
   {
    "duration": 8,
    "start_time": "2024-11-05T17:19:54.456Z"
   },
   {
    "duration": 11,
    "start_time": "2024-11-05T17:19:54.465Z"
   },
   {
    "duration": 8,
    "start_time": "2024-11-05T17:19:54.478Z"
   },
   {
    "duration": 4,
    "start_time": "2024-11-05T17:19:54.487Z"
   },
   {
    "duration": 6,
    "start_time": "2024-11-05T17:19:54.532Z"
   },
   {
    "duration": 21,
    "start_time": "2024-11-05T17:19:54.540Z"
   },
   {
    "duration": 9,
    "start_time": "2024-11-05T17:19:54.562Z"
   },
   {
    "duration": 10,
    "start_time": "2024-11-05T17:19:54.573Z"
   },
   {
    "duration": 20,
    "start_time": "2024-11-05T17:19:54.585Z"
   },
   {
    "duration": 36,
    "start_time": "2024-11-05T17:19:54.607Z"
   },
   {
    "duration": 3,
    "start_time": "2024-11-05T17:19:54.645Z"
   },
   {
    "duration": 7,
    "start_time": "2024-11-05T17:19:54.650Z"
   },
   {
    "duration": 9,
    "start_time": "2024-11-05T17:19:54.658Z"
   },
   {
    "duration": 4,
    "start_time": "2024-11-05T17:19:54.668Z"
   },
   {
    "duration": 5,
    "start_time": "2024-11-05T17:19:54.674Z"
   },
   {
    "duration": 64,
    "start_time": "2024-11-05T17:19:54.681Z"
   },
   {
    "duration": 7,
    "start_time": "2024-11-05T17:19:54.747Z"
   },
   {
    "duration": 4,
    "start_time": "2024-11-05T17:19:54.756Z"
   },
   {
    "duration": 4,
    "start_time": "2024-11-05T17:19:54.762Z"
   },
   {
    "duration": 7,
    "start_time": "2024-11-05T17:19:54.768Z"
   },
   {
    "duration": 7,
    "start_time": "2024-11-05T17:19:54.777Z"
   },
   {
    "duration": 48,
    "start_time": "2024-11-05T17:19:54.786Z"
   },
   {
    "duration": 6,
    "start_time": "2024-11-05T17:19:54.836Z"
   },
   {
    "duration": 14,
    "start_time": "2024-11-05T17:19:54.844Z"
   },
   {
    "duration": 14,
    "start_time": "2024-11-05T17:19:54.860Z"
   },
   {
    "duration": 74,
    "start_time": "2024-11-05T17:19:54.875Z"
   },
   {
    "duration": 4,
    "start_time": "2024-11-05T17:19:54.954Z"
   },
   {
    "duration": 19,
    "start_time": "2024-11-05T17:19:54.960Z"
   },
   {
    "duration": 2,
    "start_time": "2024-11-05T17:19:54.981Z"
   },
   {
    "duration": 5,
    "start_time": "2024-11-05T17:19:54.985Z"
   },
   {
    "duration": 6,
    "start_time": "2024-11-05T17:19:54.992Z"
   },
   {
    "duration": 6,
    "start_time": "2024-11-05T17:19:55.031Z"
   },
   {
    "duration": 4,
    "start_time": "2024-11-05T17:19:55.039Z"
   },
   {
    "duration": 12,
    "start_time": "2024-11-05T17:19:55.044Z"
   },
   {
    "duration": 6,
    "start_time": "2024-11-05T17:19:55.058Z"
   },
   {
    "duration": 209,
    "start_time": "2024-11-05T17:19:55.065Z"
   },
   {
    "duration": 8,
    "start_time": "2024-11-05T17:19:55.278Z"
   },
   {
    "duration": 27,
    "start_time": "2024-11-05T17:19:55.288Z"
   },
   {
    "duration": 391,
    "start_time": "2024-11-05T17:19:55.317Z"
   },
   {
    "duration": 3,
    "start_time": "2024-11-05T17:19:55.710Z"
   },
   {
    "duration": 2,
    "start_time": "2024-11-05T17:19:55.715Z"
   },
   {
    "duration": 24,
    "start_time": "2024-11-05T17:19:55.731Z"
   },
   {
    "duration": 13,
    "start_time": "2024-11-05T17:19:55.757Z"
   },
   {
    "duration": 2928,
    "start_time": "2024-11-05T17:19:55.771Z"
   },
   {
    "duration": 14,
    "start_time": "2024-11-05T17:19:58.701Z"
   },
   {
    "duration": 1225,
    "start_time": "2024-11-05T17:19:58.716Z"
   },
   {
    "duration": 2,
    "start_time": "2024-11-05T17:19:59.943Z"
   },
   {
    "duration": 5,
    "start_time": "2024-11-05T17:19:59.947Z"
   },
   {
    "duration": 5,
    "start_time": "2024-11-05T17:19:59.954Z"
   },
   {
    "duration": 788,
    "start_time": "2024-11-05T17:19:59.961Z"
   },
   {
    "duration": 4253,
    "start_time": "2024-11-05T17:20:00.751Z"
   },
   {
    "duration": 761,
    "start_time": "2024-11-05T17:20:05.006Z"
   },
   {
    "duration": 3,
    "start_time": "2024-11-05T17:20:05.768Z"
   },
   {
    "duration": 1105,
    "start_time": "2024-11-05T17:20:40.558Z"
   },
   {
    "duration": 134,
    "start_time": "2024-11-05T17:20:41.666Z"
   },
   {
    "duration": 12,
    "start_time": "2024-11-05T17:20:41.801Z"
   },
   {
    "duration": 6,
    "start_time": "2024-11-05T17:20:41.815Z"
   },
   {
    "duration": 8,
    "start_time": "2024-11-05T17:20:41.831Z"
   },
   {
    "duration": 6,
    "start_time": "2024-11-05T17:20:41.841Z"
   },
   {
    "duration": 11,
    "start_time": "2024-11-05T17:20:41.849Z"
   },
   {
    "duration": 9,
    "start_time": "2024-11-05T17:20:41.862Z"
   },
   {
    "duration": 16,
    "start_time": "2024-11-05T17:20:41.874Z"
   },
   {
    "duration": 43,
    "start_time": "2024-11-05T17:20:41.892Z"
   },
   {
    "duration": 4,
    "start_time": "2024-11-05T17:20:41.937Z"
   },
   {
    "duration": 8,
    "start_time": "2024-11-05T17:20:41.944Z"
   },
   {
    "duration": 18,
    "start_time": "2024-11-05T17:20:41.953Z"
   },
   {
    "duration": 5,
    "start_time": "2024-11-05T17:20:41.975Z"
   },
   {
    "duration": 8,
    "start_time": "2024-11-05T17:20:41.982Z"
   },
   {
    "duration": 45,
    "start_time": "2024-11-05T17:20:41.991Z"
   },
   {
    "duration": 7,
    "start_time": "2024-11-05T17:20:42.038Z"
   },
   {
    "duration": 4,
    "start_time": "2024-11-05T17:20:42.046Z"
   },
   {
    "duration": 6,
    "start_time": "2024-11-05T17:20:42.052Z"
   },
   {
    "duration": 9,
    "start_time": "2024-11-05T17:20:42.061Z"
   },
   {
    "duration": 9,
    "start_time": "2024-11-05T17:20:42.072Z"
   },
   {
    "duration": 10,
    "start_time": "2024-11-05T17:20:42.082Z"
   },
   {
    "duration": 59,
    "start_time": "2024-11-05T17:20:42.093Z"
   },
   {
    "duration": 13,
    "start_time": "2024-11-05T17:20:42.153Z"
   },
   {
    "duration": 3,
    "start_time": "2024-11-05T17:20:42.168Z"
   },
   {
    "duration": 7,
    "start_time": "2024-11-05T17:20:42.173Z"
   },
   {
    "duration": 8,
    "start_time": "2024-11-05T17:20:42.181Z"
   },
   {
    "duration": 4,
    "start_time": "2024-11-05T17:20:42.190Z"
   },
   {
    "duration": 6,
    "start_time": "2024-11-05T17:20:42.232Z"
   },
   {
    "duration": 27,
    "start_time": "2024-11-05T17:20:42.240Z"
   },
   {
    "duration": 6,
    "start_time": "2024-11-05T17:20:42.269Z"
   },
   {
    "duration": 6,
    "start_time": "2024-11-05T17:20:42.277Z"
   },
   {
    "duration": 5,
    "start_time": "2024-11-05T17:20:42.284Z"
   },
   {
    "duration": 7,
    "start_time": "2024-11-05T17:20:42.290Z"
   },
   {
    "duration": 38,
    "start_time": "2024-11-05T17:20:42.298Z"
   },
   {
    "duration": 6,
    "start_time": "2024-11-05T17:20:42.338Z"
   },
   {
    "duration": 4,
    "start_time": "2024-11-05T17:20:42.346Z"
   },
   {
    "duration": 13,
    "start_time": "2024-11-05T17:20:42.352Z"
   },
   {
    "duration": 14,
    "start_time": "2024-11-05T17:20:42.367Z"
   },
   {
    "duration": 77,
    "start_time": "2024-11-05T17:20:42.383Z"
   },
   {
    "duration": 5,
    "start_time": "2024-11-05T17:20:42.465Z"
   },
   {
    "duration": 17,
    "start_time": "2024-11-05T17:20:42.472Z"
   },
   {
    "duration": 3,
    "start_time": "2024-11-05T17:20:42.490Z"
   },
   {
    "duration": 5,
    "start_time": "2024-11-05T17:20:42.494Z"
   },
   {
    "duration": 33,
    "start_time": "2024-11-05T17:20:42.501Z"
   },
   {
    "duration": 7,
    "start_time": "2024-11-05T17:20:42.537Z"
   },
   {
    "duration": 5,
    "start_time": "2024-11-05T17:20:42.546Z"
   },
   {
    "duration": 12,
    "start_time": "2024-11-05T17:20:42.552Z"
   },
   {
    "duration": 5,
    "start_time": "2024-11-05T17:20:42.566Z"
   },
   {
    "duration": 218,
    "start_time": "2024-11-05T17:20:42.573Z"
   },
   {
    "duration": 6,
    "start_time": "2024-11-05T17:20:42.794Z"
   },
   {
    "duration": 41,
    "start_time": "2024-11-05T17:20:42.802Z"
   },
   {
    "duration": 437,
    "start_time": "2024-11-05T17:20:42.845Z"
   },
   {
    "duration": 2,
    "start_time": "2024-11-05T17:20:43.284Z"
   },
   {
    "duration": 3,
    "start_time": "2024-11-05T17:20:43.288Z"
   },
   {
    "duration": 39,
    "start_time": "2024-11-05T17:20:43.292Z"
   },
   {
    "duration": 15,
    "start_time": "2024-11-05T17:20:43.334Z"
   },
   {
    "duration": 2907,
    "start_time": "2024-11-05T17:20:43.350Z"
   },
   {
    "duration": 13,
    "start_time": "2024-11-05T17:20:46.259Z"
   },
   {
    "duration": 1240,
    "start_time": "2024-11-05T17:20:46.275Z"
   },
   {
    "duration": 2,
    "start_time": "2024-11-05T17:20:47.517Z"
   },
   {
    "duration": 16,
    "start_time": "2024-11-05T17:20:47.521Z"
   },
   {
    "duration": 7,
    "start_time": "2024-11-05T17:20:47.538Z"
   },
   {
    "duration": 775,
    "start_time": "2024-11-05T17:20:47.546Z"
   },
   {
    "duration": 4242,
    "start_time": "2024-11-05T17:20:48.323Z"
   },
   {
    "duration": 772,
    "start_time": "2024-11-05T17:20:52.567Z"
   },
   {
    "duration": 3,
    "start_time": "2024-11-05T17:20:53.341Z"
   },
   {
    "duration": 1070,
    "start_time": "2024-11-05T17:33:53.829Z"
   },
   {
    "duration": 135,
    "start_time": "2024-11-05T17:33:54.901Z"
   },
   {
    "duration": 11,
    "start_time": "2024-11-05T17:33:55.038Z"
   },
   {
    "duration": 7,
    "start_time": "2024-11-05T17:33:55.051Z"
   },
   {
    "duration": 6,
    "start_time": "2024-11-05T17:33:55.061Z"
   },
   {
    "duration": 7,
    "start_time": "2024-11-05T17:33:55.069Z"
   },
   {
    "duration": 11,
    "start_time": "2024-11-05T17:33:55.078Z"
   },
   {
    "duration": 11,
    "start_time": "2024-11-05T17:33:55.090Z"
   },
   {
    "duration": 16,
    "start_time": "2024-11-05T17:33:55.132Z"
   },
   {
    "duration": 8,
    "start_time": "2024-11-05T17:33:55.150Z"
   },
   {
    "duration": 4,
    "start_time": "2024-11-05T17:33:55.159Z"
   },
   {
    "duration": 5,
    "start_time": "2024-11-05T17:33:55.164Z"
   },
   {
    "duration": 9,
    "start_time": "2024-11-05T17:33:55.170Z"
   },
   {
    "duration": 4,
    "start_time": "2024-11-05T17:33:55.183Z"
   },
   {
    "duration": 48,
    "start_time": "2024-11-05T17:33:55.188Z"
   },
   {
    "duration": 13,
    "start_time": "2024-11-05T17:33:55.239Z"
   },
   {
    "duration": 8,
    "start_time": "2024-11-05T17:33:55.253Z"
   },
   {
    "duration": 3,
    "start_time": "2024-11-05T17:33:55.264Z"
   },
   {
    "duration": 6,
    "start_time": "2024-11-05T17:33:55.268Z"
   },
   {
    "duration": 10,
    "start_time": "2024-11-05T17:33:55.276Z"
   },
   {
    "duration": 9,
    "start_time": "2024-11-05T17:33:55.287Z"
   },
   {
    "duration": 10,
    "start_time": "2024-11-05T17:33:55.331Z"
   },
   {
    "duration": 19,
    "start_time": "2024-11-05T17:33:55.343Z"
   },
   {
    "duration": 13,
    "start_time": "2024-11-05T17:33:55.364Z"
   },
   {
    "duration": 4,
    "start_time": "2024-11-05T17:33:55.380Z"
   },
   {
    "duration": 16,
    "start_time": "2024-11-05T17:33:55.386Z"
   },
   {
    "duration": 28,
    "start_time": "2024-11-05T17:33:55.404Z"
   },
   {
    "duration": 4,
    "start_time": "2024-11-05T17:33:55.434Z"
   },
   {
    "duration": 6,
    "start_time": "2024-11-05T17:33:55.440Z"
   },
   {
    "duration": 27,
    "start_time": "2024-11-05T17:33:55.447Z"
   },
   {
    "duration": 7,
    "start_time": "2024-11-05T17:33:55.476Z"
   },
   {
    "duration": 4,
    "start_time": "2024-11-05T17:33:55.485Z"
   },
   {
    "duration": 40,
    "start_time": "2024-11-05T17:33:55.491Z"
   },
   {
    "duration": 7,
    "start_time": "2024-11-05T17:33:55.533Z"
   },
   {
    "duration": 7,
    "start_time": "2024-11-05T17:33:55.541Z"
   },
   {
    "duration": 6,
    "start_time": "2024-11-05T17:33:55.550Z"
   },
   {
    "duration": 4,
    "start_time": "2024-11-05T17:33:55.558Z"
   },
   {
    "duration": 15,
    "start_time": "2024-11-05T17:33:55.563Z"
   },
   {
    "duration": 14,
    "start_time": "2024-11-05T17:33:55.579Z"
   },
   {
    "duration": 77,
    "start_time": "2024-11-05T17:33:55.595Z"
   },
   {
    "duration": 4,
    "start_time": "2024-11-05T17:33:55.677Z"
   },
   {
    "duration": 17,
    "start_time": "2024-11-05T17:33:55.683Z"
   },
   {
    "duration": 2,
    "start_time": "2024-11-05T17:33:55.702Z"
   },
   {
    "duration": 31,
    "start_time": "2024-11-05T17:33:55.706Z"
   },
   {
    "duration": 5,
    "start_time": "2024-11-05T17:33:55.739Z"
   },
   {
    "duration": 5,
    "start_time": "2024-11-05T17:33:55.746Z"
   },
   {
    "duration": 4,
    "start_time": "2024-11-05T17:33:55.752Z"
   },
   {
    "duration": 11,
    "start_time": "2024-11-05T17:33:55.759Z"
   },
   {
    "duration": 5,
    "start_time": "2024-11-05T17:33:55.772Z"
   },
   {
    "duration": 215,
    "start_time": "2024-11-05T17:33:55.779Z"
   },
   {
    "duration": 7,
    "start_time": "2024-11-05T17:33:55.997Z"
   },
   {
    "duration": 38,
    "start_time": "2024-11-05T17:33:56.005Z"
   },
   {
    "duration": 386,
    "start_time": "2024-11-05T17:33:56.045Z"
   },
   {
    "duration": 2,
    "start_time": "2024-11-05T17:33:56.433Z"
   },
   {
    "duration": 3,
    "start_time": "2024-11-05T17:33:56.436Z"
   },
   {
    "duration": 25,
    "start_time": "2024-11-05T17:33:56.441Z"
   },
   {
    "duration": 13,
    "start_time": "2024-11-05T17:33:56.467Z"
   },
   {
    "duration": 2957,
    "start_time": "2024-11-05T17:33:56.482Z"
   },
   {
    "duration": 14,
    "start_time": "2024-11-05T17:33:59.441Z"
   },
   {
    "duration": 1245,
    "start_time": "2024-11-05T17:33:59.457Z"
   },
   {
    "duration": 2,
    "start_time": "2024-11-05T17:34:00.705Z"
   },
   {
    "duration": 6,
    "start_time": "2024-11-05T17:34:00.709Z"
   },
   {
    "duration": 19,
    "start_time": "2024-11-05T17:34:00.717Z"
   },
   {
    "duration": 758,
    "start_time": "2024-11-05T17:34:00.738Z"
   },
   {
    "duration": 4247,
    "start_time": "2024-11-05T17:34:01.498Z"
   },
   {
    "duration": 776,
    "start_time": "2024-11-05T17:34:05.747Z"
   },
   {
    "duration": 3,
    "start_time": "2024-11-05T17:34:06.530Z"
   },
   {
    "duration": 979,
    "start_time": "2024-11-06T15:05:38.380Z"
   },
   {
    "duration": 2750,
    "start_time": "2024-11-06T15:05:48.460Z"
   },
   {
    "duration": 145,
    "start_time": "2024-11-06T15:05:51.212Z"
   },
   {
    "duration": 12,
    "start_time": "2024-11-06T15:05:51.358Z"
   },
   {
    "duration": 7,
    "start_time": "2024-11-06T15:05:51.372Z"
   },
   {
    "duration": 8,
    "start_time": "2024-11-06T15:05:51.380Z"
   },
   {
    "duration": 21,
    "start_time": "2024-11-06T15:05:51.389Z"
   },
   {
    "duration": 11,
    "start_time": "2024-11-06T15:05:51.411Z"
   },
   {
    "duration": 8,
    "start_time": "2024-11-06T15:05:51.423Z"
   },
   {
    "duration": 14,
    "start_time": "2024-11-06T15:05:51.433Z"
   },
   {
    "duration": 7,
    "start_time": "2024-11-06T15:05:51.451Z"
   },
   {
    "duration": 4,
    "start_time": "2024-11-06T15:05:51.460Z"
   },
   {
    "duration": 44,
    "start_time": "2024-11-06T15:05:51.465Z"
   },
   {
    "duration": 9,
    "start_time": "2024-11-06T15:05:51.511Z"
   },
   {
    "duration": 4,
    "start_time": "2024-11-06T15:05:51.521Z"
   },
   {
    "duration": 7,
    "start_time": "2024-11-06T15:05:51.527Z"
   },
   {
    "duration": 10,
    "start_time": "2024-11-06T15:05:51.536Z"
   },
   {
    "duration": 8,
    "start_time": "2024-11-06T15:05:51.548Z"
   },
   {
    "duration": 3,
    "start_time": "2024-11-06T15:05:51.557Z"
   },
   {
    "duration": 6,
    "start_time": "2024-11-06T15:05:51.561Z"
   },
   {
    "duration": 49,
    "start_time": "2024-11-06T15:05:51.569Z"
   },
   {
    "duration": 8,
    "start_time": "2024-11-06T15:05:51.620Z"
   },
   {
    "duration": 9,
    "start_time": "2024-11-06T15:05:51.630Z"
   },
   {
    "duration": 18,
    "start_time": "2024-11-06T15:05:51.640Z"
   },
   {
    "duration": 12,
    "start_time": "2024-11-06T15:05:51.660Z"
   },
   {
    "duration": 36,
    "start_time": "2024-11-06T15:05:51.674Z"
   },
   {
    "duration": 8,
    "start_time": "2024-11-06T15:05:51.712Z"
   },
   {
    "duration": 9,
    "start_time": "2024-11-06T15:05:51.722Z"
   },
   {
    "duration": 4,
    "start_time": "2024-11-06T15:05:51.736Z"
   },
   {
    "duration": 5,
    "start_time": "2024-11-06T15:05:51.742Z"
   },
   {
    "duration": 61,
    "start_time": "2024-11-06T15:05:51.749Z"
   },
   {
    "duration": 7,
    "start_time": "2024-11-06T15:05:51.811Z"
   },
   {
    "duration": 4,
    "start_time": "2024-11-06T15:05:51.820Z"
   },
   {
    "duration": 5,
    "start_time": "2024-11-06T15:05:51.825Z"
   },
   {
    "duration": 7,
    "start_time": "2024-11-06T15:05:51.839Z"
   },
   {
    "duration": 6,
    "start_time": "2024-11-06T15:05:51.848Z"
   },
   {
    "duration": 7,
    "start_time": "2024-11-06T15:05:51.856Z"
   },
   {
    "duration": 4,
    "start_time": "2024-11-06T15:05:51.865Z"
   },
   {
    "duration": 51,
    "start_time": "2024-11-06T15:05:51.870Z"
   },
   {
    "duration": 13,
    "start_time": "2024-11-06T15:05:51.923Z"
   },
   {
    "duration": 45,
    "start_time": "2024-11-06T15:05:51.940Z"
   },
   {
    "duration": 24,
    "start_time": "2024-11-06T15:05:51.986Z"
   },
   {
    "duration": 17,
    "start_time": "2024-11-06T15:05:52.012Z"
   },
   {
    "duration": 2,
    "start_time": "2024-11-06T15:05:52.031Z"
   },
   {
    "duration": 5,
    "start_time": "2024-11-06T15:05:52.035Z"
   },
   {
    "duration": 6,
    "start_time": "2024-11-06T15:05:52.042Z"
   },
   {
    "duration": 4,
    "start_time": "2024-11-06T15:05:52.050Z"
   },
   {
    "duration": 5,
    "start_time": "2024-11-06T15:05:52.056Z"
   },
   {
    "duration": 49,
    "start_time": "2024-11-06T15:05:52.062Z"
   },
   {
    "duration": 5,
    "start_time": "2024-11-06T15:05:52.113Z"
   },
   {
    "duration": 260,
    "start_time": "2024-11-06T15:05:52.120Z"
   },
   {
    "duration": 7,
    "start_time": "2024-11-06T15:05:52.382Z"
   },
   {
    "duration": 33,
    "start_time": "2024-11-06T15:05:52.392Z"
   },
   {
    "duration": 385,
    "start_time": "2024-11-06T15:05:52.426Z"
   },
   {
    "duration": 3,
    "start_time": "2024-11-06T15:05:52.812Z"
   },
   {
    "duration": 3,
    "start_time": "2024-11-06T15:05:52.816Z"
   },
   {
    "duration": 25,
    "start_time": "2024-11-06T15:05:52.820Z"
   },
   {
    "duration": 12,
    "start_time": "2024-11-06T15:05:52.847Z"
   },
   {
    "duration": 2916,
    "start_time": "2024-11-06T15:05:52.861Z"
   },
   {
    "duration": 13,
    "start_time": "2024-11-06T15:05:55.779Z"
   },
   {
    "duration": 1257,
    "start_time": "2024-11-06T15:05:55.795Z"
   },
   {
    "duration": 2,
    "start_time": "2024-11-06T15:05:57.054Z"
   },
   {
    "duration": 8,
    "start_time": "2024-11-06T15:05:57.058Z"
   },
   {
    "duration": 9,
    "start_time": "2024-11-06T15:05:57.068Z"
   },
   {
    "duration": 799,
    "start_time": "2024-11-06T15:05:57.079Z"
   },
   {
    "duration": 4248,
    "start_time": "2024-11-06T15:05:57.880Z"
   },
   {
    "duration": 756,
    "start_time": "2024-11-06T15:06:02.130Z"
   },
   {
    "duration": 3,
    "start_time": "2024-11-06T15:06:02.888Z"
   },
   {
    "duration": 164,
    "start_time": "2024-11-06T15:14:02.193Z"
   },
   {
    "duration": 1084,
    "start_time": "2024-11-06T15:14:15.206Z"
   },
   {
    "duration": 130,
    "start_time": "2024-11-06T15:14:16.293Z"
   },
   {
    "duration": 11,
    "start_time": "2024-11-06T15:14:16.425Z"
   },
   {
    "duration": 7,
    "start_time": "2024-11-06T15:14:16.438Z"
   },
   {
    "duration": 7,
    "start_time": "2024-11-06T15:14:16.446Z"
   },
   {
    "duration": 6,
    "start_time": "2024-11-06T15:14:16.454Z"
   },
   {
    "duration": 11,
    "start_time": "2024-11-06T15:14:16.461Z"
   },
   {
    "duration": 9,
    "start_time": "2024-11-06T15:14:16.473Z"
   },
   {
    "duration": 16,
    "start_time": "2024-11-06T15:14:16.509Z"
   },
   {
    "duration": 7,
    "start_time": "2024-11-06T15:14:16.529Z"
   },
   {
    "duration": 4,
    "start_time": "2024-11-06T15:14:16.538Z"
   },
   {
    "duration": 4,
    "start_time": "2024-11-06T15:14:16.544Z"
   },
   {
    "duration": 8,
    "start_time": "2024-11-06T15:14:16.550Z"
   },
   {
    "duration": 4,
    "start_time": "2024-11-06T15:14:16.560Z"
   },
   {
    "duration": 46,
    "start_time": "2024-11-06T15:14:16.565Z"
   },
   {
    "duration": 10,
    "start_time": "2024-11-06T15:14:16.613Z"
   },
   {
    "duration": 8,
    "start_time": "2024-11-06T15:14:16.625Z"
   },
   {
    "duration": 3,
    "start_time": "2024-11-06T15:14:16.635Z"
   },
   {
    "duration": 7,
    "start_time": "2024-11-06T15:14:16.640Z"
   },
   {
    "duration": 9,
    "start_time": "2024-11-06T15:14:16.649Z"
   },
   {
    "duration": 9,
    "start_time": "2024-11-06T15:14:16.660Z"
   },
   {
    "duration": 46,
    "start_time": "2024-11-06T15:14:16.670Z"
   },
   {
    "duration": 20,
    "start_time": "2024-11-06T15:14:16.717Z"
   },
   {
    "duration": 12,
    "start_time": "2024-11-06T15:14:16.738Z"
   },
   {
    "duration": 4,
    "start_time": "2024-11-06T15:14:16.751Z"
   },
   {
    "duration": 6,
    "start_time": "2024-11-06T15:14:16.757Z"
   },
   {
    "duration": 47,
    "start_time": "2024-11-06T15:14:16.764Z"
   },
   {
    "duration": 4,
    "start_time": "2024-11-06T15:14:16.815Z"
   },
   {
    "duration": 5,
    "start_time": "2024-11-06T15:14:16.821Z"
   },
   {
    "duration": 27,
    "start_time": "2024-11-06T15:14:16.827Z"
   },
   {
    "duration": 6,
    "start_time": "2024-11-06T15:14:16.856Z"
   },
   {
    "duration": 6,
    "start_time": "2024-11-06T15:14:16.863Z"
   },
   {
    "duration": 4,
    "start_time": "2024-11-06T15:14:16.871Z"
   },
   {
    "duration": 7,
    "start_time": "2024-11-06T15:14:16.909Z"
   },
   {
    "duration": 6,
    "start_time": "2024-11-06T15:14:16.917Z"
   },
   {
    "duration": 6,
    "start_time": "2024-11-06T15:14:16.925Z"
   },
   {
    "duration": 4,
    "start_time": "2024-11-06T15:14:16.933Z"
   },
   {
    "duration": 13,
    "start_time": "2024-11-06T15:14:16.939Z"
   },
   {
    "duration": 12,
    "start_time": "2024-11-06T15:14:16.954Z"
   },
   {
    "duration": 80,
    "start_time": "2024-11-06T15:14:16.968Z"
   },
   {
    "duration": 4,
    "start_time": "2024-11-06T15:14:17.049Z"
   },
   {
    "duration": 21,
    "start_time": "2024-11-06T15:14:17.055Z"
   },
   {
    "duration": 2,
    "start_time": "2024-11-06T15:14:17.078Z"
   },
   {
    "duration": 29,
    "start_time": "2024-11-06T15:14:17.082Z"
   },
   {
    "duration": 5,
    "start_time": "2024-11-06T15:14:17.113Z"
   },
   {
    "duration": 5,
    "start_time": "2024-11-06T15:14:17.120Z"
   },
   {
    "duration": 4,
    "start_time": "2024-11-06T15:14:17.127Z"
   },
   {
    "duration": 11,
    "start_time": "2024-11-06T15:14:17.133Z"
   },
   {
    "duration": 5,
    "start_time": "2024-11-06T15:14:17.145Z"
   },
   {
    "duration": 259,
    "start_time": "2024-11-06T15:14:17.152Z"
   },
   {
    "duration": 8,
    "start_time": "2024-11-06T15:14:17.412Z"
   },
   {
    "duration": 23,
    "start_time": "2024-11-06T15:14:17.423Z"
   },
   {
    "duration": 408,
    "start_time": "2024-11-06T15:14:17.448Z"
   },
   {
    "duration": 3,
    "start_time": "2024-11-06T15:14:17.858Z"
   },
   {
    "duration": 2,
    "start_time": "2024-11-06T15:14:17.863Z"
   },
   {
    "duration": 42,
    "start_time": "2024-11-06T15:14:17.867Z"
   },
   {
    "duration": 14,
    "start_time": "2024-11-06T15:14:17.912Z"
   },
   {
    "duration": 2928,
    "start_time": "2024-11-06T15:14:17.927Z"
   },
   {
    "duration": 13,
    "start_time": "2024-11-06T15:14:20.857Z"
   },
   {
    "duration": 1241,
    "start_time": "2024-11-06T15:14:20.872Z"
   },
   {
    "duration": 3,
    "start_time": "2024-11-06T15:14:22.114Z"
   },
   {
    "duration": 6,
    "start_time": "2024-11-06T15:14:22.118Z"
   },
   {
    "duration": 6,
    "start_time": "2024-11-06T15:14:22.126Z"
   },
   {
    "duration": 765,
    "start_time": "2024-11-06T15:14:22.133Z"
   },
   {
    "duration": 4276,
    "start_time": "2024-11-06T15:14:22.900Z"
   },
   {
    "duration": 792,
    "start_time": "2024-11-06T15:14:27.178Z"
   },
   {
    "duration": 2,
    "start_time": "2024-11-06T15:14:27.972Z"
   },
   {
    "duration": 10,
    "start_time": "2024-11-06T15:14:27.976Z"
   },
   {
    "duration": 1083,
    "start_time": "2024-11-06T15:19:26.442Z"
   },
   {
    "duration": 134,
    "start_time": "2024-11-06T15:19:27.527Z"
   },
   {
    "duration": 12,
    "start_time": "2024-11-06T15:19:27.663Z"
   },
   {
    "duration": 6,
    "start_time": "2024-11-06T15:19:27.677Z"
   },
   {
    "duration": 7,
    "start_time": "2024-11-06T15:19:27.685Z"
   },
   {
    "duration": 22,
    "start_time": "2024-11-06T15:19:27.694Z"
   },
   {
    "duration": 9,
    "start_time": "2024-11-06T15:19:27.720Z"
   },
   {
    "duration": 12,
    "start_time": "2024-11-06T15:19:27.731Z"
   },
   {
    "duration": 15,
    "start_time": "2024-11-06T15:19:27.744Z"
   },
   {
    "duration": 8,
    "start_time": "2024-11-06T15:19:27.762Z"
   },
   {
    "duration": 4,
    "start_time": "2024-11-06T15:19:27.772Z"
   },
   {
    "duration": 35,
    "start_time": "2024-11-06T15:19:27.778Z"
   },
   {
    "duration": 9,
    "start_time": "2024-11-06T15:19:27.815Z"
   },
   {
    "duration": 4,
    "start_time": "2024-11-06T15:19:27.825Z"
   },
   {
    "duration": 7,
    "start_time": "2024-11-06T15:19:27.831Z"
   },
   {
    "duration": 10,
    "start_time": "2024-11-06T15:19:27.840Z"
   },
   {
    "duration": 7,
    "start_time": "2024-11-06T15:19:27.852Z"
   },
   {
    "duration": 4,
    "start_time": "2024-11-06T15:19:27.860Z"
   },
   {
    "duration": 6,
    "start_time": "2024-11-06T15:19:27.865Z"
   },
   {
    "duration": 11,
    "start_time": "2024-11-06T15:19:27.908Z"
   },
   {
    "duration": 9,
    "start_time": "2024-11-06T15:19:27.921Z"
   },
   {
    "duration": 9,
    "start_time": "2024-11-06T15:19:27.931Z"
   },
   {
    "duration": 20,
    "start_time": "2024-11-06T15:19:27.941Z"
   },
   {
    "duration": 13,
    "start_time": "2024-11-06T15:19:27.962Z"
   },
   {
    "duration": 4,
    "start_time": "2024-11-06T15:19:28.010Z"
   },
   {
    "duration": 6,
    "start_time": "2024-11-06T15:19:28.015Z"
   },
   {
    "duration": 8,
    "start_time": "2024-11-06T15:19:28.023Z"
   },
   {
    "duration": 3,
    "start_time": "2024-11-06T15:19:28.036Z"
   },
   {
    "duration": 5,
    "start_time": "2024-11-06T15:19:28.041Z"
   },
   {
    "duration": 60,
    "start_time": "2024-11-06T15:19:28.048Z"
   },
   {
    "duration": 6,
    "start_time": "2024-11-06T15:19:28.111Z"
   },
   {
    "duration": 5,
    "start_time": "2024-11-06T15:19:28.119Z"
   },
   {
    "duration": 5,
    "start_time": "2024-11-06T15:19:28.126Z"
   },
   {
    "duration": 8,
    "start_time": "2024-11-06T15:19:28.132Z"
   },
   {
    "duration": 7,
    "start_time": "2024-11-06T15:19:28.141Z"
   },
   {
    "duration": 8,
    "start_time": "2024-11-06T15:19:28.149Z"
   },
   {
    "duration": 4,
    "start_time": "2024-11-06T15:19:28.158Z"
   },
   {
    "duration": 57,
    "start_time": "2024-11-06T15:19:28.164Z"
   },
   {
    "duration": 15,
    "start_time": "2024-11-06T15:19:28.222Z"
   },
   {
    "duration": 43,
    "start_time": "2024-11-06T15:19:28.238Z"
   },
   {
    "duration": 4,
    "start_time": "2024-11-06T15:19:28.283Z"
   },
   {
    "duration": 16,
    "start_time": "2024-11-06T15:19:28.309Z"
   },
   {
    "duration": 2,
    "start_time": "2024-11-06T15:19:28.327Z"
   },
   {
    "duration": 4,
    "start_time": "2024-11-06T15:19:28.331Z"
   },
   {
    "duration": 5,
    "start_time": "2024-11-06T15:19:28.337Z"
   },
   {
    "duration": 5,
    "start_time": "2024-11-06T15:19:28.343Z"
   },
   {
    "duration": 4,
    "start_time": "2024-11-06T15:19:28.350Z"
   },
   {
    "duration": 14,
    "start_time": "2024-11-06T15:19:28.356Z"
   },
   {
    "duration": 41,
    "start_time": "2024-11-06T15:19:28.371Z"
   },
   {
    "duration": 193,
    "start_time": "2024-11-06T15:19:28.414Z"
   },
   {
    "duration": 7,
    "start_time": "2024-11-06T15:19:28.609Z"
   },
   {
    "duration": 24,
    "start_time": "2024-11-06T15:19:28.618Z"
   },
   {
    "duration": 405,
    "start_time": "2024-11-06T15:19:28.644Z"
   },
   {
    "duration": 2,
    "start_time": "2024-11-06T15:19:29.051Z"
   },
   {
    "duration": 3,
    "start_time": "2024-11-06T15:19:29.055Z"
   },
   {
    "duration": 26,
    "start_time": "2024-11-06T15:19:29.059Z"
   },
   {
    "duration": 29,
    "start_time": "2024-11-06T15:19:29.087Z"
   },
   {
    "duration": 2914,
    "start_time": "2024-11-06T15:19:29.118Z"
   },
   {
    "duration": 20,
    "start_time": "2024-11-06T15:19:32.034Z"
   },
   {
    "duration": 1213,
    "start_time": "2024-11-06T15:19:32.057Z"
   },
   {
    "duration": 2,
    "start_time": "2024-11-06T15:19:33.272Z"
   },
   {
    "duration": 7,
    "start_time": "2024-11-06T15:19:33.276Z"
   },
   {
    "duration": 5,
    "start_time": "2024-11-06T15:19:33.284Z"
   },
   {
    "duration": 765,
    "start_time": "2024-11-06T15:19:33.291Z"
   },
   {
    "duration": 4226,
    "start_time": "2024-11-06T15:19:34.058Z"
   },
   {
    "duration": 761,
    "start_time": "2024-11-06T15:19:38.286Z"
   },
   {
    "duration": 2,
    "start_time": "2024-11-06T15:19:39.049Z"
   },
   {
    "duration": 10,
    "start_time": "2024-11-06T15:19:39.053Z"
   },
   {
    "duration": 171,
    "start_time": "2024-11-06T15:20:16.236Z"
   },
   {
    "duration": 1075,
    "start_time": "2024-11-06T15:24:27.641Z"
   },
   {
    "duration": 100,
    "start_time": "2024-11-06T15:24:28.718Z"
   },
   {
    "duration": 11,
    "start_time": "2024-11-06T15:24:28.820Z"
   },
   {
    "duration": 8,
    "start_time": "2024-11-06T15:24:28.834Z"
   },
   {
    "duration": 7,
    "start_time": "2024-11-06T15:24:28.844Z"
   },
   {
    "duration": 6,
    "start_time": "2024-11-06T15:24:28.853Z"
   },
   {
    "duration": 10,
    "start_time": "2024-11-06T15:24:28.860Z"
   },
   {
    "duration": 39,
    "start_time": "2024-11-06T15:24:28.872Z"
   },
   {
    "duration": 17,
    "start_time": "2024-11-06T15:24:28.913Z"
   },
   {
    "duration": 7,
    "start_time": "2024-11-06T15:24:28.933Z"
   },
   {
    "duration": 5,
    "start_time": "2024-11-06T15:24:28.942Z"
   },
   {
    "duration": 4,
    "start_time": "2024-11-06T15:24:28.948Z"
   },
   {
    "duration": 10,
    "start_time": "2024-11-06T15:24:28.954Z"
   },
   {
    "duration": 4,
    "start_time": "2024-11-06T15:24:28.966Z"
   },
   {
    "duration": 7,
    "start_time": "2024-11-06T15:24:29.010Z"
   },
   {
    "duration": 11,
    "start_time": "2024-11-06T15:24:29.019Z"
   },
   {
    "duration": 7,
    "start_time": "2024-11-06T15:24:29.031Z"
   },
   {
    "duration": 4,
    "start_time": "2024-11-06T15:24:29.040Z"
   },
   {
    "duration": 7,
    "start_time": "2024-11-06T15:24:29.045Z"
   },
   {
    "duration": 9,
    "start_time": "2024-11-06T15:24:29.054Z"
   },
   {
    "duration": 50,
    "start_time": "2024-11-06T15:24:29.065Z"
   },
   {
    "duration": 9,
    "start_time": "2024-11-06T15:24:29.116Z"
   },
   {
    "duration": 19,
    "start_time": "2024-11-06T15:24:29.126Z"
   },
   {
    "duration": 12,
    "start_time": "2024-11-06T15:24:29.147Z"
   },
   {
    "duration": 3,
    "start_time": "2024-11-06T15:24:29.161Z"
   },
   {
    "duration": 7,
    "start_time": "2024-11-06T15:24:29.166Z"
   },
   {
    "duration": 41,
    "start_time": "2024-11-06T15:24:29.174Z"
   },
   {
    "duration": 4,
    "start_time": "2024-11-06T15:24:29.220Z"
   },
   {
    "duration": 6,
    "start_time": "2024-11-06T15:24:29.225Z"
   },
   {
    "duration": 26,
    "start_time": "2024-11-06T15:24:29.233Z"
   },
   {
    "duration": 6,
    "start_time": "2024-11-06T15:24:29.261Z"
   },
   {
    "duration": 4,
    "start_time": "2024-11-06T15:24:29.269Z"
   },
   {
    "duration": 39,
    "start_time": "2024-11-06T15:24:29.274Z"
   },
   {
    "duration": 6,
    "start_time": "2024-11-06T15:24:29.315Z"
   },
   {
    "duration": 6,
    "start_time": "2024-11-06T15:24:29.322Z"
   },
   {
    "duration": 7,
    "start_time": "2024-11-06T15:24:29.329Z"
   },
   {
    "duration": 5,
    "start_time": "2024-11-06T15:24:29.337Z"
   },
   {
    "duration": 13,
    "start_time": "2024-11-06T15:24:29.343Z"
   },
   {
    "duration": 52,
    "start_time": "2024-11-06T15:24:29.358Z"
   },
   {
    "duration": 45,
    "start_time": "2024-11-06T15:24:29.411Z"
   },
   {
    "duration": 4,
    "start_time": "2024-11-06T15:24:29.458Z"
   },
   {
    "duration": 18,
    "start_time": "2024-11-06T15:24:29.464Z"
   },
   {
    "duration": 27,
    "start_time": "2024-11-06T15:24:29.483Z"
   },
   {
    "duration": 5,
    "start_time": "2024-11-06T15:24:29.512Z"
   },
   {
    "duration": 5,
    "start_time": "2024-11-06T15:24:29.518Z"
   },
   {
    "duration": 5,
    "start_time": "2024-11-06T15:24:29.525Z"
   },
   {
    "duration": 5,
    "start_time": "2024-11-06T15:24:29.531Z"
   },
   {
    "duration": 12,
    "start_time": "2024-11-06T15:24:29.537Z"
   },
   {
    "duration": 5,
    "start_time": "2024-11-06T15:24:29.550Z"
   },
   {
    "duration": 231,
    "start_time": "2024-11-06T15:24:29.557Z"
   },
   {
    "duration": 19,
    "start_time": "2024-11-06T15:24:29.790Z"
   },
   {
    "duration": 24,
    "start_time": "2024-11-06T15:24:29.811Z"
   },
   {
    "duration": 392,
    "start_time": "2024-11-06T15:24:29.837Z"
   },
   {
    "duration": 2,
    "start_time": "2024-11-06T15:24:30.231Z"
   },
   {
    "duration": 3,
    "start_time": "2024-11-06T15:24:30.235Z"
   },
   {
    "duration": 26,
    "start_time": "2024-11-06T15:24:30.240Z"
   },
   {
    "duration": 14,
    "start_time": "2024-11-06T15:24:30.268Z"
   },
   {
    "duration": 2891,
    "start_time": "2024-11-06T15:24:30.309Z"
   },
   {
    "duration": 14,
    "start_time": "2024-11-06T15:24:33.209Z"
   },
   {
    "duration": 1227,
    "start_time": "2024-11-06T15:24:33.225Z"
   },
   {
    "duration": 2,
    "start_time": "2024-11-06T15:24:34.454Z"
   },
   {
    "duration": 7,
    "start_time": "2024-11-06T15:24:34.458Z"
   },
   {
    "duration": 6,
    "start_time": "2024-11-06T15:24:34.466Z"
   },
   {
    "duration": 772,
    "start_time": "2024-11-06T15:24:34.474Z"
   },
   {
    "duration": 4206,
    "start_time": "2024-11-06T15:24:35.248Z"
   },
   {
    "duration": 759,
    "start_time": "2024-11-06T15:24:39.456Z"
   },
   {
    "duration": 3,
    "start_time": "2024-11-06T15:24:40.216Z"
   },
   {
    "duration": 8,
    "start_time": "2024-11-06T15:24:59.993Z"
   },
   {
    "duration": 156,
    "start_time": "2024-11-06T15:33:21.872Z"
   },
   {
    "duration": 1102,
    "start_time": "2024-11-06T15:35:41.332Z"
   },
   {
    "duration": 1067,
    "start_time": "2024-11-06T15:35:50.750Z"
   },
   {
    "duration": 127,
    "start_time": "2024-11-06T15:35:51.820Z"
   },
   {
    "duration": 12,
    "start_time": "2024-11-06T15:35:51.949Z"
   },
   {
    "duration": 7,
    "start_time": "2024-11-06T15:35:51.963Z"
   },
   {
    "duration": 8,
    "start_time": "2024-11-06T15:35:51.972Z"
   },
   {
    "duration": 7,
    "start_time": "2024-11-06T15:35:51.981Z"
   },
   {
    "duration": 26,
    "start_time": "2024-11-06T15:35:51.990Z"
   },
   {
    "duration": 8,
    "start_time": "2024-11-06T15:35:52.017Z"
   },
   {
    "duration": 16,
    "start_time": "2024-11-06T15:35:52.027Z"
   },
   {
    "duration": 7,
    "start_time": "2024-11-06T15:35:52.046Z"
   },
   {
    "duration": 4,
    "start_time": "2024-11-06T15:35:52.054Z"
   },
   {
    "duration": 4,
    "start_time": "2024-11-06T15:35:52.059Z"
   },
   {
    "duration": 8,
    "start_time": "2024-11-06T15:35:52.065Z"
   },
   {
    "duration": 4,
    "start_time": "2024-11-06T15:35:52.110Z"
   },
   {
    "duration": 9,
    "start_time": "2024-11-06T15:35:52.115Z"
   },
   {
    "duration": 12,
    "start_time": "2024-11-06T15:35:52.126Z"
   },
   {
    "duration": 7,
    "start_time": "2024-11-06T15:35:52.140Z"
   },
   {
    "duration": 4,
    "start_time": "2024-11-06T15:35:52.149Z"
   },
   {
    "duration": 6,
    "start_time": "2024-11-06T15:35:52.155Z"
   },
   {
    "duration": 48,
    "start_time": "2024-11-06T15:35:52.162Z"
   },
   {
    "duration": 11,
    "start_time": "2024-11-06T15:35:52.211Z"
   },
   {
    "duration": 9,
    "start_time": "2024-11-06T15:35:52.224Z"
   },
   {
    "duration": 20,
    "start_time": "2024-11-06T15:35:52.235Z"
   },
   {
    "duration": 14,
    "start_time": "2024-11-06T15:35:52.257Z"
   },
   {
    "duration": 35,
    "start_time": "2024-11-06T15:35:52.274Z"
   },
   {
    "duration": 7,
    "start_time": "2024-11-06T15:35:52.311Z"
   },
   {
    "duration": 9,
    "start_time": "2024-11-06T15:35:52.320Z"
   },
   {
    "duration": 5,
    "start_time": "2024-11-06T15:35:52.334Z"
   },
   {
    "duration": 5,
    "start_time": "2024-11-06T15:35:52.340Z"
   },
   {
    "duration": 27,
    "start_time": "2024-11-06T15:35:52.347Z"
   },
   {
    "duration": 39,
    "start_time": "2024-11-06T15:35:52.376Z"
   },
   {
    "duration": 4,
    "start_time": "2024-11-06T15:35:52.417Z"
   },
   {
    "duration": 4,
    "start_time": "2024-11-06T15:35:52.423Z"
   },
   {
    "duration": 7,
    "start_time": "2024-11-06T15:35:52.429Z"
   },
   {
    "duration": 5,
    "start_time": "2024-11-06T15:35:52.438Z"
   },
   {
    "duration": 7,
    "start_time": "2024-11-06T15:35:52.444Z"
   },
   {
    "duration": 4,
    "start_time": "2024-11-06T15:35:52.453Z"
   },
   {
    "duration": 54,
    "start_time": "2024-11-06T15:35:52.458Z"
   },
   {
    "duration": 13,
    "start_time": "2024-11-06T15:35:52.515Z"
   },
   {
    "duration": 45,
    "start_time": "2024-11-06T15:35:52.530Z"
   },
   {
    "duration": 4,
    "start_time": "2024-11-06T15:35:52.577Z"
   },
   {
    "duration": 38,
    "start_time": "2024-11-06T15:35:52.583Z"
   },
   {
    "duration": 2,
    "start_time": "2024-11-06T15:35:52.622Z"
   },
   {
    "duration": 4,
    "start_time": "2024-11-06T15:35:52.626Z"
   },
   {
    "duration": 5,
    "start_time": "2024-11-06T15:35:52.633Z"
   },
   {
    "duration": 5,
    "start_time": "2024-11-06T15:35:52.640Z"
   },
   {
    "duration": 4,
    "start_time": "2024-11-06T15:35:52.646Z"
   },
   {
    "duration": 12,
    "start_time": "2024-11-06T15:35:52.652Z"
   },
   {
    "duration": 46,
    "start_time": "2024-11-06T15:35:52.665Z"
   },
   {
    "duration": 191,
    "start_time": "2024-11-06T15:35:52.713Z"
   },
   {
    "duration": 8,
    "start_time": "2024-11-06T15:35:52.906Z"
   },
   {
    "duration": 23,
    "start_time": "2024-11-06T15:35:52.916Z"
   },
   {
    "duration": 420,
    "start_time": "2024-11-06T15:35:52.941Z"
   },
   {
    "duration": 3,
    "start_time": "2024-11-06T15:35:53.363Z"
   },
   {
    "duration": 3,
    "start_time": "2024-11-06T15:35:53.368Z"
   },
   {
    "duration": 38,
    "start_time": "2024-11-06T15:35:53.373Z"
   },
   {
    "duration": 12,
    "start_time": "2024-11-06T15:35:53.413Z"
   },
   {
    "duration": 158,
    "start_time": "2024-11-06T15:44:13.658Z"
   },
   {
    "duration": 1069,
    "start_time": "2024-11-06T15:44:19.268Z"
   },
   {
    "duration": 127,
    "start_time": "2024-11-06T15:44:20.339Z"
   },
   {
    "duration": 12,
    "start_time": "2024-11-06T15:44:20.468Z"
   },
   {
    "duration": 6,
    "start_time": "2024-11-06T15:44:20.483Z"
   },
   {
    "duration": 7,
    "start_time": "2024-11-06T15:44:20.491Z"
   },
   {
    "duration": 6,
    "start_time": "2024-11-06T15:44:20.509Z"
   },
   {
    "duration": 10,
    "start_time": "2024-11-06T15:44:20.517Z"
   },
   {
    "duration": 7,
    "start_time": "2024-11-06T15:44:20.529Z"
   },
   {
    "duration": 16,
    "start_time": "2024-11-06T15:44:20.538Z"
   },
   {
    "duration": 7,
    "start_time": "2024-11-06T15:44:20.558Z"
   },
   {
    "duration": 5,
    "start_time": "2024-11-06T15:44:20.567Z"
   },
   {
    "duration": 4,
    "start_time": "2024-11-06T15:44:20.610Z"
   },
   {
    "duration": 9,
    "start_time": "2024-11-06T15:44:20.616Z"
   },
   {
    "duration": 4,
    "start_time": "2024-11-06T15:44:20.627Z"
   },
   {
    "duration": 7,
    "start_time": "2024-11-06T15:44:20.633Z"
   },
   {
    "duration": 11,
    "start_time": "2024-11-06T15:44:20.641Z"
   },
   {
    "duration": 7,
    "start_time": "2024-11-06T15:44:20.653Z"
   },
   {
    "duration": 3,
    "start_time": "2024-11-06T15:44:20.662Z"
   },
   {
    "duration": 46,
    "start_time": "2024-11-06T15:44:20.667Z"
   },
   {
    "duration": 9,
    "start_time": "2024-11-06T15:44:20.715Z"
   },
   {
    "duration": 9,
    "start_time": "2024-11-06T15:44:20.726Z"
   },
   {
    "duration": 9,
    "start_time": "2024-11-06T15:44:20.736Z"
   },
   {
    "duration": 20,
    "start_time": "2024-11-06T15:44:20.747Z"
   },
   {
    "duration": 47,
    "start_time": "2024-11-06T15:44:20.769Z"
   },
   {
    "duration": 3,
    "start_time": "2024-11-06T15:44:20.818Z"
   },
   {
    "duration": 5,
    "start_time": "2024-11-06T15:44:20.823Z"
   },
   {
    "duration": 8,
    "start_time": "2024-11-06T15:44:20.830Z"
   },
   {
    "duration": 5,
    "start_time": "2024-11-06T15:44:20.844Z"
   },
   {
    "duration": 5,
    "start_time": "2024-11-06T15:44:20.850Z"
   },
   {
    "duration": 64,
    "start_time": "2024-11-06T15:44:20.857Z"
   },
   {
    "duration": 7,
    "start_time": "2024-11-06T15:44:20.922Z"
   },
   {
    "duration": 4,
    "start_time": "2024-11-06T15:44:20.931Z"
   },
   {
    "duration": 5,
    "start_time": "2024-11-06T15:44:20.936Z"
   },
   {
    "duration": 7,
    "start_time": "2024-11-06T15:44:20.942Z"
   },
   {
    "duration": 5,
    "start_time": "2024-11-06T15:44:20.951Z"
   },
   {
    "duration": 7,
    "start_time": "2024-11-06T15:44:20.957Z"
   },
   {
    "duration": 5,
    "start_time": "2024-11-06T15:44:20.965Z"
   },
   {
    "duration": 17,
    "start_time": "2024-11-06T15:44:21.009Z"
   },
   {
    "duration": 13,
    "start_time": "2024-11-06T15:44:21.027Z"
   },
   {
    "duration": 69,
    "start_time": "2024-11-06T15:44:21.042Z"
   },
   {
    "duration": 4,
    "start_time": "2024-11-06T15:44:21.113Z"
   },
   {
    "duration": 19,
    "start_time": "2024-11-06T15:44:21.119Z"
   },
   {
    "duration": 3,
    "start_time": "2024-11-06T15:44:21.139Z"
   },
   {
    "duration": 5,
    "start_time": "2024-11-06T15:44:21.143Z"
   },
   {
    "duration": 5,
    "start_time": "2024-11-06T15:44:21.150Z"
   },
   {
    "duration": 5,
    "start_time": "2024-11-06T15:44:21.158Z"
   },
   {
    "duration": 42,
    "start_time": "2024-11-06T15:44:21.166Z"
   },
   {
    "duration": 13,
    "start_time": "2024-11-06T15:44:21.210Z"
   },
   {
    "duration": 5,
    "start_time": "2024-11-06T15:44:21.225Z"
   },
   {
    "duration": 203,
    "start_time": "2024-11-06T15:44:21.232Z"
   },
   {
    "duration": 7,
    "start_time": "2024-11-06T15:44:21.437Z"
   },
   {
    "duration": 24,
    "start_time": "2024-11-06T15:44:21.446Z"
   },
   {
    "duration": 404,
    "start_time": "2024-11-06T15:44:21.471Z"
   },
   {
    "duration": 4,
    "start_time": "2024-11-06T15:44:21.877Z"
   },
   {
    "duration": 3,
    "start_time": "2024-11-06T15:44:21.882Z"
   },
   {
    "duration": 38,
    "start_time": "2024-11-06T15:44:21.887Z"
   },
   {
    "duration": 13,
    "start_time": "2024-11-06T15:44:21.926Z"
   },
   {
    "duration": 1132,
    "start_time": "2024-11-06T15:45:44.007Z"
   },
   {
    "duration": 132,
    "start_time": "2024-11-06T15:45:45.141Z"
   },
   {
    "duration": 12,
    "start_time": "2024-11-06T15:45:45.275Z"
   },
   {
    "duration": 7,
    "start_time": "2024-11-06T15:45:45.288Z"
   },
   {
    "duration": 7,
    "start_time": "2024-11-06T15:45:45.309Z"
   },
   {
    "duration": 5,
    "start_time": "2024-11-06T15:45:45.318Z"
   },
   {
    "duration": 10,
    "start_time": "2024-11-06T15:45:45.325Z"
   },
   {
    "duration": 8,
    "start_time": "2024-11-06T15:45:45.337Z"
   },
   {
    "duration": 16,
    "start_time": "2024-11-06T15:45:45.347Z"
   },
   {
    "duration": 9,
    "start_time": "2024-11-06T15:45:45.365Z"
   },
   {
    "duration": 4,
    "start_time": "2024-11-06T15:45:45.409Z"
   },
   {
    "duration": 4,
    "start_time": "2024-11-06T15:45:45.415Z"
   },
   {
    "duration": 12,
    "start_time": "2024-11-06T15:45:45.421Z"
   },
   {
    "duration": 5,
    "start_time": "2024-11-06T15:45:45.439Z"
   },
   {
    "duration": 7,
    "start_time": "2024-11-06T15:45:45.446Z"
   },
   {
    "duration": 13,
    "start_time": "2024-11-06T15:45:45.455Z"
   },
   {
    "duration": 40,
    "start_time": "2024-11-06T15:45:45.469Z"
   },
   {
    "duration": 4,
    "start_time": "2024-11-06T15:45:45.510Z"
   },
   {
    "duration": 7,
    "start_time": "2024-11-06T15:45:45.516Z"
   },
   {
    "duration": 10,
    "start_time": "2024-11-06T15:45:45.524Z"
   },
   {
    "duration": 8,
    "start_time": "2024-11-06T15:45:45.536Z"
   },
   {
    "duration": 8,
    "start_time": "2024-11-06T15:45:45.546Z"
   },
   {
    "duration": 55,
    "start_time": "2024-11-06T15:45:45.555Z"
   },
   {
    "duration": 15,
    "start_time": "2024-11-06T15:45:45.612Z"
   },
   {
    "duration": 3,
    "start_time": "2024-11-06T15:45:45.628Z"
   },
   {
    "duration": 7,
    "start_time": "2024-11-06T15:45:45.633Z"
   },
   {
    "duration": 7,
    "start_time": "2024-11-06T15:45:45.643Z"
   },
   {
    "duration": 4,
    "start_time": "2024-11-06T15:45:45.652Z"
   },
   {
    "duration": 6,
    "start_time": "2024-11-06T15:45:45.657Z"
   },
   {
    "duration": 64,
    "start_time": "2024-11-06T15:45:45.664Z"
   },
   {
    "duration": 6,
    "start_time": "2024-11-06T15:45:45.730Z"
   },
   {
    "duration": 4,
    "start_time": "2024-11-06T15:45:45.738Z"
   },
   {
    "duration": 5,
    "start_time": "2024-11-06T15:45:45.743Z"
   },
   {
    "duration": 7,
    "start_time": "2024-11-06T15:45:45.750Z"
   },
   {
    "duration": 6,
    "start_time": "2024-11-06T15:45:45.759Z"
   },
   {
    "duration": 6,
    "start_time": "2024-11-06T15:45:45.768Z"
   },
   {
    "duration": 7,
    "start_time": "2024-11-06T15:45:45.809Z"
   },
   {
    "duration": 13,
    "start_time": "2024-11-06T15:45:45.818Z"
   },
   {
    "duration": 13,
    "start_time": "2024-11-06T15:45:45.833Z"
   },
   {
    "duration": 76,
    "start_time": "2024-11-06T15:45:45.848Z"
   },
   {
    "duration": 4,
    "start_time": "2024-11-06T15:45:45.929Z"
   },
   {
    "duration": 18,
    "start_time": "2024-11-06T15:45:45.935Z"
   },
   {
    "duration": 2,
    "start_time": "2024-11-06T15:45:45.955Z"
   },
   {
    "duration": 5,
    "start_time": "2024-11-06T15:45:45.959Z"
   },
   {
    "duration": 6,
    "start_time": "2024-11-06T15:45:45.966Z"
   },
   {
    "duration": 6,
    "start_time": "2024-11-06T15:45:45.973Z"
   },
   {
    "duration": 6,
    "start_time": "2024-11-06T15:45:46.010Z"
   },
   {
    "duration": 12,
    "start_time": "2024-11-06T15:45:46.018Z"
   },
   {
    "duration": 6,
    "start_time": "2024-11-06T15:45:46.032Z"
   },
   {
    "duration": 211,
    "start_time": "2024-11-06T15:45:46.040Z"
   },
   {
    "duration": 8,
    "start_time": "2024-11-06T15:45:46.253Z"
   },
   {
    "duration": 25,
    "start_time": "2024-11-06T15:45:46.263Z"
   },
   {
    "duration": 412,
    "start_time": "2024-11-06T15:45:46.289Z"
   },
   {
    "duration": 7,
    "start_time": "2024-11-06T15:45:46.703Z"
   },
   {
    "duration": 3,
    "start_time": "2024-11-06T15:45:46.711Z"
   },
   {
    "duration": 24,
    "start_time": "2024-11-06T15:45:46.716Z"
   },
   {
    "duration": 13,
    "start_time": "2024-11-06T15:45:46.742Z"
   },
   {
    "duration": 1063,
    "start_time": "2024-11-06T15:46:35.763Z"
   },
   {
    "duration": 131,
    "start_time": "2024-11-06T15:46:36.829Z"
   },
   {
    "duration": 13,
    "start_time": "2024-11-06T15:46:36.962Z"
   },
   {
    "duration": 8,
    "start_time": "2024-11-06T15:46:36.979Z"
   },
   {
    "duration": 20,
    "start_time": "2024-11-06T15:46:36.991Z"
   },
   {
    "duration": 6,
    "start_time": "2024-11-06T15:46:37.015Z"
   },
   {
    "duration": 12,
    "start_time": "2024-11-06T15:46:37.023Z"
   },
   {
    "duration": 10,
    "start_time": "2024-11-06T15:46:37.037Z"
   },
   {
    "duration": 18,
    "start_time": "2024-11-06T15:46:37.048Z"
   },
   {
    "duration": 11,
    "start_time": "2024-11-06T15:46:37.071Z"
   },
   {
    "duration": 7,
    "start_time": "2024-11-06T15:46:37.110Z"
   },
   {
    "duration": 5,
    "start_time": "2024-11-06T15:46:37.118Z"
   },
   {
    "duration": 9,
    "start_time": "2024-11-06T15:46:37.125Z"
   },
   {
    "duration": 4,
    "start_time": "2024-11-06T15:46:37.137Z"
   },
   {
    "duration": 8,
    "start_time": "2024-11-06T15:46:37.143Z"
   },
   {
    "duration": 12,
    "start_time": "2024-11-06T15:46:37.154Z"
   },
   {
    "duration": 40,
    "start_time": "2024-11-06T15:46:37.170Z"
   },
   {
    "duration": 7,
    "start_time": "2024-11-06T15:46:37.213Z"
   },
   {
    "duration": 12,
    "start_time": "2024-11-06T15:46:37.222Z"
   },
   {
    "duration": 13,
    "start_time": "2024-11-06T15:46:37.238Z"
   },
   {
    "duration": 13,
    "start_time": "2024-11-06T15:46:37.254Z"
   },
   {
    "duration": 22,
    "start_time": "2024-11-06T15:46:37.269Z"
   },
   {
    "duration": 40,
    "start_time": "2024-11-06T15:46:37.293Z"
   },
   {
    "duration": 18,
    "start_time": "2024-11-06T15:46:37.335Z"
   },
   {
    "duration": 3,
    "start_time": "2024-11-06T15:46:37.355Z"
   },
   {
    "duration": 8,
    "start_time": "2024-11-06T15:46:37.360Z"
   },
   {
    "duration": 12,
    "start_time": "2024-11-06T15:46:37.370Z"
   },
   {
    "duration": 6,
    "start_time": "2024-11-06T15:46:37.418Z"
   },
   {
    "duration": 6,
    "start_time": "2024-11-06T15:46:37.426Z"
   },
   {
    "duration": 27,
    "start_time": "2024-11-06T15:46:37.434Z"
   },
   {
    "duration": 7,
    "start_time": "2024-11-06T15:46:37.463Z"
   },
   {
    "duration": 4,
    "start_time": "2024-11-06T15:46:37.472Z"
   },
   {
    "duration": 34,
    "start_time": "2024-11-06T15:46:37.478Z"
   },
   {
    "duration": 7,
    "start_time": "2024-11-06T15:46:37.514Z"
   },
   {
    "duration": 6,
    "start_time": "2024-11-06T15:46:37.524Z"
   },
   {
    "duration": 5,
    "start_time": "2024-11-06T15:46:37.534Z"
   },
   {
    "duration": 4,
    "start_time": "2024-11-06T15:46:37.541Z"
   },
   {
    "duration": 12,
    "start_time": "2024-11-06T15:46:37.548Z"
   },
   {
    "duration": 49,
    "start_time": "2024-11-06T15:46:37.561Z"
   },
   {
    "duration": 49,
    "start_time": "2024-11-06T15:46:37.612Z"
   },
   {
    "duration": 5,
    "start_time": "2024-11-06T15:46:37.664Z"
   },
   {
    "duration": 47,
    "start_time": "2024-11-06T15:46:37.670Z"
   },
   {
    "duration": 4,
    "start_time": "2024-11-06T15:46:37.725Z"
   },
   {
    "duration": 5,
    "start_time": "2024-11-06T15:46:37.741Z"
   },
   {
    "duration": 7,
    "start_time": "2024-11-06T15:46:37.749Z"
   },
   {
    "duration": 9,
    "start_time": "2024-11-06T15:46:37.759Z"
   },
   {
    "duration": 5,
    "start_time": "2024-11-06T15:46:37.770Z"
   },
   {
    "duration": 14,
    "start_time": "2024-11-06T15:46:37.777Z"
   },
   {
    "duration": 17,
    "start_time": "2024-11-06T15:46:37.793Z"
   },
   {
    "duration": 234,
    "start_time": "2024-11-06T15:46:37.813Z"
   },
   {
    "duration": 12,
    "start_time": "2024-11-06T15:46:38.049Z"
   },
   {
    "duration": 44,
    "start_time": "2024-11-06T15:46:38.064Z"
   },
   {
    "duration": 412,
    "start_time": "2024-11-06T15:46:38.111Z"
   },
   {
    "duration": 3,
    "start_time": "2024-11-06T15:46:38.525Z"
   },
   {
    "duration": 2,
    "start_time": "2024-11-06T15:46:38.530Z"
   },
   {
    "duration": 27,
    "start_time": "2024-11-06T15:46:38.534Z"
   },
   {
    "duration": 16,
    "start_time": "2024-11-06T15:46:38.563Z"
   },
   {
    "duration": 1054,
    "start_time": "2024-11-06T15:47:56.061Z"
   },
   {
    "duration": 142,
    "start_time": "2024-11-06T15:47:57.119Z"
   },
   {
    "duration": 15,
    "start_time": "2024-11-06T15:47:57.263Z"
   },
   {
    "duration": 22,
    "start_time": "2024-11-06T15:47:57.280Z"
   },
   {
    "duration": 11,
    "start_time": "2024-11-06T15:47:57.306Z"
   },
   {
    "duration": 6,
    "start_time": "2024-11-06T15:47:57.321Z"
   },
   {
    "duration": 15,
    "start_time": "2024-11-06T15:47:57.328Z"
   },
   {
    "duration": 9,
    "start_time": "2024-11-06T15:47:57.345Z"
   },
   {
    "duration": 16,
    "start_time": "2024-11-06T15:47:57.356Z"
   },
   {
    "duration": 9,
    "start_time": "2024-11-06T15:47:57.374Z"
   },
   {
    "duration": 26,
    "start_time": "2024-11-06T15:47:57.385Z"
   },
   {
    "duration": 4,
    "start_time": "2024-11-06T15:47:57.413Z"
   },
   {
    "duration": 10,
    "start_time": "2024-11-06T15:47:57.419Z"
   },
   {
    "duration": 3,
    "start_time": "2024-11-06T15:47:57.433Z"
   },
   {
    "duration": 7,
    "start_time": "2024-11-06T15:47:57.438Z"
   },
   {
    "duration": 11,
    "start_time": "2024-11-06T15:47:57.447Z"
   },
   {
    "duration": 8,
    "start_time": "2024-11-06T15:47:57.459Z"
   },
   {
    "duration": 4,
    "start_time": "2024-11-06T15:47:57.471Z"
   },
   {
    "duration": 39,
    "start_time": "2024-11-06T15:47:57.477Z"
   },
   {
    "duration": 15,
    "start_time": "2024-11-06T15:47:57.521Z"
   },
   {
    "duration": 10,
    "start_time": "2024-11-06T15:47:57.539Z"
   },
   {
    "duration": 9,
    "start_time": "2024-11-06T15:47:57.551Z"
   },
   {
    "duration": 22,
    "start_time": "2024-11-06T15:47:57.562Z"
   },
   {
    "duration": 34,
    "start_time": "2024-11-06T15:47:57.586Z"
   },
   {
    "duration": 4,
    "start_time": "2024-11-06T15:47:57.622Z"
   },
   {
    "duration": 7,
    "start_time": "2024-11-06T15:47:57.627Z"
   },
   {
    "duration": 8,
    "start_time": "2024-11-06T15:47:57.636Z"
   },
   {
    "duration": 4,
    "start_time": "2024-11-06T15:47:57.645Z"
   },
   {
    "duration": 6,
    "start_time": "2024-11-06T15:47:57.651Z"
   },
   {
    "duration": 68,
    "start_time": "2024-11-06T15:47:57.659Z"
   },
   {
    "duration": 14,
    "start_time": "2024-11-06T15:47:57.729Z"
   },
   {
    "duration": 4,
    "start_time": "2024-11-06T15:47:57.744Z"
   },
   {
    "duration": 5,
    "start_time": "2024-11-06T15:47:57.750Z"
   },
   {
    "duration": 6,
    "start_time": "2024-11-06T15:47:57.757Z"
   },
   {
    "duration": 7,
    "start_time": "2024-11-06T15:47:57.765Z"
   },
   {
    "duration": 7,
    "start_time": "2024-11-06T15:47:57.774Z"
   },
   {
    "duration": 31,
    "start_time": "2024-11-06T15:47:57.783Z"
   },
   {
    "duration": 16,
    "start_time": "2024-11-06T15:47:57.816Z"
   },
   {
    "duration": 13,
    "start_time": "2024-11-06T15:47:57.835Z"
   },
   {
    "duration": 65,
    "start_time": "2024-11-06T15:47:57.850Z"
   },
   {
    "duration": 4,
    "start_time": "2024-11-06T15:47:57.921Z"
   },
   {
    "duration": 18,
    "start_time": "2024-11-06T15:47:57.927Z"
   },
   {
    "duration": 2,
    "start_time": "2024-11-06T15:47:57.948Z"
   },
   {
    "duration": 5,
    "start_time": "2024-11-06T15:47:57.952Z"
   },
   {
    "duration": 5,
    "start_time": "2024-11-06T15:47:57.960Z"
   },
   {
    "duration": 7,
    "start_time": "2024-11-06T15:47:57.966Z"
   },
   {
    "duration": 37,
    "start_time": "2024-11-06T15:47:57.975Z"
   },
   {
    "duration": 13,
    "start_time": "2024-11-06T15:47:58.014Z"
   },
   {
    "duration": 5,
    "start_time": "2024-11-06T15:47:58.029Z"
   },
   {
    "duration": 217,
    "start_time": "2024-11-06T15:47:58.036Z"
   },
   {
    "duration": 7,
    "start_time": "2024-11-06T15:47:58.255Z"
   },
   {
    "duration": 23,
    "start_time": "2024-11-06T15:47:58.264Z"
   },
   {
    "duration": 426,
    "start_time": "2024-11-06T15:47:58.289Z"
   },
   {
    "duration": 2,
    "start_time": "2024-11-06T15:47:58.719Z"
   },
   {
    "duration": 2,
    "start_time": "2024-11-06T15:47:58.723Z"
   },
   {
    "duration": 32,
    "start_time": "2024-11-06T15:47:58.728Z"
   },
   {
    "duration": 14,
    "start_time": "2024-11-06T15:47:58.762Z"
   },
   {
    "duration": 1114,
    "start_time": "2024-11-06T15:53:24.416Z"
   },
   {
    "duration": 127,
    "start_time": "2024-11-06T15:53:25.532Z"
   },
   {
    "duration": 12,
    "start_time": "2024-11-06T15:53:25.661Z"
   },
   {
    "duration": 7,
    "start_time": "2024-11-06T15:53:25.675Z"
   },
   {
    "duration": 11,
    "start_time": "2024-11-06T15:53:25.689Z"
   },
   {
    "duration": 10,
    "start_time": "2024-11-06T15:53:25.702Z"
   },
   {
    "duration": 11,
    "start_time": "2024-11-06T15:53:25.714Z"
   },
   {
    "duration": 10,
    "start_time": "2024-11-06T15:53:25.727Z"
   },
   {
    "duration": 17,
    "start_time": "2024-11-06T15:53:25.739Z"
   },
   {
    "duration": 7,
    "start_time": "2024-11-06T15:53:25.758Z"
   },
   {
    "duration": 4,
    "start_time": "2024-11-06T15:53:25.767Z"
   },
   {
    "duration": 4,
    "start_time": "2024-11-06T15:53:25.811Z"
   },
   {
    "duration": 18,
    "start_time": "2024-11-06T15:53:25.817Z"
   },
   {
    "duration": 3,
    "start_time": "2024-11-06T15:53:25.840Z"
   },
   {
    "duration": 10,
    "start_time": "2024-11-06T15:53:25.845Z"
   },
   {
    "duration": 12,
    "start_time": "2024-11-06T15:53:25.857Z"
   },
   {
    "duration": 10,
    "start_time": "2024-11-06T15:53:25.871Z"
   },
   {
    "duration": 4,
    "start_time": "2024-11-06T15:53:25.882Z"
   },
   {
    "duration": 23,
    "start_time": "2024-11-06T15:53:25.888Z"
   },
   {
    "duration": 12,
    "start_time": "2024-11-06T15:53:25.913Z"
   },
   {
    "duration": 11,
    "start_time": "2024-11-06T15:53:25.927Z"
   },
   {
    "duration": 12,
    "start_time": "2024-11-06T15:53:25.940Z"
   },
   {
    "duration": 28,
    "start_time": "2024-11-06T15:53:25.954Z"
   },
   {
    "duration": 39,
    "start_time": "2024-11-06T15:53:25.984Z"
   },
   {
    "duration": 6,
    "start_time": "2024-11-06T15:53:26.026Z"
   },
   {
    "duration": 12,
    "start_time": "2024-11-06T15:53:26.034Z"
   },
   {
    "duration": 16,
    "start_time": "2024-11-06T15:53:26.049Z"
   },
   {
    "duration": 11,
    "start_time": "2024-11-06T15:53:26.067Z"
   },
   {
    "duration": 7,
    "start_time": "2024-11-06T15:53:26.083Z"
   },
   {
    "duration": 44,
    "start_time": "2024-11-06T15:53:26.112Z"
   },
   {
    "duration": 11,
    "start_time": "2024-11-06T15:53:26.162Z"
   },
   {
    "duration": 10,
    "start_time": "2024-11-06T15:53:26.178Z"
   },
   {
    "duration": 8,
    "start_time": "2024-11-06T15:53:26.190Z"
   },
   {
    "duration": 10,
    "start_time": "2024-11-06T15:53:26.200Z"
   },
   {
    "duration": 6,
    "start_time": "2024-11-06T15:53:26.213Z"
   },
   {
    "duration": 16,
    "start_time": "2024-11-06T15:53:26.221Z"
   },
   {
    "duration": 4,
    "start_time": "2024-11-06T15:53:26.245Z"
   },
   {
    "duration": 19,
    "start_time": "2024-11-06T15:53:26.251Z"
   },
   {
    "duration": 21,
    "start_time": "2024-11-06T15:53:26.272Z"
   },
   {
    "duration": 76,
    "start_time": "2024-11-06T15:53:26.295Z"
   },
   {
    "duration": 4,
    "start_time": "2024-11-06T15:53:26.378Z"
   },
   {
    "duration": 31,
    "start_time": "2024-11-06T15:53:26.384Z"
   },
   {
    "duration": 2,
    "start_time": "2024-11-06T15:53:26.417Z"
   },
   {
    "duration": 11,
    "start_time": "2024-11-06T15:53:26.421Z"
   },
   {
    "duration": 7,
    "start_time": "2024-11-06T15:53:26.435Z"
   },
   {
    "duration": 7,
    "start_time": "2024-11-06T15:53:26.444Z"
   },
   {
    "duration": 5,
    "start_time": "2024-11-06T15:53:26.453Z"
   },
   {
    "duration": 13,
    "start_time": "2024-11-06T15:53:26.460Z"
   },
   {
    "duration": 6,
    "start_time": "2024-11-06T15:53:26.477Z"
   },
   {
    "duration": 238,
    "start_time": "2024-11-06T15:53:26.510Z"
   },
   {
    "duration": 6,
    "start_time": "2024-11-06T15:53:26.750Z"
   },
   {
    "duration": 24,
    "start_time": "2024-11-06T15:53:26.758Z"
   },
   {
    "duration": 515,
    "start_time": "2024-11-06T15:53:26.784Z"
   },
   {
    "duration": 3,
    "start_time": "2024-11-06T15:53:27.301Z"
   },
   {
    "duration": 3,
    "start_time": "2024-11-06T15:53:27.309Z"
   },
   {
    "duration": 36,
    "start_time": "2024-11-06T15:53:27.315Z"
   },
   {
    "duration": 15,
    "start_time": "2024-11-06T15:53:27.353Z"
   },
   {
    "duration": 1083,
    "start_time": "2024-11-06T15:55:24.094Z"
   },
   {
    "duration": 127,
    "start_time": "2024-11-06T15:55:25.179Z"
   },
   {
    "duration": 12,
    "start_time": "2024-11-06T15:55:25.308Z"
   },
   {
    "duration": 7,
    "start_time": "2024-11-06T15:55:25.322Z"
   },
   {
    "duration": 7,
    "start_time": "2024-11-06T15:55:25.333Z"
   },
   {
    "duration": 6,
    "start_time": "2024-11-06T15:55:25.341Z"
   },
   {
    "duration": 10,
    "start_time": "2024-11-06T15:55:25.349Z"
   },
   {
    "duration": 13,
    "start_time": "2024-11-06T15:55:25.362Z"
   },
   {
    "duration": 52,
    "start_time": "2024-11-06T15:55:25.377Z"
   },
   {
    "duration": 10,
    "start_time": "2024-11-06T15:55:25.431Z"
   },
   {
    "duration": 4,
    "start_time": "2024-11-06T15:55:25.444Z"
   },
   {
    "duration": 4,
    "start_time": "2024-11-06T15:55:25.449Z"
   },
   {
    "duration": 8,
    "start_time": "2024-11-06T15:55:25.454Z"
   },
   {
    "duration": 3,
    "start_time": "2024-11-06T15:55:25.466Z"
   },
   {
    "duration": 39,
    "start_time": "2024-11-06T15:55:25.471Z"
   },
   {
    "duration": 11,
    "start_time": "2024-11-06T15:55:25.512Z"
   },
   {
    "duration": 7,
    "start_time": "2024-11-06T15:55:25.524Z"
   },
   {
    "duration": 5,
    "start_time": "2024-11-06T15:55:25.533Z"
   },
   {
    "duration": 7,
    "start_time": "2024-11-06T15:55:25.539Z"
   },
   {
    "duration": 10,
    "start_time": "2024-11-06T15:55:25.548Z"
   },
   {
    "duration": 9,
    "start_time": "2024-11-06T15:55:25.560Z"
   },
   {
    "duration": 44,
    "start_time": "2024-11-06T15:55:25.570Z"
   },
   {
    "duration": 19,
    "start_time": "2024-11-06T15:55:25.616Z"
   },
   {
    "duration": 13,
    "start_time": "2024-11-06T15:55:25.638Z"
   },
   {
    "duration": 5,
    "start_time": "2024-11-06T15:55:25.652Z"
   },
   {
    "duration": 8,
    "start_time": "2024-11-06T15:55:25.659Z"
   },
   {
    "duration": 10,
    "start_time": "2024-11-06T15:55:25.669Z"
   },
   {
    "duration": 4,
    "start_time": "2024-11-06T15:55:25.708Z"
   },
   {
    "duration": 6,
    "start_time": "2024-11-06T15:55:25.713Z"
   },
   {
    "duration": 27,
    "start_time": "2024-11-06T15:55:25.721Z"
   },
   {
    "duration": 6,
    "start_time": "2024-11-06T15:55:25.750Z"
   },
   {
    "duration": 4,
    "start_time": "2024-11-06T15:55:25.761Z"
   },
   {
    "duration": 5,
    "start_time": "2024-11-06T15:55:25.767Z"
   },
   {
    "duration": 8,
    "start_time": "2024-11-06T15:55:25.810Z"
   },
   {
    "duration": 10,
    "start_time": "2024-11-06T15:55:25.819Z"
   },
   {
    "duration": 6,
    "start_time": "2024-11-06T15:55:25.831Z"
   },
   {
    "duration": 4,
    "start_time": "2024-11-06T15:55:25.839Z"
   },
   {
    "duration": 21,
    "start_time": "2024-11-06T15:55:25.845Z"
   },
   {
    "duration": 41,
    "start_time": "2024-11-06T15:55:25.868Z"
   },
   {
    "duration": 59,
    "start_time": "2024-11-06T15:55:25.911Z"
   },
   {
    "duration": 4,
    "start_time": "2024-11-06T15:55:25.972Z"
   },
   {
    "duration": 34,
    "start_time": "2024-11-06T15:55:25.977Z"
   },
   {
    "duration": 2,
    "start_time": "2024-11-06T15:55:26.013Z"
   },
   {
    "duration": 5,
    "start_time": "2024-11-06T15:55:26.017Z"
   },
   {
    "duration": 4,
    "start_time": "2024-11-06T15:55:26.024Z"
   },
   {
    "duration": 5,
    "start_time": "2024-11-06T15:55:26.030Z"
   },
   {
    "duration": 6,
    "start_time": "2024-11-06T15:55:26.038Z"
   },
   {
    "duration": 15,
    "start_time": "2024-11-06T15:55:26.047Z"
   },
   {
    "duration": 6,
    "start_time": "2024-11-06T15:55:26.064Z"
   },
   {
    "duration": 242,
    "start_time": "2024-11-06T15:55:26.072Z"
   },
   {
    "duration": 7,
    "start_time": "2024-11-06T15:55:26.317Z"
   },
   {
    "duration": 24,
    "start_time": "2024-11-06T15:55:26.326Z"
   },
   {
    "duration": 405,
    "start_time": "2024-11-06T15:55:26.352Z"
   },
   {
    "duration": 4,
    "start_time": "2024-11-06T15:55:26.761Z"
   },
   {
    "duration": 3,
    "start_time": "2024-11-06T15:55:26.766Z"
   },
   {
    "duration": 39,
    "start_time": "2024-11-06T15:55:26.773Z"
   },
   {
    "duration": 16,
    "start_time": "2024-11-06T15:55:26.815Z"
   },
   {
    "duration": 2837,
    "start_time": "2024-11-06T16:35:47.515Z"
   },
   {
    "duration": 211,
    "start_time": "2024-11-06T16:35:50.354Z"
   },
   {
    "duration": 12,
    "start_time": "2024-11-06T16:35:50.566Z"
   },
   {
    "duration": 7,
    "start_time": "2024-11-06T16:35:50.580Z"
   },
   {
    "duration": 7,
    "start_time": "2024-11-06T16:35:50.590Z"
   },
   {
    "duration": 5,
    "start_time": "2024-11-06T16:35:50.599Z"
   },
   {
    "duration": 26,
    "start_time": "2024-11-06T16:35:50.606Z"
   },
   {
    "duration": 9,
    "start_time": "2024-11-06T16:35:50.634Z"
   },
   {
    "duration": 16,
    "start_time": "2024-11-06T16:35:50.645Z"
   },
   {
    "duration": 7,
    "start_time": "2024-11-06T16:35:50.665Z"
   },
   {
    "duration": 4,
    "start_time": "2024-11-06T16:35:50.675Z"
   },
   {
    "duration": 4,
    "start_time": "2024-11-06T16:35:50.681Z"
   },
   {
    "duration": 50,
    "start_time": "2024-11-06T16:35:50.687Z"
   },
   {
    "duration": 3,
    "start_time": "2024-11-06T16:35:50.741Z"
   },
   {
    "duration": 7,
    "start_time": "2024-11-06T16:35:50.746Z"
   },
   {
    "duration": 10,
    "start_time": "2024-11-06T16:35:50.754Z"
   },
   {
    "duration": 7,
    "start_time": "2024-11-06T16:35:50.766Z"
   },
   {
    "duration": 4,
    "start_time": "2024-11-06T16:35:50.775Z"
   },
   {
    "duration": 5,
    "start_time": "2024-11-06T16:35:50.781Z"
   },
   {
    "duration": 50,
    "start_time": "2024-11-06T16:35:50.788Z"
   },
   {
    "duration": 10,
    "start_time": "2024-11-06T16:35:50.840Z"
   },
   {
    "duration": 8,
    "start_time": "2024-11-06T16:35:50.852Z"
   },
   {
    "duration": 23,
    "start_time": "2024-11-06T16:35:50.862Z"
   },
   {
    "duration": 15,
    "start_time": "2024-11-06T16:35:50.887Z"
   },
   {
    "duration": 4,
    "start_time": "2024-11-06T16:35:50.931Z"
   },
   {
    "duration": 6,
    "start_time": "2024-11-06T16:35:50.937Z"
   },
   {
    "duration": 8,
    "start_time": "2024-11-06T16:35:50.945Z"
   },
   {
    "duration": 4,
    "start_time": "2024-11-06T16:35:50.955Z"
   },
   {
    "duration": 6,
    "start_time": "2024-11-06T16:35:50.961Z"
   },
   {
    "duration": 63,
    "start_time": "2024-11-06T16:35:50.969Z"
   },
   {
    "duration": 7,
    "start_time": "2024-11-06T16:35:51.034Z"
   },
   {
    "duration": 4,
    "start_time": "2024-11-06T16:35:51.043Z"
   },
   {
    "duration": 5,
    "start_time": "2024-11-06T16:35:51.048Z"
   },
   {
    "duration": 7,
    "start_time": "2024-11-06T16:35:51.054Z"
   },
   {
    "duration": 6,
    "start_time": "2024-11-06T16:35:51.062Z"
   },
   {
    "duration": 7,
    "start_time": "2024-11-06T16:35:51.070Z"
   },
   {
    "duration": 4,
    "start_time": "2024-11-06T16:35:51.079Z"
   },
   {
    "duration": 54,
    "start_time": "2024-11-06T16:35:51.085Z"
   },
   {
    "duration": 14,
    "start_time": "2024-11-06T16:35:51.141Z"
   },
   {
    "duration": 43,
    "start_time": "2024-11-06T16:35:51.157Z"
   },
   {
    "duration": 27,
    "start_time": "2024-11-06T16:35:51.205Z"
   },
   {
    "duration": 16,
    "start_time": "2024-11-06T16:35:51.234Z"
   },
   {
    "duration": 2,
    "start_time": "2024-11-06T16:35:51.252Z"
   },
   {
    "duration": 6,
    "start_time": "2024-11-06T16:35:51.255Z"
   },
   {
    "duration": 5,
    "start_time": "2024-11-06T16:35:51.263Z"
   },
   {
    "duration": 5,
    "start_time": "2024-11-06T16:35:51.269Z"
   },
   {
    "duration": 4,
    "start_time": "2024-11-06T16:35:51.276Z"
   },
   {
    "duration": 53,
    "start_time": "2024-11-06T16:35:51.282Z"
   },
   {
    "duration": 6,
    "start_time": "2024-11-06T16:35:51.336Z"
   },
   {
    "duration": 194,
    "start_time": "2024-11-06T16:35:51.344Z"
   },
   {
    "duration": 7,
    "start_time": "2024-11-06T16:35:51.540Z"
   },
   {
    "duration": 23,
    "start_time": "2024-11-06T16:35:51.549Z"
   },
   {
    "duration": 402,
    "start_time": "2024-11-06T16:35:51.575Z"
   },
   {
    "duration": 3,
    "start_time": "2024-11-06T16:35:51.979Z"
   },
   {
    "duration": 3,
    "start_time": "2024-11-06T16:35:51.984Z"
   },
   {
    "duration": 44,
    "start_time": "2024-11-06T16:35:51.990Z"
   },
   {
    "duration": 13,
    "start_time": "2024-11-06T16:35:52.036Z"
   },
   {
    "duration": 2933,
    "start_time": "2024-11-06T16:35:52.050Z"
   },
   {
    "duration": 14,
    "start_time": "2024-11-06T16:35:54.985Z"
   },
   {
    "duration": 1234,
    "start_time": "2024-11-06T16:35:55.001Z"
   },
   {
    "duration": 2,
    "start_time": "2024-11-06T16:35:56.237Z"
   },
   {
    "duration": 7,
    "start_time": "2024-11-06T16:35:56.241Z"
   },
   {
    "duration": 7,
    "start_time": "2024-11-06T16:35:56.249Z"
   },
   {
    "duration": 762,
    "start_time": "2024-11-06T16:35:56.258Z"
   },
   {
    "duration": 4221,
    "start_time": "2024-11-06T16:35:57.021Z"
   },
   {
    "duration": 778,
    "start_time": "2024-11-06T16:36:01.244Z"
   },
   {
    "duration": 8,
    "start_time": "2024-11-06T16:36:02.024Z"
   },
   {
    "duration": 2,
    "start_time": "2024-11-06T16:36:02.034Z"
   },
   {
    "duration": 10,
    "start_time": "2024-11-06T16:36:02.038Z"
   },
   {
    "duration": 2,
    "start_time": "2024-11-06T16:36:02.050Z"
   },
   {
    "duration": 4,
    "start_time": "2024-11-06T16:36:02.054Z"
   },
   {
    "duration": 7,
    "start_time": "2024-11-06T16:37:21.473Z"
   },
   {
    "duration": 166,
    "start_time": "2024-11-06T16:38:38.033Z"
   },
   {
    "duration": 1113,
    "start_time": "2024-11-06T16:38:43.336Z"
   },
   {
    "duration": 135,
    "start_time": "2024-11-06T16:38:44.451Z"
   },
   {
    "duration": 11,
    "start_time": "2024-11-06T16:38:44.588Z"
   },
   {
    "duration": 7,
    "start_time": "2024-11-06T16:38:44.602Z"
   },
   {
    "duration": 21,
    "start_time": "2024-11-06T16:38:44.611Z"
   },
   {
    "duration": 7,
    "start_time": "2024-11-06T16:38:44.634Z"
   },
   {
    "duration": 11,
    "start_time": "2024-11-06T16:38:44.644Z"
   },
   {
    "duration": 11,
    "start_time": "2024-11-06T16:38:44.657Z"
   },
   {
    "duration": 25,
    "start_time": "2024-11-06T16:38:44.670Z"
   },
   {
    "duration": 37,
    "start_time": "2024-11-06T16:38:44.699Z"
   },
   {
    "duration": 4,
    "start_time": "2024-11-06T16:38:44.738Z"
   },
   {
    "duration": 4,
    "start_time": "2024-11-06T16:38:44.745Z"
   },
   {
    "duration": 8,
    "start_time": "2024-11-06T16:38:44.751Z"
   },
   {
    "duration": 3,
    "start_time": "2024-11-06T16:38:44.761Z"
   },
   {
    "duration": 8,
    "start_time": "2024-11-06T16:38:44.766Z"
   },
   {
    "duration": 12,
    "start_time": "2024-11-06T16:38:44.775Z"
   },
   {
    "duration": 43,
    "start_time": "2024-11-06T16:38:44.791Z"
   },
   {
    "duration": 4,
    "start_time": "2024-11-06T16:38:44.836Z"
   },
   {
    "duration": 7,
    "start_time": "2024-11-06T16:38:44.841Z"
   },
   {
    "duration": 10,
    "start_time": "2024-11-06T16:38:44.849Z"
   },
   {
    "duration": 8,
    "start_time": "2024-11-06T16:38:44.861Z"
   },
   {
    "duration": 9,
    "start_time": "2024-11-06T16:38:44.870Z"
   },
   {
    "duration": 56,
    "start_time": "2024-11-06T16:38:44.880Z"
   },
   {
    "duration": 13,
    "start_time": "2024-11-06T16:38:44.938Z"
   },
   {
    "duration": 4,
    "start_time": "2024-11-06T16:38:44.952Z"
   },
   {
    "duration": 6,
    "start_time": "2024-11-06T16:38:44.958Z"
   },
   {
    "duration": 9,
    "start_time": "2024-11-06T16:38:44.965Z"
   },
   {
    "duration": 4,
    "start_time": "2024-11-06T16:38:44.979Z"
   },
   {
    "duration": 5,
    "start_time": "2024-11-06T16:38:44.985Z"
   },
   {
    "duration": 65,
    "start_time": "2024-11-06T16:38:44.991Z"
   },
   {
    "duration": 6,
    "start_time": "2024-11-06T16:38:45.058Z"
   },
   {
    "duration": 5,
    "start_time": "2024-11-06T16:38:45.065Z"
   },
   {
    "duration": 4,
    "start_time": "2024-11-06T16:38:45.071Z"
   },
   {
    "duration": 7,
    "start_time": "2024-11-06T16:38:45.078Z"
   },
   {
    "duration": 5,
    "start_time": "2024-11-06T16:38:45.087Z"
   },
   {
    "duration": 40,
    "start_time": "2024-11-06T16:38:45.094Z"
   },
   {
    "duration": 6,
    "start_time": "2024-11-06T16:38:45.136Z"
   },
   {
    "duration": 13,
    "start_time": "2024-11-06T16:38:45.143Z"
   },
   {
    "duration": 13,
    "start_time": "2024-11-06T16:38:45.158Z"
   },
   {
    "duration": 79,
    "start_time": "2024-11-06T16:38:45.172Z"
   },
   {
    "duration": 5,
    "start_time": "2024-11-06T16:38:45.253Z"
   },
   {
    "duration": 19,
    "start_time": "2024-11-06T16:38:45.259Z"
   },
   {
    "duration": 2,
    "start_time": "2024-11-06T16:38:45.279Z"
   },
   {
    "duration": 5,
    "start_time": "2024-11-06T16:38:45.283Z"
   },
   {
    "duration": 6,
    "start_time": "2024-11-06T16:38:45.289Z"
   },
   {
    "duration": 37,
    "start_time": "2024-11-06T16:38:45.297Z"
   },
   {
    "duration": 4,
    "start_time": "2024-11-06T16:38:45.336Z"
   },
   {
    "duration": 13,
    "start_time": "2024-11-06T16:38:45.341Z"
   },
   {
    "duration": 5,
    "start_time": "2024-11-06T16:38:45.356Z"
   },
   {
    "duration": 213,
    "start_time": "2024-11-06T16:38:45.363Z"
   },
   {
    "duration": 6,
    "start_time": "2024-11-06T16:38:45.578Z"
   },
   {
    "duration": 24,
    "start_time": "2024-11-06T16:38:45.586Z"
   },
   {
    "duration": 413,
    "start_time": "2024-11-06T16:38:45.612Z"
   },
   {
    "duration": 5,
    "start_time": "2024-11-06T16:38:46.026Z"
   },
   {
    "duration": 2,
    "start_time": "2024-11-06T16:38:46.032Z"
   },
   {
    "duration": 25,
    "start_time": "2024-11-06T16:38:46.036Z"
   },
   {
    "duration": 13,
    "start_time": "2024-11-06T16:38:46.063Z"
   },
   {
    "duration": 2922,
    "start_time": "2024-11-06T16:38:46.078Z"
   },
   {
    "duration": 18,
    "start_time": "2024-11-06T16:38:49.002Z"
   },
   {
    "duration": 1247,
    "start_time": "2024-11-06T16:38:49.031Z"
   },
   {
    "duration": 2,
    "start_time": "2024-11-06T16:38:50.280Z"
   },
   {
    "duration": 6,
    "start_time": "2024-11-06T16:38:50.284Z"
   },
   {
    "duration": 6,
    "start_time": "2024-11-06T16:38:50.292Z"
   },
   {
    "duration": 767,
    "start_time": "2024-11-06T16:38:50.300Z"
   },
   {
    "duration": 4230,
    "start_time": "2024-11-06T16:38:51.069Z"
   },
   {
    "duration": 764,
    "start_time": "2024-11-06T16:38:55.301Z"
   },
   {
    "duration": 2,
    "start_time": "2024-11-06T16:38:56.066Z"
   },
   {
    "duration": 3,
    "start_time": "2024-11-06T16:38:56.070Z"
   },
   {
    "duration": 1123,
    "start_time": "2024-11-06T16:40:02.454Z"
   },
   {
    "duration": 134,
    "start_time": "2024-11-06T16:40:03.580Z"
   },
   {
    "duration": 12,
    "start_time": "2024-11-06T16:40:03.716Z"
   },
   {
    "duration": 7,
    "start_time": "2024-11-06T16:40:03.731Z"
   },
   {
    "duration": 10,
    "start_time": "2024-11-06T16:40:03.741Z"
   },
   {
    "duration": 5,
    "start_time": "2024-11-06T16:40:03.753Z"
   },
   {
    "duration": 10,
    "start_time": "2024-11-06T16:40:03.760Z"
   },
   {
    "duration": 9,
    "start_time": "2024-11-06T16:40:03.772Z"
   },
   {
    "duration": 50,
    "start_time": "2024-11-06T16:40:03.782Z"
   },
   {
    "duration": 9,
    "start_time": "2024-11-06T16:40:03.834Z"
   },
   {
    "duration": 3,
    "start_time": "2024-11-06T16:40:03.845Z"
   },
   {
    "duration": 4,
    "start_time": "2024-11-06T16:40:03.850Z"
   },
   {
    "duration": 9,
    "start_time": "2024-11-06T16:40:03.856Z"
   },
   {
    "duration": 4,
    "start_time": "2024-11-06T16:40:03.868Z"
   },
   {
    "duration": 8,
    "start_time": "2024-11-06T16:40:03.873Z"
   },
   {
    "duration": 10,
    "start_time": "2024-11-06T16:40:03.883Z"
   },
   {
    "duration": 8,
    "start_time": "2024-11-06T16:40:03.932Z"
   },
   {
    "duration": 4,
    "start_time": "2024-11-06T16:40:03.942Z"
   },
   {
    "duration": 8,
    "start_time": "2024-11-06T16:40:03.947Z"
   },
   {
    "duration": 9,
    "start_time": "2024-11-06T16:40:03.957Z"
   },
   {
    "duration": 10,
    "start_time": "2024-11-06T16:40:03.968Z"
   },
   {
    "duration": 8,
    "start_time": "2024-11-06T16:40:03.981Z"
   },
   {
    "duration": 61,
    "start_time": "2024-11-06T16:40:03.990Z"
   },
   {
    "duration": 12,
    "start_time": "2024-11-06T16:40:04.053Z"
   },
   {
    "duration": 3,
    "start_time": "2024-11-06T16:40:04.066Z"
   },
   {
    "duration": 8,
    "start_time": "2024-11-06T16:40:04.071Z"
   },
   {
    "duration": 8,
    "start_time": "2024-11-06T16:40:04.081Z"
   },
   {
    "duration": 4,
    "start_time": "2024-11-06T16:40:04.091Z"
   },
   {
    "duration": 7,
    "start_time": "2024-11-06T16:40:04.132Z"
   },
   {
    "duration": 28,
    "start_time": "2024-11-06T16:40:04.140Z"
   },
   {
    "duration": 6,
    "start_time": "2024-11-06T16:40:04.170Z"
   },
   {
    "duration": 5,
    "start_time": "2024-11-06T16:40:04.178Z"
   },
   {
    "duration": 5,
    "start_time": "2024-11-06T16:40:04.185Z"
   },
   {
    "duration": 40,
    "start_time": "2024-11-06T16:40:04.191Z"
   },
   {
    "duration": 7,
    "start_time": "2024-11-06T16:40:04.233Z"
   },
   {
    "duration": 6,
    "start_time": "2024-11-06T16:40:04.242Z"
   },
   {
    "duration": 4,
    "start_time": "2024-11-06T16:40:04.250Z"
   },
   {
    "duration": 13,
    "start_time": "2024-11-06T16:40:04.255Z"
   },
   {
    "duration": 13,
    "start_time": "2024-11-06T16:40:04.270Z"
   },
   {
    "duration": 83,
    "start_time": "2024-11-06T16:40:04.284Z"
   },
   {
    "duration": 5,
    "start_time": "2024-11-06T16:40:04.372Z"
   },
   {
    "duration": 18,
    "start_time": "2024-11-06T16:40:04.378Z"
   },
   {
    "duration": 2,
    "start_time": "2024-11-06T16:40:04.398Z"
   },
   {
    "duration": 30,
    "start_time": "2024-11-06T16:40:04.402Z"
   },
   {
    "duration": 5,
    "start_time": "2024-11-06T16:40:04.434Z"
   },
   {
    "duration": 5,
    "start_time": "2024-11-06T16:40:04.441Z"
   },
   {
    "duration": 4,
    "start_time": "2024-11-06T16:40:04.447Z"
   },
   {
    "duration": 12,
    "start_time": "2024-11-06T16:40:04.453Z"
   },
   {
    "duration": 6,
    "start_time": "2024-11-06T16:40:04.466Z"
   },
   {
    "duration": 241,
    "start_time": "2024-11-06T16:40:04.474Z"
   },
   {
    "duration": 18,
    "start_time": "2024-11-06T16:40:04.717Z"
   },
   {
    "duration": 29,
    "start_time": "2024-11-06T16:40:04.737Z"
   },
   {
    "duration": 398,
    "start_time": "2024-11-06T16:40:04.769Z"
   },
   {
    "duration": 3,
    "start_time": "2024-11-06T16:40:05.169Z"
   },
   {
    "duration": 2,
    "start_time": "2024-11-06T16:40:05.174Z"
   },
   {
    "duration": 25,
    "start_time": "2024-11-06T16:40:05.178Z"
   },
   {
    "duration": 33,
    "start_time": "2024-11-06T16:40:05.205Z"
   },
   {
    "duration": 2932,
    "start_time": "2024-11-06T16:40:05.240Z"
   },
   {
    "duration": 14,
    "start_time": "2024-11-06T16:40:08.174Z"
   },
   {
    "duration": 1230,
    "start_time": "2024-11-06T16:40:08.189Z"
   },
   {
    "duration": 3,
    "start_time": "2024-11-06T16:40:09.420Z"
   },
   {
    "duration": 12,
    "start_time": "2024-11-06T16:40:09.425Z"
   },
   {
    "duration": 7,
    "start_time": "2024-11-06T16:40:09.438Z"
   },
   {
    "duration": 766,
    "start_time": "2024-11-06T16:40:09.446Z"
   },
   {
    "duration": 4219,
    "start_time": "2024-11-06T16:40:10.214Z"
   },
   {
    "duration": 772,
    "start_time": "2024-11-06T16:40:14.436Z"
   },
   {
    "duration": 2,
    "start_time": "2024-11-06T16:40:15.210Z"
   },
   {
    "duration": 2,
    "start_time": "2024-11-06T16:40:15.214Z"
   },
   {
    "duration": 156,
    "start_time": "2024-11-06T16:40:39.605Z"
   },
   {
    "duration": 1086,
    "start_time": "2024-11-06T16:40:53.798Z"
   },
   {
    "duration": 128,
    "start_time": "2024-11-06T16:40:54.887Z"
   },
   {
    "duration": 13,
    "start_time": "2024-11-06T16:40:55.017Z"
   },
   {
    "duration": 9,
    "start_time": "2024-11-06T16:40:55.032Z"
   },
   {
    "duration": 7,
    "start_time": "2024-11-06T16:40:55.043Z"
   },
   {
    "duration": 7,
    "start_time": "2024-11-06T16:40:55.052Z"
   },
   {
    "duration": 10,
    "start_time": "2024-11-06T16:40:55.061Z"
   },
   {
    "duration": 11,
    "start_time": "2024-11-06T16:40:55.073Z"
   },
   {
    "duration": 53,
    "start_time": "2024-11-06T16:40:55.086Z"
   },
   {
    "duration": 9,
    "start_time": "2024-11-06T16:40:55.141Z"
   },
   {
    "duration": 4,
    "start_time": "2024-11-06T16:40:55.152Z"
   },
   {
    "duration": 5,
    "start_time": "2024-11-06T16:40:55.157Z"
   },
   {
    "duration": 9,
    "start_time": "2024-11-06T16:40:55.163Z"
   },
   {
    "duration": 3,
    "start_time": "2024-11-06T16:40:55.176Z"
   },
   {
    "duration": 7,
    "start_time": "2024-11-06T16:40:55.181Z"
   },
   {
    "duration": 52,
    "start_time": "2024-11-06T16:40:55.189Z"
   },
   {
    "duration": 7,
    "start_time": "2024-11-06T16:40:55.242Z"
   },
   {
    "duration": 2,
    "start_time": "2024-11-06T16:40:55.252Z"
   },
   {
    "duration": 7,
    "start_time": "2024-11-06T16:40:55.256Z"
   },
   {
    "duration": 10,
    "start_time": "2024-11-06T16:40:55.264Z"
   },
   {
    "duration": 10,
    "start_time": "2024-11-06T16:40:55.276Z"
   },
   {
    "duration": 46,
    "start_time": "2024-11-06T16:40:55.287Z"
   },
   {
    "duration": 20,
    "start_time": "2024-11-06T16:40:55.335Z"
   },
   {
    "duration": 12,
    "start_time": "2024-11-06T16:40:55.357Z"
   },
   {
    "duration": 3,
    "start_time": "2024-11-06T16:40:55.371Z"
   },
   {
    "duration": 8,
    "start_time": "2024-11-06T16:40:55.376Z"
   },
   {
    "duration": 8,
    "start_time": "2024-11-06T16:40:55.385Z"
   },
   {
    "duration": 39,
    "start_time": "2024-11-06T16:40:55.394Z"
   },
   {
    "duration": 9,
    "start_time": "2024-11-06T16:40:55.434Z"
   },
   {
    "duration": 27,
    "start_time": "2024-11-06T16:40:55.444Z"
   },
   {
    "duration": 8,
    "start_time": "2024-11-06T16:40:55.473Z"
   },
   {
    "duration": 4,
    "start_time": "2024-11-06T16:40:55.482Z"
   },
   {
    "duration": 4,
    "start_time": "2024-11-06T16:40:55.488Z"
   },
   {
    "duration": 40,
    "start_time": "2024-11-06T16:40:55.494Z"
   },
   {
    "duration": 7,
    "start_time": "2024-11-06T16:40:55.536Z"
   },
   {
    "duration": 8,
    "start_time": "2024-11-06T16:40:55.544Z"
   },
   {
    "duration": 5,
    "start_time": "2024-11-06T16:40:55.553Z"
   },
   {
    "duration": 13,
    "start_time": "2024-11-06T16:40:55.560Z"
   },
   {
    "duration": 13,
    "start_time": "2024-11-06T16:40:55.575Z"
   },
   {
    "duration": 78,
    "start_time": "2024-11-06T16:40:55.590Z"
   },
   {
    "duration": 5,
    "start_time": "2024-11-06T16:40:55.674Z"
   },
   {
    "duration": 18,
    "start_time": "2024-11-06T16:40:55.681Z"
   },
   {
    "duration": 2,
    "start_time": "2024-11-06T16:40:55.700Z"
   },
   {
    "duration": 29,
    "start_time": "2024-11-06T16:40:55.704Z"
   },
   {
    "duration": 6,
    "start_time": "2024-11-06T16:40:55.735Z"
   },
   {
    "duration": 5,
    "start_time": "2024-11-06T16:40:55.742Z"
   },
   {
    "duration": 4,
    "start_time": "2024-11-06T16:40:55.749Z"
   },
   {
    "duration": 13,
    "start_time": "2024-11-06T16:40:55.754Z"
   },
   {
    "duration": 5,
    "start_time": "2024-11-06T16:40:55.770Z"
   },
   {
    "duration": 227,
    "start_time": "2024-11-06T16:40:55.776Z"
   },
   {
    "duration": 8,
    "start_time": "2024-11-06T16:40:56.005Z"
   },
   {
    "duration": 37,
    "start_time": "2024-11-06T16:40:56.014Z"
   },
   {
    "duration": 390,
    "start_time": "2024-11-06T16:40:56.053Z"
   },
   {
    "duration": 2,
    "start_time": "2024-11-06T16:40:56.445Z"
   },
   {
    "duration": 2,
    "start_time": "2024-11-06T16:40:56.450Z"
   },
   {
    "duration": 27,
    "start_time": "2024-11-06T16:40:56.454Z"
   },
   {
    "duration": 14,
    "start_time": "2024-11-06T16:40:56.482Z"
   },
   {
    "duration": 2977,
    "start_time": "2024-11-06T16:40:56.498Z"
   },
   {
    "duration": 13,
    "start_time": "2024-11-06T16:40:59.477Z"
   },
   {
    "duration": 1256,
    "start_time": "2024-11-06T16:40:59.492Z"
   },
   {
    "duration": 2,
    "start_time": "2024-11-06T16:41:00.750Z"
   },
   {
    "duration": 6,
    "start_time": "2024-11-06T16:41:00.754Z"
   },
   {
    "duration": 6,
    "start_time": "2024-11-06T16:41:00.761Z"
   },
   {
    "duration": 762,
    "start_time": "2024-11-06T16:41:00.769Z"
   },
   {
    "duration": 4229,
    "start_time": "2024-11-06T16:41:01.533Z"
   },
   {
    "duration": 767,
    "start_time": "2024-11-06T16:41:05.764Z"
   },
   {
    "duration": 2,
    "start_time": "2024-11-06T16:41:06.533Z"
   },
   {
    "duration": 3,
    "start_time": "2024-11-06T16:41:06.537Z"
   },
   {
    "duration": 1102,
    "start_time": "2024-11-06T16:41:24.658Z"
   },
   {
    "duration": 127,
    "start_time": "2024-11-06T16:41:25.762Z"
   },
   {
    "duration": 11,
    "start_time": "2024-11-06T16:41:25.891Z"
   },
   {
    "duration": 7,
    "start_time": "2024-11-06T16:41:25.904Z"
   },
   {
    "duration": 19,
    "start_time": "2024-11-06T16:41:25.913Z"
   },
   {
    "duration": 5,
    "start_time": "2024-11-06T16:41:25.934Z"
   },
   {
    "duration": 10,
    "start_time": "2024-11-06T16:41:25.941Z"
   },
   {
    "duration": 9,
    "start_time": "2024-11-06T16:41:25.952Z"
   },
   {
    "duration": 17,
    "start_time": "2024-11-06T16:41:25.962Z"
   },
   {
    "duration": 7,
    "start_time": "2024-11-06T16:41:25.983Z"
   },
   {
    "duration": 4,
    "start_time": "2024-11-06T16:41:26.031Z"
   },
   {
    "duration": 5,
    "start_time": "2024-11-06T16:41:26.037Z"
   },
   {
    "duration": 9,
    "start_time": "2024-11-06T16:41:26.043Z"
   },
   {
    "duration": 4,
    "start_time": "2024-11-06T16:41:26.054Z"
   },
   {
    "duration": 7,
    "start_time": "2024-11-06T16:41:26.060Z"
   },
   {
    "duration": 11,
    "start_time": "2024-11-06T16:41:26.068Z"
   },
   {
    "duration": 9,
    "start_time": "2024-11-06T16:41:26.081Z"
   },
   {
    "duration": 41,
    "start_time": "2024-11-06T16:41:26.091Z"
   },
   {
    "duration": 9,
    "start_time": "2024-11-06T16:41:26.133Z"
   },
   {
    "duration": 9,
    "start_time": "2024-11-06T16:41:26.144Z"
   },
   {
    "duration": 9,
    "start_time": "2024-11-06T16:41:26.154Z"
   },
   {
    "duration": 10,
    "start_time": "2024-11-06T16:41:26.164Z"
   },
   {
    "duration": 20,
    "start_time": "2024-11-06T16:41:26.176Z"
   },
   {
    "duration": 46,
    "start_time": "2024-11-06T16:41:26.198Z"
   },
   {
    "duration": 3,
    "start_time": "2024-11-06T16:41:26.246Z"
   },
   {
    "duration": 6,
    "start_time": "2024-11-06T16:41:26.251Z"
   },
   {
    "duration": 8,
    "start_time": "2024-11-06T16:41:26.259Z"
   },
   {
    "duration": 4,
    "start_time": "2024-11-06T16:41:26.272Z"
   },
   {
    "duration": 5,
    "start_time": "2024-11-06T16:41:26.278Z"
   },
   {
    "duration": 64,
    "start_time": "2024-11-06T16:41:26.284Z"
   },
   {
    "duration": 8,
    "start_time": "2024-11-06T16:41:26.350Z"
   },
   {
    "duration": 5,
    "start_time": "2024-11-06T16:41:26.359Z"
   },
   {
    "duration": 5,
    "start_time": "2024-11-06T16:41:26.366Z"
   },
   {
    "duration": 10,
    "start_time": "2024-11-06T16:41:26.373Z"
   },
   {
    "duration": 6,
    "start_time": "2024-11-06T16:41:26.385Z"
   },
   {
    "duration": 43,
    "start_time": "2024-11-06T16:41:26.393Z"
   },
   {
    "duration": 5,
    "start_time": "2024-11-06T16:41:26.437Z"
   },
   {
    "duration": 14,
    "start_time": "2024-11-06T16:41:26.444Z"
   },
   {
    "duration": 15,
    "start_time": "2024-11-06T16:41:26.460Z"
   },
   {
    "duration": 69,
    "start_time": "2024-11-06T16:41:26.477Z"
   },
   {
    "duration": 4,
    "start_time": "2024-11-06T16:41:26.548Z"
   },
   {
    "duration": 19,
    "start_time": "2024-11-06T16:41:26.554Z"
   },
   {
    "duration": 2,
    "start_time": "2024-11-06T16:41:26.575Z"
   },
   {
    "duration": 5,
    "start_time": "2024-11-06T16:41:26.579Z"
   },
   {
    "duration": 6,
    "start_time": "2024-11-06T16:41:26.586Z"
   },
   {
    "duration": 42,
    "start_time": "2024-11-06T16:41:26.594Z"
   },
   {
    "duration": 4,
    "start_time": "2024-11-06T16:41:26.638Z"
   },
   {
    "duration": 13,
    "start_time": "2024-11-06T16:41:26.645Z"
   },
   {
    "duration": 5,
    "start_time": "2024-11-06T16:41:26.660Z"
   },
   {
    "duration": 212,
    "start_time": "2024-11-06T16:41:26.667Z"
   },
   {
    "duration": 7,
    "start_time": "2024-11-06T16:41:26.881Z"
   },
   {
    "duration": 24,
    "start_time": "2024-11-06T16:41:26.890Z"
   },
   {
    "duration": 372,
    "start_time": "2024-11-06T16:41:26.932Z"
   },
   {
    "duration": 2,
    "start_time": "2024-11-06T16:41:27.305Z"
   },
   {
    "duration": 3,
    "start_time": "2024-11-06T16:41:27.309Z"
   },
   {
    "duration": 38,
    "start_time": "2024-11-06T16:41:27.313Z"
   },
   {
    "duration": 16,
    "start_time": "2024-11-06T16:41:27.353Z"
   },
   {
    "duration": 2921,
    "start_time": "2024-11-06T16:41:27.371Z"
   },
   {
    "duration": 14,
    "start_time": "2024-11-06T16:41:30.293Z"
   },
   {
    "duration": 1219,
    "start_time": "2024-11-06T16:41:30.309Z"
   },
   {
    "duration": 3,
    "start_time": "2024-11-06T16:41:31.531Z"
   },
   {
    "duration": 6,
    "start_time": "2024-11-06T16:41:31.535Z"
   },
   {
    "duration": 6,
    "start_time": "2024-11-06T16:41:31.543Z"
   },
   {
    "duration": 783,
    "start_time": "2024-11-06T16:41:31.551Z"
   },
   {
    "duration": 4222,
    "start_time": "2024-11-06T16:41:32.335Z"
   },
   {
    "duration": 810,
    "start_time": "2024-11-06T16:41:36.559Z"
   },
   {
    "duration": 2,
    "start_time": "2024-11-06T16:41:37.370Z"
   },
   {
    "duration": 3,
    "start_time": "2024-11-06T16:41:37.374Z"
   },
   {
    "duration": 3,
    "start_time": "2024-11-06T16:41:37.378Z"
   },
   {
    "duration": 3,
    "start_time": "2024-11-06T16:43:08.434Z"
   },
   {
    "duration": 1069,
    "start_time": "2024-11-06T16:45:09.194Z"
   },
   {
    "duration": 131,
    "start_time": "2024-11-06T16:45:10.265Z"
   },
   {
    "duration": 15,
    "start_time": "2024-11-06T16:45:10.398Z"
   },
   {
    "duration": 9,
    "start_time": "2024-11-06T16:45:10.416Z"
   },
   {
    "duration": 8,
    "start_time": "2024-11-06T16:45:10.430Z"
   },
   {
    "duration": 6,
    "start_time": "2024-11-06T16:45:10.440Z"
   },
   {
    "duration": 9,
    "start_time": "2024-11-06T16:45:10.448Z"
   },
   {
    "duration": 9,
    "start_time": "2024-11-06T16:45:10.459Z"
   },
   {
    "duration": 18,
    "start_time": "2024-11-06T16:45:10.469Z"
   },
   {
    "duration": 47,
    "start_time": "2024-11-06T16:45:10.490Z"
   },
   {
    "duration": 4,
    "start_time": "2024-11-06T16:45:10.539Z"
   },
   {
    "duration": 4,
    "start_time": "2024-11-06T16:45:10.544Z"
   },
   {
    "duration": 9,
    "start_time": "2024-11-06T16:45:10.549Z"
   },
   {
    "duration": 4,
    "start_time": "2024-11-06T16:45:10.559Z"
   },
   {
    "duration": 7,
    "start_time": "2024-11-06T16:45:10.564Z"
   },
   {
    "duration": 12,
    "start_time": "2024-11-06T16:45:10.572Z"
   },
   {
    "duration": 45,
    "start_time": "2024-11-06T16:45:10.586Z"
   },
   {
    "duration": 4,
    "start_time": "2024-11-06T16:45:10.634Z"
   },
   {
    "duration": 7,
    "start_time": "2024-11-06T16:45:10.639Z"
   },
   {
    "duration": 10,
    "start_time": "2024-11-06T16:45:10.648Z"
   },
   {
    "duration": 12,
    "start_time": "2024-11-06T16:45:10.659Z"
   },
   {
    "duration": 11,
    "start_time": "2024-11-06T16:45:10.672Z"
   },
   {
    "duration": 57,
    "start_time": "2024-11-06T16:45:10.685Z"
   },
   {
    "duration": 13,
    "start_time": "2024-11-06T16:45:10.744Z"
   },
   {
    "duration": 4,
    "start_time": "2024-11-06T16:45:10.758Z"
   },
   {
    "duration": 6,
    "start_time": "2024-11-06T16:45:10.763Z"
   },
   {
    "duration": 9,
    "start_time": "2024-11-06T16:45:10.772Z"
   },
   {
    "duration": 4,
    "start_time": "2024-11-06T16:45:10.786Z"
   },
   {
    "duration": 42,
    "start_time": "2024-11-06T16:45:10.791Z"
   },
   {
    "duration": 28,
    "start_time": "2024-11-06T16:45:10.836Z"
   },
   {
    "duration": 8,
    "start_time": "2024-11-06T16:45:10.866Z"
   },
   {
    "duration": 7,
    "start_time": "2024-11-06T16:45:10.877Z"
   },
   {
    "duration": 6,
    "start_time": "2024-11-06T16:45:10.886Z"
   },
   {
    "duration": 10,
    "start_time": "2024-11-06T16:45:10.894Z"
   },
   {
    "duration": 29,
    "start_time": "2024-11-06T16:45:10.905Z"
   },
   {
    "duration": 7,
    "start_time": "2024-11-06T16:45:10.936Z"
   },
   {
    "duration": 4,
    "start_time": "2024-11-06T16:45:10.944Z"
   },
   {
    "duration": 12,
    "start_time": "2024-11-06T16:45:10.950Z"
   },
   {
    "duration": 13,
    "start_time": "2024-11-06T16:45:10.964Z"
   },
   {
    "duration": 81,
    "start_time": "2024-11-06T16:45:10.981Z"
   },
   {
    "duration": 5,
    "start_time": "2024-11-06T16:45:11.064Z"
   },
   {
    "duration": 18,
    "start_time": "2024-11-06T16:45:11.070Z"
   },
   {
    "duration": 3,
    "start_time": "2024-11-06T16:45:11.090Z"
   },
   {
    "duration": 5,
    "start_time": "2024-11-06T16:45:11.095Z"
   },
   {
    "duration": 31,
    "start_time": "2024-11-06T16:45:11.101Z"
   },
   {
    "duration": 6,
    "start_time": "2024-11-06T16:45:11.134Z"
   },
   {
    "duration": 4,
    "start_time": "2024-11-06T16:45:11.142Z"
   },
   {
    "duration": 13,
    "start_time": "2024-11-06T16:45:11.147Z"
   },
   {
    "duration": 6,
    "start_time": "2024-11-06T16:45:11.161Z"
   },
   {
    "duration": 215,
    "start_time": "2024-11-06T16:45:11.169Z"
   },
   {
    "duration": 7,
    "start_time": "2024-11-06T16:45:11.386Z"
   },
   {
    "duration": 37,
    "start_time": "2024-11-06T16:45:11.395Z"
   },
   {
    "duration": 393,
    "start_time": "2024-11-06T16:45:11.434Z"
   },
   {
    "duration": 3,
    "start_time": "2024-11-06T16:45:11.830Z"
   },
   {
    "duration": 3,
    "start_time": "2024-11-06T16:45:11.834Z"
   },
   {
    "duration": 27,
    "start_time": "2024-11-06T16:45:11.839Z"
   },
   {
    "duration": 15,
    "start_time": "2024-11-06T16:45:11.868Z"
   },
   {
    "duration": 2948,
    "start_time": "2024-11-06T16:45:11.886Z"
   },
   {
    "duration": 13,
    "start_time": "2024-11-06T16:45:14.836Z"
   },
   {
    "duration": 1221,
    "start_time": "2024-11-06T16:45:14.851Z"
   },
   {
    "duration": 2,
    "start_time": "2024-11-06T16:45:16.075Z"
   },
   {
    "duration": 7,
    "start_time": "2024-11-06T16:45:16.079Z"
   },
   {
    "duration": 6,
    "start_time": "2024-11-06T16:45:16.088Z"
   },
   {
    "duration": 761,
    "start_time": "2024-11-06T16:45:16.096Z"
   },
   {
    "duration": 4257,
    "start_time": "2024-11-06T16:45:16.858Z"
   },
   {
    "duration": 771,
    "start_time": "2024-11-06T16:45:21.117Z"
   },
   {
    "duration": 4,
    "start_time": "2024-11-06T16:45:21.890Z"
   },
   {
    "duration": 2,
    "start_time": "2024-11-06T16:45:21.895Z"
   },
   {
    "duration": 3,
    "start_time": "2024-11-06T16:45:21.899Z"
   },
   {
    "duration": 2,
    "start_time": "2024-11-06T16:45:21.904Z"
   },
   {
    "duration": 8,
    "start_time": "2024-11-06T16:45:35.169Z"
   },
   {
    "duration": 20,
    "start_time": "2024-11-06T16:45:55.175Z"
   },
   {
    "duration": 162,
    "start_time": "2024-11-06T16:54:23.319Z"
   },
   {
    "duration": 12,
    "start_time": "2024-11-06T16:54:27.060Z"
   },
   {
    "duration": 1104,
    "start_time": "2024-11-06T16:54:32.082Z"
   },
   {
    "duration": 144,
    "start_time": "2024-11-06T16:54:33.188Z"
   },
   {
    "duration": 13,
    "start_time": "2024-11-06T16:54:33.334Z"
   },
   {
    "duration": 7,
    "start_time": "2024-11-06T16:54:33.349Z"
   },
   {
    "duration": 8,
    "start_time": "2024-11-06T16:54:33.359Z"
   },
   {
    "duration": 6,
    "start_time": "2024-11-06T16:54:33.369Z"
   },
   {
    "duration": 14,
    "start_time": "2024-11-06T16:54:33.377Z"
   },
   {
    "duration": 10,
    "start_time": "2024-11-06T16:54:33.392Z"
   },
   {
    "duration": 17,
    "start_time": "2024-11-06T16:54:33.432Z"
   },
   {
    "duration": 8,
    "start_time": "2024-11-06T16:54:33.451Z"
   },
   {
    "duration": 6,
    "start_time": "2024-11-06T16:54:33.461Z"
   },
   {
    "duration": 6,
    "start_time": "2024-11-06T16:54:33.468Z"
   },
   {
    "duration": 11,
    "start_time": "2024-11-06T16:54:33.476Z"
   },
   {
    "duration": 6,
    "start_time": "2024-11-06T16:54:33.490Z"
   },
   {
    "duration": 34,
    "start_time": "2024-11-06T16:54:33.498Z"
   },
   {
    "duration": 11,
    "start_time": "2024-11-06T16:54:33.534Z"
   },
   {
    "duration": 7,
    "start_time": "2024-11-06T16:54:33.548Z"
   },
   {
    "duration": 4,
    "start_time": "2024-11-06T16:54:33.557Z"
   },
   {
    "duration": 9,
    "start_time": "2024-11-06T16:54:33.562Z"
   },
   {
    "duration": 11,
    "start_time": "2024-11-06T16:54:33.573Z"
   },
   {
    "duration": 10,
    "start_time": "2024-11-06T16:54:33.586Z"
   },
   {
    "duration": 44,
    "start_time": "2024-11-06T16:54:33.597Z"
   },
   {
    "duration": 20,
    "start_time": "2024-11-06T16:54:33.643Z"
   },
   {
    "duration": 13,
    "start_time": "2024-11-06T16:54:33.664Z"
   },
   {
    "duration": 3,
    "start_time": "2024-11-06T16:54:33.679Z"
   },
   {
    "duration": 8,
    "start_time": "2024-11-06T16:54:33.683Z"
   },
   {
    "duration": 42,
    "start_time": "2024-11-06T16:54:33.692Z"
   },
   {
    "duration": 4,
    "start_time": "2024-11-06T16:54:33.735Z"
   },
   {
    "duration": 7,
    "start_time": "2024-11-06T16:54:33.741Z"
   },
   {
    "duration": 28,
    "start_time": "2024-11-06T16:54:33.750Z"
   },
   {
    "duration": 6,
    "start_time": "2024-11-06T16:54:33.780Z"
   },
   {
    "duration": 5,
    "start_time": "2024-11-06T16:54:33.788Z"
   },
   {
    "duration": 6,
    "start_time": "2024-11-06T16:54:33.794Z"
   },
   {
    "duration": 35,
    "start_time": "2024-11-06T16:54:33.802Z"
   },
   {
    "duration": 6,
    "start_time": "2024-11-06T16:54:33.839Z"
   },
   {
    "duration": 7,
    "start_time": "2024-11-06T16:54:33.847Z"
   },
   {
    "duration": 5,
    "start_time": "2024-11-06T16:54:33.856Z"
   },
   {
    "duration": 13,
    "start_time": "2024-11-06T16:54:33.863Z"
   },
   {
    "duration": 13,
    "start_time": "2024-11-06T16:54:33.878Z"
   },
   {
    "duration": 77,
    "start_time": "2024-11-06T16:54:33.893Z"
   },
   {
    "duration": 4,
    "start_time": "2024-11-06T16:54:33.976Z"
   },
   {
    "duration": 18,
    "start_time": "2024-11-06T16:54:33.982Z"
   },
   {
    "duration": 2,
    "start_time": "2024-11-06T16:54:34.001Z"
   },
   {
    "duration": 6,
    "start_time": "2024-11-06T16:54:34.005Z"
   },
   {
    "duration": 5,
    "start_time": "2024-11-06T16:54:34.031Z"
   },
   {
    "duration": 7,
    "start_time": "2024-11-06T16:54:34.037Z"
   },
   {
    "duration": 4,
    "start_time": "2024-11-06T16:54:34.046Z"
   },
   {
    "duration": 12,
    "start_time": "2024-11-06T16:54:34.052Z"
   },
   {
    "duration": 6,
    "start_time": "2024-11-06T16:54:34.066Z"
   },
   {
    "duration": 215,
    "start_time": "2024-11-06T16:54:34.074Z"
   },
   {
    "duration": 7,
    "start_time": "2024-11-06T16:54:34.291Z"
   },
   {
    "duration": 42,
    "start_time": "2024-11-06T16:54:34.300Z"
   },
   {
    "duration": 410,
    "start_time": "2024-11-06T16:54:34.346Z"
   },
   {
    "duration": 4,
    "start_time": "2024-11-06T16:54:34.759Z"
   },
   {
    "duration": 5,
    "start_time": "2024-11-06T16:54:34.765Z"
   },
   {
    "duration": 27,
    "start_time": "2024-11-06T16:54:34.772Z"
   },
   {
    "duration": 31,
    "start_time": "2024-11-06T16:54:34.801Z"
   },
   {
    "duration": 2949,
    "start_time": "2024-11-06T16:54:34.833Z"
   },
   {
    "duration": 15,
    "start_time": "2024-11-06T16:54:37.784Z"
   },
   {
    "duration": 1264,
    "start_time": "2024-11-06T16:54:37.800Z"
   },
   {
    "duration": 3,
    "start_time": "2024-11-06T16:54:39.066Z"
   },
   {
    "duration": 6,
    "start_time": "2024-11-06T16:54:39.070Z"
   },
   {
    "duration": 6,
    "start_time": "2024-11-06T16:54:39.078Z"
   },
   {
    "duration": 766,
    "start_time": "2024-11-06T16:54:39.085Z"
   },
   {
    "duration": 4253,
    "start_time": "2024-11-06T16:54:39.853Z"
   },
   {
    "duration": 817,
    "start_time": "2024-11-06T16:54:44.108Z"
   },
   {
    "duration": 4,
    "start_time": "2024-11-06T16:54:44.927Z"
   },
   {
    "duration": 7,
    "start_time": "2024-11-06T16:54:44.933Z"
   },
   {
    "duration": 2,
    "start_time": "2024-11-06T16:54:44.942Z"
   },
   {
    "duration": 19,
    "start_time": "2024-11-06T16:54:44.946Z"
   },
   {
    "duration": 1095,
    "start_time": "2024-11-06T16:57:10.275Z"
   },
   {
    "duration": 129,
    "start_time": "2024-11-06T16:57:11.372Z"
   },
   {
    "duration": 12,
    "start_time": "2024-11-06T16:57:11.503Z"
   },
   {
    "duration": 6,
    "start_time": "2024-11-06T16:57:11.517Z"
   },
   {
    "duration": 13,
    "start_time": "2024-11-06T16:57:11.525Z"
   },
   {
    "duration": 5,
    "start_time": "2024-11-06T16:57:11.540Z"
   },
   {
    "duration": 11,
    "start_time": "2024-11-06T16:57:11.547Z"
   },
   {
    "duration": 10,
    "start_time": "2024-11-06T16:57:11.559Z"
   },
   {
    "duration": 17,
    "start_time": "2024-11-06T16:57:11.571Z"
   },
   {
    "duration": 42,
    "start_time": "2024-11-06T16:57:11.592Z"
   },
   {
    "duration": 4,
    "start_time": "2024-11-06T16:57:11.636Z"
   },
   {
    "duration": 4,
    "start_time": "2024-11-06T16:57:11.642Z"
   },
   {
    "duration": 8,
    "start_time": "2024-11-06T16:57:11.648Z"
   },
   {
    "duration": 3,
    "start_time": "2024-11-06T16:57:11.658Z"
   },
   {
    "duration": 8,
    "start_time": "2024-11-06T16:57:11.663Z"
   },
   {
    "duration": 12,
    "start_time": "2024-11-06T16:57:11.672Z"
   },
   {
    "duration": 45,
    "start_time": "2024-11-06T16:57:11.687Z"
   },
   {
    "duration": 3,
    "start_time": "2024-11-06T16:57:11.734Z"
   },
   {
    "duration": 6,
    "start_time": "2024-11-06T16:57:11.739Z"
   },
   {
    "duration": 10,
    "start_time": "2024-11-06T16:57:11.748Z"
   },
   {
    "duration": 10,
    "start_time": "2024-11-06T16:57:11.760Z"
   },
   {
    "duration": 12,
    "start_time": "2024-11-06T16:57:11.772Z"
   },
   {
    "duration": 57,
    "start_time": "2024-11-06T16:57:11.786Z"
   },
   {
    "duration": 16,
    "start_time": "2024-11-06T16:57:11.845Z"
   },
   {
    "duration": 3,
    "start_time": "2024-11-06T16:57:11.862Z"
   },
   {
    "duration": 6,
    "start_time": "2024-11-06T16:57:11.867Z"
   },
   {
    "duration": 9,
    "start_time": "2024-11-06T16:57:11.875Z"
   },
   {
    "duration": 4,
    "start_time": "2024-11-06T16:57:11.889Z"
   },
   {
    "duration": 6,
    "start_time": "2024-11-06T16:57:11.931Z"
   },
   {
    "duration": 33,
    "start_time": "2024-11-06T16:57:11.939Z"
   },
   {
    "duration": 8,
    "start_time": "2024-11-06T16:57:11.974Z"
   },
   {
    "duration": 5,
    "start_time": "2024-11-06T16:57:11.983Z"
   },
   {
    "duration": 5,
    "start_time": "2024-11-06T16:57:11.990Z"
   },
   {
    "duration": 38,
    "start_time": "2024-11-06T16:57:11.997Z"
   },
   {
    "duration": 6,
    "start_time": "2024-11-06T16:57:12.037Z"
   },
   {
    "duration": 7,
    "start_time": "2024-11-06T16:57:12.045Z"
   },
   {
    "duration": 4,
    "start_time": "2024-11-06T16:57:12.054Z"
   },
   {
    "duration": 13,
    "start_time": "2024-11-06T16:57:12.060Z"
   },
   {
    "duration": 13,
    "start_time": "2024-11-06T16:57:12.075Z"
   },
   {
    "duration": 84,
    "start_time": "2024-11-06T16:57:12.090Z"
   },
   {
    "duration": 4,
    "start_time": "2024-11-06T16:57:12.176Z"
   },
   {
    "duration": 17,
    "start_time": "2024-11-06T16:57:12.182Z"
   },
   {
    "duration": 2,
    "start_time": "2024-11-06T16:57:12.201Z"
   },
   {
    "duration": 28,
    "start_time": "2024-11-06T16:57:12.204Z"
   },
   {
    "duration": 5,
    "start_time": "2024-11-06T16:57:12.234Z"
   },
   {
    "duration": 5,
    "start_time": "2024-11-06T16:57:12.241Z"
   },
   {
    "duration": 4,
    "start_time": "2024-11-06T16:57:12.247Z"
   },
   {
    "duration": 12,
    "start_time": "2024-11-06T16:57:12.253Z"
   },
   {
    "duration": 4,
    "start_time": "2024-11-06T16:57:12.267Z"
   },
   {
    "duration": 214,
    "start_time": "2024-11-06T16:57:12.273Z"
   },
   {
    "duration": 8,
    "start_time": "2024-11-06T16:57:12.488Z"
   },
   {
    "duration": 39,
    "start_time": "2024-11-06T16:57:12.498Z"
   },
   {
    "duration": 387,
    "start_time": "2024-11-06T16:57:12.539Z"
   },
   {
    "duration": 3,
    "start_time": "2024-11-06T16:57:12.932Z"
   },
   {
    "duration": 27,
    "start_time": "2024-11-06T16:57:12.937Z"
   },
   {
    "duration": 14,
    "start_time": "2024-11-06T16:57:12.966Z"
   },
   {
    "duration": 3020,
    "start_time": "2024-11-06T16:57:12.982Z"
   },
   {
    "duration": 13,
    "start_time": "2024-11-06T16:57:16.004Z"
   },
   {
    "duration": 1226,
    "start_time": "2024-11-06T16:57:16.031Z"
   },
   {
    "duration": 2,
    "start_time": "2024-11-06T16:57:17.259Z"
   },
   {
    "duration": 7,
    "start_time": "2024-11-06T16:57:17.263Z"
   },
   {
    "duration": 7,
    "start_time": "2024-11-06T16:57:17.271Z"
   },
   {
    "duration": 779,
    "start_time": "2024-11-06T16:57:17.280Z"
   },
   {
    "duration": 4293,
    "start_time": "2024-11-06T16:57:18.060Z"
   },
   {
    "duration": 759,
    "start_time": "2024-11-06T16:57:22.356Z"
   },
   {
    "duration": 2,
    "start_time": "2024-11-06T16:57:23.117Z"
   },
   {
    "duration": 2,
    "start_time": "2024-11-06T16:57:23.131Z"
   },
   {
    "duration": 2,
    "start_time": "2024-11-06T16:57:23.135Z"
   },
   {
    "duration": 19,
    "start_time": "2024-11-06T16:57:23.139Z"
   },
   {
    "duration": 1120,
    "start_time": "2024-11-06T16:59:57.063Z"
   },
   {
    "duration": 132,
    "start_time": "2024-11-06T16:59:58.186Z"
   },
   {
    "duration": 13,
    "start_time": "2024-11-06T16:59:58.320Z"
   },
   {
    "duration": 10,
    "start_time": "2024-11-06T16:59:58.335Z"
   },
   {
    "duration": 8,
    "start_time": "2024-11-06T16:59:58.347Z"
   },
   {
    "duration": 6,
    "start_time": "2024-11-06T16:59:58.357Z"
   },
   {
    "duration": 10,
    "start_time": "2024-11-06T16:59:58.365Z"
   },
   {
    "duration": 9,
    "start_time": "2024-11-06T16:59:58.378Z"
   },
   {
    "duration": 51,
    "start_time": "2024-11-06T16:59:58.389Z"
   },
   {
    "duration": 7,
    "start_time": "2024-11-06T16:59:58.444Z"
   },
   {
    "duration": 4,
    "start_time": "2024-11-06T16:59:58.453Z"
   },
   {
    "duration": 4,
    "start_time": "2024-11-06T16:59:58.458Z"
   },
   {
    "duration": 8,
    "start_time": "2024-11-06T16:59:58.464Z"
   },
   {
    "duration": 4,
    "start_time": "2024-11-06T16:59:58.474Z"
   },
   {
    "duration": 7,
    "start_time": "2024-11-06T16:59:58.479Z"
   },
   {
    "duration": 52,
    "start_time": "2024-11-06T16:59:58.488Z"
   },
   {
    "duration": 7,
    "start_time": "2024-11-06T16:59:58.542Z"
   },
   {
    "duration": 3,
    "start_time": "2024-11-06T16:59:58.551Z"
   },
   {
    "duration": 6,
    "start_time": "2024-11-06T16:59:58.556Z"
   },
   {
    "duration": 11,
    "start_time": "2024-11-06T16:59:58.564Z"
   },
   {
    "duration": 11,
    "start_time": "2024-11-06T16:59:58.576Z"
   },
   {
    "duration": 43,
    "start_time": "2024-11-06T16:59:58.589Z"
   },
   {
    "duration": 21,
    "start_time": "2024-11-06T16:59:58.634Z"
   },
   {
    "duration": 14,
    "start_time": "2024-11-06T16:59:58.656Z"
   },
   {
    "duration": 3,
    "start_time": "2024-11-06T16:59:58.672Z"
   },
   {
    "duration": 7,
    "start_time": "2024-11-06T16:59:58.677Z"
   },
   {
    "duration": 9,
    "start_time": "2024-11-06T16:59:58.686Z"
   },
   {
    "duration": 4,
    "start_time": "2024-11-06T16:59:58.734Z"
   },
   {
    "duration": 5,
    "start_time": "2024-11-06T16:59:58.741Z"
   },
   {
    "duration": 28,
    "start_time": "2024-11-06T16:59:58.748Z"
   },
   {
    "duration": 7,
    "start_time": "2024-11-06T16:59:58.779Z"
   },
   {
    "duration": 5,
    "start_time": "2024-11-06T16:59:58.788Z"
   },
   {
    "duration": 6,
    "start_time": "2024-11-06T16:59:58.832Z"
   },
   {
    "duration": 8,
    "start_time": "2024-11-06T16:59:58.839Z"
   },
   {
    "duration": 6,
    "start_time": "2024-11-06T16:59:58.849Z"
   },
   {
    "duration": 6,
    "start_time": "2024-11-06T16:59:58.857Z"
   },
   {
    "duration": 4,
    "start_time": "2024-11-06T16:59:58.865Z"
   },
   {
    "duration": 15,
    "start_time": "2024-11-06T16:59:58.870Z"
   },
   {
    "duration": 51,
    "start_time": "2024-11-06T16:59:58.886Z"
   },
   {
    "duration": 47,
    "start_time": "2024-11-06T16:59:58.939Z"
   },
   {
    "duration": 5,
    "start_time": "2024-11-06T16:59:58.988Z"
   },
   {
    "duration": 43,
    "start_time": "2024-11-06T16:59:58.994Z"
   },
   {
    "duration": 2,
    "start_time": "2024-11-06T16:59:59.039Z"
   },
   {
    "duration": 5,
    "start_time": "2024-11-06T16:59:59.043Z"
   },
   {
    "duration": 5,
    "start_time": "2024-11-06T16:59:59.050Z"
   },
   {
    "duration": 5,
    "start_time": "2024-11-06T16:59:59.057Z"
   },
   {
    "duration": 4,
    "start_time": "2024-11-06T16:59:59.064Z"
   },
   {
    "duration": 13,
    "start_time": "2024-11-06T16:59:59.069Z"
   },
   {
    "duration": 46,
    "start_time": "2024-11-06T16:59:59.085Z"
   },
   {
    "duration": 194,
    "start_time": "2024-11-06T16:59:59.134Z"
   },
   {
    "duration": 7,
    "start_time": "2024-11-06T16:59:59.331Z"
   },
   {
    "duration": 25,
    "start_time": "2024-11-06T16:59:59.340Z"
   },
   {
    "duration": 389,
    "start_time": "2024-11-06T16:59:59.366Z"
   },
   {
    "duration": 3,
    "start_time": "2024-11-06T16:59:59.757Z"
   },
   {
    "duration": 27,
    "start_time": "2024-11-06T16:59:59.761Z"
   },
   {
    "duration": 13,
    "start_time": "2024-11-06T16:59:59.790Z"
   },
   {
    "duration": 2905,
    "start_time": "2024-11-06T16:59:59.805Z"
   },
   {
    "duration": 26,
    "start_time": "2024-11-06T17:00:02.713Z"
   },
   {
    "duration": 1227,
    "start_time": "2024-11-06T17:00:02.741Z"
   },
   {
    "duration": 830,
    "start_time": "2024-11-06T17:00:03.970Z"
   },
   {
    "duration": 4273,
    "start_time": "2024-11-06T17:00:04.802Z"
   },
   {
    "duration": 762,
    "start_time": "2024-11-06T17:00:09.078Z"
   },
   {
    "duration": 3,
    "start_time": "2024-11-06T17:00:09.842Z"
   },
   {
    "duration": 3,
    "start_time": "2024-11-06T17:00:09.846Z"
   },
   {
    "duration": 19,
    "start_time": "2024-11-06T17:00:09.850Z"
   },
   {
    "duration": 3,
    "start_time": "2024-11-06T17:08:46.190Z"
   }
  ],
  "kernelspec": {
   "display_name": "Python 3 (ipykernel)",
   "language": "python",
   "name": "python3"
  },
  "language_info": {
   "codemirror_mode": {
    "name": "ipython",
    "version": 3
   },
   "file_extension": ".py",
   "mimetype": "text/x-python",
   "name": "python",
   "nbconvert_exporter": "python",
   "pygments_lexer": "ipython3",
   "version": "3.9.19"
  },
  "toc": {
   "base_numbering": 1,
   "nav_menu": {},
   "number_sections": true,
   "sideBar": true,
   "skip_h1_title": true,
   "title_cell": "Table of Contents",
   "title_sidebar": "Contents",
   "toc_cell": false,
   "toc_position": {
    "height": "calc(100% - 180px)",
    "left": "10px",
    "top": "150px",
    "width": "359.981px"
   },
   "toc_section_display": true,
   "toc_window_display": true
  }
 },
 "nbformat": 4,
 "nbformat_minor": 5
}
